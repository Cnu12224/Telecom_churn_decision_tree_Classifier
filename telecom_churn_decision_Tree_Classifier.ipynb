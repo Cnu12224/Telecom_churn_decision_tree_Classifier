{
  "nbformat": 4,
  "nbformat_minor": 0,
  "metadata": {
    "colab": {
      "provenance": []
    },
    "kernelspec": {
      "name": "python3",
      "display_name": "Python 3"
    },
    "language_info": {
      "name": "python"
    }
  },
  "cells": [
    {
      "cell_type": "code",
      "execution_count": 9,
      "metadata": {
        "id": "lM8etZGcw80V"
      },
      "outputs": [],
      "source": [
        "import pandas as pd\n",
        "df = pd.read_csv('/content/WA_Fn-UseC_-Telco-Customer-Churn.csv')"
      ]
    },
    {
      "cell_type": "code",
      "source": [
        "df.head()"
      ],
      "metadata": {
        "colab": {
          "base_uri": "https://localhost:8080/",
          "height": 342
        },
        "id": "EqA9Cv0qs2kC",
        "outputId": "5e363b22-bf6a-41a2-bb67-74cf8cc7c5dc"
      },
      "execution_count": 10,
      "outputs": [
        {
          "output_type": "execute_result",
          "data": {
            "text/plain": [
              "   customerID  gender  SeniorCitizen Partner Dependents  tenure PhoneService  \\\n",
              "0  7590-VHVEG  Female              0     Yes         No       1           No   \n",
              "1  5575-GNVDE    Male              0      No         No      34          Yes   \n",
              "2  3668-QPYBK    Male              0      No         No       2          Yes   \n",
              "3  7795-CFOCW    Male              0      No         No      45           No   \n",
              "4  9237-HQITU  Female              0      No         No       2          Yes   \n",
              "\n",
              "      MultipleLines InternetService OnlineSecurity  ... DeviceProtection  \\\n",
              "0  No phone service             DSL             No  ...               No   \n",
              "1                No             DSL            Yes  ...              Yes   \n",
              "2                No             DSL            Yes  ...               No   \n",
              "3  No phone service             DSL            Yes  ...              Yes   \n",
              "4                No     Fiber optic             No  ...               No   \n",
              "\n",
              "  TechSupport StreamingTV StreamingMovies        Contract PaperlessBilling  \\\n",
              "0          No          No              No  Month-to-month              Yes   \n",
              "1          No          No              No        One year               No   \n",
              "2          No          No              No  Month-to-month              Yes   \n",
              "3         Yes          No              No        One year               No   \n",
              "4          No          No              No  Month-to-month              Yes   \n",
              "\n",
              "               PaymentMethod MonthlyCharges  TotalCharges Churn  \n",
              "0           Electronic check          29.85         29.85    No  \n",
              "1               Mailed check          56.95        1889.5    No  \n",
              "2               Mailed check          53.85        108.15   Yes  \n",
              "3  Bank transfer (automatic)          42.30       1840.75    No  \n",
              "4           Electronic check          70.70        151.65   Yes  \n",
              "\n",
              "[5 rows x 21 columns]"
            ],
            "text/html": [
              "\n",
              "  <div id=\"df-acc17e40-a8e3-4037-8b71-71e60e18ecf7\" class=\"colab-df-container\">\n",
              "    <div>\n",
              "<style scoped>\n",
              "    .dataframe tbody tr th:only-of-type {\n",
              "        vertical-align: middle;\n",
              "    }\n",
              "\n",
              "    .dataframe tbody tr th {\n",
              "        vertical-align: top;\n",
              "    }\n",
              "\n",
              "    .dataframe thead th {\n",
              "        text-align: right;\n",
              "    }\n",
              "</style>\n",
              "<table border=\"1\" class=\"dataframe\">\n",
              "  <thead>\n",
              "    <tr style=\"text-align: right;\">\n",
              "      <th></th>\n",
              "      <th>customerID</th>\n",
              "      <th>gender</th>\n",
              "      <th>SeniorCitizen</th>\n",
              "      <th>Partner</th>\n",
              "      <th>Dependents</th>\n",
              "      <th>tenure</th>\n",
              "      <th>PhoneService</th>\n",
              "      <th>MultipleLines</th>\n",
              "      <th>InternetService</th>\n",
              "      <th>OnlineSecurity</th>\n",
              "      <th>...</th>\n",
              "      <th>DeviceProtection</th>\n",
              "      <th>TechSupport</th>\n",
              "      <th>StreamingTV</th>\n",
              "      <th>StreamingMovies</th>\n",
              "      <th>Contract</th>\n",
              "      <th>PaperlessBilling</th>\n",
              "      <th>PaymentMethod</th>\n",
              "      <th>MonthlyCharges</th>\n",
              "      <th>TotalCharges</th>\n",
              "      <th>Churn</th>\n",
              "    </tr>\n",
              "  </thead>\n",
              "  <tbody>\n",
              "    <tr>\n",
              "      <th>0</th>\n",
              "      <td>7590-VHVEG</td>\n",
              "      <td>Female</td>\n",
              "      <td>0</td>\n",
              "      <td>Yes</td>\n",
              "      <td>No</td>\n",
              "      <td>1</td>\n",
              "      <td>No</td>\n",
              "      <td>No phone service</td>\n",
              "      <td>DSL</td>\n",
              "      <td>No</td>\n",
              "      <td>...</td>\n",
              "      <td>No</td>\n",
              "      <td>No</td>\n",
              "      <td>No</td>\n",
              "      <td>No</td>\n",
              "      <td>Month-to-month</td>\n",
              "      <td>Yes</td>\n",
              "      <td>Electronic check</td>\n",
              "      <td>29.85</td>\n",
              "      <td>29.85</td>\n",
              "      <td>No</td>\n",
              "    </tr>\n",
              "    <tr>\n",
              "      <th>1</th>\n",
              "      <td>5575-GNVDE</td>\n",
              "      <td>Male</td>\n",
              "      <td>0</td>\n",
              "      <td>No</td>\n",
              "      <td>No</td>\n",
              "      <td>34</td>\n",
              "      <td>Yes</td>\n",
              "      <td>No</td>\n",
              "      <td>DSL</td>\n",
              "      <td>Yes</td>\n",
              "      <td>...</td>\n",
              "      <td>Yes</td>\n",
              "      <td>No</td>\n",
              "      <td>No</td>\n",
              "      <td>No</td>\n",
              "      <td>One year</td>\n",
              "      <td>No</td>\n",
              "      <td>Mailed check</td>\n",
              "      <td>56.95</td>\n",
              "      <td>1889.5</td>\n",
              "      <td>No</td>\n",
              "    </tr>\n",
              "    <tr>\n",
              "      <th>2</th>\n",
              "      <td>3668-QPYBK</td>\n",
              "      <td>Male</td>\n",
              "      <td>0</td>\n",
              "      <td>No</td>\n",
              "      <td>No</td>\n",
              "      <td>2</td>\n",
              "      <td>Yes</td>\n",
              "      <td>No</td>\n",
              "      <td>DSL</td>\n",
              "      <td>Yes</td>\n",
              "      <td>...</td>\n",
              "      <td>No</td>\n",
              "      <td>No</td>\n",
              "      <td>No</td>\n",
              "      <td>No</td>\n",
              "      <td>Month-to-month</td>\n",
              "      <td>Yes</td>\n",
              "      <td>Mailed check</td>\n",
              "      <td>53.85</td>\n",
              "      <td>108.15</td>\n",
              "      <td>Yes</td>\n",
              "    </tr>\n",
              "    <tr>\n",
              "      <th>3</th>\n",
              "      <td>7795-CFOCW</td>\n",
              "      <td>Male</td>\n",
              "      <td>0</td>\n",
              "      <td>No</td>\n",
              "      <td>No</td>\n",
              "      <td>45</td>\n",
              "      <td>No</td>\n",
              "      <td>No phone service</td>\n",
              "      <td>DSL</td>\n",
              "      <td>Yes</td>\n",
              "      <td>...</td>\n",
              "      <td>Yes</td>\n",
              "      <td>Yes</td>\n",
              "      <td>No</td>\n",
              "      <td>No</td>\n",
              "      <td>One year</td>\n",
              "      <td>No</td>\n",
              "      <td>Bank transfer (automatic)</td>\n",
              "      <td>42.30</td>\n",
              "      <td>1840.75</td>\n",
              "      <td>No</td>\n",
              "    </tr>\n",
              "    <tr>\n",
              "      <th>4</th>\n",
              "      <td>9237-HQITU</td>\n",
              "      <td>Female</td>\n",
              "      <td>0</td>\n",
              "      <td>No</td>\n",
              "      <td>No</td>\n",
              "      <td>2</td>\n",
              "      <td>Yes</td>\n",
              "      <td>No</td>\n",
              "      <td>Fiber optic</td>\n",
              "      <td>No</td>\n",
              "      <td>...</td>\n",
              "      <td>No</td>\n",
              "      <td>No</td>\n",
              "      <td>No</td>\n",
              "      <td>No</td>\n",
              "      <td>Month-to-month</td>\n",
              "      <td>Yes</td>\n",
              "      <td>Electronic check</td>\n",
              "      <td>70.70</td>\n",
              "      <td>151.65</td>\n",
              "      <td>Yes</td>\n",
              "    </tr>\n",
              "  </tbody>\n",
              "</table>\n",
              "<p>5 rows × 21 columns</p>\n",
              "</div>\n",
              "    <div class=\"colab-df-buttons\">\n",
              "\n",
              "  <div class=\"colab-df-container\">\n",
              "    <button class=\"colab-df-convert\" onclick=\"convertToInteractive('df-acc17e40-a8e3-4037-8b71-71e60e18ecf7')\"\n",
              "            title=\"Convert this dataframe to an interactive table.\"\n",
              "            style=\"display:none;\">\n",
              "\n",
              "  <svg xmlns=\"http://www.w3.org/2000/svg\" height=\"24px\" viewBox=\"0 -960 960 960\">\n",
              "    <path d=\"M120-120v-720h720v720H120Zm60-500h600v-160H180v160Zm220 220h160v-160H400v160Zm0 220h160v-160H400v160ZM180-400h160v-160H180v160Zm440 0h160v-160H620v160ZM180-180h160v-160H180v160Zm440 0h160v-160H620v160Z\"/>\n",
              "  </svg>\n",
              "    </button>\n",
              "\n",
              "  <style>\n",
              "    .colab-df-container {\n",
              "      display:flex;\n",
              "      gap: 12px;\n",
              "    }\n",
              "\n",
              "    .colab-df-convert {\n",
              "      background-color: #E8F0FE;\n",
              "      border: none;\n",
              "      border-radius: 50%;\n",
              "      cursor: pointer;\n",
              "      display: none;\n",
              "      fill: #1967D2;\n",
              "      height: 32px;\n",
              "      padding: 0 0 0 0;\n",
              "      width: 32px;\n",
              "    }\n",
              "\n",
              "    .colab-df-convert:hover {\n",
              "      background-color: #E2EBFA;\n",
              "      box-shadow: 0px 1px 2px rgba(60, 64, 67, 0.3), 0px 1px 3px 1px rgba(60, 64, 67, 0.15);\n",
              "      fill: #174EA6;\n",
              "    }\n",
              "\n",
              "    .colab-df-buttons div {\n",
              "      margin-bottom: 4px;\n",
              "    }\n",
              "\n",
              "    [theme=dark] .colab-df-convert {\n",
              "      background-color: #3B4455;\n",
              "      fill: #D2E3FC;\n",
              "    }\n",
              "\n",
              "    [theme=dark] .colab-df-convert:hover {\n",
              "      background-color: #434B5C;\n",
              "      box-shadow: 0px 1px 3px 1px rgba(0, 0, 0, 0.15);\n",
              "      filter: drop-shadow(0px 1px 2px rgba(0, 0, 0, 0.3));\n",
              "      fill: #FFFFFF;\n",
              "    }\n",
              "  </style>\n",
              "\n",
              "    <script>\n",
              "      const buttonEl =\n",
              "        document.querySelector('#df-acc17e40-a8e3-4037-8b71-71e60e18ecf7 button.colab-df-convert');\n",
              "      buttonEl.style.display =\n",
              "        google.colab.kernel.accessAllowed ? 'block' : 'none';\n",
              "\n",
              "      async function convertToInteractive(key) {\n",
              "        const element = document.querySelector('#df-acc17e40-a8e3-4037-8b71-71e60e18ecf7');\n",
              "        const dataTable =\n",
              "          await google.colab.kernel.invokeFunction('convertToInteractive',\n",
              "                                                    [key], {});\n",
              "        if (!dataTable) return;\n",
              "\n",
              "        const docLinkHtml = 'Like what you see? Visit the ' +\n",
              "          '<a target=\"_blank\" href=https://colab.research.google.com/notebooks/data_table.ipynb>data table notebook</a>'\n",
              "          + ' to learn more about interactive tables.';\n",
              "        element.innerHTML = '';\n",
              "        dataTable['output_type'] = 'display_data';\n",
              "        await google.colab.output.renderOutput(dataTable, element);\n",
              "        const docLink = document.createElement('div');\n",
              "        docLink.innerHTML = docLinkHtml;\n",
              "        element.appendChild(docLink);\n",
              "      }\n",
              "    </script>\n",
              "  </div>\n",
              "\n",
              "\n",
              "    <div id=\"df-017d592b-1faa-4b88-b34c-d615a04c57c9\">\n",
              "      <button class=\"colab-df-quickchart\" onclick=\"quickchart('df-017d592b-1faa-4b88-b34c-d615a04c57c9')\"\n",
              "                title=\"Suggest charts\"\n",
              "                style=\"display:none;\">\n",
              "\n",
              "<svg xmlns=\"http://www.w3.org/2000/svg\" height=\"24px\"viewBox=\"0 0 24 24\"\n",
              "     width=\"24px\">\n",
              "    <g>\n",
              "        <path d=\"M19 3H5c-1.1 0-2 .9-2 2v14c0 1.1.9 2 2 2h14c1.1 0 2-.9 2-2V5c0-1.1-.9-2-2-2zM9 17H7v-7h2v7zm4 0h-2V7h2v10zm4 0h-2v-4h2v4z\"/>\n",
              "    </g>\n",
              "</svg>\n",
              "      </button>\n",
              "\n",
              "<style>\n",
              "  .colab-df-quickchart {\n",
              "      --bg-color: #E8F0FE;\n",
              "      --fill-color: #1967D2;\n",
              "      --hover-bg-color: #E2EBFA;\n",
              "      --hover-fill-color: #174EA6;\n",
              "      --disabled-fill-color: #AAA;\n",
              "      --disabled-bg-color: #DDD;\n",
              "  }\n",
              "\n",
              "  [theme=dark] .colab-df-quickchart {\n",
              "      --bg-color: #3B4455;\n",
              "      --fill-color: #D2E3FC;\n",
              "      --hover-bg-color: #434B5C;\n",
              "      --hover-fill-color: #FFFFFF;\n",
              "      --disabled-bg-color: #3B4455;\n",
              "      --disabled-fill-color: #666;\n",
              "  }\n",
              "\n",
              "  .colab-df-quickchart {\n",
              "    background-color: var(--bg-color);\n",
              "    border: none;\n",
              "    border-radius: 50%;\n",
              "    cursor: pointer;\n",
              "    display: none;\n",
              "    fill: var(--fill-color);\n",
              "    height: 32px;\n",
              "    padding: 0;\n",
              "    width: 32px;\n",
              "  }\n",
              "\n",
              "  .colab-df-quickchart:hover {\n",
              "    background-color: var(--hover-bg-color);\n",
              "    box-shadow: 0 1px 2px rgba(60, 64, 67, 0.3), 0 1px 3px 1px rgba(60, 64, 67, 0.15);\n",
              "    fill: var(--button-hover-fill-color);\n",
              "  }\n",
              "\n",
              "  .colab-df-quickchart-complete:disabled,\n",
              "  .colab-df-quickchart-complete:disabled:hover {\n",
              "    background-color: var(--disabled-bg-color);\n",
              "    fill: var(--disabled-fill-color);\n",
              "    box-shadow: none;\n",
              "  }\n",
              "\n",
              "  .colab-df-spinner {\n",
              "    border: 2px solid var(--fill-color);\n",
              "    border-color: transparent;\n",
              "    border-bottom-color: var(--fill-color);\n",
              "    animation:\n",
              "      spin 1s steps(1) infinite;\n",
              "  }\n",
              "\n",
              "  @keyframes spin {\n",
              "    0% {\n",
              "      border-color: transparent;\n",
              "      border-bottom-color: var(--fill-color);\n",
              "      border-left-color: var(--fill-color);\n",
              "    }\n",
              "    20% {\n",
              "      border-color: transparent;\n",
              "      border-left-color: var(--fill-color);\n",
              "      border-top-color: var(--fill-color);\n",
              "    }\n",
              "    30% {\n",
              "      border-color: transparent;\n",
              "      border-left-color: var(--fill-color);\n",
              "      border-top-color: var(--fill-color);\n",
              "      border-right-color: var(--fill-color);\n",
              "    }\n",
              "    40% {\n",
              "      border-color: transparent;\n",
              "      border-right-color: var(--fill-color);\n",
              "      border-top-color: var(--fill-color);\n",
              "    }\n",
              "    60% {\n",
              "      border-color: transparent;\n",
              "      border-right-color: var(--fill-color);\n",
              "    }\n",
              "    80% {\n",
              "      border-color: transparent;\n",
              "      border-right-color: var(--fill-color);\n",
              "      border-bottom-color: var(--fill-color);\n",
              "    }\n",
              "    90% {\n",
              "      border-color: transparent;\n",
              "      border-bottom-color: var(--fill-color);\n",
              "    }\n",
              "  }\n",
              "</style>\n",
              "\n",
              "      <script>\n",
              "        async function quickchart(key) {\n",
              "          const quickchartButtonEl =\n",
              "            document.querySelector('#' + key + ' button');\n",
              "          quickchartButtonEl.disabled = true;  // To prevent multiple clicks.\n",
              "          quickchartButtonEl.classList.add('colab-df-spinner');\n",
              "          try {\n",
              "            const charts = await google.colab.kernel.invokeFunction(\n",
              "                'suggestCharts', [key], {});\n",
              "          } catch (error) {\n",
              "            console.error('Error during call to suggestCharts:', error);\n",
              "          }\n",
              "          quickchartButtonEl.classList.remove('colab-df-spinner');\n",
              "          quickchartButtonEl.classList.add('colab-df-quickchart-complete');\n",
              "        }\n",
              "        (() => {\n",
              "          let quickchartButtonEl =\n",
              "            document.querySelector('#df-017d592b-1faa-4b88-b34c-d615a04c57c9 button');\n",
              "          quickchartButtonEl.style.display =\n",
              "            google.colab.kernel.accessAllowed ? 'block' : 'none';\n",
              "        })();\n",
              "      </script>\n",
              "    </div>\n",
              "\n",
              "    </div>\n",
              "  </div>\n"
            ],
            "application/vnd.google.colaboratory.intrinsic+json": {
              "type": "dataframe",
              "variable_name": "df"
            }
          },
          "metadata": {},
          "execution_count": 10
        }
      ]
    },
    {
      "cell_type": "code",
      "source": [
        "df.columns"
      ],
      "metadata": {
        "colab": {
          "base_uri": "https://localhost:8080/"
        },
        "id": "kuRTLl5ws3xP",
        "outputId": "c6fc63ac-b277-4c53-fd84-8bae1567d3b1"
      },
      "execution_count": 11,
      "outputs": [
        {
          "output_type": "execute_result",
          "data": {
            "text/plain": [
              "Index(['customerID', 'gender', 'SeniorCitizen', 'Partner', 'Dependents',\n",
              "       'tenure', 'PhoneService', 'MultipleLines', 'InternetService',\n",
              "       'OnlineSecurity', 'OnlineBackup', 'DeviceProtection', 'TechSupport',\n",
              "       'StreamingTV', 'StreamingMovies', 'Contract', 'PaperlessBilling',\n",
              "       'PaymentMethod', 'MonthlyCharges', 'TotalCharges', 'Churn'],\n",
              "      dtype='object')"
            ]
          },
          "metadata": {},
          "execution_count": 11
        }
      ]
    },
    {
      "cell_type": "code",
      "metadata": {
        "id": "7e9516e8"
      },
      "source": [
        "df.drop('customerID', axis=1, inplace=True)"
      ],
      "execution_count": 12,
      "outputs": []
    },
    {
      "cell_type": "markdown",
      "metadata": {
        "id": "1e8db8d1"
      },
      "source": [
        "## Identify the categorical columns in the dataframe.\n",
        "\n",
        "### Subtask:\n",
        "Identify the categorical columns in the dataframe.\n"
      ]
    },
    {
      "cell_type": "markdown",
      "metadata": {
        "id": "cce6b97a"
      },
      "source": [
        "**Reasoning**:\n",
        "Identify and store the names of categorical columns.\n",
        "\n"
      ]
    },
    {
      "cell_type": "code",
      "metadata": {
        "colab": {
          "base_uri": "https://localhost:8080/"
        },
        "id": "6513cfe5",
        "outputId": "a39a2b96-389b-413f-e38c-a212081f7773"
      },
      "source": [
        "categorical_cols = [col for col in df.columns if df[col].dtype in ['object', 'category']]\n",
        "print(\"Categorical columns:\", categorical_cols)"
      ],
      "execution_count": 14,
      "outputs": [
        {
          "output_type": "stream",
          "name": "stdout",
          "text": [
            "Categorical columns: ['gender', 'Partner', 'Dependents', 'PhoneService', 'MultipleLines', 'InternetService', 'OnlineSecurity', 'OnlineBackup', 'DeviceProtection', 'TechSupport', 'StreamingTV', 'StreamingMovies', 'Contract', 'PaperlessBilling', 'PaymentMethod', 'TotalCharges', 'Churn']\n"
          ]
        }
      ]
    },
    {
      "cell_type": "markdown",
      "metadata": {
        "id": "58104676"
      },
      "source": [
        "## Apply label encoding to the identified categorical columns.\n",
        "\n",
        "### Subtask:\n",
        "Apply label encoding to the identified categorical columns.\n"
      ]
    },
    {
      "cell_type": "code",
      "metadata": {
        "colab": {
          "base_uri": "https://localhost:8080/",
          "height": 226
        },
        "id": "e9650f5d",
        "outputId": "347e6d67-3b7d-4fab-f36e-4af8b0a1c171"
      },
      "source": [
        "from sklearn.preprocessing import LabelEncoder\n",
        "\n",
        "label_encoder = LabelEncoder()\n",
        "\n",
        "for col in categorical_cols:\n",
        "    df[col] = label_encoder.fit_transform(df[col])\n",
        "\n",
        "display(df.head())"
      ],
      "execution_count": 15,
      "outputs": [
        {
          "output_type": "display_data",
          "data": {
            "text/plain": [
              "   gender  SeniorCitizen  Partner  Dependents  tenure  PhoneService  \\\n",
              "0       0              0        1           0       1             0   \n",
              "1       1              0        0           0      34             1   \n",
              "2       1              0        0           0       2             1   \n",
              "3       1              0        0           0      45             0   \n",
              "4       0              0        0           0       2             1   \n",
              "\n",
              "   MultipleLines  InternetService  OnlineSecurity  OnlineBackup  \\\n",
              "0              1                0               0             2   \n",
              "1              0                0               2             0   \n",
              "2              0                0               2             2   \n",
              "3              1                0               2             0   \n",
              "4              0                1               0             0   \n",
              "\n",
              "   DeviceProtection  TechSupport  StreamingTV  StreamingMovies  Contract  \\\n",
              "0                 0            0            0                0         0   \n",
              "1                 2            0            0                0         1   \n",
              "2                 0            0            0                0         0   \n",
              "3                 2            2            0                0         1   \n",
              "4                 0            0            0                0         0   \n",
              "\n",
              "   PaperlessBilling  PaymentMethod  MonthlyCharges  TotalCharges  Churn  \n",
              "0                 1              2           29.85          2505      0  \n",
              "1                 0              3           56.95          1466      0  \n",
              "2                 1              3           53.85           157      1  \n",
              "3                 0              0           42.30          1400      0  \n",
              "4                 1              2           70.70           925      1  "
            ],
            "text/html": [
              "\n",
              "  <div id=\"df-6ddbcc7b-7834-4c46-8790-a865fee7af6c\" class=\"colab-df-container\">\n",
              "    <div>\n",
              "<style scoped>\n",
              "    .dataframe tbody tr th:only-of-type {\n",
              "        vertical-align: middle;\n",
              "    }\n",
              "\n",
              "    .dataframe tbody tr th {\n",
              "        vertical-align: top;\n",
              "    }\n",
              "\n",
              "    .dataframe thead th {\n",
              "        text-align: right;\n",
              "    }\n",
              "</style>\n",
              "<table border=\"1\" class=\"dataframe\">\n",
              "  <thead>\n",
              "    <tr style=\"text-align: right;\">\n",
              "      <th></th>\n",
              "      <th>gender</th>\n",
              "      <th>SeniorCitizen</th>\n",
              "      <th>Partner</th>\n",
              "      <th>Dependents</th>\n",
              "      <th>tenure</th>\n",
              "      <th>PhoneService</th>\n",
              "      <th>MultipleLines</th>\n",
              "      <th>InternetService</th>\n",
              "      <th>OnlineSecurity</th>\n",
              "      <th>OnlineBackup</th>\n",
              "      <th>DeviceProtection</th>\n",
              "      <th>TechSupport</th>\n",
              "      <th>StreamingTV</th>\n",
              "      <th>StreamingMovies</th>\n",
              "      <th>Contract</th>\n",
              "      <th>PaperlessBilling</th>\n",
              "      <th>PaymentMethod</th>\n",
              "      <th>MonthlyCharges</th>\n",
              "      <th>TotalCharges</th>\n",
              "      <th>Churn</th>\n",
              "    </tr>\n",
              "  </thead>\n",
              "  <tbody>\n",
              "    <tr>\n",
              "      <th>0</th>\n",
              "      <td>0</td>\n",
              "      <td>0</td>\n",
              "      <td>1</td>\n",
              "      <td>0</td>\n",
              "      <td>1</td>\n",
              "      <td>0</td>\n",
              "      <td>1</td>\n",
              "      <td>0</td>\n",
              "      <td>0</td>\n",
              "      <td>2</td>\n",
              "      <td>0</td>\n",
              "      <td>0</td>\n",
              "      <td>0</td>\n",
              "      <td>0</td>\n",
              "      <td>0</td>\n",
              "      <td>1</td>\n",
              "      <td>2</td>\n",
              "      <td>29.85</td>\n",
              "      <td>2505</td>\n",
              "      <td>0</td>\n",
              "    </tr>\n",
              "    <tr>\n",
              "      <th>1</th>\n",
              "      <td>1</td>\n",
              "      <td>0</td>\n",
              "      <td>0</td>\n",
              "      <td>0</td>\n",
              "      <td>34</td>\n",
              "      <td>1</td>\n",
              "      <td>0</td>\n",
              "      <td>0</td>\n",
              "      <td>2</td>\n",
              "      <td>0</td>\n",
              "      <td>2</td>\n",
              "      <td>0</td>\n",
              "      <td>0</td>\n",
              "      <td>0</td>\n",
              "      <td>1</td>\n",
              "      <td>0</td>\n",
              "      <td>3</td>\n",
              "      <td>56.95</td>\n",
              "      <td>1466</td>\n",
              "      <td>0</td>\n",
              "    </tr>\n",
              "    <tr>\n",
              "      <th>2</th>\n",
              "      <td>1</td>\n",
              "      <td>0</td>\n",
              "      <td>0</td>\n",
              "      <td>0</td>\n",
              "      <td>2</td>\n",
              "      <td>1</td>\n",
              "      <td>0</td>\n",
              "      <td>0</td>\n",
              "      <td>2</td>\n",
              "      <td>2</td>\n",
              "      <td>0</td>\n",
              "      <td>0</td>\n",
              "      <td>0</td>\n",
              "      <td>0</td>\n",
              "      <td>0</td>\n",
              "      <td>1</td>\n",
              "      <td>3</td>\n",
              "      <td>53.85</td>\n",
              "      <td>157</td>\n",
              "      <td>1</td>\n",
              "    </tr>\n",
              "    <tr>\n",
              "      <th>3</th>\n",
              "      <td>1</td>\n",
              "      <td>0</td>\n",
              "      <td>0</td>\n",
              "      <td>0</td>\n",
              "      <td>45</td>\n",
              "      <td>0</td>\n",
              "      <td>1</td>\n",
              "      <td>0</td>\n",
              "      <td>2</td>\n",
              "      <td>0</td>\n",
              "      <td>2</td>\n",
              "      <td>2</td>\n",
              "      <td>0</td>\n",
              "      <td>0</td>\n",
              "      <td>1</td>\n",
              "      <td>0</td>\n",
              "      <td>0</td>\n",
              "      <td>42.30</td>\n",
              "      <td>1400</td>\n",
              "      <td>0</td>\n",
              "    </tr>\n",
              "    <tr>\n",
              "      <th>4</th>\n",
              "      <td>0</td>\n",
              "      <td>0</td>\n",
              "      <td>0</td>\n",
              "      <td>0</td>\n",
              "      <td>2</td>\n",
              "      <td>1</td>\n",
              "      <td>0</td>\n",
              "      <td>1</td>\n",
              "      <td>0</td>\n",
              "      <td>0</td>\n",
              "      <td>0</td>\n",
              "      <td>0</td>\n",
              "      <td>0</td>\n",
              "      <td>0</td>\n",
              "      <td>0</td>\n",
              "      <td>1</td>\n",
              "      <td>2</td>\n",
              "      <td>70.70</td>\n",
              "      <td>925</td>\n",
              "      <td>1</td>\n",
              "    </tr>\n",
              "  </tbody>\n",
              "</table>\n",
              "</div>\n",
              "    <div class=\"colab-df-buttons\">\n",
              "\n",
              "  <div class=\"colab-df-container\">\n",
              "    <button class=\"colab-df-convert\" onclick=\"convertToInteractive('df-6ddbcc7b-7834-4c46-8790-a865fee7af6c')\"\n",
              "            title=\"Convert this dataframe to an interactive table.\"\n",
              "            style=\"display:none;\">\n",
              "\n",
              "  <svg xmlns=\"http://www.w3.org/2000/svg\" height=\"24px\" viewBox=\"0 -960 960 960\">\n",
              "    <path d=\"M120-120v-720h720v720H120Zm60-500h600v-160H180v160Zm220 220h160v-160H400v160Zm0 220h160v-160H400v160ZM180-400h160v-160H180v160Zm440 0h160v-160H620v160ZM180-180h160v-160H180v160Zm440 0h160v-160H620v160Z\"/>\n",
              "  </svg>\n",
              "    </button>\n",
              "\n",
              "  <style>\n",
              "    .colab-df-container {\n",
              "      display:flex;\n",
              "      gap: 12px;\n",
              "    }\n",
              "\n",
              "    .colab-df-convert {\n",
              "      background-color: #E8F0FE;\n",
              "      border: none;\n",
              "      border-radius: 50%;\n",
              "      cursor: pointer;\n",
              "      display: none;\n",
              "      fill: #1967D2;\n",
              "      height: 32px;\n",
              "      padding: 0 0 0 0;\n",
              "      width: 32px;\n",
              "    }\n",
              "\n",
              "    .colab-df-convert:hover {\n",
              "      background-color: #E2EBFA;\n",
              "      box-shadow: 0px 1px 2px rgba(60, 64, 67, 0.3), 0px 1px 3px 1px rgba(60, 64, 67, 0.15);\n",
              "      fill: #174EA6;\n",
              "    }\n",
              "\n",
              "    .colab-df-buttons div {\n",
              "      margin-bottom: 4px;\n",
              "    }\n",
              "\n",
              "    [theme=dark] .colab-df-convert {\n",
              "      background-color: #3B4455;\n",
              "      fill: #D2E3FC;\n",
              "    }\n",
              "\n",
              "    [theme=dark] .colab-df-convert:hover {\n",
              "      background-color: #434B5C;\n",
              "      box-shadow: 0px 1px 3px 1px rgba(0, 0, 0, 0.15);\n",
              "      filter: drop-shadow(0px 1px 2px rgba(0, 0, 0, 0.3));\n",
              "      fill: #FFFFFF;\n",
              "    }\n",
              "  </style>\n",
              "\n",
              "    <script>\n",
              "      const buttonEl =\n",
              "        document.querySelector('#df-6ddbcc7b-7834-4c46-8790-a865fee7af6c button.colab-df-convert');\n",
              "      buttonEl.style.display =\n",
              "        google.colab.kernel.accessAllowed ? 'block' : 'none';\n",
              "\n",
              "      async function convertToInteractive(key) {\n",
              "        const element = document.querySelector('#df-6ddbcc7b-7834-4c46-8790-a865fee7af6c');\n",
              "        const dataTable =\n",
              "          await google.colab.kernel.invokeFunction('convertToInteractive',\n",
              "                                                    [key], {});\n",
              "        if (!dataTable) return;\n",
              "\n",
              "        const docLinkHtml = 'Like what you see? Visit the ' +\n",
              "          '<a target=\"_blank\" href=https://colab.research.google.com/notebooks/data_table.ipynb>data table notebook</a>'\n",
              "          + ' to learn more about interactive tables.';\n",
              "        element.innerHTML = '';\n",
              "        dataTable['output_type'] = 'display_data';\n",
              "        await google.colab.output.renderOutput(dataTable, element);\n",
              "        const docLink = document.createElement('div');\n",
              "        docLink.innerHTML = docLinkHtml;\n",
              "        element.appendChild(docLink);\n",
              "      }\n",
              "    </script>\n",
              "  </div>\n",
              "\n",
              "\n",
              "    <div id=\"df-10cfe360-e877-4f90-b66f-2ea350c63af5\">\n",
              "      <button class=\"colab-df-quickchart\" onclick=\"quickchart('df-10cfe360-e877-4f90-b66f-2ea350c63af5')\"\n",
              "                title=\"Suggest charts\"\n",
              "                style=\"display:none;\">\n",
              "\n",
              "<svg xmlns=\"http://www.w3.org/2000/svg\" height=\"24px\"viewBox=\"0 0 24 24\"\n",
              "     width=\"24px\">\n",
              "    <g>\n",
              "        <path d=\"M19 3H5c-1.1 0-2 .9-2 2v14c0 1.1.9 2 2 2h14c1.1 0 2-.9 2-2V5c0-1.1-.9-2-2-2zM9 17H7v-7h2v7zm4 0h-2V7h2v10zm4 0h-2v-4h2v4z\"/>\n",
              "    </g>\n",
              "</svg>\n",
              "      </button>\n",
              "\n",
              "<style>\n",
              "  .colab-df-quickchart {\n",
              "      --bg-color: #E8F0FE;\n",
              "      --fill-color: #1967D2;\n",
              "      --hover-bg-color: #E2EBFA;\n",
              "      --hover-fill-color: #174EA6;\n",
              "      --disabled-fill-color: #AAA;\n",
              "      --disabled-bg-color: #DDD;\n",
              "  }\n",
              "\n",
              "  [theme=dark] .colab-df-quickchart {\n",
              "      --bg-color: #3B4455;\n",
              "      --fill-color: #D2E3FC;\n",
              "      --hover-bg-color: #434B5C;\n",
              "      --hover-fill-color: #FFFFFF;\n",
              "      --disabled-bg-color: #3B4455;\n",
              "      --disabled-fill-color: #666;\n",
              "  }\n",
              "\n",
              "  .colab-df-quickchart {\n",
              "    background-color: var(--bg-color);\n",
              "    border: none;\n",
              "    border-radius: 50%;\n",
              "    cursor: pointer;\n",
              "    display: none;\n",
              "    fill: var(--fill-color);\n",
              "    height: 32px;\n",
              "    padding: 0;\n",
              "    width: 32px;\n",
              "  }\n",
              "\n",
              "  .colab-df-quickchart:hover {\n",
              "    background-color: var(--hover-bg-color);\n",
              "    box-shadow: 0 1px 2px rgba(60, 64, 67, 0.3), 0 1px 3px 1px rgba(60, 64, 67, 0.15);\n",
              "    fill: var(--button-hover-fill-color);\n",
              "  }\n",
              "\n",
              "  .colab-df-quickchart-complete:disabled,\n",
              "  .colab-df-quickchart-complete:disabled:hover {\n",
              "    background-color: var(--disabled-bg-color);\n",
              "    fill: var(--disabled-fill-color);\n",
              "    box-shadow: none;\n",
              "  }\n",
              "\n",
              "  .colab-df-spinner {\n",
              "    border: 2px solid var(--fill-color);\n",
              "    border-color: transparent;\n",
              "    border-bottom-color: var(--fill-color);\n",
              "    animation:\n",
              "      spin 1s steps(1) infinite;\n",
              "  }\n",
              "\n",
              "  @keyframes spin {\n",
              "    0% {\n",
              "      border-color: transparent;\n",
              "      border-bottom-color: var(--fill-color);\n",
              "      border-left-color: var(--fill-color);\n",
              "    }\n",
              "    20% {\n",
              "      border-color: transparent;\n",
              "      border-left-color: var(--fill-color);\n",
              "      border-top-color: var(--fill-color);\n",
              "    }\n",
              "    30% {\n",
              "      border-color: transparent;\n",
              "      border-left-color: var(--fill-color);\n",
              "      border-top-color: var(--fill-color);\n",
              "      border-right-color: var(--fill-color);\n",
              "    }\n",
              "    40% {\n",
              "      border-color: transparent;\n",
              "      border-right-color: var(--fill-color);\n",
              "      border-top-color: var(--fill-color);\n",
              "    }\n",
              "    60% {\n",
              "      border-color: transparent;\n",
              "      border-right-color: var(--fill-color);\n",
              "    }\n",
              "    80% {\n",
              "      border-color: transparent;\n",
              "      border-right-color: var(--fill-color);\n",
              "      border-bottom-color: var(--fill-color);\n",
              "    }\n",
              "    90% {\n",
              "      border-color: transparent;\n",
              "      border-bottom-color: var(--fill-color);\n",
              "    }\n",
              "  }\n",
              "</style>\n",
              "\n",
              "      <script>\n",
              "        async function quickchart(key) {\n",
              "          const quickchartButtonEl =\n",
              "            document.querySelector('#' + key + ' button');\n",
              "          quickchartButtonEl.disabled = true;  // To prevent multiple clicks.\n",
              "          quickchartButtonEl.classList.add('colab-df-spinner');\n",
              "          try {\n",
              "            const charts = await google.colab.kernel.invokeFunction(\n",
              "                'suggestCharts', [key], {});\n",
              "          } catch (error) {\n",
              "            console.error('Error during call to suggestCharts:', error);\n",
              "          }\n",
              "          quickchartButtonEl.classList.remove('colab-df-spinner');\n",
              "          quickchartButtonEl.classList.add('colab-df-quickchart-complete');\n",
              "        }\n",
              "        (() => {\n",
              "          let quickchartButtonEl =\n",
              "            document.querySelector('#df-10cfe360-e877-4f90-b66f-2ea350c63af5 button');\n",
              "          quickchartButtonEl.style.display =\n",
              "            google.colab.kernel.accessAllowed ? 'block' : 'none';\n",
              "        })();\n",
              "      </script>\n",
              "    </div>\n",
              "\n",
              "    </div>\n",
              "  </div>\n"
            ],
            "application/vnd.google.colaboratory.intrinsic+json": {
              "type": "dataframe",
              "summary": "{\n  \"name\": \"display(df\",\n  \"rows\": 5,\n  \"fields\": [\n    {\n      \"column\": \"gender\",\n      \"properties\": {\n        \"dtype\": \"number\",\n        \"std\": 0,\n        \"min\": 0,\n        \"max\": 1,\n        \"num_unique_values\": 2,\n        \"samples\": [\n          1,\n          0\n        ],\n        \"semantic_type\": \"\",\n        \"description\": \"\"\n      }\n    },\n    {\n      \"column\": \"SeniorCitizen\",\n      \"properties\": {\n        \"dtype\": \"number\",\n        \"std\": 0,\n        \"min\": 0,\n        \"max\": 0,\n        \"num_unique_values\": 1,\n        \"samples\": [\n          0\n        ],\n        \"semantic_type\": \"\",\n        \"description\": \"\"\n      }\n    },\n    {\n      \"column\": \"Partner\",\n      \"properties\": {\n        \"dtype\": \"number\",\n        \"std\": 0,\n        \"min\": 0,\n        \"max\": 1,\n        \"num_unique_values\": 2,\n        \"samples\": [\n          0\n        ],\n        \"semantic_type\": \"\",\n        \"description\": \"\"\n      }\n    },\n    {\n      \"column\": \"Dependents\",\n      \"properties\": {\n        \"dtype\": \"number\",\n        \"std\": 0,\n        \"min\": 0,\n        \"max\": 0,\n        \"num_unique_values\": 1,\n        \"samples\": [\n          0\n        ],\n        \"semantic_type\": \"\",\n        \"description\": \"\"\n      }\n    },\n    {\n      \"column\": \"tenure\",\n      \"properties\": {\n        \"dtype\": \"number\",\n        \"std\": 21,\n        \"min\": 1,\n        \"max\": 45,\n        \"num_unique_values\": 4,\n        \"samples\": [\n          34\n        ],\n        \"semantic_type\": \"\",\n        \"description\": \"\"\n      }\n    },\n    {\n      \"column\": \"PhoneService\",\n      \"properties\": {\n        \"dtype\": \"number\",\n        \"std\": 0,\n        \"min\": 0,\n        \"max\": 1,\n        \"num_unique_values\": 2,\n        \"samples\": [\n          1\n        ],\n        \"semantic_type\": \"\",\n        \"description\": \"\"\n      }\n    },\n    {\n      \"column\": \"MultipleLines\",\n      \"properties\": {\n        \"dtype\": \"number\",\n        \"std\": 0,\n        \"min\": 0,\n        \"max\": 1,\n        \"num_unique_values\": 2,\n        \"samples\": [\n          0\n        ],\n        \"semantic_type\": \"\",\n        \"description\": \"\"\n      }\n    },\n    {\n      \"column\": \"InternetService\",\n      \"properties\": {\n        \"dtype\": \"number\",\n        \"std\": 0,\n        \"min\": 0,\n        \"max\": 1,\n        \"num_unique_values\": 2,\n        \"samples\": [\n          1\n        ],\n        \"semantic_type\": \"\",\n        \"description\": \"\"\n      }\n    },\n    {\n      \"column\": \"OnlineSecurity\",\n      \"properties\": {\n        \"dtype\": \"number\",\n        \"std\": 1,\n        \"min\": 0,\n        \"max\": 2,\n        \"num_unique_values\": 2,\n        \"samples\": [\n          2\n        ],\n        \"semantic_type\": \"\",\n        \"description\": \"\"\n      }\n    },\n    {\n      \"column\": \"OnlineBackup\",\n      \"properties\": {\n        \"dtype\": \"number\",\n        \"std\": 1,\n        \"min\": 0,\n        \"max\": 2,\n        \"num_unique_values\": 2,\n        \"samples\": [\n          0\n        ],\n        \"semantic_type\": \"\",\n        \"description\": \"\"\n      }\n    },\n    {\n      \"column\": \"DeviceProtection\",\n      \"properties\": {\n        \"dtype\": \"number\",\n        \"std\": 1,\n        \"min\": 0,\n        \"max\": 2,\n        \"num_unique_values\": 2,\n        \"samples\": [\n          2\n        ],\n        \"semantic_type\": \"\",\n        \"description\": \"\"\n      }\n    },\n    {\n      \"column\": \"TechSupport\",\n      \"properties\": {\n        \"dtype\": \"number\",\n        \"std\": 0,\n        \"min\": 0,\n        \"max\": 2,\n        \"num_unique_values\": 2,\n        \"samples\": [\n          2\n        ],\n        \"semantic_type\": \"\",\n        \"description\": \"\"\n      }\n    },\n    {\n      \"column\": \"StreamingTV\",\n      \"properties\": {\n        \"dtype\": \"number\",\n        \"std\": 0,\n        \"min\": 0,\n        \"max\": 0,\n        \"num_unique_values\": 1,\n        \"samples\": [\n          0\n        ],\n        \"semantic_type\": \"\",\n        \"description\": \"\"\n      }\n    },\n    {\n      \"column\": \"StreamingMovies\",\n      \"properties\": {\n        \"dtype\": \"number\",\n        \"std\": 0,\n        \"min\": 0,\n        \"max\": 0,\n        \"num_unique_values\": 1,\n        \"samples\": [\n          0\n        ],\n        \"semantic_type\": \"\",\n        \"description\": \"\"\n      }\n    },\n    {\n      \"column\": \"Contract\",\n      \"properties\": {\n        \"dtype\": \"number\",\n        \"std\": 0,\n        \"min\": 0,\n        \"max\": 1,\n        \"num_unique_values\": 2,\n        \"samples\": [\n          1\n        ],\n        \"semantic_type\": \"\",\n        \"description\": \"\"\n      }\n    },\n    {\n      \"column\": \"PaperlessBilling\",\n      \"properties\": {\n        \"dtype\": \"number\",\n        \"std\": 0,\n        \"min\": 0,\n        \"max\": 1,\n        \"num_unique_values\": 2,\n        \"samples\": [\n          0\n        ],\n        \"semantic_type\": \"\",\n        \"description\": \"\"\n      }\n    },\n    {\n      \"column\": \"PaymentMethod\",\n      \"properties\": {\n        \"dtype\": \"number\",\n        \"std\": 1,\n        \"min\": 0,\n        \"max\": 3,\n        \"num_unique_values\": 3,\n        \"samples\": [\n          2\n        ],\n        \"semantic_type\": \"\",\n        \"description\": \"\"\n      }\n    },\n    {\n      \"column\": \"MonthlyCharges\",\n      \"properties\": {\n        \"dtype\": \"number\",\n        \"std\": 15.445573799635934,\n        \"min\": 29.85,\n        \"max\": 70.7,\n        \"num_unique_values\": 5,\n        \"samples\": [\n          56.95\n        ],\n        \"semantic_type\": \"\",\n        \"description\": \"\"\n      }\n    },\n    {\n      \"column\": \"TotalCharges\",\n      \"properties\": {\n        \"dtype\": \"number\",\n        \"std\": 856,\n        \"min\": 157,\n        \"max\": 2505,\n        \"num_unique_values\": 5,\n        \"samples\": [\n          1466\n        ],\n        \"semantic_type\": \"\",\n        \"description\": \"\"\n      }\n    },\n    {\n      \"column\": \"Churn\",\n      \"properties\": {\n        \"dtype\": \"number\",\n        \"std\": 0,\n        \"min\": 0,\n        \"max\": 1,\n        \"num_unique_values\": 2,\n        \"samples\": [\n          1\n        ],\n        \"semantic_type\": \"\",\n        \"description\": \"\"\n      }\n    }\n  ]\n}"
            }
          },
          "metadata": {}
        }
      ]
    },
    {
      "cell_type": "code",
      "source": [
        "df.isnull().sum()"
      ],
      "metadata": {
        "colab": {
          "base_uri": "https://localhost:8080/",
          "height": 711
        },
        "id": "QG2K2QGst6Ln",
        "outputId": "3adbb29c-bba0-4eae-991e-acb92e8aa0d7"
      },
      "execution_count": 13,
      "outputs": [
        {
          "output_type": "execute_result",
          "data": {
            "text/plain": [
              "gender              0\n",
              "SeniorCitizen       0\n",
              "Partner             0\n",
              "Dependents          0\n",
              "tenure              0\n",
              "PhoneService        0\n",
              "MultipleLines       0\n",
              "InternetService     0\n",
              "OnlineSecurity      0\n",
              "OnlineBackup        0\n",
              "DeviceProtection    0\n",
              "TechSupport         0\n",
              "StreamingTV         0\n",
              "StreamingMovies     0\n",
              "Contract            0\n",
              "PaperlessBilling    0\n",
              "PaymentMethod       0\n",
              "MonthlyCharges      0\n",
              "TotalCharges        0\n",
              "Churn               0\n",
              "dtype: int64"
            ],
            "text/html": [
              "<div>\n",
              "<style scoped>\n",
              "    .dataframe tbody tr th:only-of-type {\n",
              "        vertical-align: middle;\n",
              "    }\n",
              "\n",
              "    .dataframe tbody tr th {\n",
              "        vertical-align: top;\n",
              "    }\n",
              "\n",
              "    .dataframe thead th {\n",
              "        text-align: right;\n",
              "    }\n",
              "</style>\n",
              "<table border=\"1\" class=\"dataframe\">\n",
              "  <thead>\n",
              "    <tr style=\"text-align: right;\">\n",
              "      <th></th>\n",
              "      <th>0</th>\n",
              "    </tr>\n",
              "  </thead>\n",
              "  <tbody>\n",
              "    <tr>\n",
              "      <th>gender</th>\n",
              "      <td>0</td>\n",
              "    </tr>\n",
              "    <tr>\n",
              "      <th>SeniorCitizen</th>\n",
              "      <td>0</td>\n",
              "    </tr>\n",
              "    <tr>\n",
              "      <th>Partner</th>\n",
              "      <td>0</td>\n",
              "    </tr>\n",
              "    <tr>\n",
              "      <th>Dependents</th>\n",
              "      <td>0</td>\n",
              "    </tr>\n",
              "    <tr>\n",
              "      <th>tenure</th>\n",
              "      <td>0</td>\n",
              "    </tr>\n",
              "    <tr>\n",
              "      <th>PhoneService</th>\n",
              "      <td>0</td>\n",
              "    </tr>\n",
              "    <tr>\n",
              "      <th>MultipleLines</th>\n",
              "      <td>0</td>\n",
              "    </tr>\n",
              "    <tr>\n",
              "      <th>InternetService</th>\n",
              "      <td>0</td>\n",
              "    </tr>\n",
              "    <tr>\n",
              "      <th>OnlineSecurity</th>\n",
              "      <td>0</td>\n",
              "    </tr>\n",
              "    <tr>\n",
              "      <th>OnlineBackup</th>\n",
              "      <td>0</td>\n",
              "    </tr>\n",
              "    <tr>\n",
              "      <th>DeviceProtection</th>\n",
              "      <td>0</td>\n",
              "    </tr>\n",
              "    <tr>\n",
              "      <th>TechSupport</th>\n",
              "      <td>0</td>\n",
              "    </tr>\n",
              "    <tr>\n",
              "      <th>StreamingTV</th>\n",
              "      <td>0</td>\n",
              "    </tr>\n",
              "    <tr>\n",
              "      <th>StreamingMovies</th>\n",
              "      <td>0</td>\n",
              "    </tr>\n",
              "    <tr>\n",
              "      <th>Contract</th>\n",
              "      <td>0</td>\n",
              "    </tr>\n",
              "    <tr>\n",
              "      <th>PaperlessBilling</th>\n",
              "      <td>0</td>\n",
              "    </tr>\n",
              "    <tr>\n",
              "      <th>PaymentMethod</th>\n",
              "      <td>0</td>\n",
              "    </tr>\n",
              "    <tr>\n",
              "      <th>MonthlyCharges</th>\n",
              "      <td>0</td>\n",
              "    </tr>\n",
              "    <tr>\n",
              "      <th>TotalCharges</th>\n",
              "      <td>0</td>\n",
              "    </tr>\n",
              "    <tr>\n",
              "      <th>Churn</th>\n",
              "      <td>0</td>\n",
              "    </tr>\n",
              "  </tbody>\n",
              "</table>\n",
              "</div><br><label><b>dtype:</b> int64</label>"
            ]
          },
          "metadata": {},
          "execution_count": 13
        }
      ]
    },
    {
      "cell_type": "markdown",
      "metadata": {
        "id": "ed3d5cce"
      },
      "source": [
        "# Task\n",
        "Build a decision tree classifier for the dataset, drop the `customerID` column, perform label encoding on all categorical columns, and perform hyperparameter optimization with k-fold cross-validation."
      ]
    },
    {
      "cell_type": "markdown",
      "metadata": {
        "id": "d83dfb94"
      },
      "source": [
        "## Split the data\n",
        "\n",
        "### Subtask:\n",
        "Split the dataset into training and testing sets.\n"
      ]
    },
    {
      "cell_type": "markdown",
      "metadata": {
        "id": "ed8ab9b8"
      },
      "source": [
        "**Reasoning**:\n",
        "Split the dataset into training and testing sets using `train_test_split`.\n",
        "\n"
      ]
    },
    {
      "cell_type": "code",
      "metadata": {
        "id": "a163076e"
      },
      "source": [
        "from sklearn.model_selection import train_test_split\n",
        "\n",
        "X = df.drop('Churn', axis=1)\n",
        "y = df['Churn']\n",
        "\n",
        "X_train, X_test, y_train, y_test = train_test_split(X, y, test_size=0.2, random_state=42)"
      ],
      "execution_count": 16,
      "outputs": []
    },
    {
      "cell_type": "markdown",
      "metadata": {
        "id": "46199632"
      },
      "source": [
        "## Define the model and hyperparameter grid\n",
        "\n",
        "### Subtask:\n",
        "Define the Decision Tree Classifier model and the hyperparameter grid for optimization.\n"
      ]
    },
    {
      "cell_type": "markdown",
      "metadata": {
        "id": "185c6e0e"
      },
      "source": [
        "**Reasoning**:\n",
        "Define the Decision Tree Classifier model and the hyperparameter grid for optimization.\n",
        "\n"
      ]
    },
    {
      "cell_type": "code",
      "metadata": {
        "id": "7d786068"
      },
      "source": [
        "from sklearn.tree import DecisionTreeClassifier\n",
        "\n",
        "dt_model = DecisionTreeClassifier(random_state=42)\n",
        "\n",
        "param_grid = {\n",
        "    'max_depth': [3, 5, 7, 10],\n",
        "    'min_samples_split': [2, 5, 10],\n",
        "    'min_samples_leaf': [1, 2, 4],\n",
        "    'criterion': ['gini', 'entropy']\n",
        "}"
      ],
      "execution_count": 17,
      "outputs": []
    },
    {
      "cell_type": "markdown",
      "metadata": {
        "id": "8cb06ac7"
      },
      "source": [
        "## Perform hyperparameter optimization with cross-validation\n",
        "\n",
        "### Subtask:\n",
        "Use GridSearchCV or RandomizedSearchCV to find the best hyperparameters with k-fold cross-validation.\n"
      ]
    },
    {
      "cell_type": "markdown",
      "metadata": {
        "id": "6e072637"
      },
      "source": [
        "**Reasoning**:\n",
        "Import GridSearchCV and perform hyperparameter optimization using GridSearchCV with 5-fold cross-validation on the training data.\n",
        "\n"
      ]
    },
    {
      "cell_type": "code",
      "metadata": {
        "colab": {
          "base_uri": "https://localhost:8080/",
          "height": 166
        },
        "id": "270a7266",
        "outputId": "6c3dff74-bdd8-4bbd-91f5-50d1d4746de2"
      },
      "source": [
        "from sklearn.model_selection import GridSearchCV\n",
        "\n",
        "grid_search = GridSearchCV(dt_model, param_grid, cv=5, scoring='accuracy')\n",
        "grid_search.fit(X_train, y_train)"
      ],
      "execution_count": 18,
      "outputs": [
        {
          "output_type": "execute_result",
          "data": {
            "text/plain": [
              "GridSearchCV(cv=5, estimator=DecisionTreeClassifier(random_state=42),\n",
              "             param_grid={'criterion': ['gini', 'entropy'],\n",
              "                         'max_depth': [3, 5, 7, 10],\n",
              "                         'min_samples_leaf': [1, 2, 4],\n",
              "                         'min_samples_split': [2, 5, 10]},\n",
              "             scoring='accuracy')"
            ],
            "text/html": [
              "<style>#sk-container-id-1 {\n",
              "  /* Definition of color scheme common for light and dark mode */\n",
              "  --sklearn-color-text: #000;\n",
              "  --sklearn-color-text-muted: #666;\n",
              "  --sklearn-color-line: gray;\n",
              "  /* Definition of color scheme for unfitted estimators */\n",
              "  --sklearn-color-unfitted-level-0: #fff5e6;\n",
              "  --sklearn-color-unfitted-level-1: #f6e4d2;\n",
              "  --sklearn-color-unfitted-level-2: #ffe0b3;\n",
              "  --sklearn-color-unfitted-level-3: chocolate;\n",
              "  /* Definition of color scheme for fitted estimators */\n",
              "  --sklearn-color-fitted-level-0: #f0f8ff;\n",
              "  --sklearn-color-fitted-level-1: #d4ebff;\n",
              "  --sklearn-color-fitted-level-2: #b3dbfd;\n",
              "  --sklearn-color-fitted-level-3: cornflowerblue;\n",
              "\n",
              "  /* Specific color for light theme */\n",
              "  --sklearn-color-text-on-default-background: var(--sg-text-color, var(--theme-code-foreground, var(--jp-content-font-color1, black)));\n",
              "  --sklearn-color-background: var(--sg-background-color, var(--theme-background, var(--jp-layout-color0, white)));\n",
              "  --sklearn-color-border-box: var(--sg-text-color, var(--theme-code-foreground, var(--jp-content-font-color1, black)));\n",
              "  --sklearn-color-icon: #696969;\n",
              "\n",
              "  @media (prefers-color-scheme: dark) {\n",
              "    /* Redefinition of color scheme for dark theme */\n",
              "    --sklearn-color-text-on-default-background: var(--sg-text-color, var(--theme-code-foreground, var(--jp-content-font-color1, white)));\n",
              "    --sklearn-color-background: var(--sg-background-color, var(--theme-background, var(--jp-layout-color0, #111)));\n",
              "    --sklearn-color-border-box: var(--sg-text-color, var(--theme-code-foreground, var(--jp-content-font-color1, white)));\n",
              "    --sklearn-color-icon: #878787;\n",
              "  }\n",
              "}\n",
              "\n",
              "#sk-container-id-1 {\n",
              "  color: var(--sklearn-color-text);\n",
              "}\n",
              "\n",
              "#sk-container-id-1 pre {\n",
              "  padding: 0;\n",
              "}\n",
              "\n",
              "#sk-container-id-1 input.sk-hidden--visually {\n",
              "  border: 0;\n",
              "  clip: rect(1px 1px 1px 1px);\n",
              "  clip: rect(1px, 1px, 1px, 1px);\n",
              "  height: 1px;\n",
              "  margin: -1px;\n",
              "  overflow: hidden;\n",
              "  padding: 0;\n",
              "  position: absolute;\n",
              "  width: 1px;\n",
              "}\n",
              "\n",
              "#sk-container-id-1 div.sk-dashed-wrapped {\n",
              "  border: 1px dashed var(--sklearn-color-line);\n",
              "  margin: 0 0.4em 0.5em 0.4em;\n",
              "  box-sizing: border-box;\n",
              "  padding-bottom: 0.4em;\n",
              "  background-color: var(--sklearn-color-background);\n",
              "}\n",
              "\n",
              "#sk-container-id-1 div.sk-container {\n",
              "  /* jupyter's `normalize.less` sets `[hidden] { display: none; }`\n",
              "     but bootstrap.min.css set `[hidden] { display: none !important; }`\n",
              "     so we also need the `!important` here to be able to override the\n",
              "     default hidden behavior on the sphinx rendered scikit-learn.org.\n",
              "     See: https://github.com/scikit-learn/scikit-learn/issues/21755 */\n",
              "  display: inline-block !important;\n",
              "  position: relative;\n",
              "}\n",
              "\n",
              "#sk-container-id-1 div.sk-text-repr-fallback {\n",
              "  display: none;\n",
              "}\n",
              "\n",
              "div.sk-parallel-item,\n",
              "div.sk-serial,\n",
              "div.sk-item {\n",
              "  /* draw centered vertical line to link estimators */\n",
              "  background-image: linear-gradient(var(--sklearn-color-text-on-default-background), var(--sklearn-color-text-on-default-background));\n",
              "  background-size: 2px 100%;\n",
              "  background-repeat: no-repeat;\n",
              "  background-position: center center;\n",
              "}\n",
              "\n",
              "/* Parallel-specific style estimator block */\n",
              "\n",
              "#sk-container-id-1 div.sk-parallel-item::after {\n",
              "  content: \"\";\n",
              "  width: 100%;\n",
              "  border-bottom: 2px solid var(--sklearn-color-text-on-default-background);\n",
              "  flex-grow: 1;\n",
              "}\n",
              "\n",
              "#sk-container-id-1 div.sk-parallel {\n",
              "  display: flex;\n",
              "  align-items: stretch;\n",
              "  justify-content: center;\n",
              "  background-color: var(--sklearn-color-background);\n",
              "  position: relative;\n",
              "}\n",
              "\n",
              "#sk-container-id-1 div.sk-parallel-item {\n",
              "  display: flex;\n",
              "  flex-direction: column;\n",
              "}\n",
              "\n",
              "#sk-container-id-1 div.sk-parallel-item:first-child::after {\n",
              "  align-self: flex-end;\n",
              "  width: 50%;\n",
              "}\n",
              "\n",
              "#sk-container-id-1 div.sk-parallel-item:last-child::after {\n",
              "  align-self: flex-start;\n",
              "  width: 50%;\n",
              "}\n",
              "\n",
              "#sk-container-id-1 div.sk-parallel-item:only-child::after {\n",
              "  width: 0;\n",
              "}\n",
              "\n",
              "/* Serial-specific style estimator block */\n",
              "\n",
              "#sk-container-id-1 div.sk-serial {\n",
              "  display: flex;\n",
              "  flex-direction: column;\n",
              "  align-items: center;\n",
              "  background-color: var(--sklearn-color-background);\n",
              "  padding-right: 1em;\n",
              "  padding-left: 1em;\n",
              "}\n",
              "\n",
              "\n",
              "/* Toggleable style: style used for estimator/Pipeline/ColumnTransformer box that is\n",
              "clickable and can be expanded/collapsed.\n",
              "- Pipeline and ColumnTransformer use this feature and define the default style\n",
              "- Estimators will overwrite some part of the style using the `sk-estimator` class\n",
              "*/\n",
              "\n",
              "/* Pipeline and ColumnTransformer style (default) */\n",
              "\n",
              "#sk-container-id-1 div.sk-toggleable {\n",
              "  /* Default theme specific background. It is overwritten whether we have a\n",
              "  specific estimator or a Pipeline/ColumnTransformer */\n",
              "  background-color: var(--sklearn-color-background);\n",
              "}\n",
              "\n",
              "/* Toggleable label */\n",
              "#sk-container-id-1 label.sk-toggleable__label {\n",
              "  cursor: pointer;\n",
              "  display: flex;\n",
              "  width: 100%;\n",
              "  margin-bottom: 0;\n",
              "  padding: 0.5em;\n",
              "  box-sizing: border-box;\n",
              "  text-align: center;\n",
              "  align-items: start;\n",
              "  justify-content: space-between;\n",
              "  gap: 0.5em;\n",
              "}\n",
              "\n",
              "#sk-container-id-1 label.sk-toggleable__label .caption {\n",
              "  font-size: 0.6rem;\n",
              "  font-weight: lighter;\n",
              "  color: var(--sklearn-color-text-muted);\n",
              "}\n",
              "\n",
              "#sk-container-id-1 label.sk-toggleable__label-arrow:before {\n",
              "  /* Arrow on the left of the label */\n",
              "  content: \"▸\";\n",
              "  float: left;\n",
              "  margin-right: 0.25em;\n",
              "  color: var(--sklearn-color-icon);\n",
              "}\n",
              "\n",
              "#sk-container-id-1 label.sk-toggleable__label-arrow:hover:before {\n",
              "  color: var(--sklearn-color-text);\n",
              "}\n",
              "\n",
              "/* Toggleable content - dropdown */\n",
              "\n",
              "#sk-container-id-1 div.sk-toggleable__content {\n",
              "  max-height: 0;\n",
              "  max-width: 0;\n",
              "  overflow: hidden;\n",
              "  text-align: left;\n",
              "  /* unfitted */\n",
              "  background-color: var(--sklearn-color-unfitted-level-0);\n",
              "}\n",
              "\n",
              "#sk-container-id-1 div.sk-toggleable__content.fitted {\n",
              "  /* fitted */\n",
              "  background-color: var(--sklearn-color-fitted-level-0);\n",
              "}\n",
              "\n",
              "#sk-container-id-1 div.sk-toggleable__content pre {\n",
              "  margin: 0.2em;\n",
              "  border-radius: 0.25em;\n",
              "  color: var(--sklearn-color-text);\n",
              "  /* unfitted */\n",
              "  background-color: var(--sklearn-color-unfitted-level-0);\n",
              "}\n",
              "\n",
              "#sk-container-id-1 div.sk-toggleable__content.fitted pre {\n",
              "  /* unfitted */\n",
              "  background-color: var(--sklearn-color-fitted-level-0);\n",
              "}\n",
              "\n",
              "#sk-container-id-1 input.sk-toggleable__control:checked~div.sk-toggleable__content {\n",
              "  /* Expand drop-down */\n",
              "  max-height: 200px;\n",
              "  max-width: 100%;\n",
              "  overflow: auto;\n",
              "}\n",
              "\n",
              "#sk-container-id-1 input.sk-toggleable__control:checked~label.sk-toggleable__label-arrow:before {\n",
              "  content: \"▾\";\n",
              "}\n",
              "\n",
              "/* Pipeline/ColumnTransformer-specific style */\n",
              "\n",
              "#sk-container-id-1 div.sk-label input.sk-toggleable__control:checked~label.sk-toggleable__label {\n",
              "  color: var(--sklearn-color-text);\n",
              "  background-color: var(--sklearn-color-unfitted-level-2);\n",
              "}\n",
              "\n",
              "#sk-container-id-1 div.sk-label.fitted input.sk-toggleable__control:checked~label.sk-toggleable__label {\n",
              "  background-color: var(--sklearn-color-fitted-level-2);\n",
              "}\n",
              "\n",
              "/* Estimator-specific style */\n",
              "\n",
              "/* Colorize estimator box */\n",
              "#sk-container-id-1 div.sk-estimator input.sk-toggleable__control:checked~label.sk-toggleable__label {\n",
              "  /* unfitted */\n",
              "  background-color: var(--sklearn-color-unfitted-level-2);\n",
              "}\n",
              "\n",
              "#sk-container-id-1 div.sk-estimator.fitted input.sk-toggleable__control:checked~label.sk-toggleable__label {\n",
              "  /* fitted */\n",
              "  background-color: var(--sklearn-color-fitted-level-2);\n",
              "}\n",
              "\n",
              "#sk-container-id-1 div.sk-label label.sk-toggleable__label,\n",
              "#sk-container-id-1 div.sk-label label {\n",
              "  /* The background is the default theme color */\n",
              "  color: var(--sklearn-color-text-on-default-background);\n",
              "}\n",
              "\n",
              "/* On hover, darken the color of the background */\n",
              "#sk-container-id-1 div.sk-label:hover label.sk-toggleable__label {\n",
              "  color: var(--sklearn-color-text);\n",
              "  background-color: var(--sklearn-color-unfitted-level-2);\n",
              "}\n",
              "\n",
              "/* Label box, darken color on hover, fitted */\n",
              "#sk-container-id-1 div.sk-label.fitted:hover label.sk-toggleable__label.fitted {\n",
              "  color: var(--sklearn-color-text);\n",
              "  background-color: var(--sklearn-color-fitted-level-2);\n",
              "}\n",
              "\n",
              "/* Estimator label */\n",
              "\n",
              "#sk-container-id-1 div.sk-label label {\n",
              "  font-family: monospace;\n",
              "  font-weight: bold;\n",
              "  display: inline-block;\n",
              "  line-height: 1.2em;\n",
              "}\n",
              "\n",
              "#sk-container-id-1 div.sk-label-container {\n",
              "  text-align: center;\n",
              "}\n",
              "\n",
              "/* Estimator-specific */\n",
              "#sk-container-id-1 div.sk-estimator {\n",
              "  font-family: monospace;\n",
              "  border: 1px dotted var(--sklearn-color-border-box);\n",
              "  border-radius: 0.25em;\n",
              "  box-sizing: border-box;\n",
              "  margin-bottom: 0.5em;\n",
              "  /* unfitted */\n",
              "  background-color: var(--sklearn-color-unfitted-level-0);\n",
              "}\n",
              "\n",
              "#sk-container-id-1 div.sk-estimator.fitted {\n",
              "  /* fitted */\n",
              "  background-color: var(--sklearn-color-fitted-level-0);\n",
              "}\n",
              "\n",
              "/* on hover */\n",
              "#sk-container-id-1 div.sk-estimator:hover {\n",
              "  /* unfitted */\n",
              "  background-color: var(--sklearn-color-unfitted-level-2);\n",
              "}\n",
              "\n",
              "#sk-container-id-1 div.sk-estimator.fitted:hover {\n",
              "  /* fitted */\n",
              "  background-color: var(--sklearn-color-fitted-level-2);\n",
              "}\n",
              "\n",
              "/* Specification for estimator info (e.g. \"i\" and \"?\") */\n",
              "\n",
              "/* Common style for \"i\" and \"?\" */\n",
              "\n",
              ".sk-estimator-doc-link,\n",
              "a:link.sk-estimator-doc-link,\n",
              "a:visited.sk-estimator-doc-link {\n",
              "  float: right;\n",
              "  font-size: smaller;\n",
              "  line-height: 1em;\n",
              "  font-family: monospace;\n",
              "  background-color: var(--sklearn-color-background);\n",
              "  border-radius: 1em;\n",
              "  height: 1em;\n",
              "  width: 1em;\n",
              "  text-decoration: none !important;\n",
              "  margin-left: 0.5em;\n",
              "  text-align: center;\n",
              "  /* unfitted */\n",
              "  border: var(--sklearn-color-unfitted-level-1) 1pt solid;\n",
              "  color: var(--sklearn-color-unfitted-level-1);\n",
              "}\n",
              "\n",
              ".sk-estimator-doc-link.fitted,\n",
              "a:link.sk-estimator-doc-link.fitted,\n",
              "a:visited.sk-estimator-doc-link.fitted {\n",
              "  /* fitted */\n",
              "  border: var(--sklearn-color-fitted-level-1) 1pt solid;\n",
              "  color: var(--sklearn-color-fitted-level-1);\n",
              "}\n",
              "\n",
              "/* On hover */\n",
              "div.sk-estimator:hover .sk-estimator-doc-link:hover,\n",
              ".sk-estimator-doc-link:hover,\n",
              "div.sk-label-container:hover .sk-estimator-doc-link:hover,\n",
              ".sk-estimator-doc-link:hover {\n",
              "  /* unfitted */\n",
              "  background-color: var(--sklearn-color-unfitted-level-3);\n",
              "  color: var(--sklearn-color-background);\n",
              "  text-decoration: none;\n",
              "}\n",
              "\n",
              "div.sk-estimator.fitted:hover .sk-estimator-doc-link.fitted:hover,\n",
              ".sk-estimator-doc-link.fitted:hover,\n",
              "div.sk-label-container:hover .sk-estimator-doc-link.fitted:hover,\n",
              ".sk-estimator-doc-link.fitted:hover {\n",
              "  /* fitted */\n",
              "  background-color: var(--sklearn-color-fitted-level-3);\n",
              "  color: var(--sklearn-color-background);\n",
              "  text-decoration: none;\n",
              "}\n",
              "\n",
              "/* Span, style for the box shown on hovering the info icon */\n",
              ".sk-estimator-doc-link span {\n",
              "  display: none;\n",
              "  z-index: 9999;\n",
              "  position: relative;\n",
              "  font-weight: normal;\n",
              "  right: .2ex;\n",
              "  padding: .5ex;\n",
              "  margin: .5ex;\n",
              "  width: min-content;\n",
              "  min-width: 20ex;\n",
              "  max-width: 50ex;\n",
              "  color: var(--sklearn-color-text);\n",
              "  box-shadow: 2pt 2pt 4pt #999;\n",
              "  /* unfitted */\n",
              "  background: var(--sklearn-color-unfitted-level-0);\n",
              "  border: .5pt solid var(--sklearn-color-unfitted-level-3);\n",
              "}\n",
              "\n",
              ".sk-estimator-doc-link.fitted span {\n",
              "  /* fitted */\n",
              "  background: var(--sklearn-color-fitted-level-0);\n",
              "  border: var(--sklearn-color-fitted-level-3);\n",
              "}\n",
              "\n",
              ".sk-estimator-doc-link:hover span {\n",
              "  display: block;\n",
              "}\n",
              "\n",
              "/* \"?\"-specific style due to the `<a>` HTML tag */\n",
              "\n",
              "#sk-container-id-1 a.estimator_doc_link {\n",
              "  float: right;\n",
              "  font-size: 1rem;\n",
              "  line-height: 1em;\n",
              "  font-family: monospace;\n",
              "  background-color: var(--sklearn-color-background);\n",
              "  border-radius: 1rem;\n",
              "  height: 1rem;\n",
              "  width: 1rem;\n",
              "  text-decoration: none;\n",
              "  /* unfitted */\n",
              "  color: var(--sklearn-color-unfitted-level-1);\n",
              "  border: var(--sklearn-color-unfitted-level-1) 1pt solid;\n",
              "}\n",
              "\n",
              "#sk-container-id-1 a.estimator_doc_link.fitted {\n",
              "  /* fitted */\n",
              "  border: var(--sklearn-color-fitted-level-1) 1pt solid;\n",
              "  color: var(--sklearn-color-fitted-level-1);\n",
              "}\n",
              "\n",
              "/* On hover */\n",
              "#sk-container-id-1 a.estimator_doc_link:hover {\n",
              "  /* unfitted */\n",
              "  background-color: var(--sklearn-color-unfitted-level-3);\n",
              "  color: var(--sklearn-color-background);\n",
              "  text-decoration: none;\n",
              "}\n",
              "\n",
              "#sk-container-id-1 a.estimator_doc_link.fitted:hover {\n",
              "  /* fitted */\n",
              "  background-color: var(--sklearn-color-fitted-level-3);\n",
              "}\n",
              "</style><div id=\"sk-container-id-1\" class=\"sk-top-container\"><div class=\"sk-text-repr-fallback\"><pre>GridSearchCV(cv=5, estimator=DecisionTreeClassifier(random_state=42),\n",
              "             param_grid={&#x27;criterion&#x27;: [&#x27;gini&#x27;, &#x27;entropy&#x27;],\n",
              "                         &#x27;max_depth&#x27;: [3, 5, 7, 10],\n",
              "                         &#x27;min_samples_leaf&#x27;: [1, 2, 4],\n",
              "                         &#x27;min_samples_split&#x27;: [2, 5, 10]},\n",
              "             scoring=&#x27;accuracy&#x27;)</pre><b>In a Jupyter environment, please rerun this cell to show the HTML representation or trust the notebook. <br />On GitHub, the HTML representation is unable to render, please try loading this page with nbviewer.org.</b></div><div class=\"sk-container\" hidden><div class=\"sk-item sk-dashed-wrapped\"><div class=\"sk-label-container\"><div class=\"sk-label fitted sk-toggleable\"><input class=\"sk-toggleable__control sk-hidden--visually\" id=\"sk-estimator-id-1\" type=\"checkbox\" ><label for=\"sk-estimator-id-1\" class=\"sk-toggleable__label fitted sk-toggleable__label-arrow\"><div><div>GridSearchCV</div></div><div><a class=\"sk-estimator-doc-link fitted\" rel=\"noreferrer\" target=\"_blank\" href=\"https://scikit-learn.org/1.6/modules/generated/sklearn.model_selection.GridSearchCV.html\">?<span>Documentation for GridSearchCV</span></a><span class=\"sk-estimator-doc-link fitted\">i<span>Fitted</span></span></div></label><div class=\"sk-toggleable__content fitted\"><pre>GridSearchCV(cv=5, estimator=DecisionTreeClassifier(random_state=42),\n",
              "             param_grid={&#x27;criterion&#x27;: [&#x27;gini&#x27;, &#x27;entropy&#x27;],\n",
              "                         &#x27;max_depth&#x27;: [3, 5, 7, 10],\n",
              "                         &#x27;min_samples_leaf&#x27;: [1, 2, 4],\n",
              "                         &#x27;min_samples_split&#x27;: [2, 5, 10]},\n",
              "             scoring=&#x27;accuracy&#x27;)</pre></div> </div></div><div class=\"sk-parallel\"><div class=\"sk-parallel-item\"><div class=\"sk-item\"><div class=\"sk-label-container\"><div class=\"sk-label fitted sk-toggleable\"><input class=\"sk-toggleable__control sk-hidden--visually\" id=\"sk-estimator-id-2\" type=\"checkbox\" ><label for=\"sk-estimator-id-2\" class=\"sk-toggleable__label fitted sk-toggleable__label-arrow\"><div><div>best_estimator_: DecisionTreeClassifier</div></div></label><div class=\"sk-toggleable__content fitted\"><pre>DecisionTreeClassifier(max_depth=7, min_samples_leaf=2, random_state=42)</pre></div> </div></div><div class=\"sk-serial\"><div class=\"sk-item\"><div class=\"sk-estimator fitted sk-toggleable\"><input class=\"sk-toggleable__control sk-hidden--visually\" id=\"sk-estimator-id-3\" type=\"checkbox\" ><label for=\"sk-estimator-id-3\" class=\"sk-toggleable__label fitted sk-toggleable__label-arrow\"><div><div>DecisionTreeClassifier</div></div><div><a class=\"sk-estimator-doc-link fitted\" rel=\"noreferrer\" target=\"_blank\" href=\"https://scikit-learn.org/1.6/modules/generated/sklearn.tree.DecisionTreeClassifier.html\">?<span>Documentation for DecisionTreeClassifier</span></a></div></label><div class=\"sk-toggleable__content fitted\"><pre>DecisionTreeClassifier(max_depth=7, min_samples_leaf=2, random_state=42)</pre></div> </div></div></div></div></div></div></div></div></div>"
            ]
          },
          "metadata": {},
          "execution_count": 18
        }
      ]
    },
    {
      "cell_type": "markdown",
      "metadata": {
        "id": "7b0b4a1f"
      },
      "source": [
        "## Evaluate the model\n",
        "\n",
        "### Subtask:\n",
        "Evaluate the performance of the best model on the test set.\n"
      ]
    },
    {
      "cell_type": "markdown",
      "metadata": {
        "id": "858fae99"
      },
      "source": [
        "**Reasoning**:\n",
        "Evaluate the performance of the best model on the test set using accuracy, precision, recall, and F1-score.\n",
        "\n"
      ]
    },
    {
      "cell_type": "code",
      "metadata": {
        "colab": {
          "base_uri": "https://localhost:8080/"
        },
        "id": "c674d61e",
        "outputId": "237f0edf-b60b-4d71-f0af-e76db2c12238"
      },
      "source": [
        "best_model = grid_search.best_estimator_\n",
        "y_pred = best_model.predict(X_test)\n",
        "\n",
        "from sklearn.metrics import accuracy_score, precision_score, recall_score, f1_score\n",
        "\n",
        "accuracy = accuracy_score(y_test, y_pred)\n",
        "precision = precision_score(y_test, y_pred)\n",
        "recall = recall_score(y_test, y_pred)\n",
        "f1 = f1_score(y_test, y_pred)\n",
        "\n",
        "print(f\"Accuracy: {accuracy:.4f}\")\n",
        "print(f\"Precision: {precision:.4f}\")\n",
        "print(f\"Recall: {recall:.4f}\")\n",
        "print(f\"F1-score: {f1:.4f}\")"
      ],
      "execution_count": 19,
      "outputs": [
        {
          "output_type": "stream",
          "name": "stdout",
          "text": [
            "Accuracy: 0.7942\n",
            "Precision: 0.6203\n",
            "Recall: 0.5737\n",
            "F1-score: 0.5961\n"
          ]
        }
      ]
    },
    {
      "cell_type": "code",
      "metadata": {
        "colab": {
          "base_uri": "https://localhost:8080/"
        },
        "id": "0a494137",
        "outputId": "e73a94e0-2f78-431c-d594-4d8bd45d898d"
      },
      "source": [
        "from sklearn.metrics import classification_report\n",
        "\n",
        "print(classification_report(y_test, y_pred))"
      ],
      "execution_count": 20,
      "outputs": [
        {
          "output_type": "stream",
          "name": "stdout",
          "text": [
            "              precision    recall  f1-score   support\n",
            "\n",
            "           0       0.85      0.87      0.86      1036\n",
            "           1       0.62      0.57      0.60       373\n",
            "\n",
            "    accuracy                           0.79      1409\n",
            "   macro avg       0.74      0.72      0.73      1409\n",
            "weighted avg       0.79      0.79      0.79      1409\n",
            "\n"
          ]
        }
      ]
    },
    {
      "cell_type": "code",
      "metadata": {
        "id": "0b18bb50"
      },
      "source": [
        "y_pred_proba = best_model.predict_proba(X_test)[:, 1]"
      ],
      "execution_count": 21,
      "outputs": []
    },
    {
      "cell_type": "markdown",
      "metadata": {
        "id": "a7166d4e"
      },
      "source": [
        "## Iterate through thresholds and calculate recall\n",
        "\n",
        "### Subtask:\n",
        "Iterate through a range of possible thresholds and calculate the recall score for each threshold.\n"
      ]
    },
    {
      "cell_type": "markdown",
      "metadata": {
        "id": "2c8d71b2"
      },
      "source": [
        "**Reasoning**:\n",
        "Iterate through a range of possible thresholds and calculate the recall score for each threshold, storing the results.\n",
        "\n"
      ]
    },
    {
      "cell_type": "code",
      "metadata": {
        "id": "642ed2e5"
      },
      "source": [
        "import numpy as np\n",
        "from sklearn.metrics import recall_score\n",
        "\n",
        "thresholds = np.arange(0, 1.01, 0.01)\n",
        "recall_scores = {}\n",
        "\n",
        "for threshold in thresholds:\n",
        "    y_pred_threshold = (y_pred_proba >= threshold).astype(int)\n",
        "    recall = recall_score(y_test, y_pred_threshold)\n",
        "    recall_scores[threshold] = recall\n"
      ],
      "execution_count": 22,
      "outputs": []
    },
    {
      "cell_type": "markdown",
      "metadata": {
        "id": "ce0c51dd"
      },
      "source": [
        "## Find the optimal threshold\n",
        "\n",
        "### Subtask:\n",
        "Identify the threshold that yields the highest recall score.\n"
      ]
    },
    {
      "cell_type": "markdown",
      "metadata": {
        "id": "4c1f91d6"
      },
      "source": [
        "**Reasoning**:\n",
        "Find the threshold with the maximum recall score from the `recall_scores` dictionary and store it in the `optimal_threshold` variable.\n",
        "\n"
      ]
    },
    {
      "cell_type": "code",
      "metadata": {
        "colab": {
          "base_uri": "https://localhost:8080/"
        },
        "id": "9988881a",
        "outputId": "9689cc41-3114-4d5a-a44a-e917d9642ac5"
      },
      "source": [
        "optimal_threshold = max(recall_scores, key=recall_scores.get)\n",
        "print(f\"Optimal Threshold for Maximum Recall: {optimal_threshold:.4f}\")"
      ],
      "execution_count": 23,
      "outputs": [
        {
          "output_type": "stream",
          "name": "stdout",
          "text": [
            "Optimal Threshold for Maximum Recall: 0.0000\n"
          ]
        }
      ]
    },
    {
      "cell_type": "markdown",
      "metadata": {
        "id": "7d9f05a9"
      },
      "source": [
        "## Evaluate the model with the optimal threshold\n",
        "\n",
        "### Subtask:\n",
        "Evaluate the model's performance on the test set using the optimal threshold, including precision, recall, and F1-score.\n"
      ]
    },
    {
      "cell_type": "markdown",
      "metadata": {
        "id": "3e748d17"
      },
      "source": [
        "**Reasoning**:\n",
        "Evaluate the performance of the best model on the test set using the optimal threshold, including precision, recall, and F1-score.\n",
        "\n"
      ]
    },
    {
      "cell_type": "code",
      "metadata": {
        "colab": {
          "base_uri": "https://localhost:8080/"
        },
        "id": "bf7c9995",
        "outputId": "81c87545-f251-46db-8e46-34efc4259b2a"
      },
      "source": [
        "y_pred_optimal = (y_pred_proba >= optimal_threshold).astype(int)\n",
        "\n",
        "accuracy_optimal = accuracy_score(y_test, y_pred_optimal)\n",
        "precision_optimal = precision_score(y_test, y_pred_optimal)\n",
        "recall_optimal = recall_score(y_test, y_pred_optimal)\n",
        "f1_optimal = f1_score(y_test, y_pred_optimal)\n",
        "\n",
        "print(f\"Accuracy with Optimal Threshold: {accuracy_optimal:.4f}\")\n",
        "print(f\"Precision with Optimal Threshold: {precision_optimal:.4f}\")\n",
        "print(f\"Recall with Optimal Threshold: {recall_optimal:.4f}\")\n",
        "print(f\"F1-score with Optimal Threshold: {f1_optimal:.4f}\")"
      ],
      "execution_count": 24,
      "outputs": [
        {
          "output_type": "stream",
          "name": "stdout",
          "text": [
            "Accuracy with Optimal Threshold: 0.2647\n",
            "Precision with Optimal Threshold: 0.2647\n",
            "Recall with Optimal Threshold: 1.0000\n",
            "F1-score with Optimal Threshold: 0.4186\n"
          ]
        }
      ]
    },
    {
      "cell_type": "markdown",
      "metadata": {
        "id": "f14827c6"
      },
      "source": [
        "# Task\n",
        "Build a decision tree classifier for the dataset, drop the `customerID` column, and perform label encoding on all categorical columns. Perform hyperparameter optimization on all parameters using k-fold cross-validation. Print the classification report. Then, perform threshold optimization to improve recall while maintaining other metrics. Print the classification report with the optimized threshold."
      ]
    },
    {
      "cell_type": "markdown",
      "metadata": {
        "id": "ebad9a32"
      },
      "source": [
        "## Get prediction probabilities\n",
        "\n",
        "### Subtask:\n",
        "Obtain the prediction probabilities for the positive class on the test set.\n"
      ]
    },
    {
      "cell_type": "markdown",
      "metadata": {
        "id": "376e29d2"
      },
      "source": [
        "**Reasoning**:\n",
        "Obtain the prediction probabilities for the positive class on the test set using the best model.\n",
        "\n"
      ]
    },
    {
      "cell_type": "code",
      "metadata": {
        "id": "841f3d99"
      },
      "source": [
        "y_pred_proba = best_model.predict_proba(X_test)[:, 1]"
      ],
      "execution_count": 25,
      "outputs": []
    },
    {
      "cell_type": "markdown",
      "metadata": {
        "id": "b76dc05b"
      },
      "source": [
        "## Iterate through thresholds and calculate metrics\n",
        "\n",
        "### Subtask:\n",
        "Iterate through a range of possible thresholds and calculate precision, recall, and F1-score for each threshold.\n"
      ]
    },
    {
      "cell_type": "markdown",
      "metadata": {
        "id": "a246b503"
      },
      "source": [
        "**Reasoning**:\n",
        "Iterate through a range of possible thresholds and calculate precision, recall, and F1-score for each threshold, storing the results in a dictionary.\n",
        "\n"
      ]
    },
    {
      "cell_type": "code",
      "metadata": {
        "id": "16745b11"
      },
      "source": [
        "from sklearn.metrics import precision_score, recall_score, f1_score\n",
        "\n",
        "thresholds = np.arange(0, 1.01, 0.01)\n",
        "metrics_by_threshold = {}\n",
        "\n",
        "for threshold in thresholds:\n",
        "    y_pred_threshold = (y_pred_proba >= threshold).astype(int)\n",
        "    precision = precision_score(y_test, y_pred_threshold, zero_division=0)\n",
        "    recall = recall_score(y_test, y_pred_threshold)\n",
        "    f1 = f1_score(y_test, y_pred_threshold)\n",
        "    metrics_by_threshold[threshold] = {'precision': precision, 'recall': recall, 'f1': f1}\n"
      ],
      "execution_count": 26,
      "outputs": []
    },
    {
      "cell_type": "markdown",
      "metadata": {
        "id": "c440d09a"
      },
      "source": [
        "## Find the optimal threshold (considering balance)\n",
        "\n",
        "### Subtask:\n",
        "Identify the threshold that offers a good balance between recall and other metrics (e.g., maximizing F1-score or choosing based on a precision-recall curve).\n"
      ]
    },
    {
      "cell_type": "markdown",
      "metadata": {
        "id": "590e5c30"
      },
      "source": [
        "**Reasoning**:\n",
        "Find the threshold that maximizes the F1-score from the calculated metrics.\n",
        "\n"
      ]
    },
    {
      "cell_type": "code",
      "metadata": {
        "colab": {
          "base_uri": "https://localhost:8080/"
        },
        "id": "122fbcb9",
        "outputId": "87a3be7e-ec3a-42f2-df5f-81dd940b50d7"
      },
      "source": [
        "balanced_optimal_threshold = max(metrics_by_threshold, key=lambda threshold: metrics_by_threshold[threshold]['f1'])\n",
        "print(f\"Optimal Threshold for Balanced Metrics (Max F1-score): {balanced_optimal_threshold:.4f}\")"
      ],
      "execution_count": 27,
      "outputs": [
        {
          "output_type": "stream",
          "name": "stdout",
          "text": [
            "Optimal Threshold for Balanced Metrics (Max F1-score): 0.3500\n"
          ]
        }
      ]
    },
    {
      "cell_type": "markdown",
      "metadata": {
        "id": "09a6bb07"
      },
      "source": [
        "**Reasoning**:\n",
        "Evaluate the performance of the model on the test set using the balanced optimal threshold and print the classification report.\n",
        "\n"
      ]
    },
    {
      "cell_type": "code",
      "metadata": {
        "colab": {
          "base_uri": "https://localhost:8080/"
        },
        "id": "78fe1acf",
        "outputId": "c47391d7-dcc1-4a13-aa45-fd0360d627c4"
      },
      "source": [
        "y_pred_balanced_optimal = (y_pred_proba >= balanced_optimal_threshold).astype(int)\n",
        "\n",
        "print(\"Classification Report with Balanced Optimal Threshold:\")\n",
        "print(classification_report(y_test, y_pred_balanced_optimal))"
      ],
      "execution_count": 28,
      "outputs": [
        {
          "output_type": "stream",
          "name": "stdout",
          "text": [
            "Classification Report with Balanced Optimal Threshold:\n",
            "              precision    recall  f1-score   support\n",
            "\n",
            "           0       0.88      0.79      0.83      1036\n",
            "           1       0.55      0.71      0.62       373\n",
            "\n",
            "    accuracy                           0.77      1409\n",
            "   macro avg       0.72      0.75      0.73      1409\n",
            "weighted avg       0.79      0.77      0.78      1409\n",
            "\n"
          ]
        }
      ]
    },
    {
      "cell_type": "markdown",
      "metadata": {
        "id": "f67062c7"
      },
      "source": [
        "## Evaluate the model with the optimal threshold\n",
        "\n",
        "### Subtask:\n",
        "Evaluate the model's performance on the test set using the chosen optimal threshold, including precision, recall, and F1-score.\n"
      ]
    },
    {
      "cell_type": "markdown",
      "metadata": {
        "id": "8fc2b676"
      },
      "source": [
        "**Reasoning**:\n",
        "Evaluate the performance of the best model on the test set using the balanced optimal threshold, including precision, recall, and F1-score.\n",
        "\n"
      ]
    },
    {
      "cell_type": "code",
      "metadata": {
        "colab": {
          "base_uri": "https://localhost:8080/"
        },
        "id": "3c984785",
        "outputId": "c01dcf17-10b7-46ce-ed8e-a59979b26e23"
      },
      "source": [
        "y_pred_balanced_optimal = (y_pred_proba >= balanced_optimal_threshold).astype(int)\n",
        "\n",
        "accuracy_balanced_optimal = accuracy_score(y_test, y_pred_balanced_optimal)\n",
        "precision_balanced_optimal = precision_score(y_test, y_pred_balanced_optimal)\n",
        "recall_balanced_optimal = recall_score(y_test, y_pred_balanced_optimal)\n",
        "f1_balanced_optimal = f1_score(y_test, y_pred_balanced_optimal)\n",
        "\n",
        "print(f\"Accuracy with Balanced Optimal Threshold: {accuracy_balanced_optimal:.4f}\")\n",
        "print(f\"Precision with Balanced Optimal Threshold: {precision_balanced_optimal:.4f}\")\n",
        "print(f\"Recall with Balanced Optimal Threshold: {recall_balanced_optimal:.4f}\")\n",
        "print(f\"F1-score with Balanced Optimal Threshold: {f1_balanced_optimal:.4f}\")"
      ],
      "execution_count": 29,
      "outputs": [
        {
          "output_type": "stream",
          "name": "stdout",
          "text": [
            "Accuracy with Balanced Optimal Threshold: 0.7679\n",
            "Precision with Balanced Optimal Threshold: 0.5477\n",
            "Recall with Balanced Optimal Threshold: 0.7078\n",
            "F1-score with Balanced Optimal Threshold: 0.6175\n"
          ]
        }
      ]
    },
    {
      "cell_type": "markdown",
      "metadata": {
        "id": "059958d0"
      },
      "source": [
        "## Plot a heatmap of the confusion matrix\n",
        "\n",
        "### Subtask:\n",
        "Generate and display a heatmap of the confusion matrix."
      ]
    },
    {
      "cell_type": "markdown",
      "metadata": {
        "id": "352af799"
      },
      "source": [
        "**Reasoning**:\n",
        "Import `confusion_matrix` from `sklearn.metrics` and `seaborn` for plotting. Calculate the confusion matrix using the true and predicted labels from the test set and plot it as a heatmap using `seaborn.heatmap`."
      ]
    },
    {
      "cell_type": "code",
      "metadata": {
        "colab": {
          "base_uri": "https://localhost:8080/",
          "height": 564
        },
        "id": "60871e47",
        "outputId": "6799362d-f1f6-4963-869c-2e3fa85debc7"
      },
      "source": [
        "from sklearn.metrics import confusion_matrix\n",
        "import seaborn as sns\n",
        "import matplotlib.pyplot as plt\n",
        "\n",
        "cm = confusion_matrix(y_test, y_pred_balanced_optimal)\n",
        "\n",
        "plt.figure(figsize=(8, 6))\n",
        "sns.heatmap(cm, annot=True, fmt='d', cmap='Blues', xticklabels=['No Churn', 'Churn'], yticklabels=['No Churn', 'Churn'])\n",
        "plt.xlabel('Predicted')\n",
        "plt.ylabel('Actual')\n",
        "plt.title('Confusion Matrix Heatmap (Balanced Optimal Threshold)')\n",
        "plt.show()"
      ],
      "execution_count": 30,
      "outputs": [
        {
          "output_type": "display_data",
          "data": {
            "text/plain": [
              "<Figure size 800x600 with 2 Axes>"
            ],
            "image/png": "[encoded data removed]"
          },
          "metadata": {}
        }
      ]
    },
    {
      "cell_type": "code",
      "metadata": {
        "colab": {
          "base_uri": "https://localhost:8080/"
        },
        "id": "121a587c",
        "outputId": "80e103bd-8ab1-4b91-aea6-8fd72c4d0b1b"
      },
      "source": [
        "import joblib\n",
        "\n",
        "# Save the best model\n",
        "joblib.dump(best_model, 'best_decision_tree_model.pkl')\n",
        "\n",
        "# Save the balanced optimal threshold\n",
        "joblib.dump(balanced_optimal_threshold, 'balanced_optimal_threshold.pkl')\n",
        "\n",
        "print(\"Best model and balanced optimal threshold saved successfully.\")"
      ],
      "execution_count": 31,
      "outputs": [
        {
          "output_type": "stream",
          "name": "stdout",
          "text": [
            "Best model and balanced optimal threshold saved successfully.\n"
          ]
        }
      ]
    },
    {
      "cell_type": "markdown",
      "metadata": {
        "id": "a4d8c04f"
      },
      "source": [
        "# Task\n",
        "Visualize the trained decision tree model using graphviz."
      ]
    },
    {
      "cell_type": "markdown",
      "metadata": {
        "id": "ea2e924e"
      },
      "source": [
        "## Install necessary libraries\n",
        "\n",
        "### Subtask:\n",
        "Install the `graphviz` library.\n"
      ]
    },
    {
      "cell_type": "markdown",
      "metadata": {
        "id": "b0e67a21"
      },
      "source": [
        "**Reasoning**:\n",
        "Install the `graphviz` library using pip.\n",
        "\n"
      ]
    },
    {
      "cell_type": "code",
      "metadata": {
        "colab": {
          "base_uri": "https://localhost:8080/"
        },
        "id": "e1a0ed18",
        "outputId": "0bf22d1f-c40e-446d-a2a7-d03e5ea779be"
      },
      "source": [
        "%pip install graphviz"
      ],
      "execution_count": 32,
      "outputs": [
        {
          "output_type": "stream",
          "name": "stdout",
          "text": [
            "Requirement already satisfied: graphviz in /usr/local/lib/python3.11/dist-packages (0.21)\n"
          ]
        }
      ]
    },
    {
      "cell_type": "markdown",
      "metadata": {
        "id": "9476aa0a"
      },
      "source": [
        "## Export the decision tree\n",
        "\n",
        "### Subtask:\n",
        "Export the trained decision tree model to a Graphviz .dot file.\n"
      ]
    },
    {
      "cell_type": "markdown",
      "metadata": {
        "id": "0c90d809"
      },
      "source": [
        "**Reasoning**:\n",
        "Export the trained decision tree model to a Graphviz .dot file as requested in the subtask.\n",
        "\n"
      ]
    },
    {
      "cell_type": "code",
      "metadata": {
        "id": "f3015619"
      },
      "source": [
        "from sklearn.tree import export_graphviz\n",
        "\n",
        "export_graphviz(best_model, out_file='decision_tree.dot',\n",
        "                feature_names=X_train.columns,\n",
        "                class_names=[str(i) for i in y_train.unique()],\n",
        "                filled=True, rounded=True, special_characters=True)"
      ],
      "execution_count": 33,
      "outputs": []
    },
    {
      "cell_type": "markdown",
      "metadata": {
        "id": "fee9c2a4"
      },
      "source": [
        "## Visualize the decision tree\n",
        "\n",
        "### Subtask:\n",
        "Render the .dot file as a graphical visualization.\n"
      ]
    },
    {
      "cell_type": "markdown",
      "metadata": {
        "id": "61eadaed"
      },
      "source": [
        "**Reasoning**:\n",
        "Render the .dot file as a graphical visualization.\n",
        "\n"
      ]
    },
    {
      "cell_type": "code",
      "metadata": {
        "colab": {
          "base_uri": "https://localhost:8080/",
          "height": 1000
        },
        "id": "9638fba6",
        "outputId": "f02c60e7-3a8a-45be-eba5-0d1ed1fc630c"
      },
      "source": [
        "import graphviz\n",
        "\n",
        "with open(\"decision_tree.dot\") as f:\n",
        "    dot_graph = f.read()\n",
        "\n",
        "graphviz.Source(dot_graph)"
      ],
      "execution_count": 34,
      "outputs": [
        {
          "output_type": "execute_result",
          "data": {
            "image/svg+xml": "<?xml version=\"1.0\" encoding=\"UTF-8\" standalone=\"no\"?>\n<!DOCTYPE svg PUBLIC \"-//W3C//DTD SVG 1.1//EN\"\n \"http://www.w3.org/Graphics/SVG/1.1/DTD/svg11.dtd\">\n<!-- Generated by graphviz version 2.43.0 (0)\n -->\n<!-- Title: Tree Pages: 1 -->\n<svg width=\"9165pt\" height=\"909pt\"\n viewBox=\"0.00 0.00 9164.50 909.00\" xmlns=\"http://www.w3.org/2000/svg\" xmlns:xlink=\"http://www.w3.org/1999/xlink\">\n<g id=\"graph0\" class=\"graph\" transform=\"scale(1 1) rotate(0) translate(4 905)\">\n<title>Tree</title>\n<polygon fill=\"white\" stroke=\"transparent\" points=\"-4,4 -4,-905 9160.5,-905 9160.5,4 -4,4\"/>\n<!-- 0 -->\n<g id=\"node1\" class=\"node\">\n<title>0</title>\n<path fill=\"#eeaf81\" stroke=\"black\" d=\"M6368.5,-901C6368.5,-901 6252.5,-901 6252.5,-901 6246.5,-901 6240.5,-895 6240.5,-889 6240.5,-889 6240.5,-830 6240.5,-830 6240.5,-824 6246.5,-818 6252.5,-818 6252.5,-818 6368.5,-818 6368.5,-818 6374.5,-818 6380.5,-824 6380.5,-830 6380.5,-830 6380.5,-889 6380.5,-889 6380.5,-895 6374.5,-901 6368.5,-901\"/>\n<text text-anchor=\"start\" x=\"6268\" y=\"-885.8\" font-family=\"Helvetica,sans-Serif\" font-size=\"14.00\">Contract ≤ 0.5</text>\n<text text-anchor=\"start\" x=\"6278.5\" y=\"-870.8\" font-family=\"Helvetica,sans-Serif\" font-size=\"14.00\">gini = 0.39</text>\n<text text-anchor=\"start\" x=\"6262\" y=\"-855.8\" font-family=\"Helvetica,sans-Serif\" font-size=\"14.00\">samples = 5634</text>\n<text text-anchor=\"start\" x=\"6248.5\" y=\"-840.8\" font-family=\"Helvetica,sans-Serif\" font-size=\"14.00\">value = [4138, 1496]</text>\n<text text-anchor=\"start\" x=\"6283\" y=\"-825.8\" font-family=\"Helvetica,sans-Serif\" font-size=\"14.00\">class = 0</text>\n</g>\n<!-- 1 -->\n<g id=\"node2\" class=\"node\">\n<title>1</title>\n<path fill=\"#f8dfcc\" stroke=\"black\" d=\"M4982.5,-782C4982.5,-782 4844.5,-782 4844.5,-782 4838.5,-782 4832.5,-776 4832.5,-770 4832.5,-770 4832.5,-711 4832.5,-711 4832.5,-705 4838.5,-699 4844.5,-699 4844.5,-699 4982.5,-699 4982.5,-699 4988.5,-699 4994.5,-705 4994.5,-711 4994.5,-711 4994.5,-770 4994.5,-770 4994.5,-776 4988.5,-782 4982.5,-782\"/>\n<text text-anchor=\"start\" x=\"4852\" y=\"-766.8\" font-family=\"Helvetica,sans-Serif\" font-size=\"14.00\">OnlineSecurity ≤ 0.5</text>\n<text text-anchor=\"start\" x=\"4878\" y=\"-751.8\" font-family=\"Helvetica,sans-Serif\" font-size=\"14.00\">gini = 0.489</text>\n<text text-anchor=\"start\" x=\"4865\" y=\"-736.8\" font-family=\"Helvetica,sans-Serif\" font-size=\"14.00\">samples = 3083</text>\n<text text-anchor=\"start\" x=\"4840.5\" y=\"-721.8\" font-family=\"Helvetica,sans-Serif\" font-size=\"14.00\">value = [1768.0, 1315.0]</text>\n<text text-anchor=\"start\" x=\"4886\" y=\"-706.8\" font-family=\"Helvetica,sans-Serif\" font-size=\"14.00\">class = 0</text>\n</g>\n<!-- 0&#45;&gt;1 -->\n<g id=\"edge1\" class=\"edge\">\n<title>0&#45;&gt;1</title>\n<path fill=\"none\" stroke=\"black\" d=\"M6240.27,-852.62C6008.08,-833.17 5265.22,-770.96 5004.77,-749.14\"/>\n<polygon fill=\"black\" stroke=\"black\" points=\"5004.85,-745.64 4994.59,-748.29 5004.27,-752.61 5004.85,-745.64\"/>\n<text text-anchor=\"middle\" x=\"5010.74\" y=\"-763.68\" font-family=\"Helvetica,sans-Serif\" font-size=\"14.00\">True</text>\n</g>\n<!-- 110 -->\n<g id=\"node111\" class=\"node\">\n<title>110</title>\n<path fill=\"#e78b48\" stroke=\"black\" d=\"M7515.5,-782C7515.5,-782 7367.5,-782 7367.5,-782 7361.5,-782 7355.5,-776 7355.5,-770 7355.5,-770 7355.5,-711 7355.5,-711 7355.5,-705 7361.5,-699 7367.5,-699 7367.5,-699 7515.5,-699 7515.5,-699 7521.5,-699 7527.5,-705 7527.5,-711 7527.5,-711 7527.5,-770 7527.5,-770 7527.5,-776 7521.5,-782 7515.5,-782\"/>\n<text text-anchor=\"start\" x=\"7363.5\" y=\"-766.8\" font-family=\"Helvetica,sans-Serif\" font-size=\"14.00\">MonthlyCharges ≤ 93.675</text>\n<text text-anchor=\"start\" x=\"7406\" y=\"-751.8\" font-family=\"Helvetica,sans-Serif\" font-size=\"14.00\">gini = 0.132</text>\n<text text-anchor=\"start\" x=\"7393\" y=\"-736.8\" font-family=\"Helvetica,sans-Serif\" font-size=\"14.00\">samples = 2551</text>\n<text text-anchor=\"start\" x=\"7383.5\" y=\"-721.8\" font-family=\"Helvetica,sans-Serif\" font-size=\"14.00\">value = [2370, 181]</text>\n<text text-anchor=\"start\" x=\"7414\" y=\"-706.8\" font-family=\"Helvetica,sans-Serif\" font-size=\"14.00\">class = 0</text>\n</g>\n<!-- 0&#45;&gt;110 -->\n<g id=\"edge110\" class=\"edge\">\n<title>0&#45;&gt;110</title>\n<path fill=\"none\" stroke=\"black\" d=\"M6380.82,-851.23C6575.58,-831.08 7122.25,-774.53 7345.1,-751.47\"/>\n<polygon fill=\"black\" stroke=\"black\" points=\"7345.56,-754.94 7355.15,-750.43 7344.84,-747.98 7345.56,-754.94\"/>\n<text text-anchor=\"middle\" x=\"7339.38\" y=\"-766.14\" font-family=\"Helvetica,sans-Serif\" font-size=\"14.00\">False</text>\n</g>\n<!-- 2 -->\n<g id=\"node3\" class=\"node\">\n<title>2</title>\n<path fill=\"#f6fbfe\" stroke=\"black\" d=\"M2863.5,-663C2863.5,-663 2747.5,-663 2747.5,-663 2741.5,-663 2735.5,-657 2735.5,-651 2735.5,-651 2735.5,-592 2735.5,-592 2735.5,-586 2741.5,-580 2747.5,-580 2747.5,-580 2863.5,-580 2863.5,-580 2869.5,-580 2875.5,-586 2875.5,-592 2875.5,-592 2875.5,-651 2875.5,-651 2875.5,-657 2869.5,-663 2863.5,-663\"/>\n<text text-anchor=\"start\" x=\"2765.5\" y=\"-647.8\" font-family=\"Helvetica,sans-Serif\" font-size=\"14.00\">tenure ≤ 10.5</text>\n<text text-anchor=\"start\" x=\"2777.5\" y=\"-632.8\" font-family=\"Helvetica,sans-Serif\" font-size=\"14.00\">gini = 0.5</text>\n<text text-anchor=\"start\" x=\"2757\" y=\"-617.8\" font-family=\"Helvetica,sans-Serif\" font-size=\"14.00\">samples = 2096</text>\n<text text-anchor=\"start\" x=\"2743.5\" y=\"-602.8\" font-family=\"Helvetica,sans-Serif\" font-size=\"14.00\">value = [1024, 1072]</text>\n<text text-anchor=\"start\" x=\"2778\" y=\"-587.8\" font-family=\"Helvetica,sans-Serif\" font-size=\"14.00\">class = 1</text>\n</g>\n<!-- 1&#45;&gt;2 -->\n<g id=\"edge2\" class=\"edge\">\n<title>1&#45;&gt;2</title>\n<path fill=\"none\" stroke=\"black\" d=\"M4832.48,-735C4497.11,-716.39 3219.63,-645.49 2885.74,-626.95\"/>\n<polygon fill=\"black\" stroke=\"black\" points=\"2885.84,-623.45 2875.67,-626.39 2885.46,-630.44 2885.84,-623.45\"/>\n</g>\n<!-- 63 -->\n<g id=\"node64\" class=\"node\">\n<title>63</title>\n<path fill=\"#edaa7a\" stroke=\"black\" d=\"M4983.5,-663C4983.5,-663 4843.5,-663 4843.5,-663 4837.5,-663 4831.5,-657 4831.5,-651 4831.5,-651 4831.5,-592 4831.5,-592 4831.5,-586 4837.5,-580 4843.5,-580 4843.5,-580 4983.5,-580 4983.5,-580 4989.5,-580 4995.5,-586 4995.5,-592 4995.5,-592 4995.5,-651 4995.5,-651 4995.5,-657 4989.5,-663 4983.5,-663\"/>\n<text text-anchor=\"start\" x=\"4839.5\" y=\"-647.8\" font-family=\"Helvetica,sans-Serif\" font-size=\"14.00\">MonthlyCharges ≤ 91.45</text>\n<text text-anchor=\"start\" x=\"4878\" y=\"-632.8\" font-family=\"Helvetica,sans-Serif\" font-size=\"14.00\">gini = 0.371</text>\n<text text-anchor=\"start\" x=\"4868.5\" y=\"-617.8\" font-family=\"Helvetica,sans-Serif\" font-size=\"14.00\">samples = 987</text>\n<text text-anchor=\"start\" x=\"4859\" y=\"-602.8\" font-family=\"Helvetica,sans-Serif\" font-size=\"14.00\">value = [744, 243]</text>\n<text text-anchor=\"start\" x=\"4886\" y=\"-587.8\" font-family=\"Helvetica,sans-Serif\" font-size=\"14.00\">class = 0</text>\n</g>\n<!-- 1&#45;&gt;63 -->\n<g id=\"edge63\" class=\"edge\">\n<title>1&#45;&gt;63</title>\n<path fill=\"none\" stroke=\"black\" d=\"M4913.5,-698.91C4913.5,-690.65 4913.5,-681.86 4913.5,-673.3\"/>\n<polygon fill=\"black\" stroke=\"black\" points=\"4917,-673.02 4913.5,-663.02 4910,-673.02 4917,-673.02\"/>\n</g>\n<!-- 3 -->\n<g id=\"node4\" class=\"node\">\n<title>3</title>\n<path fill=\"#abd5f4\" stroke=\"black\" d=\"M1320,-544C1320,-544 1203,-544 1203,-544 1197,-544 1191,-538 1191,-532 1191,-532 1191,-473 1191,-473 1191,-467 1197,-461 1203,-461 1203,-461 1320,-461 1320,-461 1326,-461 1332,-467 1332,-473 1332,-473 1332,-532 1332,-532 1332,-538 1326,-544 1320,-544\"/>\n<text text-anchor=\"start\" x=\"1199\" y=\"-528.8\" font-family=\"Helvetica,sans-Serif\" font-size=\"14.00\">InternetService ≤ 0.5</text>\n<text text-anchor=\"start\" x=\"1226\" y=\"-513.8\" font-family=\"Helvetica,sans-Serif\" font-size=\"14.00\">gini = 0.464</text>\n<text text-anchor=\"start\" x=\"1213\" y=\"-498.8\" font-family=\"Helvetica,sans-Serif\" font-size=\"14.00\">samples = 1012</text>\n<text text-anchor=\"start\" x=\"1207\" y=\"-483.8\" font-family=\"Helvetica,sans-Serif\" font-size=\"14.00\">value = [370, 642]</text>\n<text text-anchor=\"start\" x=\"1234\" y=\"-468.8\" font-family=\"Helvetica,sans-Serif\" font-size=\"14.00\">class = 1</text>\n</g>\n<!-- 2&#45;&gt;3 -->\n<g id=\"edge3\" class=\"edge\">\n<title>2&#45;&gt;3</title>\n<path fill=\"none\" stroke=\"black\" d=\"M2735.4,-615.19C2481.79,-595.97 1612.78,-530.12 1342.43,-509.63\"/>\n<polygon fill=\"black\" stroke=\"black\" points=\"1342.54,-506.13 1332.31,-508.87 1342.01,-513.11 1342.54,-506.13\"/>\n</g>\n<!-- 32 -->\n<g id=\"node33\" class=\"node\">\n<title>32</title>\n<path fill=\"#f6d4bb\" stroke=\"black\" d=\"M2864,-544C2864,-544 2747,-544 2747,-544 2741,-544 2735,-538 2735,-532 2735,-532 2735,-473 2735,-473 2735,-467 2741,-461 2747,-461 2747,-461 2864,-461 2864,-461 2870,-461 2876,-467 2876,-473 2876,-473 2876,-532 2876,-532 2876,-538 2870,-544 2864,-544\"/>\n<text text-anchor=\"start\" x=\"2743\" y=\"-528.8\" font-family=\"Helvetica,sans-Serif\" font-size=\"14.00\">InternetService ≤ 0.5</text>\n<text text-anchor=\"start\" x=\"2770\" y=\"-513.8\" font-family=\"Helvetica,sans-Serif\" font-size=\"14.00\">gini = 0.479</text>\n<text text-anchor=\"start\" x=\"2757\" y=\"-498.8\" font-family=\"Helvetica,sans-Serif\" font-size=\"14.00\">samples = 1084</text>\n<text text-anchor=\"start\" x=\"2751\" y=\"-483.8\" font-family=\"Helvetica,sans-Serif\" font-size=\"14.00\">value = [654, 430]</text>\n<text text-anchor=\"start\" x=\"2778\" y=\"-468.8\" font-family=\"Helvetica,sans-Serif\" font-size=\"14.00\">class = 0</text>\n</g>\n<!-- 2&#45;&gt;32 -->\n<g id=\"edge32\" class=\"edge\">\n<title>2&#45;&gt;32</title>\n<path fill=\"none\" stroke=\"black\" d=\"M2805.5,-579.91C2805.5,-571.65 2805.5,-562.86 2805.5,-554.3\"/>\n<polygon fill=\"black\" stroke=\"black\" points=\"2809,-554.02 2805.5,-544.02 2802,-554.02 2809,-554.02\"/>\n</g>\n<!-- 4 -->\n<g id=\"node5\" class=\"node\">\n<title>4</title>\n<path fill=\"#fefcfa\" stroke=\"black\" d=\"M811.5,-425C811.5,-425 663.5,-425 663.5,-425 657.5,-425 651.5,-419 651.5,-413 651.5,-413 651.5,-354 651.5,-354 651.5,-348 657.5,-342 663.5,-342 663.5,-342 811.5,-342 811.5,-342 817.5,-342 823.5,-348 823.5,-354 823.5,-354 823.5,-413 823.5,-413 823.5,-419 817.5,-425 811.5,-425\"/>\n<text text-anchor=\"start\" x=\"659.5\" y=\"-409.8\" font-family=\"Helvetica,sans-Serif\" font-size=\"14.00\">MonthlyCharges ≤ 55.225</text>\n<text text-anchor=\"start\" x=\"709.5\" y=\"-394.8\" font-family=\"Helvetica,sans-Serif\" font-size=\"14.00\">gini = 0.5</text>\n<text text-anchor=\"start\" x=\"692.5\" y=\"-379.8\" font-family=\"Helvetica,sans-Serif\" font-size=\"14.00\">samples = 407</text>\n<text text-anchor=\"start\" x=\"683\" y=\"-364.8\" font-family=\"Helvetica,sans-Serif\" font-size=\"14.00\">value = [206, 201]</text>\n<text text-anchor=\"start\" x=\"710\" y=\"-349.8\" font-family=\"Helvetica,sans-Serif\" font-size=\"14.00\">class = 0</text>\n</g>\n<!-- 3&#45;&gt;4 -->\n<g id=\"edge4\" class=\"edge\">\n<title>3&#45;&gt;4</title>\n<path fill=\"none\" stroke=\"black\" d=\"M1190.83,-485.72C1098.55,-465.12 936.63,-428.96 833.35,-405.9\"/>\n<polygon fill=\"black\" stroke=\"black\" points=\"834.07,-402.48 823.55,-403.71 832.54,-409.31 834.07,-402.48\"/>\n</g>\n<!-- 19 -->\n<g id=\"node20\" class=\"node\">\n<title>19</title>\n<path fill=\"#83c1ef\" stroke=\"black\" d=\"M1323,-425C1323,-425 1200,-425 1200,-425 1194,-425 1188,-419 1188,-413 1188,-413 1188,-354 1188,-354 1188,-348 1194,-342 1200,-342 1200,-342 1323,-342 1323,-342 1329,-342 1335,-348 1335,-354 1335,-354 1335,-413 1335,-413 1335,-419 1329,-425 1323,-425\"/>\n<text text-anchor=\"start\" x=\"1225\" y=\"-409.8\" font-family=\"Helvetica,sans-Serif\" font-size=\"14.00\">tenure ≤ 1.5</text>\n<text text-anchor=\"start\" x=\"1226\" y=\"-394.8\" font-family=\"Helvetica,sans-Serif\" font-size=\"14.00\">gini = 0.395</text>\n<text text-anchor=\"start\" x=\"1216.5\" y=\"-379.8\" font-family=\"Helvetica,sans-Serif\" font-size=\"14.00\">samples = 605</text>\n<text text-anchor=\"start\" x=\"1196\" y=\"-364.8\" font-family=\"Helvetica,sans-Serif\" font-size=\"14.00\">value = [164.0, 441.0]</text>\n<text text-anchor=\"start\" x=\"1234\" y=\"-349.8\" font-family=\"Helvetica,sans-Serif\" font-size=\"14.00\">class = 1</text>\n</g>\n<!-- 3&#45;&gt;19 -->\n<g id=\"edge19\" class=\"edge\">\n<title>3&#45;&gt;19</title>\n<path fill=\"none\" stroke=\"black\" d=\"M1261.5,-460.91C1261.5,-452.65 1261.5,-443.86 1261.5,-435.3\"/>\n<polygon fill=\"black\" stroke=\"black\" points=\"1265,-435.02 1261.5,-425.02 1258,-435.02 1265,-435.02\"/>\n</g>\n<!-- 5 -->\n<g id=\"node6\" class=\"node\">\n<title>5</title>\n<path fill=\"#e0f0fb\" stroke=\"black\" d=\"M458.5,-306C458.5,-306 330.5,-306 330.5,-306 324.5,-306 318.5,-300 318.5,-294 318.5,-294 318.5,-235 318.5,-235 318.5,-229 324.5,-223 330.5,-223 330.5,-223 458.5,-223 458.5,-223 464.5,-223 470.5,-229 470.5,-235 470.5,-235 470.5,-294 470.5,-294 470.5,-300 464.5,-306 458.5,-306\"/>\n<text text-anchor=\"start\" x=\"326.5\" y=\"-290.8\" font-family=\"Helvetica,sans-Serif\" font-size=\"14.00\">DeviceProtection ≤ 1.0</text>\n<text text-anchor=\"start\" x=\"359\" y=\"-275.8\" font-family=\"Helvetica,sans-Serif\" font-size=\"14.00\">gini = 0.496</text>\n<text text-anchor=\"start\" x=\"349.5\" y=\"-260.8\" font-family=\"Helvetica,sans-Serif\" font-size=\"14.00\">samples = 330</text>\n<text text-anchor=\"start\" x=\"329\" y=\"-245.8\" font-family=\"Helvetica,sans-Serif\" font-size=\"14.00\">value = [151.0, 179.0]</text>\n<text text-anchor=\"start\" x=\"367\" y=\"-230.8\" font-family=\"Helvetica,sans-Serif\" font-size=\"14.00\">class = 1</text>\n</g>\n<!-- 4&#45;&gt;5 -->\n<g id=\"edge5\" class=\"edge\">\n<title>4&#45;&gt;5</title>\n<path fill=\"none\" stroke=\"black\" d=\"M651.39,-353.13C599.08,-335.28 532.54,-312.59 480.29,-294.76\"/>\n<polygon fill=\"black\" stroke=\"black\" points=\"481.3,-291.41 470.71,-291.5 479.04,-298.04 481.3,-291.41\"/>\n</g>\n<!-- 12 -->\n<g id=\"node13\" class=\"node\">\n<title>12</title>\n<path fill=\"#efb388\" stroke=\"black\" d=\"M811.5,-306C811.5,-306 663.5,-306 663.5,-306 657.5,-306 651.5,-300 651.5,-294 651.5,-294 651.5,-235 651.5,-235 651.5,-229 657.5,-223 663.5,-223 663.5,-223 811.5,-223 811.5,-223 817.5,-223 823.5,-229 823.5,-235 823.5,-235 823.5,-294 823.5,-294 823.5,-300 817.5,-306 811.5,-306\"/>\n<text text-anchor=\"start\" x=\"659.5\" y=\"-290.8\" font-family=\"Helvetica,sans-Serif\" font-size=\"14.00\">MonthlyCharges ≤ 70.725</text>\n<text text-anchor=\"start\" x=\"702\" y=\"-275.8\" font-family=\"Helvetica,sans-Serif\" font-size=\"14.00\">gini = 0.408</text>\n<text text-anchor=\"start\" x=\"696.5\" y=\"-260.8\" font-family=\"Helvetica,sans-Serif\" font-size=\"14.00\">samples = 77</text>\n<text text-anchor=\"start\" x=\"690.5\" y=\"-245.8\" font-family=\"Helvetica,sans-Serif\" font-size=\"14.00\">value = [55, 22]</text>\n<text text-anchor=\"start\" x=\"710\" y=\"-230.8\" font-family=\"Helvetica,sans-Serif\" font-size=\"14.00\">class = 0</text>\n</g>\n<!-- 4&#45;&gt;12 -->\n<g id=\"edge12\" class=\"edge\">\n<title>4&#45;&gt;12</title>\n<path fill=\"none\" stroke=\"black\" d=\"M737.5,-341.91C737.5,-333.65 737.5,-324.86 737.5,-316.3\"/>\n<polygon fill=\"black\" stroke=\"black\" points=\"741,-316.02 737.5,-306.02 734,-316.02 741,-316.02\"/>\n</g>\n<!-- 6 -->\n<g id=\"node7\" class=\"node\">\n<title>6</title>\n<path fill=\"#f4f9fd\" stroke=\"black\" d=\"M249,-187C249,-187 148,-187 148,-187 142,-187 136,-181 136,-175 136,-175 136,-116 136,-116 136,-110 142,-104 148,-104 148,-104 249,-104 249,-104 255,-104 261,-110 261,-116 261,-116 261,-175 261,-175 261,-181 255,-187 249,-187\"/>\n<text text-anchor=\"start\" x=\"162\" y=\"-171.8\" font-family=\"Helvetica,sans-Serif\" font-size=\"14.00\">tenure ≤ 6.5</text>\n<text text-anchor=\"start\" x=\"170.5\" y=\"-156.8\" font-family=\"Helvetica,sans-Serif\" font-size=\"14.00\">gini = 0.5</text>\n<text text-anchor=\"start\" x=\"153.5\" y=\"-141.8\" font-family=\"Helvetica,sans-Serif\" font-size=\"14.00\">samples = 301</text>\n<text text-anchor=\"start\" x=\"144\" y=\"-126.8\" font-family=\"Helvetica,sans-Serif\" font-size=\"14.00\">value = [146, 155]</text>\n<text text-anchor=\"start\" x=\"171\" y=\"-111.8\" font-family=\"Helvetica,sans-Serif\" font-size=\"14.00\">class = 1</text>\n</g>\n<!-- 5&#45;&gt;6 -->\n<g id=\"edge6\" class=\"edge\">\n<title>5&#45;&gt;6</title>\n<path fill=\"none\" stroke=\"black\" d=\"M326.5,-222.91C308.17,-211.97 288.3,-200.1 269.8,-189.06\"/>\n<polygon fill=\"black\" stroke=\"black\" points=\"271.5,-186 261.12,-183.88 267.91,-192.01 271.5,-186\"/>\n</g>\n<!-- 9 -->\n<g id=\"node10\" class=\"node\">\n<title>9</title>\n<path fill=\"#62b1ea\" stroke=\"black\" d=\"M455,-187C455,-187 334,-187 334,-187 328,-187 322,-181 322,-175 322,-175 322,-116 322,-116 322,-110 328,-104 334,-104 334,-104 455,-104 455,-104 461,-104 467,-110 467,-116 467,-116 467,-175 467,-175 467,-181 461,-187 455,-187\"/>\n<text text-anchor=\"start\" x=\"330\" y=\"-171.8\" font-family=\"Helvetica,sans-Serif\" font-size=\"14.00\">TotalCharges ≤ 335.5</text>\n<text text-anchor=\"start\" x=\"359\" y=\"-156.8\" font-family=\"Helvetica,sans-Serif\" font-size=\"14.00\">gini = 0.285</text>\n<text text-anchor=\"start\" x=\"353.5\" y=\"-141.8\" font-family=\"Helvetica,sans-Serif\" font-size=\"14.00\">samples = 29</text>\n<text text-anchor=\"start\" x=\"351.5\" y=\"-126.8\" font-family=\"Helvetica,sans-Serif\" font-size=\"14.00\">value = [5, 24]</text>\n<text text-anchor=\"start\" x=\"367\" y=\"-111.8\" font-family=\"Helvetica,sans-Serif\" font-size=\"14.00\">class = 1</text>\n</g>\n<!-- 5&#45;&gt;9 -->\n<g id=\"edge9\" class=\"edge\">\n<title>5&#45;&gt;9</title>\n<path fill=\"none\" stroke=\"black\" d=\"M394.5,-222.91C394.5,-214.65 394.5,-205.86 394.5,-197.3\"/>\n<polygon fill=\"black\" stroke=\"black\" points=\"398,-197.02 394.5,-187.02 391,-197.02 398,-197.02\"/>\n</g>\n<!-- 7 -->\n<g id=\"node8\" class=\"node\">\n<title>7</title>\n<path fill=\"#d9ecfa\" stroke=\"black\" d=\"M113,-68C113,-68 12,-68 12,-68 6,-68 0,-62 0,-56 0,-56 0,-12 0,-12 0,-6 6,0 12,0 12,0 113,0 113,0 119,0 125,-6 125,-12 125,-12 125,-56 125,-56 125,-62 119,-68 113,-68\"/>\n<text text-anchor=\"start\" x=\"27\" y=\"-52.8\" font-family=\"Helvetica,sans-Serif\" font-size=\"14.00\">gini = 0.494</text>\n<text text-anchor=\"start\" x=\"17.5\" y=\"-37.8\" font-family=\"Helvetica,sans-Serif\" font-size=\"14.00\">samples = 255</text>\n<text text-anchor=\"start\" x=\"8\" y=\"-22.8\" font-family=\"Helvetica,sans-Serif\" font-size=\"14.00\">value = [114, 141]</text>\n<text text-anchor=\"start\" x=\"35\" y=\"-7.8\" font-family=\"Helvetica,sans-Serif\" font-size=\"14.00\">class = 1</text>\n</g>\n<!-- 6&#45;&gt;7 -->\n<g id=\"edge7\" class=\"edge\">\n<title>6&#45;&gt;7</title>\n<path fill=\"none\" stroke=\"black\" d=\"M147.86,-103.73C136.08,-94.24 123.55,-84.16 111.83,-74.72\"/>\n<polygon fill=\"black\" stroke=\"black\" points=\"113.84,-71.84 103.86,-68.3 109.45,-77.3 113.84,-71.84\"/>\n</g>\n<!-- 8 -->\n<g id=\"node9\" class=\"node\">\n<title>8</title>\n<path fill=\"#f0b890\" stroke=\"black\" d=\"M241.5,-68C241.5,-68 155.5,-68 155.5,-68 149.5,-68 143.5,-62 143.5,-56 143.5,-56 143.5,-12 143.5,-12 143.5,-6 149.5,0 155.5,0 155.5,0 241.5,0 241.5,0 247.5,0 253.5,-6 253.5,-12 253.5,-12 253.5,-56 253.5,-56 253.5,-62 247.5,-68 241.5,-68\"/>\n<text text-anchor=\"start\" x=\"163\" y=\"-52.8\" font-family=\"Helvetica,sans-Serif\" font-size=\"14.00\">gini = 0.423</text>\n<text text-anchor=\"start\" x=\"157.5\" y=\"-37.8\" font-family=\"Helvetica,sans-Serif\" font-size=\"14.00\">samples = 46</text>\n<text text-anchor=\"start\" x=\"151.5\" y=\"-22.8\" font-family=\"Helvetica,sans-Serif\" font-size=\"14.00\">value = [32, 14]</text>\n<text text-anchor=\"start\" x=\"171\" y=\"-7.8\" font-family=\"Helvetica,sans-Serif\" font-size=\"14.00\">class = 0</text>\n</g>\n<!-- 6&#45;&gt;8 -->\n<g id=\"edge8\" class=\"edge\">\n<title>6&#45;&gt;8</title>\n<path fill=\"none\" stroke=\"black\" d=\"M198.5,-103.73C198.5,-95.52 198.5,-86.86 198.5,-78.56\"/>\n<polygon fill=\"black\" stroke=\"black\" points=\"202,-78.3 198.5,-68.3 195,-78.3 202,-78.3\"/>\n</g>\n<!-- 10 -->\n<g id=\"node11\" class=\"node\">\n<title>10</title>\n<path fill=\"#e58139\" stroke=\"black\" d=\"M355,-68C355,-68 284,-68 284,-68 278,-68 272,-62 272,-56 272,-56 272,-12 272,-12 272,-6 278,0 284,0 284,0 355,0 355,0 361,0 367,-6 367,-12 367,-12 367,-56 367,-56 367,-62 361,-68 355,-68\"/>\n<text text-anchor=\"start\" x=\"291.5\" y=\"-52.8\" font-family=\"Helvetica,sans-Serif\" font-size=\"14.00\">gini = 0.0</text>\n<text text-anchor=\"start\" x=\"282\" y=\"-37.8\" font-family=\"Helvetica,sans-Serif\" font-size=\"14.00\">samples = 2</text>\n<text text-anchor=\"start\" x=\"280\" y=\"-22.8\" font-family=\"Helvetica,sans-Serif\" font-size=\"14.00\">value = [2, 0]</text>\n<text text-anchor=\"start\" x=\"292\" y=\"-7.8\" font-family=\"Helvetica,sans-Serif\" font-size=\"14.00\">class = 0</text>\n</g>\n<!-- 9&#45;&gt;10 -->\n<g id=\"edge10\" class=\"edge\">\n<title>9&#45;&gt;10</title>\n<path fill=\"none\" stroke=\"black\" d=\"M366.57,-103.73C360.51,-94.88 354.1,-85.51 348.01,-76.63\"/>\n<polygon fill=\"black\" stroke=\"black\" points=\"350.85,-74.57 342.31,-68.3 345.07,-78.53 350.85,-74.57\"/>\n</g>\n<!-- 11 -->\n<g id=\"node12\" class=\"node\">\n<title>11</title>\n<path fill=\"#52a9e8\" stroke=\"black\" d=\"M475.5,-68C475.5,-68 397.5,-68 397.5,-68 391.5,-68 385.5,-62 385.5,-56 385.5,-56 385.5,-12 385.5,-12 385.5,-6 391.5,0 397.5,0 397.5,0 475.5,0 475.5,0 481.5,0 487.5,-6 487.5,-12 487.5,-12 487.5,-56 487.5,-56 487.5,-62 481.5,-68 475.5,-68\"/>\n<text text-anchor=\"start\" x=\"401\" y=\"-52.8\" font-family=\"Helvetica,sans-Serif\" font-size=\"14.00\">gini = 0.198</text>\n<text text-anchor=\"start\" x=\"395.5\" y=\"-37.8\" font-family=\"Helvetica,sans-Serif\" font-size=\"14.00\">samples = 27</text>\n<text text-anchor=\"start\" x=\"393.5\" y=\"-22.8\" font-family=\"Helvetica,sans-Serif\" font-size=\"14.00\">value = [3, 24]</text>\n<text text-anchor=\"start\" x=\"409\" y=\"-7.8\" font-family=\"Helvetica,sans-Serif\" font-size=\"14.00\">class = 1</text>\n</g>\n<!-- 9&#45;&gt;11 -->\n<g id=\"edge11\" class=\"edge\">\n<title>9&#45;&gt;11</title>\n<path fill=\"none\" stroke=\"black\" d=\"M410.14,-103.73C413.39,-95.24 416.83,-86.28 420.11,-77.73\"/>\n<polygon fill=\"black\" stroke=\"black\" points=\"423.41,-78.89 423.73,-68.3 416.88,-76.38 423.41,-78.89\"/>\n</g>\n<!-- 13 -->\n<g id=\"node14\" class=\"node\">\n<title>13</title>\n<path fill=\"#eda775\" stroke=\"black\" d=\"M704.5,-187C704.5,-187 618.5,-187 618.5,-187 612.5,-187 606.5,-181 606.5,-175 606.5,-175 606.5,-116 606.5,-116 606.5,-110 612.5,-104 618.5,-104 618.5,-104 704.5,-104 704.5,-104 710.5,-104 716.5,-110 716.5,-116 716.5,-116 716.5,-175 716.5,-175 716.5,-181 710.5,-187 704.5,-187\"/>\n<text text-anchor=\"start\" x=\"625\" y=\"-171.8\" font-family=\"Helvetica,sans-Serif\" font-size=\"14.00\">tenure ≤ 1.5</text>\n<text text-anchor=\"start\" x=\"626\" y=\"-156.8\" font-family=\"Helvetica,sans-Serif\" font-size=\"14.00\">gini = 0.356</text>\n<text text-anchor=\"start\" x=\"620.5\" y=\"-141.8\" font-family=\"Helvetica,sans-Serif\" font-size=\"14.00\">samples = 69</text>\n<text text-anchor=\"start\" x=\"614.5\" y=\"-126.8\" font-family=\"Helvetica,sans-Serif\" font-size=\"14.00\">value = [53, 16]</text>\n<text text-anchor=\"start\" x=\"634\" y=\"-111.8\" font-family=\"Helvetica,sans-Serif\" font-size=\"14.00\">class = 0</text>\n</g>\n<!-- 12&#45;&gt;13 -->\n<g id=\"edge13\" class=\"edge\">\n<title>12&#45;&gt;13</title>\n<path fill=\"none\" stroke=\"black\" d=\"M711.13,-222.91C705.41,-214.1 699.31,-204.7 693.4,-195.61\"/>\n<polygon fill=\"black\" stroke=\"black\" points=\"696.2,-193.5 687.82,-187.02 690.33,-197.31 696.2,-193.5\"/>\n</g>\n<!-- 16 -->\n<g id=\"node17\" class=\"node\">\n<title>16</title>\n<path fill=\"#7bbeee\" stroke=\"black\" d=\"M880,-187C880,-187 747,-187 747,-187 741,-187 735,-181 735,-175 735,-175 735,-116 735,-116 735,-110 741,-104 747,-104 747,-104 880,-104 880,-104 886,-104 892,-110 892,-116 892,-116 892,-175 892,-175 892,-181 886,-187 880,-187\"/>\n<text text-anchor=\"start\" x=\"743\" y=\"-171.8\" font-family=\"Helvetica,sans-Serif\" font-size=\"14.00\">MonthlyCharges ≤ 74.9</text>\n<text text-anchor=\"start\" x=\"778\" y=\"-156.8\" font-family=\"Helvetica,sans-Serif\" font-size=\"14.00\">gini = 0.375</text>\n<text text-anchor=\"start\" x=\"776\" y=\"-141.8\" font-family=\"Helvetica,sans-Serif\" font-size=\"14.00\">samples = 8</text>\n<text text-anchor=\"start\" x=\"774\" y=\"-126.8\" font-family=\"Helvetica,sans-Serif\" font-size=\"14.00\">value = [2, 6]</text>\n<text text-anchor=\"start\" x=\"786\" y=\"-111.8\" font-family=\"Helvetica,sans-Serif\" font-size=\"14.00\">class = 1</text>\n</g>\n<!-- 12&#45;&gt;16 -->\n<g id=\"edge16\" class=\"edge\">\n<title>12&#45;&gt;16</title>\n<path fill=\"none\" stroke=\"black\" d=\"M763.87,-222.91C769.59,-214.1 775.69,-204.7 781.6,-195.61\"/>\n<polygon fill=\"black\" stroke=\"black\" points=\"784.67,-197.31 787.18,-187.02 778.8,-193.5 784.67,-197.31\"/>\n</g>\n<!-- 14 -->\n<g id=\"node15\" class=\"node\">\n<title>14</title>\n<path fill=\"#ffffff\" stroke=\"black\" d=\"M591.5,-68C591.5,-68 517.5,-68 517.5,-68 511.5,-68 505.5,-62 505.5,-56 505.5,-56 505.5,-12 505.5,-12 505.5,-6 511.5,0 517.5,0 517.5,0 591.5,0 591.5,0 597.5,0 603.5,-6 603.5,-12 603.5,-12 603.5,-56 603.5,-56 603.5,-62 597.5,-68 591.5,-68\"/>\n<text text-anchor=\"start\" x=\"526.5\" y=\"-52.8\" font-family=\"Helvetica,sans-Serif\" font-size=\"14.00\">gini = 0.5</text>\n<text text-anchor=\"start\" x=\"513.5\" y=\"-37.8\" font-family=\"Helvetica,sans-Serif\" font-size=\"14.00\">samples = 12</text>\n<text text-anchor=\"start\" x=\"515\" y=\"-22.8\" font-family=\"Helvetica,sans-Serif\" font-size=\"14.00\">value = [6, 6]</text>\n<text text-anchor=\"start\" x=\"527\" y=\"-7.8\" font-family=\"Helvetica,sans-Serif\" font-size=\"14.00\">class = 0</text>\n</g>\n<!-- 13&#45;&gt;14 -->\n<g id=\"edge14\" class=\"edge\">\n<title>13&#45;&gt;14</title>\n<path fill=\"none\" stroke=\"black\" d=\"M621.66,-103.73C612.66,-94.51 603.1,-84.74 594.11,-75.53\"/>\n<polygon fill=\"black\" stroke=\"black\" points=\"596.53,-73.01 587.04,-68.3 591.53,-77.9 596.53,-73.01\"/>\n</g>\n<!-- 15 -->\n<g id=\"node16\" class=\"node\">\n<title>15</title>\n<path fill=\"#eb9c63\" stroke=\"black\" d=\"M719.5,-68C719.5,-68 633.5,-68 633.5,-68 627.5,-68 621.5,-62 621.5,-56 621.5,-56 621.5,-12 621.5,-12 621.5,-6 627.5,0 633.5,0 633.5,0 719.5,0 719.5,0 725.5,0 731.5,-6 731.5,-12 731.5,-12 731.5,-56 731.5,-56 731.5,-62 725.5,-68 719.5,-68\"/>\n<text text-anchor=\"start\" x=\"641\" y=\"-52.8\" font-family=\"Helvetica,sans-Serif\" font-size=\"14.00\">gini = 0.289</text>\n<text text-anchor=\"start\" x=\"635.5\" y=\"-37.8\" font-family=\"Helvetica,sans-Serif\" font-size=\"14.00\">samples = 57</text>\n<text text-anchor=\"start\" x=\"629.5\" y=\"-22.8\" font-family=\"Helvetica,sans-Serif\" font-size=\"14.00\">value = [47, 10]</text>\n<text text-anchor=\"start\" x=\"649\" y=\"-7.8\" font-family=\"Helvetica,sans-Serif\" font-size=\"14.00\">class = 0</text>\n</g>\n<!-- 13&#45;&gt;15 -->\n<g id=\"edge15\" class=\"edge\">\n<title>13&#45;&gt;15</title>\n<path fill=\"none\" stroke=\"black\" d=\"M667.09,-103.73C668.22,-95.43 669.42,-86.67 670.57,-78.28\"/>\n<polygon fill=\"black\" stroke=\"black\" points=\"674.05,-78.68 671.94,-68.3 667.11,-77.73 674.05,-78.68\"/>\n</g>\n<!-- 17 -->\n<g id=\"node18\" class=\"node\">\n<title>17</title>\n<path fill=\"#399de5\" stroke=\"black\" d=\"M833,-68C833,-68 762,-68 762,-68 756,-68 750,-62 750,-56 750,-56 750,-12 750,-12 750,-6 756,0 762,0 762,0 833,0 833,0 839,0 845,-6 845,-12 845,-12 845,-56 845,-56 845,-62 839,-68 833,-68\"/>\n<text text-anchor=\"start\" x=\"769.5\" y=\"-52.8\" font-family=\"Helvetica,sans-Serif\" font-size=\"14.00\">gini = 0.0</text>\n<text text-anchor=\"start\" x=\"760\" y=\"-37.8\" font-family=\"Helvetica,sans-Serif\" font-size=\"14.00\">samples = 5</text>\n<text text-anchor=\"start\" x=\"758\" y=\"-22.8\" font-family=\"Helvetica,sans-Serif\" font-size=\"14.00\">value = [0, 5]</text>\n<text text-anchor=\"start\" x=\"770\" y=\"-7.8\" font-family=\"Helvetica,sans-Serif\" font-size=\"14.00\">class = 1</text>\n</g>\n<!-- 16&#45;&gt;17 -->\n<g id=\"edge17\" class=\"edge\">\n<title>16&#45;&gt;17</title>\n<path fill=\"none\" stroke=\"black\" d=\"M807.54,-103.73C806.33,-95.43 805.05,-86.67 803.82,-78.28\"/>\n<polygon fill=\"black\" stroke=\"black\" points=\"807.27,-77.69 802.37,-68.3 800.35,-78.7 807.27,-77.69\"/>\n</g>\n<!-- 18 -->\n<g id=\"node19\" class=\"node\">\n<title>18</title>\n<path fill=\"#f2c09c\" stroke=\"black\" d=\"M946,-68C946,-68 875,-68 875,-68 869,-68 863,-62 863,-56 863,-56 863,-12 863,-12 863,-6 869,0 875,0 875,0 946,0 946,0 952,0 958,-6 958,-12 958,-12 958,-56 958,-56 958,-62 952,-68 946,-68\"/>\n<text text-anchor=\"start\" x=\"875\" y=\"-52.8\" font-family=\"Helvetica,sans-Serif\" font-size=\"14.00\">gini = 0.444</text>\n<text text-anchor=\"start\" x=\"873\" y=\"-37.8\" font-family=\"Helvetica,sans-Serif\" font-size=\"14.00\">samples = 3</text>\n<text text-anchor=\"start\" x=\"871\" y=\"-22.8\" font-family=\"Helvetica,sans-Serif\" font-size=\"14.00\">value = [2, 1]</text>\n<text text-anchor=\"start\" x=\"883\" y=\"-7.8\" font-family=\"Helvetica,sans-Serif\" font-size=\"14.00\">class = 0</text>\n</g>\n<!-- 16&#45;&gt;18 -->\n<g id=\"edge18\" class=\"edge\">\n<title>16&#45;&gt;18</title>\n<path fill=\"none\" stroke=\"black\" d=\"M849.62,-103.73C857.7,-94.61 866.27,-84.93 874.35,-75.81\"/>\n<polygon fill=\"black\" stroke=\"black\" points=\"876.99,-78.11 881,-68.3 871.75,-73.46 876.99,-78.11\"/>\n</g>\n<!-- 20 -->\n<g id=\"node21\" class=\"node\">\n<title>20</title>\n<path fill=\"#5aaee9\" stroke=\"black\" d=\"M1223.5,-306C1223.5,-306 1095.5,-306 1095.5,-306 1089.5,-306 1083.5,-300 1083.5,-294 1083.5,-294 1083.5,-235 1083.5,-235 1083.5,-229 1089.5,-223 1095.5,-223 1095.5,-223 1223.5,-223 1223.5,-223 1229.5,-223 1235.5,-229 1235.5,-235 1235.5,-235 1235.5,-294 1235.5,-294 1235.5,-300 1229.5,-306 1223.5,-306\"/>\n<text text-anchor=\"start\" x=\"1091.5\" y=\"-290.8\" font-family=\"Helvetica,sans-Serif\" font-size=\"14.00\">TotalCharges ≤ 5453.5</text>\n<text text-anchor=\"start\" x=\"1124\" y=\"-275.8\" font-family=\"Helvetica,sans-Serif\" font-size=\"14.00\">gini = 0.247</text>\n<text text-anchor=\"start\" x=\"1114.5\" y=\"-260.8\" font-family=\"Helvetica,sans-Serif\" font-size=\"14.00\">samples = 173</text>\n<text text-anchor=\"start\" x=\"1097.5\" y=\"-245.8\" font-family=\"Helvetica,sans-Serif\" font-size=\"14.00\">value = [25.0, 148.0]</text>\n<text text-anchor=\"start\" x=\"1132\" y=\"-230.8\" font-family=\"Helvetica,sans-Serif\" font-size=\"14.00\">class = 1</text>\n</g>\n<!-- 19&#45;&gt;20 -->\n<g id=\"edge20\" class=\"edge\">\n<title>19&#45;&gt;20</title>\n<path fill=\"none\" stroke=\"black\" d=\"M1226.11,-341.91C1218.2,-332.83 1209.73,-323.12 1201.58,-313.77\"/>\n<polygon fill=\"black\" stroke=\"black\" points=\"1204.04,-311.26 1194.83,-306.02 1198.76,-315.86 1204.04,-311.26\"/>\n</g>\n<!-- 25 -->\n<g id=\"node26\" class=\"node\">\n<title>25</title>\n<path fill=\"#97cbf1\" stroke=\"black\" d=\"M1436.5,-306C1436.5,-306 1288.5,-306 1288.5,-306 1282.5,-306 1276.5,-300 1276.5,-294 1276.5,-294 1276.5,-235 1276.5,-235 1276.5,-229 1282.5,-223 1288.5,-223 1288.5,-223 1436.5,-223 1436.5,-223 1442.5,-223 1448.5,-229 1448.5,-235 1448.5,-235 1448.5,-294 1448.5,-294 1448.5,-300 1442.5,-306 1436.5,-306\"/>\n<text text-anchor=\"start\" x=\"1284.5\" y=\"-290.8\" font-family=\"Helvetica,sans-Serif\" font-size=\"14.00\">MonthlyCharges ≤ 75.775</text>\n<text text-anchor=\"start\" x=\"1327\" y=\"-275.8\" font-family=\"Helvetica,sans-Serif\" font-size=\"14.00\">gini = 0.436</text>\n<text text-anchor=\"start\" x=\"1317.5\" y=\"-260.8\" font-family=\"Helvetica,sans-Serif\" font-size=\"14.00\">samples = 432</text>\n<text text-anchor=\"start\" x=\"1308\" y=\"-245.8\" font-family=\"Helvetica,sans-Serif\" font-size=\"14.00\">value = [139, 293]</text>\n<text text-anchor=\"start\" x=\"1335\" y=\"-230.8\" font-family=\"Helvetica,sans-Serif\" font-size=\"14.00\">class = 1</text>\n</g>\n<!-- 19&#45;&gt;25 -->\n<g id=\"edge25\" class=\"edge\">\n<title>19&#45;&gt;25</title>\n<path fill=\"none\" stroke=\"black\" d=\"M1296.54,-341.91C1304.38,-332.83 1312.76,-323.12 1320.83,-313.77\"/>\n<polygon fill=\"black\" stroke=\"black\" points=\"1323.64,-315.88 1327.52,-306.02 1318.34,-311.3 1323.64,-315.88\"/>\n</g>\n<!-- 21 -->\n<g id=\"node22\" class=\"node\">\n<title>21</title>\n<path fill=\"#399de5\" stroke=\"black\" d=\"M1043.5,-179.5C1043.5,-179.5 965.5,-179.5 965.5,-179.5 959.5,-179.5 953.5,-173.5 953.5,-167.5 953.5,-167.5 953.5,-123.5 953.5,-123.5 953.5,-117.5 959.5,-111.5 965.5,-111.5 965.5,-111.5 1043.5,-111.5 1043.5,-111.5 1049.5,-111.5 1055.5,-117.5 1055.5,-123.5 1055.5,-123.5 1055.5,-167.5 1055.5,-167.5 1055.5,-173.5 1049.5,-179.5 1043.5,-179.5\"/>\n<text text-anchor=\"start\" x=\"976.5\" y=\"-164.3\" font-family=\"Helvetica,sans-Serif\" font-size=\"14.00\">gini = 0.0</text>\n<text text-anchor=\"start\" x=\"963.5\" y=\"-149.3\" font-family=\"Helvetica,sans-Serif\" font-size=\"14.00\">samples = 31</text>\n<text text-anchor=\"start\" x=\"961.5\" y=\"-134.3\" font-family=\"Helvetica,sans-Serif\" font-size=\"14.00\">value = [0, 31]</text>\n<text text-anchor=\"start\" x=\"977\" y=\"-119.3\" font-family=\"Helvetica,sans-Serif\" font-size=\"14.00\">class = 1</text>\n</g>\n<!-- 20&#45;&gt;21 -->\n<g id=\"edge21\" class=\"edge\">\n<title>20&#45;&gt;21</title>\n<path fill=\"none\" stroke=\"black\" d=\"M1105.72,-222.91C1089.79,-210.88 1072.37,-197.73 1056.55,-185.79\"/>\n<polygon fill=\"black\" stroke=\"black\" points=\"1058.53,-182.9 1048.44,-179.67 1054.31,-188.49 1058.53,-182.9\"/>\n</g>\n<!-- 22 -->\n<g id=\"node23\" class=\"node\">\n<title>22</title>\n<path fill=\"#63b2eb\" stroke=\"black\" d=\"M1233.5,-187C1233.5,-187 1085.5,-187 1085.5,-187 1079.5,-187 1073.5,-181 1073.5,-175 1073.5,-175 1073.5,-116 1073.5,-116 1073.5,-110 1079.5,-104 1085.5,-104 1085.5,-104 1233.5,-104 1233.5,-104 1239.5,-104 1245.5,-110 1245.5,-116 1245.5,-116 1245.5,-175 1245.5,-175 1245.5,-181 1239.5,-187 1233.5,-187\"/>\n<text text-anchor=\"start\" x=\"1081.5\" y=\"-171.8\" font-family=\"Helvetica,sans-Serif\" font-size=\"14.00\">MonthlyCharges ≤ 74.375</text>\n<text text-anchor=\"start\" x=\"1127.5\" y=\"-156.8\" font-family=\"Helvetica,sans-Serif\" font-size=\"14.00\">gini = 0.29</text>\n<text text-anchor=\"start\" x=\"1114.5\" y=\"-141.8\" font-family=\"Helvetica,sans-Serif\" font-size=\"14.00\">samples = 142</text>\n<text text-anchor=\"start\" x=\"1109\" y=\"-126.8\" font-family=\"Helvetica,sans-Serif\" font-size=\"14.00\">value = [25, 117]</text>\n<text text-anchor=\"start\" x=\"1132\" y=\"-111.8\" font-family=\"Helvetica,sans-Serif\" font-size=\"14.00\">class = 1</text>\n</g>\n<!-- 20&#45;&gt;22 -->\n<g id=\"edge22\" class=\"edge\">\n<title>20&#45;&gt;22</title>\n<path fill=\"none\" stroke=\"black\" d=\"M1159.5,-222.91C1159.5,-214.65 1159.5,-205.86 1159.5,-197.3\"/>\n<polygon fill=\"black\" stroke=\"black\" points=\"1163,-197.02 1159.5,-187.02 1156,-197.02 1163,-197.02\"/>\n</g>\n<!-- 23 -->\n<g id=\"node24\" class=\"node\">\n<title>23</title>\n<path fill=\"#85c3ef\" stroke=\"black\" d=\"M1074.5,-68C1074.5,-68 988.5,-68 988.5,-68 982.5,-68 976.5,-62 976.5,-56 976.5,-56 976.5,-12 976.5,-12 976.5,-6 982.5,0 988.5,0 988.5,0 1074.5,0 1074.5,0 1080.5,0 1086.5,-6 1086.5,-12 1086.5,-12 1086.5,-56 1086.5,-56 1086.5,-62 1080.5,-68 1074.5,-68\"/>\n<text text-anchor=\"start\" x=\"996\" y=\"-52.8\" font-family=\"Helvetica,sans-Serif\" font-size=\"14.00\">gini = 0.401</text>\n<text text-anchor=\"start\" x=\"990.5\" y=\"-37.8\" font-family=\"Helvetica,sans-Serif\" font-size=\"14.00\">samples = 54</text>\n<text text-anchor=\"start\" x=\"984.5\" y=\"-22.8\" font-family=\"Helvetica,sans-Serif\" font-size=\"14.00\">value = [15, 39]</text>\n<text text-anchor=\"start\" x=\"1004\" y=\"-7.8\" font-family=\"Helvetica,sans-Serif\" font-size=\"14.00\">class = 1</text>\n</g>\n<!-- 22&#45;&gt;23 -->\n<g id=\"edge23\" class=\"edge\">\n<title>22&#45;&gt;23</title>\n<path fill=\"none\" stroke=\"black\" d=\"M1111.84,-103.73C1100.86,-94.33 1089.19,-84.35 1078.24,-74.99\"/>\n<polygon fill=\"black\" stroke=\"black\" points=\"1080.3,-72.14 1070.43,-68.3 1075.75,-77.46 1080.3,-72.14\"/>\n</g>\n<!-- 24 -->\n<g id=\"node25\" class=\"node\">\n<title>24</title>\n<path fill=\"#52aae8\" stroke=\"black\" d=\"M1202.5,-68C1202.5,-68 1116.5,-68 1116.5,-68 1110.5,-68 1104.5,-62 1104.5,-56 1104.5,-56 1104.5,-12 1104.5,-12 1104.5,-6 1110.5,0 1116.5,0 1116.5,0 1202.5,0 1202.5,0 1208.5,0 1214.5,-6 1214.5,-12 1214.5,-12 1214.5,-56 1214.5,-56 1214.5,-62 1208.5,-68 1202.5,-68\"/>\n<text text-anchor=\"start\" x=\"1124\" y=\"-52.8\" font-family=\"Helvetica,sans-Serif\" font-size=\"14.00\">gini = 0.201</text>\n<text text-anchor=\"start\" x=\"1118.5\" y=\"-37.8\" font-family=\"Helvetica,sans-Serif\" font-size=\"14.00\">samples = 88</text>\n<text text-anchor=\"start\" x=\"1112.5\" y=\"-22.8\" font-family=\"Helvetica,sans-Serif\" font-size=\"14.00\">value = [10, 78]</text>\n<text text-anchor=\"start\" x=\"1132\" y=\"-7.8\" font-family=\"Helvetica,sans-Serif\" font-size=\"14.00\">class = 1</text>\n</g>\n<!-- 22&#45;&gt;24 -->\n<g id=\"edge24\" class=\"edge\">\n<title>22&#45;&gt;24</title>\n<path fill=\"none\" stroke=\"black\" d=\"M1159.5,-103.73C1159.5,-95.52 1159.5,-86.86 1159.5,-78.56\"/>\n<polygon fill=\"black\" stroke=\"black\" points=\"1163,-78.3 1159.5,-68.3 1156,-78.3 1163,-78.3\"/>\n</g>\n<!-- 26 -->\n<g id=\"node27\" class=\"node\">\n<title>26</title>\n<path fill=\"#e2f0fb\" stroke=\"black\" d=\"M1426.5,-187C1426.5,-187 1298.5,-187 1298.5,-187 1292.5,-187 1286.5,-181 1286.5,-175 1286.5,-175 1286.5,-116 1286.5,-116 1286.5,-110 1292.5,-104 1298.5,-104 1298.5,-104 1426.5,-104 1426.5,-104 1432.5,-104 1438.5,-110 1438.5,-116 1438.5,-116 1438.5,-175 1438.5,-175 1438.5,-181 1432.5,-187 1426.5,-187\"/>\n<text text-anchor=\"start\" x=\"1294.5\" y=\"-171.8\" font-family=\"Helvetica,sans-Serif\" font-size=\"14.00\">TotalCharges ≤ 2943.5</text>\n<text text-anchor=\"start\" x=\"1327\" y=\"-156.8\" font-family=\"Helvetica,sans-Serif\" font-size=\"14.00\">gini = 0.497</text>\n<text text-anchor=\"start\" x=\"1317.5\" y=\"-141.8\" font-family=\"Helvetica,sans-Serif\" font-size=\"14.00\">samples = 137</text>\n<text text-anchor=\"start\" x=\"1315.5\" y=\"-126.8\" font-family=\"Helvetica,sans-Serif\" font-size=\"14.00\">value = [63, 74]</text>\n<text text-anchor=\"start\" x=\"1335\" y=\"-111.8\" font-family=\"Helvetica,sans-Serif\" font-size=\"14.00\">class = 1</text>\n</g>\n<!-- 25&#45;&gt;26 -->\n<g id=\"edge26\" class=\"edge\">\n<title>25&#45;&gt;26</title>\n<path fill=\"none\" stroke=\"black\" d=\"M1362.5,-222.91C1362.5,-214.65 1362.5,-205.86 1362.5,-197.3\"/>\n<polygon fill=\"black\" stroke=\"black\" points=\"1366,-197.02 1362.5,-187.02 1359,-197.02 1366,-197.02\"/>\n</g>\n<!-- 29 -->\n<g id=\"node30\" class=\"node\">\n<title>29</title>\n<path fill=\"#7ebfee\" stroke=\"black\" d=\"M1596.5,-187C1596.5,-187 1490.5,-187 1490.5,-187 1484.5,-187 1478.5,-181 1478.5,-175 1478.5,-175 1478.5,-116 1478.5,-116 1478.5,-110 1484.5,-104 1490.5,-104 1490.5,-104 1596.5,-104 1596.5,-104 1602.5,-104 1608.5,-110 1608.5,-116 1608.5,-116 1608.5,-175 1608.5,-175 1608.5,-181 1602.5,-187 1596.5,-187\"/>\n<text text-anchor=\"start\" x=\"1486.5\" y=\"-171.8\" font-family=\"Helvetica,sans-Serif\" font-size=\"14.00\">MultipleLines ≤ 1.0</text>\n<text text-anchor=\"start\" x=\"1508\" y=\"-156.8\" font-family=\"Helvetica,sans-Serif\" font-size=\"14.00\">gini = 0.383</text>\n<text text-anchor=\"start\" x=\"1498.5\" y=\"-141.8\" font-family=\"Helvetica,sans-Serif\" font-size=\"14.00\">samples = 295</text>\n<text text-anchor=\"start\" x=\"1493\" y=\"-126.8\" font-family=\"Helvetica,sans-Serif\" font-size=\"14.00\">value = [76, 219]</text>\n<text text-anchor=\"start\" x=\"1516\" y=\"-111.8\" font-family=\"Helvetica,sans-Serif\" font-size=\"14.00\">class = 1</text>\n</g>\n<!-- 25&#45;&gt;29 -->\n<g id=\"edge29\" class=\"edge\">\n<title>25&#45;&gt;29</title>\n<path fill=\"none\" stroke=\"black\" d=\"M1425.3,-222.91C1440.46,-213.11 1456.77,-202.56 1472.29,-192.53\"/>\n<polygon fill=\"black\" stroke=\"black\" points=\"1474.32,-195.39 1480.81,-187.02 1470.52,-189.51 1474.32,-195.39\"/>\n</g>\n<!-- 27 -->\n<g id=\"node28\" class=\"node\">\n<title>27</title>\n<path fill=\"#b5daf5\" stroke=\"black\" d=\"M1330.5,-68C1330.5,-68 1244.5,-68 1244.5,-68 1238.5,-68 1232.5,-62 1232.5,-56 1232.5,-56 1232.5,-12 1232.5,-12 1232.5,-6 1238.5,0 1244.5,0 1244.5,0 1330.5,0 1330.5,0 1336.5,0 1342.5,-6 1342.5,-12 1342.5,-12 1342.5,-56 1342.5,-56 1342.5,-62 1336.5,-68 1330.5,-68\"/>\n<text text-anchor=\"start\" x=\"1252\" y=\"-52.8\" font-family=\"Helvetica,sans-Serif\" font-size=\"14.00\">gini = 0.473</text>\n<text text-anchor=\"start\" x=\"1246.5\" y=\"-37.8\" font-family=\"Helvetica,sans-Serif\" font-size=\"14.00\">samples = 78</text>\n<text text-anchor=\"start\" x=\"1240.5\" y=\"-22.8\" font-family=\"Helvetica,sans-Serif\" font-size=\"14.00\">value = [30, 48]</text>\n<text text-anchor=\"start\" x=\"1260\" y=\"-7.8\" font-family=\"Helvetica,sans-Serif\" font-size=\"14.00\">class = 1</text>\n</g>\n<!-- 26&#45;&gt;27 -->\n<g id=\"edge27\" class=\"edge\">\n<title>26&#45;&gt;27</title>\n<path fill=\"none\" stroke=\"black\" d=\"M1334.57,-103.73C1328.51,-94.88 1322.1,-85.51 1316.01,-76.63\"/>\n<polygon fill=\"black\" stroke=\"black\" points=\"1318.85,-74.57 1310.31,-68.3 1313.07,-78.53 1318.85,-74.57\"/>\n</g>\n<!-- 28 -->\n<g id=\"node29\" class=\"node\">\n<title>28</title>\n<path fill=\"#f9e4d5\" stroke=\"black\" d=\"M1458.5,-68C1458.5,-68 1372.5,-68 1372.5,-68 1366.5,-68 1360.5,-62 1360.5,-56 1360.5,-56 1360.5,-12 1360.5,-12 1360.5,-6 1366.5,0 1372.5,0 1372.5,0 1458.5,0 1458.5,0 1464.5,0 1470.5,-6 1470.5,-12 1470.5,-12 1470.5,-56 1470.5,-56 1470.5,-62 1464.5,-68 1458.5,-68\"/>\n<text text-anchor=\"start\" x=\"1380\" y=\"-52.8\" font-family=\"Helvetica,sans-Serif\" font-size=\"14.00\">gini = 0.493</text>\n<text text-anchor=\"start\" x=\"1374.5\" y=\"-37.8\" font-family=\"Helvetica,sans-Serif\" font-size=\"14.00\">samples = 59</text>\n<text text-anchor=\"start\" x=\"1368.5\" y=\"-22.8\" font-family=\"Helvetica,sans-Serif\" font-size=\"14.00\">value = [33, 26]</text>\n<text text-anchor=\"start\" x=\"1388\" y=\"-7.8\" font-family=\"Helvetica,sans-Serif\" font-size=\"14.00\">class = 0</text>\n</g>\n<!-- 26&#45;&gt;28 -->\n<g id=\"edge28\" class=\"edge\">\n<title>26&#45;&gt;28</title>\n<path fill=\"none\" stroke=\"black\" d=\"M1382.24,-103.73C1386.39,-95.15 1390.77,-86.09 1394.95,-77.46\"/>\n<polygon fill=\"black\" stroke=\"black\" points=\"1398.18,-78.83 1399.38,-68.3 1391.88,-75.78 1398.18,-78.83\"/>\n</g>\n<!-- 30 -->\n<g id=\"node31\" class=\"node\">\n<title>30</title>\n<path fill=\"#9bcdf2\" stroke=\"black\" d=\"M1586.5,-68C1586.5,-68 1500.5,-68 1500.5,-68 1494.5,-68 1488.5,-62 1488.5,-56 1488.5,-56 1488.5,-12 1488.5,-12 1488.5,-6 1494.5,0 1500.5,0 1500.5,0 1586.5,0 1586.5,0 1592.5,0 1598.5,-6 1598.5,-12 1598.5,-12 1598.5,-56 1598.5,-56 1598.5,-62 1592.5,-68 1586.5,-68\"/>\n<text text-anchor=\"start\" x=\"1508\" y=\"-52.8\" font-family=\"Helvetica,sans-Serif\" font-size=\"14.00\">gini = 0.443</text>\n<text text-anchor=\"start\" x=\"1498.5\" y=\"-37.8\" font-family=\"Helvetica,sans-Serif\" font-size=\"14.00\">samples = 142</text>\n<text text-anchor=\"start\" x=\"1496.5\" y=\"-22.8\" font-family=\"Helvetica,sans-Serif\" font-size=\"14.00\">value = [47, 95]</text>\n<text text-anchor=\"start\" x=\"1516\" y=\"-7.8\" font-family=\"Helvetica,sans-Serif\" font-size=\"14.00\">class = 1</text>\n</g>\n<!-- 29&#45;&gt;30 -->\n<g id=\"edge30\" class=\"edge\">\n<title>29&#45;&gt;30</title>\n<path fill=\"none\" stroke=\"black\" d=\"M1543.5,-103.73C1543.5,-95.52 1543.5,-86.86 1543.5,-78.56\"/>\n<polygon fill=\"black\" stroke=\"black\" points=\"1547,-78.3 1543.5,-68.3 1540,-78.3 1547,-78.3\"/>\n</g>\n<!-- 31 -->\n<g id=\"node32\" class=\"node\">\n<title>31</title>\n<path fill=\"#67b4eb\" stroke=\"black\" d=\"M1722,-68C1722,-68 1629,-68 1629,-68 1623,-68 1617,-62 1617,-56 1617,-56 1617,-12 1617,-12 1617,-6 1623,0 1629,0 1629,0 1722,0 1722,0 1728,0 1734,-6 1734,-12 1734,-12 1734,-56 1734,-56 1734,-62 1728,-68 1722,-68\"/>\n<text text-anchor=\"start\" x=\"1640\" y=\"-52.8\" font-family=\"Helvetica,sans-Serif\" font-size=\"14.00\">gini = 0.307</text>\n<text text-anchor=\"start\" x=\"1630.5\" y=\"-37.8\" font-family=\"Helvetica,sans-Serif\" font-size=\"14.00\">samples = 153</text>\n<text text-anchor=\"start\" x=\"1625\" y=\"-22.8\" font-family=\"Helvetica,sans-Serif\" font-size=\"14.00\">value = [29, 124]</text>\n<text text-anchor=\"start\" x=\"1648\" y=\"-7.8\" font-family=\"Helvetica,sans-Serif\" font-size=\"14.00\">class = 1</text>\n</g>\n<!-- 29&#45;&gt;31 -->\n<g id=\"edge31\" class=\"edge\">\n<title>29&#45;&gt;31</title>\n<path fill=\"none\" stroke=\"black\" d=\"M1592.65,-103.73C1604.09,-94.24 1616.24,-84.16 1627.62,-74.72\"/>\n<polygon fill=\"black\" stroke=\"black\" points=\"1629.9,-77.38 1635.36,-68.3 1625.43,-71.99 1629.9,-77.38\"/>\n</g>\n<!-- 33 -->\n<g id=\"node34\" class=\"node\">\n<title>33</title>\n<path fill=\"#eca36e\" stroke=\"black\" d=\"M2515.5,-425C2515.5,-425 2405.5,-425 2405.5,-425 2399.5,-425 2393.5,-419 2393.5,-413 2393.5,-413 2393.5,-354 2393.5,-354 2393.5,-348 2399.5,-342 2405.5,-342 2405.5,-342 2515.5,-342 2515.5,-342 2521.5,-342 2527.5,-348 2527.5,-354 2527.5,-354 2527.5,-413 2527.5,-413 2527.5,-419 2521.5,-425 2515.5,-425\"/>\n<text text-anchor=\"start\" x=\"2401.5\" y=\"-409.8\" font-family=\"Helvetica,sans-Serif\" font-size=\"14.00\">PhoneService ≤ 0.5</text>\n<text text-anchor=\"start\" x=\"2425\" y=\"-394.8\" font-family=\"Helvetica,sans-Serif\" font-size=\"14.00\">gini = 0.334</text>\n<text text-anchor=\"start\" x=\"2415.5\" y=\"-379.8\" font-family=\"Helvetica,sans-Serif\" font-size=\"14.00\">samples = 278</text>\n<text text-anchor=\"start\" x=\"2410\" y=\"-364.8\" font-family=\"Helvetica,sans-Serif\" font-size=\"14.00\">value = [219, 59]</text>\n<text text-anchor=\"start\" x=\"2433\" y=\"-349.8\" font-family=\"Helvetica,sans-Serif\" font-size=\"14.00\">class = 0</text>\n</g>\n<!-- 32&#45;&gt;33 -->\n<g id=\"edge33\" class=\"edge\">\n<title>32&#45;&gt;33</title>\n<path fill=\"none\" stroke=\"black\" d=\"M2734.85,-477.54C2677.34,-458.04 2596.28,-430.55 2537.19,-410.51\"/>\n<polygon fill=\"black\" stroke=\"black\" points=\"2538.13,-407.13 2527.54,-407.23 2535.88,-413.76 2538.13,-407.13\"/>\n</g>\n<!-- 48 -->\n<g id=\"node49\" class=\"node\">\n<title>48</title>\n<path fill=\"#fbece2\" stroke=\"black\" d=\"M3020.5,-425C3020.5,-425 2894.5,-425 2894.5,-425 2888.5,-425 2882.5,-419 2882.5,-413 2882.5,-413 2882.5,-354 2882.5,-354 2882.5,-348 2888.5,-342 2894.5,-342 2894.5,-342 3020.5,-342 3020.5,-342 3026.5,-342 3032.5,-348 3032.5,-354 3032.5,-354 3032.5,-413 3032.5,-413 3032.5,-419 3026.5,-425 3020.5,-425\"/>\n<text text-anchor=\"start\" x=\"2890.5\" y=\"-409.8\" font-family=\"Helvetica,sans-Serif\" font-size=\"14.00\">PaymentMethod ≤ 1.5</text>\n<text text-anchor=\"start\" x=\"2922\" y=\"-394.8\" font-family=\"Helvetica,sans-Serif\" font-size=\"14.00\">gini = 0.497</text>\n<text text-anchor=\"start\" x=\"2912.5\" y=\"-379.8\" font-family=\"Helvetica,sans-Serif\" font-size=\"14.00\">samples = 806</text>\n<text text-anchor=\"start\" x=\"2892\" y=\"-364.8\" font-family=\"Helvetica,sans-Serif\" font-size=\"14.00\">value = [435.0, 371.0]</text>\n<text text-anchor=\"start\" x=\"2930\" y=\"-349.8\" font-family=\"Helvetica,sans-Serif\" font-size=\"14.00\">class = 0</text>\n</g>\n<!-- 32&#45;&gt;48 -->\n<g id=\"edge48\" class=\"edge\">\n<title>32&#45;&gt;48</title>\n<path fill=\"none\" stroke=\"black\" d=\"M2858.24,-460.91C2870.62,-451.38 2883.91,-441.15 2896.61,-431.37\"/>\n<polygon fill=\"black\" stroke=\"black\" points=\"2899.07,-433.89 2904.86,-425.02 2894.8,-428.35 2899.07,-433.89\"/>\n</g>\n<!-- 34 -->\n<g id=\"node35\" class=\"node\">\n<title>34</title>\n<path fill=\"#f1b991\" stroke=\"black\" d=\"M2153.5,-306C2153.5,-306 2067.5,-306 2067.5,-306 2061.5,-306 2055.5,-300 2055.5,-294 2055.5,-294 2055.5,-235 2055.5,-235 2055.5,-229 2061.5,-223 2067.5,-223 2067.5,-223 2153.5,-223 2153.5,-223 2159.5,-223 2165.5,-229 2165.5,-235 2165.5,-235 2165.5,-294 2165.5,-294 2165.5,-300 2159.5,-306 2153.5,-306\"/>\n<text text-anchor=\"start\" x=\"2072.5\" y=\"-290.8\" font-family=\"Helvetica,sans-Serif\" font-size=\"14.00\">gender ≤ 0.5</text>\n<text text-anchor=\"start\" x=\"2075\" y=\"-275.8\" font-family=\"Helvetica,sans-Serif\" font-size=\"14.00\">gini = 0.426</text>\n<text text-anchor=\"start\" x=\"2065.5\" y=\"-260.8\" font-family=\"Helvetica,sans-Serif\" font-size=\"14.00\">samples = 114</text>\n<text text-anchor=\"start\" x=\"2063.5\" y=\"-245.8\" font-family=\"Helvetica,sans-Serif\" font-size=\"14.00\">value = [79, 35]</text>\n<text text-anchor=\"start\" x=\"2083\" y=\"-230.8\" font-family=\"Helvetica,sans-Serif\" font-size=\"14.00\">class = 0</text>\n</g>\n<!-- 33&#45;&gt;34 -->\n<g id=\"edge34\" class=\"edge\">\n<title>33&#45;&gt;34</title>\n<path fill=\"none\" stroke=\"black\" d=\"M2393.43,-360.08C2330.59,-339.07 2237.3,-307.89 2175.23,-287.14\"/>\n<polygon fill=\"black\" stroke=\"black\" points=\"2176.14,-283.75 2165.55,-283.9 2173.92,-290.39 2176.14,-283.75\"/>\n</g>\n<!-- 41 -->\n<g id=\"node42\" class=\"node\">\n<title>41</title>\n<path fill=\"#e9975b\" stroke=\"black\" d=\"M2507,-306C2507,-306 2414,-306 2414,-306 2408,-306 2402,-300 2402,-294 2402,-294 2402,-235 2402,-235 2402,-229 2408,-223 2414,-223 2414,-223 2507,-223 2507,-223 2513,-223 2519,-229 2519,-235 2519,-235 2519,-294 2519,-294 2519,-300 2513,-306 2507,-306\"/>\n<text text-anchor=\"start\" x=\"2420.5\" y=\"-290.8\" font-family=\"Helvetica,sans-Serif\" font-size=\"14.00\">tenure ≤ 18.5</text>\n<text text-anchor=\"start\" x=\"2428.5\" y=\"-275.8\" font-family=\"Helvetica,sans-Serif\" font-size=\"14.00\">gini = 0.25</text>\n<text text-anchor=\"start\" x=\"2415.5\" y=\"-260.8\" font-family=\"Helvetica,sans-Serif\" font-size=\"14.00\">samples = 164</text>\n<text text-anchor=\"start\" x=\"2410\" y=\"-245.8\" font-family=\"Helvetica,sans-Serif\" font-size=\"14.00\">value = [140, 24]</text>\n<text text-anchor=\"start\" x=\"2433\" y=\"-230.8\" font-family=\"Helvetica,sans-Serif\" font-size=\"14.00\">class = 0</text>\n</g>\n<!-- 33&#45;&gt;41 -->\n<g id=\"edge41\" class=\"edge\">\n<title>33&#45;&gt;41</title>\n<path fill=\"none\" stroke=\"black\" d=\"M2460.5,-341.91C2460.5,-333.65 2460.5,-324.86 2460.5,-316.3\"/>\n<polygon fill=\"black\" stroke=\"black\" points=\"2464,-316.02 2460.5,-306.02 2457,-316.02 2464,-316.02\"/>\n</g>\n<!-- 35 -->\n<g id=\"node36\" class=\"node\">\n<title>35</title>\n<path fill=\"#f6d3b9\" stroke=\"black\" d=\"M1971.5,-187C1971.5,-187 1885.5,-187 1885.5,-187 1879.5,-187 1873.5,-181 1873.5,-175 1873.5,-175 1873.5,-116 1873.5,-116 1873.5,-110 1879.5,-104 1885.5,-104 1885.5,-104 1971.5,-104 1971.5,-104 1977.5,-104 1983.5,-110 1983.5,-116 1983.5,-116 1983.5,-175 1983.5,-175 1983.5,-181 1977.5,-187 1971.5,-187\"/>\n<text text-anchor=\"start\" x=\"1888.5\" y=\"-171.8\" font-family=\"Helvetica,sans-Serif\" font-size=\"14.00\">tenure ≤ 45.5</text>\n<text text-anchor=\"start\" x=\"1893\" y=\"-156.8\" font-family=\"Helvetica,sans-Serif\" font-size=\"14.00\">gini = 0.477</text>\n<text text-anchor=\"start\" x=\"1887.5\" y=\"-141.8\" font-family=\"Helvetica,sans-Serif\" font-size=\"14.00\">samples = 56</text>\n<text text-anchor=\"start\" x=\"1881.5\" y=\"-126.8\" font-family=\"Helvetica,sans-Serif\" font-size=\"14.00\">value = [34, 22]</text>\n<text text-anchor=\"start\" x=\"1901\" y=\"-111.8\" font-family=\"Helvetica,sans-Serif\" font-size=\"14.00\">class = 0</text>\n</g>\n<!-- 34&#45;&gt;35 -->\n<g id=\"edge35\" class=\"edge\">\n<title>34&#45;&gt;35</title>\n<path fill=\"none\" stroke=\"black\" d=\"M2055.4,-228.08C2035.53,-215.31 2012.95,-200.79 1992.4,-187.58\"/>\n<polygon fill=\"black\" stroke=\"black\" points=\"1994.03,-184.47 1983.73,-182 1990.25,-190.35 1994.03,-184.47\"/>\n</g>\n<!-- 38 -->\n<g id=\"node39\" class=\"node\">\n<title>38</title>\n<path fill=\"#eda572\" stroke=\"black\" d=\"M2153.5,-187C2153.5,-187 2067.5,-187 2067.5,-187 2061.5,-187 2055.5,-181 2055.5,-175 2055.5,-175 2055.5,-116 2055.5,-116 2055.5,-110 2061.5,-104 2067.5,-104 2067.5,-104 2153.5,-104 2153.5,-104 2159.5,-104 2165.5,-110 2165.5,-116 2165.5,-116 2165.5,-175 2165.5,-175 2165.5,-181 2159.5,-187 2153.5,-187\"/>\n<text text-anchor=\"start\" x=\"2070.5\" y=\"-171.8\" font-family=\"Helvetica,sans-Serif\" font-size=\"14.00\">tenure ≤ 43.5</text>\n<text text-anchor=\"start\" x=\"2075\" y=\"-156.8\" font-family=\"Helvetica,sans-Serif\" font-size=\"14.00\">gini = 0.348</text>\n<text text-anchor=\"start\" x=\"2069.5\" y=\"-141.8\" font-family=\"Helvetica,sans-Serif\" font-size=\"14.00\">samples = 58</text>\n<text text-anchor=\"start\" x=\"2063.5\" y=\"-126.8\" font-family=\"Helvetica,sans-Serif\" font-size=\"14.00\">value = [45, 13]</text>\n<text text-anchor=\"start\" x=\"2083\" y=\"-111.8\" font-family=\"Helvetica,sans-Serif\" font-size=\"14.00\">class = 0</text>\n</g>\n<!-- 34&#45;&gt;38 -->\n<g id=\"edge38\" class=\"edge\">\n<title>34&#45;&gt;38</title>\n<path fill=\"none\" stroke=\"black\" d=\"M2110.5,-222.91C2110.5,-214.65 2110.5,-205.86 2110.5,-197.3\"/>\n<polygon fill=\"black\" stroke=\"black\" points=\"2114,-197.02 2110.5,-187.02 2107,-197.02 2114,-197.02\"/>\n</g>\n<!-- 36 -->\n<g id=\"node37\" class=\"node\">\n<title>36</title>\n<path fill=\"#fae7d9\" stroke=\"black\" d=\"M1850.5,-68C1850.5,-68 1764.5,-68 1764.5,-68 1758.5,-68 1752.5,-62 1752.5,-56 1752.5,-56 1752.5,-12 1752.5,-12 1752.5,-6 1758.5,0 1764.5,0 1764.5,0 1850.5,0 1850.5,0 1856.5,0 1862.5,-6 1862.5,-12 1862.5,-12 1862.5,-56 1862.5,-56 1862.5,-62 1856.5,-68 1850.5,-68\"/>\n<text text-anchor=\"start\" x=\"1772\" y=\"-52.8\" font-family=\"Helvetica,sans-Serif\" font-size=\"14.00\">gini = 0.494</text>\n<text text-anchor=\"start\" x=\"1766.5\" y=\"-37.8\" font-family=\"Helvetica,sans-Serif\" font-size=\"14.00\">samples = 47</text>\n<text text-anchor=\"start\" x=\"1760.5\" y=\"-22.8\" font-family=\"Helvetica,sans-Serif\" font-size=\"14.00\">value = [26, 21]</text>\n<text text-anchor=\"start\" x=\"1780\" y=\"-7.8\" font-family=\"Helvetica,sans-Serif\" font-size=\"14.00\">class = 0</text>\n</g>\n<!-- 35&#45;&gt;36 -->\n<g id=\"edge36\" class=\"edge\">\n<title>35&#45;&gt;36</title>\n<path fill=\"none\" stroke=\"black\" d=\"M1883.44,-103.73C1873.16,-94.42 1862.25,-84.54 1851.99,-75.26\"/>\n<polygon fill=\"black\" stroke=\"black\" points=\"1854.06,-72.41 1844.3,-68.3 1849.36,-77.6 1854.06,-72.41\"/>\n</g>\n<!-- 37 -->\n<g id=\"node38\" class=\"node\">\n<title>37</title>\n<path fill=\"#e89152\" stroke=\"black\" d=\"M1964,-68C1964,-68 1893,-68 1893,-68 1887,-68 1881,-62 1881,-56 1881,-56 1881,-12 1881,-12 1881,-6 1887,0 1893,0 1893,0 1964,0 1964,0 1970,0 1976,-6 1976,-12 1976,-12 1976,-56 1976,-56 1976,-62 1970,-68 1964,-68\"/>\n<text text-anchor=\"start\" x=\"1893\" y=\"-52.8\" font-family=\"Helvetica,sans-Serif\" font-size=\"14.00\">gini = 0.198</text>\n<text text-anchor=\"start\" x=\"1891\" y=\"-37.8\" font-family=\"Helvetica,sans-Serif\" font-size=\"14.00\">samples = 9</text>\n<text text-anchor=\"start\" x=\"1889\" y=\"-22.8\" font-family=\"Helvetica,sans-Serif\" font-size=\"14.00\">value = [8, 1]</text>\n<text text-anchor=\"start\" x=\"1901\" y=\"-7.8\" font-family=\"Helvetica,sans-Serif\" font-size=\"14.00\">class = 0</text>\n</g>\n<!-- 35&#45;&gt;37 -->\n<g id=\"edge37\" class=\"edge\">\n<title>35&#45;&gt;37</title>\n<path fill=\"none\" stroke=\"black\" d=\"M1928.5,-103.73C1928.5,-95.52 1928.5,-86.86 1928.5,-78.56\"/>\n<polygon fill=\"black\" stroke=\"black\" points=\"1932,-78.3 1928.5,-68.3 1925,-78.3 1932,-78.3\"/>\n</g>\n<!-- 39 -->\n<g id=\"node40\" class=\"node\">\n<title>39</title>\n<path fill=\"#e99254\" stroke=\"black\" d=\"M2084.5,-68C2084.5,-68 2006.5,-68 2006.5,-68 2000.5,-68 1994.5,-62 1994.5,-56 1994.5,-56 1994.5,-12 1994.5,-12 1994.5,-6 2000.5,0 2006.5,0 2006.5,0 2084.5,0 2084.5,0 2090.5,0 2096.5,-6 2096.5,-12 2096.5,-12 2096.5,-56 2096.5,-56 2096.5,-62 2090.5,-68 2084.5,-68\"/>\n<text text-anchor=\"start\" x=\"2010\" y=\"-52.8\" font-family=\"Helvetica,sans-Serif\" font-size=\"14.00\">gini = 0.214</text>\n<text text-anchor=\"start\" x=\"2004.5\" y=\"-37.8\" font-family=\"Helvetica,sans-Serif\" font-size=\"14.00\">samples = 41</text>\n<text text-anchor=\"start\" x=\"2002.5\" y=\"-22.8\" font-family=\"Helvetica,sans-Serif\" font-size=\"14.00\">value = [36, 5]</text>\n<text text-anchor=\"start\" x=\"2018\" y=\"-7.8\" font-family=\"Helvetica,sans-Serif\" font-size=\"14.00\">class = 0</text>\n</g>\n<!-- 38&#45;&gt;39 -->\n<g id=\"edge39\" class=\"edge\">\n<title>38&#45;&gt;39</title>\n<path fill=\"none\" stroke=\"black\" d=\"M2086.3,-103.73C2081.1,-94.97 2075.6,-85.7 2070.38,-76.91\"/>\n<polygon fill=\"black\" stroke=\"black\" points=\"2073.38,-75.11 2065.27,-68.3 2067.36,-78.69 2073.38,-75.11\"/>\n</g>\n<!-- 40 -->\n<g id=\"node41\" class=\"node\">\n<title>40</title>\n<path fill=\"#fcf1e9\" stroke=\"black\" d=\"M2200.5,-68C2200.5,-68 2126.5,-68 2126.5,-68 2120.5,-68 2114.5,-62 2114.5,-56 2114.5,-56 2114.5,-12 2114.5,-12 2114.5,-6 2120.5,0 2126.5,0 2126.5,0 2200.5,0 2200.5,0 2206.5,0 2212.5,-6 2212.5,-12 2212.5,-12 2212.5,-56 2212.5,-56 2212.5,-62 2206.5,-68 2200.5,-68\"/>\n<text text-anchor=\"start\" x=\"2128\" y=\"-52.8\" font-family=\"Helvetica,sans-Serif\" font-size=\"14.00\">gini = 0.498</text>\n<text text-anchor=\"start\" x=\"2122.5\" y=\"-37.8\" font-family=\"Helvetica,sans-Serif\" font-size=\"14.00\">samples = 17</text>\n<text text-anchor=\"start\" x=\"2124\" y=\"-22.8\" font-family=\"Helvetica,sans-Serif\" font-size=\"14.00\">value = [9, 8]</text>\n<text text-anchor=\"start\" x=\"2136\" y=\"-7.8\" font-family=\"Helvetica,sans-Serif\" font-size=\"14.00\">class = 0</text>\n</g>\n<!-- 38&#45;&gt;40 -->\n<g id=\"edge40\" class=\"edge\">\n<title>38&#45;&gt;40</title>\n<path fill=\"none\" stroke=\"black\" d=\"M2130.24,-103.73C2134.39,-95.15 2138.77,-86.09 2142.95,-77.46\"/>\n<polygon fill=\"black\" stroke=\"black\" points=\"2146.18,-78.83 2147.38,-68.3 2139.88,-75.78 2146.18,-78.83\"/>\n</g>\n<!-- 42 -->\n<g id=\"node43\" class=\"node\">\n<title>42</title>\n<path fill=\"#eeaa7a\" stroke=\"black\" d=\"M2443,-187C2443,-187 2330,-187 2330,-187 2324,-187 2318,-181 2318,-175 2318,-175 2318,-116 2318,-116 2318,-110 2324,-104 2330,-104 2330,-104 2443,-104 2443,-104 2449,-104 2455,-110 2455,-116 2455,-116 2455,-175 2455,-175 2455,-181 2449,-187 2443,-187\"/>\n<text text-anchor=\"start\" x=\"2326\" y=\"-171.8\" font-family=\"Helvetica,sans-Serif\" font-size=\"14.00\">TotalCharges ≤ 97.5</text>\n<text text-anchor=\"start\" x=\"2351\" y=\"-156.8\" font-family=\"Helvetica,sans-Serif\" font-size=\"14.00\">gini = 0.371</text>\n<text text-anchor=\"start\" x=\"2345.5\" y=\"-141.8\" font-family=\"Helvetica,sans-Serif\" font-size=\"14.00\">samples = 69</text>\n<text text-anchor=\"start\" x=\"2339.5\" y=\"-126.8\" font-family=\"Helvetica,sans-Serif\" font-size=\"14.00\">value = [52, 17]</text>\n<text text-anchor=\"start\" x=\"2359\" y=\"-111.8\" font-family=\"Helvetica,sans-Serif\" font-size=\"14.00\">class = 0</text>\n</g>\n<!-- 41&#45;&gt;42 -->\n<g id=\"edge42\" class=\"edge\">\n<title>41&#45;&gt;42</title>\n<path fill=\"none\" stroke=\"black\" d=\"M2434.83,-222.91C2429.26,-214.1 2423.31,-204.7 2417.56,-195.61\"/>\n<polygon fill=\"black\" stroke=\"black\" points=\"2420.43,-193.6 2412.13,-187.02 2414.52,-197.34 2420.43,-193.6\"/>\n</g>\n<!-- 45 -->\n<g id=\"node46\" class=\"node\">\n<title>45</title>\n<path fill=\"#e78b49\" stroke=\"black\" d=\"M2586,-187C2586,-187 2485,-187 2485,-187 2479,-187 2473,-181 2473,-175 2473,-175 2473,-116 2473,-116 2473,-110 2479,-104 2485,-104 2485,-104 2586,-104 2586,-104 2592,-104 2598,-110 2598,-116 2598,-116 2598,-175 2598,-175 2598,-181 2592,-187 2586,-187\"/>\n<text text-anchor=\"start\" x=\"2495.5\" y=\"-171.8\" font-family=\"Helvetica,sans-Serif\" font-size=\"14.00\">tenure ≤ 34.5</text>\n<text text-anchor=\"start\" x=\"2500\" y=\"-156.8\" font-family=\"Helvetica,sans-Serif\" font-size=\"14.00\">gini = 0.137</text>\n<text text-anchor=\"start\" x=\"2494.5\" y=\"-141.8\" font-family=\"Helvetica,sans-Serif\" font-size=\"14.00\">samples = 95</text>\n<text text-anchor=\"start\" x=\"2481\" y=\"-126.8\" font-family=\"Helvetica,sans-Serif\" font-size=\"14.00\">value = [88.0, 7.0]</text>\n<text text-anchor=\"start\" x=\"2508\" y=\"-111.8\" font-family=\"Helvetica,sans-Serif\" font-size=\"14.00\">class = 0</text>\n</g>\n<!-- 41&#45;&gt;45 -->\n<g id=\"edge45\" class=\"edge\">\n<title>41&#45;&gt;45</title>\n<path fill=\"none\" stroke=\"black\" d=\"M2486.52,-222.91C2492.16,-214.1 2498.19,-204.7 2504.02,-195.61\"/>\n<polygon fill=\"black\" stroke=\"black\" points=\"2507.07,-197.33 2509.53,-187.02 2501.18,-193.55 2507.07,-197.33\"/>\n</g>\n<!-- 43 -->\n<g id=\"node44\" class=\"node\">\n<title>43</title>\n<path fill=\"#399de5\" stroke=\"black\" d=\"M2314,-68C2314,-68 2243,-68 2243,-68 2237,-68 2231,-62 2231,-56 2231,-56 2231,-12 2231,-12 2231,-6 2237,0 2243,0 2243,0 2314,0 2314,0 2320,0 2326,-6 2326,-12 2326,-12 2326,-56 2326,-56 2326,-62 2320,-68 2314,-68\"/>\n<text text-anchor=\"start\" x=\"2250.5\" y=\"-52.8\" font-family=\"Helvetica,sans-Serif\" font-size=\"14.00\">gini = 0.0</text>\n<text text-anchor=\"start\" x=\"2241\" y=\"-37.8\" font-family=\"Helvetica,sans-Serif\" font-size=\"14.00\">samples = 2</text>\n<text text-anchor=\"start\" x=\"2239\" y=\"-22.8\" font-family=\"Helvetica,sans-Serif\" font-size=\"14.00\">value = [0, 2]</text>\n<text text-anchor=\"start\" x=\"2251\" y=\"-7.8\" font-family=\"Helvetica,sans-Serif\" font-size=\"14.00\">class = 1</text>\n</g>\n<!-- 42&#45;&gt;43 -->\n<g id=\"edge43\" class=\"edge\">\n<title>42&#45;&gt;43</title>\n<path fill=\"none\" stroke=\"black\" d=\"M2346.28,-103.73C2337.2,-94.51 2327.56,-84.74 2318.48,-75.53\"/>\n<polygon fill=\"black\" stroke=\"black\" points=\"2320.86,-72.96 2311.34,-68.3 2315.87,-77.88 2320.86,-72.96\"/>\n</g>\n<!-- 44 -->\n<g id=\"node45\" class=\"node\">\n<title>44</title>\n<path fill=\"#eca572\" stroke=\"black\" d=\"M2442.5,-68C2442.5,-68 2356.5,-68 2356.5,-68 2350.5,-68 2344.5,-62 2344.5,-56 2344.5,-56 2344.5,-12 2344.5,-12 2344.5,-6 2350.5,0 2356.5,0 2356.5,0 2442.5,0 2442.5,0 2448.5,0 2454.5,-6 2454.5,-12 2454.5,-12 2454.5,-56 2454.5,-56 2454.5,-62 2448.5,-68 2442.5,-68\"/>\n<text text-anchor=\"start\" x=\"2364\" y=\"-52.8\" font-family=\"Helvetica,sans-Serif\" font-size=\"14.00\">gini = 0.348</text>\n<text text-anchor=\"start\" x=\"2358.5\" y=\"-37.8\" font-family=\"Helvetica,sans-Serif\" font-size=\"14.00\">samples = 67</text>\n<text text-anchor=\"start\" x=\"2352.5\" y=\"-22.8\" font-family=\"Helvetica,sans-Serif\" font-size=\"14.00\">value = [52, 15]</text>\n<text text-anchor=\"start\" x=\"2372\" y=\"-7.8\" font-family=\"Helvetica,sans-Serif\" font-size=\"14.00\">class = 0</text>\n</g>\n<!-- 42&#45;&gt;44 -->\n<g id=\"edge44\" class=\"edge\">\n<title>42&#45;&gt;44</title>\n<path fill=\"none\" stroke=\"black\" d=\"M2391.34,-103.73C2392.33,-95.43 2393.37,-86.67 2394.36,-78.28\"/>\n<polygon fill=\"black\" stroke=\"black\" points=\"2397.84,-78.64 2395.55,-68.3 2390.89,-77.82 2397.84,-78.64\"/>\n</g>\n<!-- 46 -->\n<g id=\"node47\" class=\"node\">\n<title>46</title>\n<path fill=\"#e6853f\" stroke=\"black\" d=\"M2562.5,-68C2562.5,-68 2484.5,-68 2484.5,-68 2478.5,-68 2472.5,-62 2472.5,-56 2472.5,-56 2472.5,-12 2472.5,-12 2472.5,-6 2478.5,0 2484.5,0 2484.5,0 2562.5,0 2562.5,0 2568.5,0 2574.5,-6 2574.5,-12 2574.5,-12 2574.5,-56 2574.5,-56 2574.5,-62 2568.5,-68 2562.5,-68\"/>\n<text text-anchor=\"start\" x=\"2488\" y=\"-52.8\" font-family=\"Helvetica,sans-Serif\" font-size=\"14.00\">gini = 0.061</text>\n<text text-anchor=\"start\" x=\"2482.5\" y=\"-37.8\" font-family=\"Helvetica,sans-Serif\" font-size=\"14.00\">samples = 64</text>\n<text text-anchor=\"start\" x=\"2480.5\" y=\"-22.8\" font-family=\"Helvetica,sans-Serif\" font-size=\"14.00\">value = [62, 2]</text>\n<text text-anchor=\"start\" x=\"2496\" y=\"-7.8\" font-family=\"Helvetica,sans-Serif\" font-size=\"14.00\">class = 0</text>\n</g>\n<!-- 45&#45;&gt;46 -->\n<g id=\"edge46\" class=\"edge\">\n<title>45&#45;&gt;46</title>\n<path fill=\"none\" stroke=\"black\" d=\"M2531.03,-103.73C2530.12,-95.43 2529.16,-86.67 2528.24,-78.28\"/>\n<polygon fill=\"black\" stroke=\"black\" points=\"2531.72,-77.86 2527.15,-68.3 2524.76,-78.62 2531.72,-77.86\"/>\n</g>\n<!-- 47 -->\n<g id=\"node48\" class=\"node\">\n<title>47</title>\n<path fill=\"#ea995f\" stroke=\"black\" d=\"M2682.5,-68C2682.5,-68 2604.5,-68 2604.5,-68 2598.5,-68 2592.5,-62 2592.5,-56 2592.5,-56 2592.5,-12 2592.5,-12 2592.5,-6 2598.5,0 2604.5,0 2604.5,0 2682.5,0 2682.5,0 2688.5,0 2694.5,-6 2694.5,-12 2694.5,-12 2694.5,-56 2694.5,-56 2694.5,-62 2688.5,-68 2682.5,-68\"/>\n<text text-anchor=\"start\" x=\"2608\" y=\"-52.8\" font-family=\"Helvetica,sans-Serif\" font-size=\"14.00\">gini = 0.271</text>\n<text text-anchor=\"start\" x=\"2602.5\" y=\"-37.8\" font-family=\"Helvetica,sans-Serif\" font-size=\"14.00\">samples = 31</text>\n<text text-anchor=\"start\" x=\"2600.5\" y=\"-22.8\" font-family=\"Helvetica,sans-Serif\" font-size=\"14.00\">value = [26, 5]</text>\n<text text-anchor=\"start\" x=\"2616\" y=\"-7.8\" font-family=\"Helvetica,sans-Serif\" font-size=\"14.00\">class = 0</text>\n</g>\n<!-- 45&#45;&gt;47 -->\n<g id=\"edge47\" class=\"edge\">\n<title>45&#45;&gt;47</title>\n<path fill=\"none\" stroke=\"black\" d=\"M2575.72,-103.73C2584.8,-94.51 2594.44,-84.74 2603.52,-75.53\"/>\n<polygon fill=\"black\" stroke=\"black\" points=\"2606.13,-77.88 2610.66,-68.3 2601.14,-72.96 2606.13,-77.88\"/>\n</g>\n<!-- 49 -->\n<g id=\"node50\" class=\"node\">\n<title>49</title>\n<path fill=\"#f4cbae\" stroke=\"black\" d=\"M3024,-306C3024,-306 2891,-306 2891,-306 2885,-306 2879,-300 2879,-294 2879,-294 2879,-235 2879,-235 2879,-229 2885,-223 2891,-223 2891,-223 3024,-223 3024,-223 3030,-223 3036,-229 3036,-235 3036,-235 3036,-294 3036,-294 3036,-300 3030,-306 3024,-306\"/>\n<text text-anchor=\"start\" x=\"2887\" y=\"-290.8\" font-family=\"Helvetica,sans-Serif\" font-size=\"14.00\">MonthlyCharges ≤ 96.7</text>\n<text text-anchor=\"start\" x=\"2922\" y=\"-275.8\" font-family=\"Helvetica,sans-Serif\" font-size=\"14.00\">gini = 0.467</text>\n<text text-anchor=\"start\" x=\"2912.5\" y=\"-260.8\" font-family=\"Helvetica,sans-Serif\" font-size=\"14.00\">samples = 299</text>\n<text text-anchor=\"start\" x=\"2892\" y=\"-245.8\" font-family=\"Helvetica,sans-Serif\" font-size=\"14.00\">value = [188.0, 111.0]</text>\n<text text-anchor=\"start\" x=\"2930\" y=\"-230.8\" font-family=\"Helvetica,sans-Serif\" font-size=\"14.00\">class = 0</text>\n</g>\n<!-- 48&#45;&gt;49 -->\n<g id=\"edge49\" class=\"edge\">\n<title>48&#45;&gt;49</title>\n<path fill=\"none\" stroke=\"black\" d=\"M2957.5,-341.91C2957.5,-333.65 2957.5,-324.86 2957.5,-316.3\"/>\n<polygon fill=\"black\" stroke=\"black\" points=\"2961,-316.02 2957.5,-306.02 2954,-316.02 2961,-316.02\"/>\n</g>\n<!-- 56 -->\n<g id=\"node57\" class=\"node\">\n<title>56</title>\n<path fill=\"#f5fafe\" stroke=\"black\" d=\"M3385.5,-306C3385.5,-306 3263.5,-306 3263.5,-306 3257.5,-306 3251.5,-300 3251.5,-294 3251.5,-294 3251.5,-235 3251.5,-235 3251.5,-229 3257.5,-223 3263.5,-223 3263.5,-223 3385.5,-223 3385.5,-223 3391.5,-223 3397.5,-229 3397.5,-235 3397.5,-235 3397.5,-294 3397.5,-294 3397.5,-300 3391.5,-306 3385.5,-306\"/>\n<text text-anchor=\"start\" x=\"3259.5\" y=\"-290.8\" font-family=\"Helvetica,sans-Serif\" font-size=\"14.00\">PaperlessBilling ≤ 0.5</text>\n<text text-anchor=\"start\" x=\"3296.5\" y=\"-275.8\" font-family=\"Helvetica,sans-Serif\" font-size=\"14.00\">gini = 0.5</text>\n<text text-anchor=\"start\" x=\"3279.5\" y=\"-260.8\" font-family=\"Helvetica,sans-Serif\" font-size=\"14.00\">samples = 507</text>\n<text text-anchor=\"start\" x=\"3270\" y=\"-245.8\" font-family=\"Helvetica,sans-Serif\" font-size=\"14.00\">value = [247, 260]</text>\n<text text-anchor=\"start\" x=\"3297\" y=\"-230.8\" font-family=\"Helvetica,sans-Serif\" font-size=\"14.00\">class = 1</text>\n</g>\n<!-- 48&#45;&gt;56 -->\n<g id=\"edge56\" class=\"edge\">\n<title>48&#45;&gt;56</title>\n<path fill=\"none\" stroke=\"black\" d=\"M3032.65,-358.54C3093.37,-339.19 3178.73,-311.97 3241.46,-291.97\"/>\n<polygon fill=\"black\" stroke=\"black\" points=\"3242.86,-295.2 3251.33,-288.83 3240.73,-288.53 3242.86,-295.2\"/>\n</g>\n<!-- 50 -->\n<g id=\"node51\" class=\"node\">\n<title>50</title>\n<path fill=\"#f1bd97\" stroke=\"black\" d=\"M2936.5,-187C2936.5,-187 2808.5,-187 2808.5,-187 2802.5,-187 2796.5,-181 2796.5,-175 2796.5,-175 2796.5,-116 2796.5,-116 2796.5,-110 2802.5,-104 2808.5,-104 2808.5,-104 2936.5,-104 2936.5,-104 2942.5,-104 2948.5,-110 2948.5,-116 2948.5,-116 2948.5,-175 2948.5,-175 2948.5,-181 2942.5,-187 2936.5,-187\"/>\n<text text-anchor=\"start\" x=\"2804.5\" y=\"-171.8\" font-family=\"Helvetica,sans-Serif\" font-size=\"14.00\">DeviceProtection ≤ 1.0</text>\n<text text-anchor=\"start\" x=\"2837\" y=\"-156.8\" font-family=\"Helvetica,sans-Serif\" font-size=\"14.00\">gini = 0.437</text>\n<text text-anchor=\"start\" x=\"2827.5\" y=\"-141.8\" font-family=\"Helvetica,sans-Serif\" font-size=\"14.00\">samples = 226</text>\n<text text-anchor=\"start\" x=\"2822\" y=\"-126.8\" font-family=\"Helvetica,sans-Serif\" font-size=\"14.00\">value = [153, 73]</text>\n<text text-anchor=\"start\" x=\"2845\" y=\"-111.8\" font-family=\"Helvetica,sans-Serif\" font-size=\"14.00\">class = 0</text>\n</g>\n<!-- 49&#45;&gt;50 -->\n<g id=\"edge50\" class=\"edge\">\n<title>49&#45;&gt;50</title>\n<path fill=\"none\" stroke=\"black\" d=\"M2928.01,-222.91C2921.55,-214.01 2914.64,-204.51 2907.98,-195.33\"/>\n<polygon fill=\"black\" stroke=\"black\" points=\"2910.65,-193.05 2901.94,-187.02 2904.98,-197.17 2910.65,-193.05\"/>\n</g>\n<!-- 53 -->\n<g id=\"node54\" class=\"node\">\n<title>53</title>\n<path fill=\"#eff7fd\" stroke=\"black\" d=\"M3106.5,-187C3106.5,-187 2978.5,-187 2978.5,-187 2972.5,-187 2966.5,-181 2966.5,-175 2966.5,-175 2966.5,-116 2966.5,-116 2966.5,-110 2972.5,-104 2978.5,-104 2978.5,-104 3106.5,-104 3106.5,-104 3112.5,-104 3118.5,-110 3118.5,-116 3118.5,-116 3118.5,-175 3118.5,-175 3118.5,-181 3112.5,-187 3106.5,-187\"/>\n<text text-anchor=\"start\" x=\"2974.5\" y=\"-171.8\" font-family=\"Helvetica,sans-Serif\" font-size=\"14.00\">DeviceProtection ≤ 1.0</text>\n<text text-anchor=\"start\" x=\"3007\" y=\"-156.8\" font-family=\"Helvetica,sans-Serif\" font-size=\"14.00\">gini = 0.499</text>\n<text text-anchor=\"start\" x=\"3001.5\" y=\"-141.8\" font-family=\"Helvetica,sans-Serif\" font-size=\"14.00\">samples = 73</text>\n<text text-anchor=\"start\" x=\"2995.5\" y=\"-126.8\" font-family=\"Helvetica,sans-Serif\" font-size=\"14.00\">value = [35, 38]</text>\n<text text-anchor=\"start\" x=\"3015\" y=\"-111.8\" font-family=\"Helvetica,sans-Serif\" font-size=\"14.00\">class = 1</text>\n</g>\n<!-- 49&#45;&gt;53 -->\n<g id=\"edge53\" class=\"edge\">\n<title>49&#45;&gt;53</title>\n<path fill=\"none\" stroke=\"black\" d=\"M2986.99,-222.91C2993.45,-214.01 3000.36,-204.51 3007.02,-195.33\"/>\n<polygon fill=\"black\" stroke=\"black\" points=\"3010.02,-197.17 3013.06,-187.02 3004.35,-193.05 3010.02,-197.17\"/>\n</g>\n<!-- 51 -->\n<g id=\"node52\" class=\"node\">\n<title>51</title>\n<path fill=\"#f6d3b9\" stroke=\"black\" d=\"M2810.5,-68C2810.5,-68 2724.5,-68 2724.5,-68 2718.5,-68 2712.5,-62 2712.5,-56 2712.5,-56 2712.5,-12 2712.5,-12 2712.5,-6 2718.5,0 2724.5,0 2724.5,0 2810.5,0 2810.5,0 2816.5,0 2822.5,-6 2822.5,-12 2822.5,-12 2822.5,-56 2822.5,-56 2822.5,-62 2816.5,-68 2810.5,-68\"/>\n<text text-anchor=\"start\" x=\"2732\" y=\"-52.8\" font-family=\"Helvetica,sans-Serif\" font-size=\"14.00\">gini = 0.477</text>\n<text text-anchor=\"start\" x=\"2722.5\" y=\"-37.8\" font-family=\"Helvetica,sans-Serif\" font-size=\"14.00\">samples = 155</text>\n<text text-anchor=\"start\" x=\"2720.5\" y=\"-22.8\" font-family=\"Helvetica,sans-Serif\" font-size=\"14.00\">value = [94, 61]</text>\n<text text-anchor=\"start\" x=\"2740\" y=\"-7.8\" font-family=\"Helvetica,sans-Serif\" font-size=\"14.00\">class = 0</text>\n</g>\n<!-- 50&#45;&gt;51 -->\n<g id=\"edge51\" class=\"edge\">\n<title>50&#45;&gt;51</title>\n<path fill=\"none\" stroke=\"black\" d=\"M2833.4,-103.73C2824.57,-94.51 2815.19,-84.74 2806.37,-75.53\"/>\n<polygon fill=\"black\" stroke=\"black\" points=\"2808.88,-73.1 2799.43,-68.3 2803.83,-77.94 2808.88,-73.1\"/>\n</g>\n<!-- 52 -->\n<g id=\"node53\" class=\"node\">\n<title>52</title>\n<path fill=\"#ea9b61\" stroke=\"black\" d=\"M2938.5,-68C2938.5,-68 2852.5,-68 2852.5,-68 2846.5,-68 2840.5,-62 2840.5,-56 2840.5,-56 2840.5,-12 2840.5,-12 2840.5,-6 2846.5,0 2852.5,0 2852.5,0 2938.5,0 2938.5,0 2944.5,0 2950.5,-6 2950.5,-12 2950.5,-12 2950.5,-56 2950.5,-56 2950.5,-62 2944.5,-68 2938.5,-68\"/>\n<text text-anchor=\"start\" x=\"2860\" y=\"-52.8\" font-family=\"Helvetica,sans-Serif\" font-size=\"14.00\">gini = 0.281</text>\n<text text-anchor=\"start\" x=\"2854.5\" y=\"-37.8\" font-family=\"Helvetica,sans-Serif\" font-size=\"14.00\">samples = 71</text>\n<text text-anchor=\"start\" x=\"2848.5\" y=\"-22.8\" font-family=\"Helvetica,sans-Serif\" font-size=\"14.00\">value = [59, 12]</text>\n<text text-anchor=\"start\" x=\"2868\" y=\"-7.8\" font-family=\"Helvetica,sans-Serif\" font-size=\"14.00\">class = 0</text>\n</g>\n<!-- 50&#45;&gt;52 -->\n<g id=\"edge52\" class=\"edge\">\n<title>50&#45;&gt;52</title>\n<path fill=\"none\" stroke=\"black\" d=\"M2881.06,-103.73C2882.81,-95.43 2884.65,-86.67 2886.41,-78.28\"/>\n<polygon fill=\"black\" stroke=\"black\" points=\"2889.88,-78.81 2888.51,-68.3 2883.02,-77.37 2889.88,-78.81\"/>\n</g>\n<!-- 54 -->\n<g id=\"node55\" class=\"node\">\n<title>54</title>\n<path fill=\"#f3c4a3\" stroke=\"black\" d=\"M3058.5,-68C3058.5,-68 2980.5,-68 2980.5,-68 2974.5,-68 2968.5,-62 2968.5,-56 2968.5,-56 2968.5,-12 2968.5,-12 2968.5,-6 2974.5,0 2980.5,0 2980.5,0 3058.5,0 3058.5,0 3064.5,0 3070.5,-6 3070.5,-12 3070.5,-12 3070.5,-56 3070.5,-56 3070.5,-62 3064.5,-68 3058.5,-68\"/>\n<text text-anchor=\"start\" x=\"2984\" y=\"-52.8\" font-family=\"Helvetica,sans-Serif\" font-size=\"14.00\">gini = 0.454</text>\n<text text-anchor=\"start\" x=\"2978.5\" y=\"-37.8\" font-family=\"Helvetica,sans-Serif\" font-size=\"14.00\">samples = 23</text>\n<text text-anchor=\"start\" x=\"2976.5\" y=\"-22.8\" font-family=\"Helvetica,sans-Serif\" font-size=\"14.00\">value = [15, 8]</text>\n<text text-anchor=\"start\" x=\"2992\" y=\"-7.8\" font-family=\"Helvetica,sans-Serif\" font-size=\"14.00\">class = 0</text>\n</g>\n<!-- 53&#45;&gt;54 -->\n<g id=\"edge54\" class=\"edge\">\n<title>53&#45;&gt;54</title>\n<path fill=\"none\" stroke=\"black\" d=\"M3033.94,-103.73C3032.19,-95.43 3030.35,-86.67 3028.59,-78.28\"/>\n<polygon fill=\"black\" stroke=\"black\" points=\"3031.98,-77.37 3026.49,-68.3 3025.12,-78.81 3031.98,-77.37\"/>\n</g>\n<!-- 55 -->\n<g id=\"node56\" class=\"node\">\n<title>55</title>\n<path fill=\"#bddef6\" stroke=\"black\" d=\"M3186.5,-68C3186.5,-68 3100.5,-68 3100.5,-68 3094.5,-68 3088.5,-62 3088.5,-56 3088.5,-56 3088.5,-12 3088.5,-12 3088.5,-6 3094.5,0 3100.5,0 3100.5,0 3186.5,0 3186.5,0 3192.5,0 3198.5,-6 3198.5,-12 3198.5,-12 3198.5,-56 3198.5,-56 3198.5,-62 3192.5,-68 3186.5,-68\"/>\n<text text-anchor=\"start\" x=\"3111.5\" y=\"-52.8\" font-family=\"Helvetica,sans-Serif\" font-size=\"14.00\">gini = 0.48</text>\n<text text-anchor=\"start\" x=\"3102.5\" y=\"-37.8\" font-family=\"Helvetica,sans-Serif\" font-size=\"14.00\">samples = 50</text>\n<text text-anchor=\"start\" x=\"3096.5\" y=\"-22.8\" font-family=\"Helvetica,sans-Serif\" font-size=\"14.00\">value = [20, 30]</text>\n<text text-anchor=\"start\" x=\"3116\" y=\"-7.8\" font-family=\"Helvetica,sans-Serif\" font-size=\"14.00\">class = 1</text>\n</g>\n<!-- 53&#45;&gt;55 -->\n<g id=\"edge55\" class=\"edge\">\n<title>53&#45;&gt;55</title>\n<path fill=\"none\" stroke=\"black\" d=\"M3080.11,-103.73C3088.52,-94.61 3097.45,-84.93 3105.86,-75.81\"/>\n<polygon fill=\"black\" stroke=\"black\" points=\"3108.58,-78.02 3112.79,-68.3 3103.43,-73.28 3108.58,-78.02\"/>\n</g>\n<!-- 57 -->\n<g id=\"node58\" class=\"node\">\n<title>57</title>\n<path fill=\"#f2c09c\" stroke=\"black\" d=\"M3377.5,-187C3377.5,-187 3271.5,-187 3271.5,-187 3265.5,-187 3259.5,-181 3259.5,-175 3259.5,-175 3259.5,-116 3259.5,-116 3259.5,-110 3265.5,-104 3271.5,-104 3271.5,-104 3377.5,-104 3377.5,-104 3383.5,-104 3389.5,-110 3389.5,-116 3389.5,-116 3389.5,-175 3389.5,-175 3389.5,-181 3383.5,-187 3377.5,-187\"/>\n<text text-anchor=\"start\" x=\"3267.5\" y=\"-171.8\" font-family=\"Helvetica,sans-Serif\" font-size=\"14.00\">StreamingTV ≤ 1.0</text>\n<text text-anchor=\"start\" x=\"3289\" y=\"-156.8\" font-family=\"Helvetica,sans-Serif\" font-size=\"14.00\">gini = 0.444</text>\n<text text-anchor=\"start\" x=\"3283.5\" y=\"-141.8\" font-family=\"Helvetica,sans-Serif\" font-size=\"14.00\">samples = 84</text>\n<text text-anchor=\"start\" x=\"3277.5\" y=\"-126.8\" font-family=\"Helvetica,sans-Serif\" font-size=\"14.00\">value = [56, 28]</text>\n<text text-anchor=\"start\" x=\"3297\" y=\"-111.8\" font-family=\"Helvetica,sans-Serif\" font-size=\"14.00\">class = 0</text>\n</g>\n<!-- 56&#45;&gt;57 -->\n<g id=\"edge57\" class=\"edge\">\n<title>56&#45;&gt;57</title>\n<path fill=\"none\" stroke=\"black\" d=\"M3324.5,-222.91C3324.5,-214.65 3324.5,-205.86 3324.5,-197.3\"/>\n<polygon fill=\"black\" stroke=\"black\" points=\"3328,-197.02 3324.5,-187.02 3321,-197.02 3328,-197.02\"/>\n</g>\n<!-- 60 -->\n<g id=\"node61\" class=\"node\">\n<title>60</title>\n<path fill=\"#dceefa\" stroke=\"black\" d=\"M3598,-187C3598,-187 3477,-187 3477,-187 3471,-187 3465,-181 3465,-175 3465,-175 3465,-116 3465,-116 3465,-110 3471,-104 3477,-104 3477,-104 3598,-104 3598,-104 3604,-104 3610,-110 3610,-116 3610,-116 3610,-175 3610,-175 3610,-181 3604,-187 3598,-187\"/>\n<text text-anchor=\"start\" x=\"3473\" y=\"-171.8\" font-family=\"Helvetica,sans-Serif\" font-size=\"14.00\">TotalCharges ≤ 339.5</text>\n<text text-anchor=\"start\" x=\"3502\" y=\"-156.8\" font-family=\"Helvetica,sans-Serif\" font-size=\"14.00\">gini = 0.495</text>\n<text text-anchor=\"start\" x=\"3492.5\" y=\"-141.8\" font-family=\"Helvetica,sans-Serif\" font-size=\"14.00\">samples = 423</text>\n<text text-anchor=\"start\" x=\"3483\" y=\"-126.8\" font-family=\"Helvetica,sans-Serif\" font-size=\"14.00\">value = [191, 232]</text>\n<text text-anchor=\"start\" x=\"3510\" y=\"-111.8\" font-family=\"Helvetica,sans-Serif\" font-size=\"14.00\">class = 1</text>\n</g>\n<!-- 56&#45;&gt;60 -->\n<g id=\"edge60\" class=\"edge\">\n<title>56&#45;&gt;60</title>\n<path fill=\"none\" stroke=\"black\" d=\"M3397.5,-223.4C3416.41,-213.02 3436.88,-201.77 3456.18,-191.17\"/>\n<polygon fill=\"black\" stroke=\"black\" points=\"3457.87,-194.23 3464.95,-186.35 3454.5,-188.1 3457.87,-194.23\"/>\n</g>\n<!-- 58 -->\n<g id=\"node59\" class=\"node\">\n<title>58</title>\n<path fill=\"#eca470\" stroke=\"black\" d=\"M3306.5,-68C3306.5,-68 3228.5,-68 3228.5,-68 3222.5,-68 3216.5,-62 3216.5,-56 3216.5,-56 3216.5,-12 3216.5,-12 3216.5,-6 3222.5,0 3228.5,0 3228.5,0 3306.5,0 3306.5,0 3312.5,0 3318.5,-6 3318.5,-12 3318.5,-12 3318.5,-56 3318.5,-56 3318.5,-62 3312.5,-68 3306.5,-68\"/>\n<text text-anchor=\"start\" x=\"3232\" y=\"-52.8\" font-family=\"Helvetica,sans-Serif\" font-size=\"14.00\">gini = 0.339</text>\n<text text-anchor=\"start\" x=\"3226.5\" y=\"-37.8\" font-family=\"Helvetica,sans-Serif\" font-size=\"14.00\">samples = 37</text>\n<text text-anchor=\"start\" x=\"3224.5\" y=\"-22.8\" font-family=\"Helvetica,sans-Serif\" font-size=\"14.00\">value = [29, 8]</text>\n<text text-anchor=\"start\" x=\"3240\" y=\"-7.8\" font-family=\"Helvetica,sans-Serif\" font-size=\"14.00\">class = 0</text>\n</g>\n<!-- 57&#45;&gt;58 -->\n<g id=\"edge58\" class=\"edge\">\n<title>57&#45;&gt;58</title>\n<path fill=\"none\" stroke=\"black\" d=\"M3303.28,-103.73C3298.76,-95.06 3293.99,-85.9 3289.46,-77.18\"/>\n<polygon fill=\"black\" stroke=\"black\" points=\"3292.56,-75.55 3284.83,-68.3 3286.35,-78.79 3292.56,-75.55\"/>\n</g>\n<!-- 59 -->\n<g id=\"node60\" class=\"node\">\n<title>59</title>\n<path fill=\"#f8decc\" stroke=\"black\" d=\"M3456.5,-68C3456.5,-68 3348.5,-68 3348.5,-68 3342.5,-68 3336.5,-62 3336.5,-56 3336.5,-56 3336.5,-12 3336.5,-12 3336.5,-6 3342.5,0 3348.5,0 3348.5,0 3456.5,0 3456.5,0 3462.5,0 3468.5,-6 3468.5,-12 3468.5,-12 3468.5,-56 3468.5,-56 3468.5,-62 3462.5,-68 3456.5,-68\"/>\n<text text-anchor=\"start\" x=\"3367\" y=\"-52.8\" font-family=\"Helvetica,sans-Serif\" font-size=\"14.00\">gini = 0.489</text>\n<text text-anchor=\"start\" x=\"3361.5\" y=\"-37.8\" font-family=\"Helvetica,sans-Serif\" font-size=\"14.00\">samples = 47</text>\n<text text-anchor=\"start\" x=\"3344.5\" y=\"-22.8\" font-family=\"Helvetica,sans-Serif\" font-size=\"14.00\">value = [27.0, 20.0]</text>\n<text text-anchor=\"start\" x=\"3375\" y=\"-7.8\" font-family=\"Helvetica,sans-Serif\" font-size=\"14.00\">class = 0</text>\n</g>\n<!-- 57&#45;&gt;59 -->\n<g id=\"edge59\" class=\"edge\">\n<title>57&#45;&gt;59</title>\n<path fill=\"none\" stroke=\"black\" d=\"M3353.54,-103.73C3359.85,-94.88 3366.52,-85.51 3372.85,-76.63\"/>\n<polygon fill=\"black\" stroke=\"black\" points=\"3375.83,-78.48 3378.78,-68.3 3370.13,-74.41 3375.83,-78.48\"/>\n</g>\n<!-- 61 -->\n<g id=\"node62\" class=\"node\">\n<title>61</title>\n<path fill=\"#59ade9\" stroke=\"black\" d=\"M3576.5,-68C3576.5,-68 3498.5,-68 3498.5,-68 3492.5,-68 3486.5,-62 3486.5,-56 3486.5,-56 3486.5,-12 3486.5,-12 3486.5,-6 3492.5,0 3498.5,0 3498.5,0 3576.5,0 3576.5,0 3582.5,0 3588.5,-6 3588.5,-12 3588.5,-12 3588.5,-56 3588.5,-56 3588.5,-62 3582.5,-68 3576.5,-68\"/>\n<text text-anchor=\"start\" x=\"3502\" y=\"-52.8\" font-family=\"Helvetica,sans-Serif\" font-size=\"14.00\">gini = 0.239</text>\n<text text-anchor=\"start\" x=\"3496.5\" y=\"-37.8\" font-family=\"Helvetica,sans-Serif\" font-size=\"14.00\">samples = 36</text>\n<text text-anchor=\"start\" x=\"3494.5\" y=\"-22.8\" font-family=\"Helvetica,sans-Serif\" font-size=\"14.00\">value = [5, 31]</text>\n<text text-anchor=\"start\" x=\"3510\" y=\"-7.8\" font-family=\"Helvetica,sans-Serif\" font-size=\"14.00\">class = 1</text>\n</g>\n<!-- 60&#45;&gt;61 -->\n<g id=\"edge61\" class=\"edge\">\n<title>60&#45;&gt;61</title>\n<path fill=\"none\" stroke=\"black\" d=\"M3537.5,-103.73C3537.5,-95.52 3537.5,-86.86 3537.5,-78.56\"/>\n<polygon fill=\"black\" stroke=\"black\" points=\"3541,-78.3 3537.5,-68.3 3534,-78.3 3541,-78.3\"/>\n</g>\n<!-- 62 -->\n<g id=\"node63\" class=\"node\">\n<title>62</title>\n<path fill=\"#f0f8fd\" stroke=\"black\" d=\"M3720,-68C3720,-68 3619,-68 3619,-68 3613,-68 3607,-62 3607,-56 3607,-56 3607,-12 3607,-12 3607,-6 3613,0 3619,0 3619,0 3720,0 3720,0 3726,0 3732,-6 3732,-12 3732,-12 3732,-56 3732,-56 3732,-62 3726,-68 3720,-68\"/>\n<text text-anchor=\"start\" x=\"3634\" y=\"-52.8\" font-family=\"Helvetica,sans-Serif\" font-size=\"14.00\">gini = 0.499</text>\n<text text-anchor=\"start\" x=\"3624.5\" y=\"-37.8\" font-family=\"Helvetica,sans-Serif\" font-size=\"14.00\">samples = 387</text>\n<text text-anchor=\"start\" x=\"3615\" y=\"-22.8\" font-family=\"Helvetica,sans-Serif\" font-size=\"14.00\">value = [186, 201]</text>\n<text text-anchor=\"start\" x=\"3642\" y=\"-7.8\" font-family=\"Helvetica,sans-Serif\" font-size=\"14.00\">class = 1</text>\n</g>\n<!-- 60&#45;&gt;62 -->\n<g id=\"edge62\" class=\"edge\">\n<title>60&#45;&gt;62</title>\n<path fill=\"none\" stroke=\"black\" d=\"M3586.65,-103.73C3598.09,-94.24 3610.24,-84.16 3621.62,-74.72\"/>\n<polygon fill=\"black\" stroke=\"black\" points=\"3623.9,-77.38 3629.36,-68.3 3619.43,-71.99 3623.9,-77.38\"/>\n</g>\n<!-- 64 -->\n<g id=\"node65\" class=\"node\">\n<title>64</title>\n<path fill=\"#eca46f\" stroke=\"black\" d=\"M4441,-544C4441,-544 4340,-544 4340,-544 4334,-544 4328,-538 4328,-532 4328,-532 4328,-473 4328,-473 4328,-467 4334,-461 4340,-461 4340,-461 4441,-461 4441,-461 4447,-461 4453,-467 4453,-473 4453,-473 4453,-532 4453,-532 4453,-538 4447,-544 4441,-544\"/>\n<text text-anchor=\"start\" x=\"4354\" y=\"-528.8\" font-family=\"Helvetica,sans-Serif\" font-size=\"14.00\">tenure ≤ 1.5</text>\n<text text-anchor=\"start\" x=\"4355\" y=\"-513.8\" font-family=\"Helvetica,sans-Serif\" font-size=\"14.00\">gini = 0.338</text>\n<text text-anchor=\"start\" x=\"4345.5\" y=\"-498.8\" font-family=\"Helvetica,sans-Serif\" font-size=\"14.00\">samples = 832</text>\n<text text-anchor=\"start\" x=\"4336\" y=\"-483.8\" font-family=\"Helvetica,sans-Serif\" font-size=\"14.00\">value = [653, 179]</text>\n<text text-anchor=\"start\" x=\"4363\" y=\"-468.8\" font-family=\"Helvetica,sans-Serif\" font-size=\"14.00\">class = 0</text>\n</g>\n<!-- 63&#45;&gt;64 -->\n<g id=\"edge64\" class=\"edge\">\n<title>63&#45;&gt;64</title>\n<path fill=\"none\" stroke=\"black\" d=\"M4831.49,-602.15C4730.29,-579.51 4559.77,-541.37 4463.1,-519.74\"/>\n<polygon fill=\"black\" stroke=\"black\" points=\"4463.64,-516.28 4453.12,-517.51 4462.12,-523.11 4463.64,-516.28\"/>\n</g>\n<!-- 87 -->\n<g id=\"node88\" class=\"node\">\n<title>87</title>\n<path fill=\"#f7dac4\" stroke=\"black\" d=\"M5368.5,-544C5368.5,-544 5260.5,-544 5260.5,-544 5254.5,-544 5248.5,-538 5248.5,-532 5248.5,-532 5248.5,-473 5248.5,-473 5248.5,-467 5254.5,-461 5260.5,-461 5260.5,-461 5368.5,-461 5368.5,-461 5374.5,-461 5380.5,-467 5380.5,-473 5380.5,-473 5380.5,-532 5380.5,-532 5380.5,-538 5374.5,-544 5368.5,-544\"/>\n<text text-anchor=\"start\" x=\"5274.5\" y=\"-528.8\" font-family=\"Helvetica,sans-Serif\" font-size=\"14.00\">tenure ≤ 29.5</text>\n<text text-anchor=\"start\" x=\"5279\" y=\"-513.8\" font-family=\"Helvetica,sans-Serif\" font-size=\"14.00\">gini = 0.485</text>\n<text text-anchor=\"start\" x=\"5269.5\" y=\"-498.8\" font-family=\"Helvetica,sans-Serif\" font-size=\"14.00\">samples = 155</text>\n<text text-anchor=\"start\" x=\"5256.5\" y=\"-483.8\" font-family=\"Helvetica,sans-Serif\" font-size=\"14.00\">value = [91.0, 64.0]</text>\n<text text-anchor=\"start\" x=\"5287\" y=\"-468.8\" font-family=\"Helvetica,sans-Serif\" font-size=\"14.00\">class = 0</text>\n</g>\n<!-- 63&#45;&gt;87 -->\n<g id=\"edge87\" class=\"edge\">\n<title>63&#45;&gt;87</title>\n<path fill=\"none\" stroke=\"black\" d=\"M4995.62,-596.54C5066.81,-575.77 5169.04,-545.94 5238.41,-525.7\"/>\n<polygon fill=\"black\" stroke=\"black\" points=\"5239.78,-528.95 5248.4,-522.79 5237.82,-522.23 5239.78,-528.95\"/>\n</g>\n<!-- 65 -->\n<g id=\"node66\" class=\"node\">\n<title>65</title>\n<path fill=\"#f5cfb3\" stroke=\"black\" d=\"M4265.5,-425C4265.5,-425 4137.5,-425 4137.5,-425 4131.5,-425 4125.5,-419 4125.5,-413 4125.5,-413 4125.5,-354 4125.5,-354 4125.5,-348 4131.5,-342 4137.5,-342 4137.5,-342 4265.5,-342 4265.5,-342 4271.5,-342 4277.5,-348 4277.5,-354 4277.5,-354 4277.5,-413 4277.5,-413 4277.5,-419 4271.5,-425 4265.5,-425\"/>\n<text text-anchor=\"start\" x=\"4133.5\" y=\"-409.8\" font-family=\"Helvetica,sans-Serif\" font-size=\"14.00\">TotalCharges ≤ 5589.0</text>\n<text text-anchor=\"start\" x=\"4166\" y=\"-394.8\" font-family=\"Helvetica,sans-Serif\" font-size=\"14.00\">gini = 0.472</text>\n<text text-anchor=\"start\" x=\"4156.5\" y=\"-379.8\" font-family=\"Helvetica,sans-Serif\" font-size=\"14.00\">samples = 147</text>\n<text text-anchor=\"start\" x=\"4154.5\" y=\"-364.8\" font-family=\"Helvetica,sans-Serif\" font-size=\"14.00\">value = [91, 56]</text>\n<text text-anchor=\"start\" x=\"4174\" y=\"-349.8\" font-family=\"Helvetica,sans-Serif\" font-size=\"14.00\">class = 0</text>\n</g>\n<!-- 64&#45;&gt;65 -->\n<g id=\"edge65\" class=\"edge\">\n<title>64&#45;&gt;65</title>\n<path fill=\"none\" stroke=\"black\" d=\"M4327.83,-462.7C4311.27,-452.45 4293.23,-441.28 4276.1,-430.68\"/>\n<polygon fill=\"black\" stroke=\"black\" points=\"4277.59,-427.49 4267.24,-425.2 4273.9,-433.44 4277.59,-427.49\"/>\n</g>\n<!-- 72 -->\n<g id=\"node73\" class=\"node\">\n<title>72</title>\n<path fill=\"#eb9d64\" stroke=\"black\" d=\"M4460.5,-425C4460.5,-425 4320.5,-425 4320.5,-425 4314.5,-425 4308.5,-419 4308.5,-413 4308.5,-413 4308.5,-354 4308.5,-354 4308.5,-348 4314.5,-342 4320.5,-342 4320.5,-342 4460.5,-342 4460.5,-342 4466.5,-342 4472.5,-348 4472.5,-354 4472.5,-354 4472.5,-413 4472.5,-413 4472.5,-419 4466.5,-425 4460.5,-425\"/>\n<text text-anchor=\"start\" x=\"4316.5\" y=\"-409.8\" font-family=\"Helvetica,sans-Serif\" font-size=\"14.00\">MonthlyCharges ≤ 29.65</text>\n<text text-anchor=\"start\" x=\"4355\" y=\"-394.8\" font-family=\"Helvetica,sans-Serif\" font-size=\"14.00\">gini = 0.295</text>\n<text text-anchor=\"start\" x=\"4345.5\" y=\"-379.8\" font-family=\"Helvetica,sans-Serif\" font-size=\"14.00\">samples = 685</text>\n<text text-anchor=\"start\" x=\"4336\" y=\"-364.8\" font-family=\"Helvetica,sans-Serif\" font-size=\"14.00\">value = [562, 123]</text>\n<text text-anchor=\"start\" x=\"4363\" y=\"-349.8\" font-family=\"Helvetica,sans-Serif\" font-size=\"14.00\">class = 0</text>\n</g>\n<!-- 64&#45;&gt;72 -->\n<g id=\"edge72\" class=\"edge\">\n<title>64&#45;&gt;72</title>\n<path fill=\"none\" stroke=\"black\" d=\"M4390.5,-460.91C4390.5,-452.65 4390.5,-443.86 4390.5,-435.3\"/>\n<polygon fill=\"black\" stroke=\"black\" points=\"4394,-435.02 4390.5,-425.02 4387,-435.02 4394,-435.02\"/>\n</g>\n<!-- 66 -->\n<g id=\"node67\" class=\"node\">\n<title>66</title>\n<path fill=\"#f4c8a8\" stroke=\"black\" d=\"M4098,-306C4098,-306 3991,-306 3991,-306 3985,-306 3979,-300 3979,-294 3979,-294 3979,-235 3979,-235 3979,-229 3985,-223 3991,-223 3991,-223 4098,-223 4098,-223 4104,-223 4110,-229 4110,-235 4110,-235 4110,-294 4110,-294 4110,-300 4104,-306 4098,-306\"/>\n<text text-anchor=\"start\" x=\"3987\" y=\"-290.8\" font-family=\"Helvetica,sans-Serif\" font-size=\"14.00\">SeniorCitizen ≤ 0.5</text>\n<text text-anchor=\"start\" x=\"4012.5\" y=\"-275.8\" font-family=\"Helvetica,sans-Serif\" font-size=\"14.00\">gini = 0.46</text>\n<text text-anchor=\"start\" x=\"3999.5\" y=\"-260.8\" font-family=\"Helvetica,sans-Serif\" font-size=\"14.00\">samples = 142</text>\n<text text-anchor=\"start\" x=\"3997.5\" y=\"-245.8\" font-family=\"Helvetica,sans-Serif\" font-size=\"14.00\">value = [91, 51]</text>\n<text text-anchor=\"start\" x=\"4017\" y=\"-230.8\" font-family=\"Helvetica,sans-Serif\" font-size=\"14.00\">class = 0</text>\n</g>\n<!-- 65&#45;&gt;66 -->\n<g id=\"edge66\" class=\"edge\">\n<title>65&#45;&gt;66</title>\n<path fill=\"none\" stroke=\"black\" d=\"M4147.03,-341.91C4134.12,-332.29 4120.25,-321.95 4107.02,-312.09\"/>\n<polygon fill=\"black\" stroke=\"black\" points=\"4108.98,-309.19 4098.87,-306.02 4104.8,-314.8 4108.98,-309.19\"/>\n</g>\n<!-- 71 -->\n<g id=\"node72\" class=\"node\">\n<title>71</title>\n<path fill=\"#399de5\" stroke=\"black\" d=\"M4237,-298.5C4237,-298.5 4166,-298.5 4166,-298.5 4160,-298.5 4154,-292.5 4154,-286.5 4154,-286.5 4154,-242.5 4154,-242.5 4154,-236.5 4160,-230.5 4166,-230.5 4166,-230.5 4237,-230.5 4237,-230.5 4243,-230.5 4249,-236.5 4249,-242.5 4249,-242.5 4249,-286.5 4249,-286.5 4249,-292.5 4243,-298.5 4237,-298.5\"/>\n<text text-anchor=\"start\" x=\"4173.5\" y=\"-283.3\" font-family=\"Helvetica,sans-Serif\" font-size=\"14.00\">gini = 0.0</text>\n<text text-anchor=\"start\" x=\"4164\" y=\"-268.3\" font-family=\"Helvetica,sans-Serif\" font-size=\"14.00\">samples = 5</text>\n<text text-anchor=\"start\" x=\"4162\" y=\"-253.3\" font-family=\"Helvetica,sans-Serif\" font-size=\"14.00\">value = [0, 5]</text>\n<text text-anchor=\"start\" x=\"4174\" y=\"-238.3\" font-family=\"Helvetica,sans-Serif\" font-size=\"14.00\">class = 1</text>\n</g>\n<!-- 65&#45;&gt;71 -->\n<g id=\"edge71\" class=\"edge\">\n<title>65&#45;&gt;71</title>\n<path fill=\"none\" stroke=\"black\" d=\"M4201.5,-341.91C4201.5,-331.2 4201.5,-319.62 4201.5,-308.78\"/>\n<polygon fill=\"black\" stroke=\"black\" points=\"4205,-308.67 4201.5,-298.67 4198,-308.67 4205,-308.67\"/>\n</g>\n<!-- 67 -->\n<g id=\"node68\" class=\"node\">\n<title>67</title>\n<path fill=\"#f2c29f\" stroke=\"black\" d=\"M3966.5,-187C3966.5,-187 3818.5,-187 3818.5,-187 3812.5,-187 3806.5,-181 3806.5,-175 3806.5,-175 3806.5,-116 3806.5,-116 3806.5,-110 3812.5,-104 3818.5,-104 3818.5,-104 3966.5,-104 3966.5,-104 3972.5,-104 3978.5,-110 3978.5,-116 3978.5,-116 3978.5,-175 3978.5,-175 3978.5,-181 3972.5,-187 3966.5,-187\"/>\n<text text-anchor=\"start\" x=\"3814.5\" y=\"-171.8\" font-family=\"Helvetica,sans-Serif\" font-size=\"14.00\">MonthlyCharges ≤ 39.225</text>\n<text text-anchor=\"start\" x=\"3857\" y=\"-156.8\" font-family=\"Helvetica,sans-Serif\" font-size=\"14.00\">gini = 0.449</text>\n<text text-anchor=\"start\" x=\"3847.5\" y=\"-141.8\" font-family=\"Helvetica,sans-Serif\" font-size=\"14.00\">samples = 138</text>\n<text text-anchor=\"start\" x=\"3845.5\" y=\"-126.8\" font-family=\"Helvetica,sans-Serif\" font-size=\"14.00\">value = [91, 47]</text>\n<text text-anchor=\"start\" x=\"3865\" y=\"-111.8\" font-family=\"Helvetica,sans-Serif\" font-size=\"14.00\">class = 0</text>\n</g>\n<!-- 66&#45;&gt;67 -->\n<g id=\"edge67\" class=\"edge\">\n<title>66&#45;&gt;67</title>\n<path fill=\"none\" stroke=\"black\" d=\"M3991.76,-222.91C3979.38,-213.38 3966.09,-203.15 3953.39,-193.37\"/>\n<polygon fill=\"black\" stroke=\"black\" points=\"3955.2,-190.35 3945.14,-187.02 3950.93,-195.89 3955.2,-190.35\"/>\n</g>\n<!-- 70 -->\n<g id=\"node71\" class=\"node\">\n<title>70</title>\n<path fill=\"#399de5\" stroke=\"black\" d=\"M4080,-179.5C4080,-179.5 4009,-179.5 4009,-179.5 4003,-179.5 3997,-173.5 3997,-167.5 3997,-167.5 3997,-123.5 3997,-123.5 3997,-117.5 4003,-111.5 4009,-111.5 4009,-111.5 4080,-111.5 4080,-111.5 4086,-111.5 4092,-117.5 4092,-123.5 4092,-123.5 4092,-167.5 4092,-167.5 4092,-173.5 4086,-179.5 4080,-179.5\"/>\n<text text-anchor=\"start\" x=\"4016.5\" y=\"-164.3\" font-family=\"Helvetica,sans-Serif\" font-size=\"14.00\">gini = 0.0</text>\n<text text-anchor=\"start\" x=\"4007\" y=\"-149.3\" font-family=\"Helvetica,sans-Serif\" font-size=\"14.00\">samples = 4</text>\n<text text-anchor=\"start\" x=\"4005\" y=\"-134.3\" font-family=\"Helvetica,sans-Serif\" font-size=\"14.00\">value = [0, 4]</text>\n<text text-anchor=\"start\" x=\"4017\" y=\"-119.3\" font-family=\"Helvetica,sans-Serif\" font-size=\"14.00\">class = 1</text>\n</g>\n<!-- 66&#45;&gt;70 -->\n<g id=\"edge70\" class=\"edge\">\n<title>66&#45;&gt;70</title>\n<path fill=\"none\" stroke=\"black\" d=\"M4044.5,-222.91C4044.5,-212.2 4044.5,-200.62 4044.5,-189.78\"/>\n<polygon fill=\"black\" stroke=\"black\" points=\"4048,-189.67 4044.5,-179.67 4041,-189.67 4048,-189.67\"/>\n</g>\n<!-- 68 -->\n<g id=\"node69\" class=\"node\">\n<title>68</title>\n<path fill=\"#f4ccae\" stroke=\"black\" d=\"M3848.5,-68C3848.5,-68 3762.5,-68 3762.5,-68 3756.5,-68 3750.5,-62 3750.5,-56 3750.5,-56 3750.5,-12 3750.5,-12 3750.5,-6 3756.5,0 3762.5,0 3762.5,0 3848.5,0 3848.5,0 3854.5,0 3860.5,-6 3860.5,-12 3860.5,-12 3860.5,-56 3860.5,-56 3860.5,-62 3854.5,-68 3848.5,-68\"/>\n<text text-anchor=\"start\" x=\"3770\" y=\"-52.8\" font-family=\"Helvetica,sans-Serif\" font-size=\"14.00\">gini = 0.467</text>\n<text text-anchor=\"start\" x=\"3760.5\" y=\"-37.8\" font-family=\"Helvetica,sans-Serif\" font-size=\"14.00\">samples = 121</text>\n<text text-anchor=\"start\" x=\"3758.5\" y=\"-22.8\" font-family=\"Helvetica,sans-Serif\" font-size=\"14.00\">value = [76, 45]</text>\n<text text-anchor=\"start\" x=\"3778\" y=\"-7.8\" font-family=\"Helvetica,sans-Serif\" font-size=\"14.00\">class = 0</text>\n</g>\n<!-- 67&#45;&gt;68 -->\n<g id=\"edge68\" class=\"edge\">\n<title>67&#45;&gt;68</title>\n<path fill=\"none\" stroke=\"black\" d=\"M3860.1,-103.73C3853,-94.79 3845.48,-85.32 3838.36,-76.36\"/>\n<polygon fill=\"black\" stroke=\"black\" points=\"3840.92,-73.95 3831.96,-68.3 3835.44,-78.31 3840.92,-73.95\"/>\n</g>\n<!-- 69 -->\n<g id=\"node70\" class=\"node\">\n<title>69</title>\n<path fill=\"#e89253\" stroke=\"black\" d=\"M3968.5,-68C3968.5,-68 3890.5,-68 3890.5,-68 3884.5,-68 3878.5,-62 3878.5,-56 3878.5,-56 3878.5,-12 3878.5,-12 3878.5,-6 3884.5,0 3890.5,0 3890.5,0 3968.5,0 3968.5,0 3974.5,0 3980.5,-6 3980.5,-12 3980.5,-12 3980.5,-56 3980.5,-56 3980.5,-62 3974.5,-68 3968.5,-68\"/>\n<text text-anchor=\"start\" x=\"3894\" y=\"-52.8\" font-family=\"Helvetica,sans-Serif\" font-size=\"14.00\">gini = 0.208</text>\n<text text-anchor=\"start\" x=\"3888.5\" y=\"-37.8\" font-family=\"Helvetica,sans-Serif\" font-size=\"14.00\">samples = 17</text>\n<text text-anchor=\"start\" x=\"3886.5\" y=\"-22.8\" font-family=\"Helvetica,sans-Serif\" font-size=\"14.00\">value = [15, 2]</text>\n<text text-anchor=\"start\" x=\"3902\" y=\"-7.8\" font-family=\"Helvetica,sans-Serif\" font-size=\"14.00\">class = 0</text>\n</g>\n<!-- 67&#45;&gt;69 -->\n<g id=\"edge69\" class=\"edge\">\n<title>67&#45;&gt;69</title>\n<path fill=\"none\" stroke=\"black\" d=\"M3906.28,-103.73C3909.11,-95.34 3912.11,-86.47 3914.97,-78.01\"/>\n<polygon fill=\"black\" stroke=\"black\" points=\"3918.36,-78.89 3918.25,-68.3 3911.73,-76.65 3918.36,-78.89\"/>\n</g>\n<!-- 73 -->\n<g id=\"node74\" class=\"node\">\n<title>73</title>\n<path fill=\"#e89253\" stroke=\"black\" d=\"M4446.5,-306C4446.5,-306 4298.5,-306 4298.5,-306 4292.5,-306 4286.5,-300 4286.5,-294 4286.5,-294 4286.5,-235 4286.5,-235 4286.5,-229 4292.5,-223 4298.5,-223 4298.5,-223 4446.5,-223 4446.5,-223 4452.5,-223 4458.5,-229 4458.5,-235 4458.5,-235 4458.5,-294 4458.5,-294 4458.5,-300 4452.5,-306 4446.5,-306\"/>\n<text text-anchor=\"start\" x=\"4294.5\" y=\"-290.8\" font-family=\"Helvetica,sans-Serif\" font-size=\"14.00\">MonthlyCharges ≤ 19.875</text>\n<text text-anchor=\"start\" x=\"4337\" y=\"-275.8\" font-family=\"Helvetica,sans-Serif\" font-size=\"14.00\">gini = 0.206</text>\n<text text-anchor=\"start\" x=\"4327.5\" y=\"-260.8\" font-family=\"Helvetica,sans-Serif\" font-size=\"14.00\">samples = 300</text>\n<text text-anchor=\"start\" x=\"4322\" y=\"-245.8\" font-family=\"Helvetica,sans-Serif\" font-size=\"14.00\">value = [265, 35]</text>\n<text text-anchor=\"start\" x=\"4345\" y=\"-230.8\" font-family=\"Helvetica,sans-Serif\" font-size=\"14.00\">class = 0</text>\n</g>\n<!-- 72&#45;&gt;73 -->\n<g id=\"edge73\" class=\"edge\">\n<title>72&#45;&gt;73</title>\n<path fill=\"none\" stroke=\"black\" d=\"M4384.25,-341.91C4382.97,-333.56 4381.6,-324.67 4380.27,-316.02\"/>\n<polygon fill=\"black\" stroke=\"black\" points=\"4383.71,-315.37 4378.73,-306.02 4376.8,-316.44 4383.71,-315.37\"/>\n</g>\n<!-- 80 -->\n<g id=\"node81\" class=\"node\">\n<title>80</title>\n<path fill=\"#eda674\" stroke=\"black\" d=\"M4649,-306C4649,-306 4556,-306 4556,-306 4550,-306 4544,-300 4544,-294 4544,-294 4544,-235 4544,-235 4544,-229 4550,-223 4556,-223 4556,-223 4649,-223 4649,-223 4655,-223 4661,-229 4661,-235 4661,-235 4661,-294 4661,-294 4661,-300 4655,-306 4649,-306\"/>\n<text text-anchor=\"start\" x=\"4566\" y=\"-290.8\" font-family=\"Helvetica,sans-Serif\" font-size=\"14.00\">tenure ≤ 3.5</text>\n<text text-anchor=\"start\" x=\"4567\" y=\"-275.8\" font-family=\"Helvetica,sans-Serif\" font-size=\"14.00\">gini = 0.353</text>\n<text text-anchor=\"start\" x=\"4557.5\" y=\"-260.8\" font-family=\"Helvetica,sans-Serif\" font-size=\"14.00\">samples = 385</text>\n<text text-anchor=\"start\" x=\"4552\" y=\"-245.8\" font-family=\"Helvetica,sans-Serif\" font-size=\"14.00\">value = [297, 88]</text>\n<text text-anchor=\"start\" x=\"4575\" y=\"-230.8\" font-family=\"Helvetica,sans-Serif\" font-size=\"14.00\">class = 0</text>\n</g>\n<!-- 72&#45;&gt;80 -->\n<g id=\"edge80\" class=\"edge\">\n<title>72&#45;&gt;80</title>\n<path fill=\"none\" stroke=\"black\" d=\"M4464.05,-341.91C4487.07,-329.21 4512.34,-315.26 4534.93,-302.79\"/>\n<polygon fill=\"black\" stroke=\"black\" points=\"4536.7,-305.81 4543.77,-297.92 4533.32,-299.68 4536.7,-305.81\"/>\n</g>\n<!-- 74 -->\n<g id=\"node75\" class=\"node\">\n<title>74</title>\n<path fill=\"#eb9d65\" stroke=\"black\" d=\"M4243,-187C4243,-187 4122,-187 4122,-187 4116,-187 4110,-181 4110,-175 4110,-175 4110,-116 4110,-116 4110,-110 4116,-104 4122,-104 4122,-104 4243,-104 4243,-104 4249,-104 4255,-110 4255,-116 4255,-116 4255,-175 4255,-175 4255,-181 4249,-187 4243,-187\"/>\n<text text-anchor=\"start\" x=\"4118\" y=\"-171.8\" font-family=\"Helvetica,sans-Serif\" font-size=\"14.00\">TotalCharges ≤ 493.5</text>\n<text text-anchor=\"start\" x=\"4147\" y=\"-156.8\" font-family=\"Helvetica,sans-Serif\" font-size=\"14.00\">gini = 0.298</text>\n<text text-anchor=\"start\" x=\"4137.5\" y=\"-141.8\" font-family=\"Helvetica,sans-Serif\" font-size=\"14.00\">samples = 110</text>\n<text text-anchor=\"start\" x=\"4135.5\" y=\"-126.8\" font-family=\"Helvetica,sans-Serif\" font-size=\"14.00\">value = [90, 20]</text>\n<text text-anchor=\"start\" x=\"4155\" y=\"-111.8\" font-family=\"Helvetica,sans-Serif\" font-size=\"14.00\">class = 0</text>\n</g>\n<!-- 73&#45;&gt;74 -->\n<g id=\"edge74\" class=\"edge\">\n<title>73&#45;&gt;74</title>\n<path fill=\"none\" stroke=\"black\" d=\"M4306.58,-222.91C4290.66,-213.11 4273.54,-202.56 4257.25,-192.53\"/>\n<polygon fill=\"black\" stroke=\"black\" points=\"4258.65,-189.28 4248.3,-187.02 4254.98,-195.24 4258.65,-189.28\"/>\n</g>\n<!-- 77 -->\n<g id=\"node78\" class=\"node\">\n<title>77</title>\n<path fill=\"#e78c4a\" stroke=\"black\" d=\"M4419,-187C4419,-187 4326,-187 4326,-187 4320,-187 4314,-181 4314,-175 4314,-175 4314,-116 4314,-116 4314,-110 4320,-104 4326,-104 4326,-104 4419,-104 4419,-104 4425,-104 4431,-110 4431,-116 4431,-116 4431,-175 4431,-175 4431,-181 4425,-187 4419,-187\"/>\n<text text-anchor=\"start\" x=\"4332.5\" y=\"-171.8\" font-family=\"Helvetica,sans-Serif\" font-size=\"14.00\">tenure ≤ 17.5</text>\n<text text-anchor=\"start\" x=\"4337\" y=\"-156.8\" font-family=\"Helvetica,sans-Serif\" font-size=\"14.00\">gini = 0.145</text>\n<text text-anchor=\"start\" x=\"4327.5\" y=\"-141.8\" font-family=\"Helvetica,sans-Serif\" font-size=\"14.00\">samples = 190</text>\n<text text-anchor=\"start\" x=\"4322\" y=\"-126.8\" font-family=\"Helvetica,sans-Serif\" font-size=\"14.00\">value = [175, 15]</text>\n<text text-anchor=\"start\" x=\"4345\" y=\"-111.8\" font-family=\"Helvetica,sans-Serif\" font-size=\"14.00\">class = 0</text>\n</g>\n<!-- 73&#45;&gt;77 -->\n<g id=\"edge77\" class=\"edge\">\n<title>73&#45;&gt;77</title>\n<path fill=\"none\" stroke=\"black\" d=\"M4372.5,-222.91C4372.5,-214.65 4372.5,-205.86 4372.5,-197.3\"/>\n<polygon fill=\"black\" stroke=\"black\" points=\"4376,-197.02 4372.5,-187.02 4369,-197.02 4376,-197.02\"/>\n</g>\n<!-- 75 -->\n<g id=\"node76\" class=\"node\">\n<title>75</title>\n<path fill=\"#ffffff\" stroke=\"black\" d=\"M4082,-68C4082,-68 4011,-68 4011,-68 4005,-68 3999,-62 3999,-56 3999,-56 3999,-12 3999,-12 3999,-6 4005,0 4011,0 4011,0 4082,0 4082,0 4088,0 4094,-6 4094,-12 4094,-12 4094,-56 4094,-56 4094,-62 4088,-68 4082,-68\"/>\n<text text-anchor=\"start\" x=\"4018.5\" y=\"-52.8\" font-family=\"Helvetica,sans-Serif\" font-size=\"14.00\">gini = 0.5</text>\n<text text-anchor=\"start\" x=\"4009\" y=\"-37.8\" font-family=\"Helvetica,sans-Serif\" font-size=\"14.00\">samples = 8</text>\n<text text-anchor=\"start\" x=\"4007\" y=\"-22.8\" font-family=\"Helvetica,sans-Serif\" font-size=\"14.00\">value = [4, 4]</text>\n<text text-anchor=\"start\" x=\"4019\" y=\"-7.8\" font-family=\"Helvetica,sans-Serif\" font-size=\"14.00\">class = 0</text>\n</g>\n<!-- 74&#45;&gt;75 -->\n<g id=\"edge75\" class=\"edge\">\n<title>74&#45;&gt;75</title>\n<path fill=\"none\" stroke=\"black\" d=\"M4131.86,-103.73C4120.08,-94.24 4107.55,-84.16 4095.83,-74.72\"/>\n<polygon fill=\"black\" stroke=\"black\" points=\"4097.84,-71.84 4087.86,-68.3 4093.45,-77.3 4097.84,-71.84\"/>\n</g>\n<!-- 76 -->\n<g id=\"node77\" class=\"node\">\n<title>76</title>\n<path fill=\"#ea985e\" stroke=\"black\" d=\"M4210.5,-68C4210.5,-68 4124.5,-68 4124.5,-68 4118.5,-68 4112.5,-62 4112.5,-56 4112.5,-56 4112.5,-12 4112.5,-12 4112.5,-6 4118.5,0 4124.5,0 4124.5,0 4210.5,0 4210.5,0 4216.5,0 4222.5,-6 4222.5,-12 4222.5,-12 4222.5,-56 4222.5,-56 4222.5,-62 4216.5,-68 4210.5,-68\"/>\n<text text-anchor=\"start\" x=\"4132\" y=\"-52.8\" font-family=\"Helvetica,sans-Serif\" font-size=\"14.00\">gini = 0.265</text>\n<text text-anchor=\"start\" x=\"4122.5\" y=\"-37.8\" font-family=\"Helvetica,sans-Serif\" font-size=\"14.00\">samples = 102</text>\n<text text-anchor=\"start\" x=\"4120.5\" y=\"-22.8\" font-family=\"Helvetica,sans-Serif\" font-size=\"14.00\">value = [86, 16]</text>\n<text text-anchor=\"start\" x=\"4140\" y=\"-7.8\" font-family=\"Helvetica,sans-Serif\" font-size=\"14.00\">class = 0</text>\n</g>\n<!-- 74&#45;&gt;76 -->\n<g id=\"edge76\" class=\"edge\">\n<title>74&#45;&gt;76</title>\n<path fill=\"none\" stroke=\"black\" d=\"M4176.91,-103.73C4175.78,-95.43 4174.58,-86.67 4173.43,-78.28\"/>\n<polygon fill=\"black\" stroke=\"black\" points=\"4176.89,-77.73 4172.06,-68.3 4169.95,-78.68 4176.89,-77.73\"/>\n</g>\n<!-- 78 -->\n<g id=\"node79\" class=\"node\">\n<title>78</title>\n<path fill=\"#e89050\" stroke=\"black\" d=\"M4346,-68C4346,-68 4253,-68 4253,-68 4247,-68 4241,-62 4241,-56 4241,-56 4241,-12 4241,-12 4241,-6 4247,0 4253,0 4253,0 4346,0 4346,0 4352,0 4358,-6 4358,-12 4358,-12 4358,-56 4358,-56 4358,-62 4352,-68 4346,-68\"/>\n<text text-anchor=\"start\" x=\"4264\" y=\"-52.8\" font-family=\"Helvetica,sans-Serif\" font-size=\"14.00\">gini = 0.189</text>\n<text text-anchor=\"start\" x=\"4254.5\" y=\"-37.8\" font-family=\"Helvetica,sans-Serif\" font-size=\"14.00\">samples = 142</text>\n<text text-anchor=\"start\" x=\"4249\" y=\"-22.8\" font-family=\"Helvetica,sans-Serif\" font-size=\"14.00\">value = [127, 15]</text>\n<text text-anchor=\"start\" x=\"4272\" y=\"-7.8\" font-family=\"Helvetica,sans-Serif\" font-size=\"14.00\">class = 0</text>\n</g>\n<!-- 77&#45;&gt;78 -->\n<g id=\"edge78\" class=\"edge\">\n<title>77&#45;&gt;78</title>\n<path fill=\"none\" stroke=\"black\" d=\"M4345.32,-103.73C4339.42,-94.88 4333.17,-85.51 4327.25,-76.63\"/>\n<polygon fill=\"black\" stroke=\"black\" points=\"4330.16,-74.68 4321.7,-68.3 4324.33,-78.56 4330.16,-74.68\"/>\n</g>\n<!-- 79 -->\n<g id=\"node80\" class=\"node\">\n<title>79</title>\n<path fill=\"#e58139\" stroke=\"black\" d=\"M4466.5,-68C4466.5,-68 4388.5,-68 4388.5,-68 4382.5,-68 4376.5,-62 4376.5,-56 4376.5,-56 4376.5,-12 4376.5,-12 4376.5,-6 4382.5,0 4388.5,0 4388.5,0 4466.5,0 4466.5,0 4472.5,0 4478.5,-6 4478.5,-12 4478.5,-12 4478.5,-56 4478.5,-56 4478.5,-62 4472.5,-68 4466.5,-68\"/>\n<text text-anchor=\"start\" x=\"4399.5\" y=\"-52.8\" font-family=\"Helvetica,sans-Serif\" font-size=\"14.00\">gini = 0.0</text>\n<text text-anchor=\"start\" x=\"4386.5\" y=\"-37.8\" font-family=\"Helvetica,sans-Serif\" font-size=\"14.00\">samples = 48</text>\n<text text-anchor=\"start\" x=\"4384.5\" y=\"-22.8\" font-family=\"Helvetica,sans-Serif\" font-size=\"14.00\">value = [48, 0]</text>\n<text text-anchor=\"start\" x=\"4400\" y=\"-7.8\" font-family=\"Helvetica,sans-Serif\" font-size=\"14.00\">class = 0</text>\n</g>\n<!-- 77&#45;&gt;79 -->\n<g id=\"edge79\" class=\"edge\">\n<title>77&#45;&gt;79</title>\n<path fill=\"none\" stroke=\"black\" d=\"M4392.98,-103.73C4397.29,-95.15 4401.84,-86.09 4406.18,-77.46\"/>\n<polygon fill=\"black\" stroke=\"black\" points=\"4409.41,-78.81 4410.77,-68.3 4403.16,-75.66 4409.41,-78.81\"/>\n</g>\n<!-- 81 -->\n<g id=\"node82\" class=\"node\">\n<title>81</title>\n<path fill=\"#fae9dc\" stroke=\"black\" d=\"M4656,-187C4656,-187 4549,-187 4549,-187 4543,-187 4537,-181 4537,-175 4537,-175 4537,-116 4537,-116 4537,-110 4543,-104 4549,-104 4549,-104 4656,-104 4656,-104 4662,-104 4668,-110 4668,-116 4668,-116 4668,-175 4668,-175 4668,-181 4662,-187 4656,-187\"/>\n<text text-anchor=\"start\" x=\"4545\" y=\"-171.8\" font-family=\"Helvetica,sans-Serif\" font-size=\"14.00\">SeniorCitizen ≤ 0.5</text>\n<text text-anchor=\"start\" x=\"4567\" y=\"-156.8\" font-family=\"Helvetica,sans-Serif\" font-size=\"14.00\">gini = 0.495</text>\n<text text-anchor=\"start\" x=\"4561.5\" y=\"-141.8\" font-family=\"Helvetica,sans-Serif\" font-size=\"14.00\">samples = 31</text>\n<text text-anchor=\"start\" x=\"4555.5\" y=\"-126.8\" font-family=\"Helvetica,sans-Serif\" font-size=\"14.00\">value = [17, 14]</text>\n<text text-anchor=\"start\" x=\"4575\" y=\"-111.8\" font-family=\"Helvetica,sans-Serif\" font-size=\"14.00\">class = 0</text>\n</g>\n<!-- 80&#45;&gt;81 -->\n<g id=\"edge81\" class=\"edge\">\n<title>80&#45;&gt;81</title>\n<path fill=\"none\" stroke=\"black\" d=\"M4602.5,-222.91C4602.5,-214.65 4602.5,-205.86 4602.5,-197.3\"/>\n<polygon fill=\"black\" stroke=\"black\" points=\"4606,-197.02 4602.5,-187.02 4599,-197.02 4606,-197.02\"/>\n</g>\n<!-- 84 -->\n<g id=\"node85\" class=\"node\">\n<title>84</title>\n<path fill=\"#eca26d\" stroke=\"black\" d=\"M4843,-187C4843,-187 4750,-187 4750,-187 4744,-187 4738,-181 4738,-175 4738,-175 4738,-116 4738,-116 4738,-110 4744,-104 4750,-104 4750,-104 4843,-104 4843,-104 4849,-104 4855,-110 4855,-116 4855,-116 4855,-175 4855,-175 4855,-181 4849,-187 4843,-187\"/>\n<text text-anchor=\"start\" x=\"4756.5\" y=\"-171.8\" font-family=\"Helvetica,sans-Serif\" font-size=\"14.00\">tenure ≤ 52.5</text>\n<text text-anchor=\"start\" x=\"4761\" y=\"-156.8\" font-family=\"Helvetica,sans-Serif\" font-size=\"14.00\">gini = 0.331</text>\n<text text-anchor=\"start\" x=\"4751.5\" y=\"-141.8\" font-family=\"Helvetica,sans-Serif\" font-size=\"14.00\">samples = 354</text>\n<text text-anchor=\"start\" x=\"4746\" y=\"-126.8\" font-family=\"Helvetica,sans-Serif\" font-size=\"14.00\">value = [280, 74]</text>\n<text text-anchor=\"start\" x=\"4769\" y=\"-111.8\" font-family=\"Helvetica,sans-Serif\" font-size=\"14.00\">class = 0</text>\n</g>\n<!-- 80&#45;&gt;84 -->\n<g id=\"edge84\" class=\"edge\">\n<title>80&#45;&gt;84</title>\n<path fill=\"none\" stroke=\"black\" d=\"M4661.23,-228.08C4682.7,-215.13 4707.14,-200.4 4729.28,-187.04\"/>\n<polygon fill=\"black\" stroke=\"black\" points=\"4731.21,-189.96 4737.97,-181.8 4727.6,-183.97 4731.21,-189.96\"/>\n</g>\n<!-- 82 -->\n<g id=\"node83\" class=\"node\">\n<title>82</title>\n<path fill=\"#f4cbad\" stroke=\"black\" d=\"M4594.5,-68C4594.5,-68 4508.5,-68 4508.5,-68 4502.5,-68 4496.5,-62 4496.5,-56 4496.5,-56 4496.5,-12 4496.5,-12 4496.5,-6 4502.5,0 4508.5,0 4508.5,0 4594.5,0 4594.5,0 4600.5,0 4606.5,-6 4606.5,-12 4606.5,-12 4606.5,-56 4606.5,-56 4606.5,-62 4600.5,-68 4594.5,-68\"/>\n<text text-anchor=\"start\" x=\"4516\" y=\"-52.8\" font-family=\"Helvetica,sans-Serif\" font-size=\"14.00\">gini = 0.466</text>\n<text text-anchor=\"start\" x=\"4510.5\" y=\"-37.8\" font-family=\"Helvetica,sans-Serif\" font-size=\"14.00\">samples = 27</text>\n<text text-anchor=\"start\" x=\"4504.5\" y=\"-22.8\" font-family=\"Helvetica,sans-Serif\" font-size=\"14.00\">value = [17, 10]</text>\n<text text-anchor=\"start\" x=\"4524\" y=\"-7.8\" font-family=\"Helvetica,sans-Serif\" font-size=\"14.00\">class = 0</text>\n</g>\n<!-- 81&#45;&gt;82 -->\n<g id=\"edge82\" class=\"edge\">\n<title>81&#45;&gt;82</title>\n<path fill=\"none\" stroke=\"black\" d=\"M4583.51,-103.73C4579.52,-95.15 4575.29,-86.09 4571.27,-77.46\"/>\n<polygon fill=\"black\" stroke=\"black\" points=\"4574.4,-75.89 4567.01,-68.3 4568.06,-78.84 4574.4,-75.89\"/>\n</g>\n<!-- 83 -->\n<g id=\"node84\" class=\"node\">\n<title>83</title>\n<path fill=\"#399de5\" stroke=\"black\" d=\"M4708,-68C4708,-68 4637,-68 4637,-68 4631,-68 4625,-62 4625,-56 4625,-56 4625,-12 4625,-12 4625,-6 4631,0 4637,0 4637,0 4708,0 4708,0 4714,0 4720,-6 4720,-12 4720,-12 4720,-56 4720,-56 4720,-62 4714,-68 4708,-68\"/>\n<text text-anchor=\"start\" x=\"4644.5\" y=\"-52.8\" font-family=\"Helvetica,sans-Serif\" font-size=\"14.00\">gini = 0.0</text>\n<text text-anchor=\"start\" x=\"4635\" y=\"-37.8\" font-family=\"Helvetica,sans-Serif\" font-size=\"14.00\">samples = 4</text>\n<text text-anchor=\"start\" x=\"4633\" y=\"-22.8\" font-family=\"Helvetica,sans-Serif\" font-size=\"14.00\">value = [0, 4]</text>\n<text text-anchor=\"start\" x=\"4645\" y=\"-7.8\" font-family=\"Helvetica,sans-Serif\" font-size=\"14.00\">class = 1</text>\n</g>\n<!-- 81&#45;&gt;83 -->\n<g id=\"edge83\" class=\"edge\">\n<title>81&#45;&gt;83</title>\n<path fill=\"none\" stroke=\"black\" d=\"M4628.57,-103.73C4634.16,-94.97 4640.09,-85.7 4645.71,-76.91\"/>\n<polygon fill=\"black\" stroke=\"black\" points=\"4648.78,-78.61 4651.21,-68.3 4642.88,-74.84 4648.78,-78.61\"/>\n</g>\n<!-- 85 -->\n<g id=\"node86\" class=\"node\">\n<title>85</title>\n<path fill=\"#eda673\" stroke=\"black\" d=\"M4843,-68C4843,-68 4750,-68 4750,-68 4744,-68 4738,-62 4738,-56 4738,-56 4738,-12 4738,-12 4738,-6 4744,0 4750,0 4750,0 4843,0 4843,0 4849,0 4855,-6 4855,-12 4855,-12 4855,-56 4855,-56 4855,-62 4849,-68 4843,-68\"/>\n<text text-anchor=\"start\" x=\"4761\" y=\"-52.8\" font-family=\"Helvetica,sans-Serif\" font-size=\"14.00\">gini = 0.351</text>\n<text text-anchor=\"start\" x=\"4751.5\" y=\"-37.8\" font-family=\"Helvetica,sans-Serif\" font-size=\"14.00\">samples = 326</text>\n<text text-anchor=\"start\" x=\"4746\" y=\"-22.8\" font-family=\"Helvetica,sans-Serif\" font-size=\"14.00\">value = [252, 74]</text>\n<text text-anchor=\"start\" x=\"4769\" y=\"-7.8\" font-family=\"Helvetica,sans-Serif\" font-size=\"14.00\">class = 0</text>\n</g>\n<!-- 84&#45;&gt;85 -->\n<g id=\"edge85\" class=\"edge\">\n<title>84&#45;&gt;85</title>\n<path fill=\"none\" stroke=\"black\" d=\"M4796.5,-103.73C4796.5,-95.52 4796.5,-86.86 4796.5,-78.56\"/>\n<polygon fill=\"black\" stroke=\"black\" points=\"4800,-78.3 4796.5,-68.3 4793,-78.3 4800,-78.3\"/>\n</g>\n<!-- 86 -->\n<g id=\"node87\" class=\"node\">\n<title>86</title>\n<path fill=\"#e58139\" stroke=\"black\" d=\"M4963.5,-68C4963.5,-68 4885.5,-68 4885.5,-68 4879.5,-68 4873.5,-62 4873.5,-56 4873.5,-56 4873.5,-12 4873.5,-12 4873.5,-6 4879.5,0 4885.5,0 4885.5,0 4963.5,0 4963.5,0 4969.5,0 4975.5,-6 4975.5,-12 4975.5,-12 4975.5,-56 4975.5,-56 4975.5,-62 4969.5,-68 4963.5,-68\"/>\n<text text-anchor=\"start\" x=\"4896.5\" y=\"-52.8\" font-family=\"Helvetica,sans-Serif\" font-size=\"14.00\">gini = 0.0</text>\n<text text-anchor=\"start\" x=\"4883.5\" y=\"-37.8\" font-family=\"Helvetica,sans-Serif\" font-size=\"14.00\">samples = 28</text>\n<text text-anchor=\"start\" x=\"4881.5\" y=\"-22.8\" font-family=\"Helvetica,sans-Serif\" font-size=\"14.00\">value = [28, 0]</text>\n<text text-anchor=\"start\" x=\"4897\" y=\"-7.8\" font-family=\"Helvetica,sans-Serif\" font-size=\"14.00\">class = 0</text>\n</g>\n<!-- 84&#45;&gt;86 -->\n<g id=\"edge86\" class=\"edge\">\n<title>84&#45;&gt;86</title>\n<path fill=\"none\" stroke=\"black\" d=\"M4844.16,-103.73C4855.14,-94.33 4866.81,-84.35 4877.76,-74.99\"/>\n<polygon fill=\"black\" stroke=\"black\" points=\"4880.25,-77.46 4885.57,-68.3 4875.7,-72.14 4880.25,-77.46\"/>\n</g>\n<!-- 88 -->\n<g id=\"node89\" class=\"node\">\n<title>88</title>\n<path fill=\"#94caf1\" stroke=\"black\" d=\"M5384.5,-425C5384.5,-425 5244.5,-425 5244.5,-425 5238.5,-425 5232.5,-419 5232.5,-413 5232.5,-413 5232.5,-354 5232.5,-354 5232.5,-348 5238.5,-342 5244.5,-342 5244.5,-342 5384.5,-342 5384.5,-342 5390.5,-342 5396.5,-348 5396.5,-354 5396.5,-354 5396.5,-413 5396.5,-413 5396.5,-419 5390.5,-425 5384.5,-425\"/>\n<text text-anchor=\"start\" x=\"5240.5\" y=\"-409.8\" font-family=\"Helvetica,sans-Serif\" font-size=\"14.00\">MonthlyCharges ≤ 104.5</text>\n<text text-anchor=\"start\" x=\"5279\" y=\"-394.8\" font-family=\"Helvetica,sans-Serif\" font-size=\"14.00\">gini = 0.432</text>\n<text text-anchor=\"start\" x=\"5273.5\" y=\"-379.8\" font-family=\"Helvetica,sans-Serif\" font-size=\"14.00\">samples = 57</text>\n<text text-anchor=\"start\" x=\"5267.5\" y=\"-364.8\" font-family=\"Helvetica,sans-Serif\" font-size=\"14.00\">value = [18, 39]</text>\n<text text-anchor=\"start\" x=\"5287\" y=\"-349.8\" font-family=\"Helvetica,sans-Serif\" font-size=\"14.00\">class = 1</text>\n</g>\n<!-- 87&#45;&gt;88 -->\n<g id=\"edge88\" class=\"edge\">\n<title>87&#45;&gt;88</title>\n<path fill=\"none\" stroke=\"black\" d=\"M5314.5,-460.91C5314.5,-452.65 5314.5,-443.86 5314.5,-435.3\"/>\n<polygon fill=\"black\" stroke=\"black\" points=\"5318,-435.02 5314.5,-425.02 5311,-435.02 5318,-435.02\"/>\n</g>\n<!-- 99 -->\n<g id=\"node100\" class=\"node\">\n<title>99</title>\n<path fill=\"#eeac7d\" stroke=\"black\" d=\"M5737.5,-425C5737.5,-425 5589.5,-425 5589.5,-425 5583.5,-425 5577.5,-419 5577.5,-413 5577.5,-413 5577.5,-354 5577.5,-354 5577.5,-348 5583.5,-342 5589.5,-342 5589.5,-342 5737.5,-342 5737.5,-342 5743.5,-342 5749.5,-348 5749.5,-354 5749.5,-354 5749.5,-413 5749.5,-413 5749.5,-419 5743.5,-425 5737.5,-425\"/>\n<text text-anchor=\"start\" x=\"5585.5\" y=\"-409.8\" font-family=\"Helvetica,sans-Serif\" font-size=\"14.00\">MonthlyCharges ≤ 112.35</text>\n<text text-anchor=\"start\" x=\"5631.5\" y=\"-394.8\" font-family=\"Helvetica,sans-Serif\" font-size=\"14.00\">gini = 0.38</text>\n<text text-anchor=\"start\" x=\"5622.5\" y=\"-379.8\" font-family=\"Helvetica,sans-Serif\" font-size=\"14.00\">samples = 98</text>\n<text text-anchor=\"start\" x=\"5616.5\" y=\"-364.8\" font-family=\"Helvetica,sans-Serif\" font-size=\"14.00\">value = [73, 25]</text>\n<text text-anchor=\"start\" x=\"5636\" y=\"-349.8\" font-family=\"Helvetica,sans-Serif\" font-size=\"14.00\">class = 0</text>\n</g>\n<!-- 87&#45;&gt;99 -->\n<g id=\"edge99\" class=\"edge\">\n<title>87&#45;&gt;99</title>\n<path fill=\"none\" stroke=\"black\" d=\"M5380.55,-479.36C5433.34,-461.66 5508.07,-436.61 5567.47,-416.69\"/>\n<polygon fill=\"black\" stroke=\"black\" points=\"5568.87,-419.91 5577.24,-413.42 5566.65,-413.28 5568.87,-419.91\"/>\n</g>\n<!-- 89 -->\n<g id=\"node90\" class=\"node\">\n<title>89</title>\n<path fill=\"#7fbfee\" stroke=\"black\" d=\"M5291.5,-306C5291.5,-306 5169.5,-306 5169.5,-306 5163.5,-306 5157.5,-300 5157.5,-294 5157.5,-294 5157.5,-235 5157.5,-235 5157.5,-229 5163.5,-223 5169.5,-223 5169.5,-223 5291.5,-223 5291.5,-223 5297.5,-223 5303.5,-229 5303.5,-235 5303.5,-235 5303.5,-294 5303.5,-294 5303.5,-300 5297.5,-306 5291.5,-306\"/>\n<text text-anchor=\"start\" x=\"5165.5\" y=\"-290.8\" font-family=\"Helvetica,sans-Serif\" font-size=\"14.00\">PaperlessBilling ≤ 0.5</text>\n<text text-anchor=\"start\" x=\"5195\" y=\"-275.8\" font-family=\"Helvetica,sans-Serif\" font-size=\"14.00\">gini = 0.385</text>\n<text text-anchor=\"start\" x=\"5189.5\" y=\"-260.8\" font-family=\"Helvetica,sans-Serif\" font-size=\"14.00\">samples = 50</text>\n<text text-anchor=\"start\" x=\"5183.5\" y=\"-245.8\" font-family=\"Helvetica,sans-Serif\" font-size=\"14.00\">value = [13, 37]</text>\n<text text-anchor=\"start\" x=\"5203\" y=\"-230.8\" font-family=\"Helvetica,sans-Serif\" font-size=\"14.00\">class = 1</text>\n</g>\n<!-- 88&#45;&gt;89 -->\n<g id=\"edge89\" class=\"edge\">\n<title>88&#45;&gt;89</title>\n<path fill=\"none\" stroke=\"black\" d=\"M5285.36,-341.91C5278.97,-333.01 5272.15,-323.51 5265.56,-314.33\"/>\n<polygon fill=\"black\" stroke=\"black\" points=\"5268.27,-312.1 5259.59,-306.02 5262.58,-316.19 5268.27,-312.1\"/>\n</g>\n<!-- 96 -->\n<g id=\"node97\" class=\"node\">\n<title>96</title>\n<path fill=\"#efb388\" stroke=\"black\" d=\"M5461.5,-306C5461.5,-306 5333.5,-306 5333.5,-306 5327.5,-306 5321.5,-300 5321.5,-294 5321.5,-294 5321.5,-235 5321.5,-235 5321.5,-229 5327.5,-223 5333.5,-223 5333.5,-223 5461.5,-223 5461.5,-223 5467.5,-223 5473.5,-229 5473.5,-235 5473.5,-235 5473.5,-294 5473.5,-294 5473.5,-300 5467.5,-306 5461.5,-306\"/>\n<text text-anchor=\"start\" x=\"5329.5\" y=\"-290.8\" font-family=\"Helvetica,sans-Serif\" font-size=\"14.00\">TotalCharges ≤ 1096.0</text>\n<text text-anchor=\"start\" x=\"5362\" y=\"-275.8\" font-family=\"Helvetica,sans-Serif\" font-size=\"14.00\">gini = 0.408</text>\n<text text-anchor=\"start\" x=\"5360\" y=\"-260.8\" font-family=\"Helvetica,sans-Serif\" font-size=\"14.00\">samples = 7</text>\n<text text-anchor=\"start\" x=\"5358\" y=\"-245.8\" font-family=\"Helvetica,sans-Serif\" font-size=\"14.00\">value = [5, 2]</text>\n<text text-anchor=\"start\" x=\"5370\" y=\"-230.8\" font-family=\"Helvetica,sans-Serif\" font-size=\"14.00\">class = 0</text>\n</g>\n<!-- 88&#45;&gt;96 -->\n<g id=\"edge96\" class=\"edge\">\n<title>88&#45;&gt;96</title>\n<path fill=\"none\" stroke=\"black\" d=\"M5343.3,-341.91C5349.61,-333.01 5356.35,-323.51 5362.86,-314.33\"/>\n<polygon fill=\"black\" stroke=\"black\" points=\"5365.82,-316.2 5368.75,-306.02 5360.11,-312.15 5365.82,-316.2\"/>\n</g>\n<!-- 90 -->\n<g id=\"node91\" class=\"node\">\n<title>90</title>\n<path fill=\"#f8e0ce\" stroke=\"black\" d=\"M5174.5,-187C5174.5,-187 5026.5,-187 5026.5,-187 5020.5,-187 5014.5,-181 5014.5,-175 5014.5,-175 5014.5,-116 5014.5,-116 5014.5,-110 5020.5,-104 5026.5,-104 5026.5,-104 5174.5,-104 5174.5,-104 5180.5,-104 5186.5,-110 5186.5,-116 5186.5,-116 5186.5,-175 5186.5,-175 5186.5,-181 5180.5,-187 5174.5,-187\"/>\n<text text-anchor=\"start\" x=\"5022.5\" y=\"-171.8\" font-family=\"Helvetica,sans-Serif\" font-size=\"14.00\">MonthlyCharges ≤ 95.275</text>\n<text text-anchor=\"start\" x=\"5068.5\" y=\"-156.8\" font-family=\"Helvetica,sans-Serif\" font-size=\"14.00\">gini = 0.49</text>\n<text text-anchor=\"start\" x=\"5059.5\" y=\"-141.8\" font-family=\"Helvetica,sans-Serif\" font-size=\"14.00\">samples = 14</text>\n<text text-anchor=\"start\" x=\"5061\" y=\"-126.8\" font-family=\"Helvetica,sans-Serif\" font-size=\"14.00\">value = [8, 6]</text>\n<text text-anchor=\"start\" x=\"5073\" y=\"-111.8\" font-family=\"Helvetica,sans-Serif\" font-size=\"14.00\">class = 0</text>\n</g>\n<!-- 89&#45;&gt;90 -->\n<g id=\"edge90\" class=\"edge\">\n<title>89&#45;&gt;90</title>\n<path fill=\"none\" stroke=\"black\" d=\"M5185.4,-222.91C5175.01,-213.56 5163.88,-203.54 5153.2,-193.93\"/>\n<polygon fill=\"black\" stroke=\"black\" points=\"5155.3,-191.11 5145.52,-187.02 5150.61,-196.31 5155.3,-191.11\"/>\n</g>\n<!-- 93 -->\n<g id=\"node94\" class=\"node\">\n<title>93</title>\n<path fill=\"#59ade9\" stroke=\"black\" d=\"M5294.5,-187C5294.5,-187 5216.5,-187 5216.5,-187 5210.5,-187 5204.5,-181 5204.5,-175 5204.5,-175 5204.5,-116 5204.5,-116 5204.5,-110 5210.5,-104 5216.5,-104 5216.5,-104 5294.5,-104 5294.5,-104 5300.5,-104 5306.5,-110 5306.5,-116 5306.5,-116 5306.5,-175 5306.5,-175 5306.5,-181 5300.5,-187 5294.5,-187\"/>\n<text text-anchor=\"start\" x=\"5215.5\" y=\"-171.8\" font-family=\"Helvetica,sans-Serif\" font-size=\"14.00\">tenure ≤ 14.0</text>\n<text text-anchor=\"start\" x=\"5220\" y=\"-156.8\" font-family=\"Helvetica,sans-Serif\" font-size=\"14.00\">gini = 0.239</text>\n<text text-anchor=\"start\" x=\"5214.5\" y=\"-141.8\" font-family=\"Helvetica,sans-Serif\" font-size=\"14.00\">samples = 36</text>\n<text text-anchor=\"start\" x=\"5212.5\" y=\"-126.8\" font-family=\"Helvetica,sans-Serif\" font-size=\"14.00\">value = [5, 31]</text>\n<text text-anchor=\"start\" x=\"5228\" y=\"-111.8\" font-family=\"Helvetica,sans-Serif\" font-size=\"14.00\">class = 1</text>\n</g>\n<!-- 89&#45;&gt;93 -->\n<g id=\"edge93\" class=\"edge\">\n<title>89&#45;&gt;93</title>\n<path fill=\"none\" stroke=\"black\" d=\"M5239.17,-222.91C5240.96,-214.56 5242.86,-205.67 5244.71,-197.02\"/>\n<polygon fill=\"black\" stroke=\"black\" points=\"5248.17,-197.53 5246.84,-187.02 5241.33,-196.07 5248.17,-197.53\"/>\n</g>\n<!-- 91 -->\n<g id=\"node92\" class=\"node\">\n<title>91</title>\n<path fill=\"#88c4ef\" stroke=\"black\" d=\"M5077,-68C5077,-68 5006,-68 5006,-68 5000,-68 4994,-62 4994,-56 4994,-56 4994,-12 4994,-12 4994,-6 5000,0 5006,0 5006,0 5077,0 5077,0 5083,0 5089,-6 5089,-12 5089,-12 5089,-56 5089,-56 5089,-62 5083,-68 5077,-68\"/>\n<text text-anchor=\"start\" x=\"5006\" y=\"-52.8\" font-family=\"Helvetica,sans-Serif\" font-size=\"14.00\">gini = 0.408</text>\n<text text-anchor=\"start\" x=\"5004\" y=\"-37.8\" font-family=\"Helvetica,sans-Serif\" font-size=\"14.00\">samples = 7</text>\n<text text-anchor=\"start\" x=\"5002\" y=\"-22.8\" font-family=\"Helvetica,sans-Serif\" font-size=\"14.00\">value = [2, 5]</text>\n<text text-anchor=\"start\" x=\"5014\" y=\"-7.8\" font-family=\"Helvetica,sans-Serif\" font-size=\"14.00\">class = 1</text>\n</g>\n<!-- 90&#45;&gt;91 -->\n<g id=\"edge91\" class=\"edge\">\n<title>90&#45;&gt;91</title>\n<path fill=\"none\" stroke=\"black\" d=\"M5078.53,-103.73C5073.86,-95.06 5068.92,-85.9 5064.23,-77.18\"/>\n<polygon fill=\"black\" stroke=\"black\" points=\"5067.27,-75.44 5059.44,-68.3 5061.1,-78.76 5067.27,-75.44\"/>\n</g>\n<!-- 92 -->\n<g id=\"node93\" class=\"node\">\n<title>92</title>\n<path fill=\"#e9965a\" stroke=\"black\" d=\"M5190,-68C5190,-68 5119,-68 5119,-68 5113,-68 5107,-62 5107,-56 5107,-56 5107,-12 5107,-12 5107,-6 5113,0 5119,0 5119,0 5190,0 5190,0 5196,0 5202,-6 5202,-12 5202,-12 5202,-56 5202,-56 5202,-62 5196,-68 5190,-68\"/>\n<text text-anchor=\"start\" x=\"5119\" y=\"-52.8\" font-family=\"Helvetica,sans-Serif\" font-size=\"14.00\">gini = 0.245</text>\n<text text-anchor=\"start\" x=\"5117\" y=\"-37.8\" font-family=\"Helvetica,sans-Serif\" font-size=\"14.00\">samples = 7</text>\n<text text-anchor=\"start\" x=\"5115\" y=\"-22.8\" font-family=\"Helvetica,sans-Serif\" font-size=\"14.00\">value = [6, 1]</text>\n<text text-anchor=\"start\" x=\"5127\" y=\"-7.8\" font-family=\"Helvetica,sans-Serif\" font-size=\"14.00\">class = 0</text>\n</g>\n<!-- 90&#45;&gt;92 -->\n<g id=\"edge92\" class=\"edge\">\n<title>90&#45;&gt;92</title>\n<path fill=\"none\" stroke=\"black\" d=\"M5120.61,-103.73C5124.84,-95.15 5129.31,-86.09 5133.56,-77.46\"/>\n<polygon fill=\"black\" stroke=\"black\" points=\"5136.79,-78.82 5138.08,-68.3 5130.52,-75.72 5136.79,-78.82\"/>\n</g>\n<!-- 94 -->\n<g id=\"node95\" class=\"node\">\n<title>94</title>\n<path fill=\"#399de5\" stroke=\"black\" d=\"M5310.5,-68C5310.5,-68 5232.5,-68 5232.5,-68 5226.5,-68 5220.5,-62 5220.5,-56 5220.5,-56 5220.5,-12 5220.5,-12 5220.5,-6 5226.5,0 5232.5,0 5232.5,0 5310.5,0 5310.5,0 5316.5,0 5322.5,-6 5322.5,-12 5322.5,-12 5322.5,-56 5322.5,-56 5322.5,-62 5316.5,-68 5310.5,-68\"/>\n<text text-anchor=\"start\" x=\"5243.5\" y=\"-52.8\" font-family=\"Helvetica,sans-Serif\" font-size=\"14.00\">gini = 0.0</text>\n<text text-anchor=\"start\" x=\"5230.5\" y=\"-37.8\" font-family=\"Helvetica,sans-Serif\" font-size=\"14.00\">samples = 15</text>\n<text text-anchor=\"start\" x=\"5228.5\" y=\"-22.8\" font-family=\"Helvetica,sans-Serif\" font-size=\"14.00\">value = [0, 15]</text>\n<text text-anchor=\"start\" x=\"5244\" y=\"-7.8\" font-family=\"Helvetica,sans-Serif\" font-size=\"14.00\">class = 1</text>\n</g>\n<!-- 93&#45;&gt;94 -->\n<g id=\"edge94\" class=\"edge\">\n<title>93&#45;&gt;94</title>\n<path fill=\"none\" stroke=\"black\" d=\"M5261.46,-103.73C5262.67,-95.43 5263.95,-86.67 5265.18,-78.28\"/>\n<polygon fill=\"black\" stroke=\"black\" points=\"5268.65,-78.7 5266.63,-68.3 5261.73,-77.69 5268.65,-78.7\"/>\n</g>\n<!-- 95 -->\n<g id=\"node96\" class=\"node\">\n<title>95</title>\n<path fill=\"#77bced\" stroke=\"black\" d=\"M5430.5,-68C5430.5,-68 5352.5,-68 5352.5,-68 5346.5,-68 5340.5,-62 5340.5,-56 5340.5,-56 5340.5,-12 5340.5,-12 5340.5,-6 5346.5,0 5352.5,0 5352.5,0 5430.5,0 5430.5,0 5436.5,0 5442.5,-6 5442.5,-12 5442.5,-12 5442.5,-56 5442.5,-56 5442.5,-62 5436.5,-68 5430.5,-68\"/>\n<text text-anchor=\"start\" x=\"5356\" y=\"-52.8\" font-family=\"Helvetica,sans-Serif\" font-size=\"14.00\">gini = 0.363</text>\n<text text-anchor=\"start\" x=\"5350.5\" y=\"-37.8\" font-family=\"Helvetica,sans-Serif\" font-size=\"14.00\">samples = 21</text>\n<text text-anchor=\"start\" x=\"5348.5\" y=\"-22.8\" font-family=\"Helvetica,sans-Serif\" font-size=\"14.00\">value = [5, 16]</text>\n<text text-anchor=\"start\" x=\"5364\" y=\"-7.8\" font-family=\"Helvetica,sans-Serif\" font-size=\"14.00\">class = 1</text>\n</g>\n<!-- 93&#45;&gt;95 -->\n<g id=\"edge95\" class=\"edge\">\n<title>93&#45;&gt;95</title>\n<path fill=\"none\" stroke=\"black\" d=\"M5306.14,-103.73C5317.92,-94.24 5330.45,-84.16 5342.17,-74.72\"/>\n<polygon fill=\"black\" stroke=\"black\" points=\"5344.55,-77.3 5350.14,-68.3 5340.16,-71.84 5344.55,-77.3\"/>\n</g>\n<!-- 97 -->\n<g id=\"node98\" class=\"node\">\n<title>97</title>\n<path fill=\"#399de5\" stroke=\"black\" d=\"M5408,-179.5C5408,-179.5 5337,-179.5 5337,-179.5 5331,-179.5 5325,-173.5 5325,-167.5 5325,-167.5 5325,-123.5 5325,-123.5 5325,-117.5 5331,-111.5 5337,-111.5 5337,-111.5 5408,-111.5 5408,-111.5 5414,-111.5 5420,-117.5 5420,-123.5 5420,-123.5 5420,-167.5 5420,-167.5 5420,-173.5 5414,-179.5 5408,-179.5\"/>\n<text text-anchor=\"start\" x=\"5344.5\" y=\"-164.3\" font-family=\"Helvetica,sans-Serif\" font-size=\"14.00\">gini = 0.0</text>\n<text text-anchor=\"start\" x=\"5335\" y=\"-149.3\" font-family=\"Helvetica,sans-Serif\" font-size=\"14.00\">samples = 2</text>\n<text text-anchor=\"start\" x=\"5333\" y=\"-134.3\" font-family=\"Helvetica,sans-Serif\" font-size=\"14.00\">value = [0, 2]</text>\n<text text-anchor=\"start\" x=\"5345\" y=\"-119.3\" font-family=\"Helvetica,sans-Serif\" font-size=\"14.00\">class = 1</text>\n</g>\n<!-- 96&#45;&gt;97 -->\n<g id=\"edge97\" class=\"edge\">\n<title>96&#45;&gt;97</title>\n<path fill=\"none\" stroke=\"black\" d=\"M5388.83,-222.91C5386.54,-212.2 5384.06,-200.62 5381.75,-189.78\"/>\n<polygon fill=\"black\" stroke=\"black\" points=\"5385.1,-188.71 5379.59,-179.67 5378.25,-190.18 5385.1,-188.71\"/>\n</g>\n<!-- 98 -->\n<g id=\"node99\" class=\"node\">\n<title>98</title>\n<path fill=\"#e58139\" stroke=\"black\" d=\"M5521,-179.5C5521,-179.5 5450,-179.5 5450,-179.5 5444,-179.5 5438,-173.5 5438,-167.5 5438,-167.5 5438,-123.5 5438,-123.5 5438,-117.5 5444,-111.5 5450,-111.5 5450,-111.5 5521,-111.5 5521,-111.5 5527,-111.5 5533,-117.5 5533,-123.5 5533,-123.5 5533,-167.5 5533,-167.5 5533,-173.5 5527,-179.5 5521,-179.5\"/>\n<text text-anchor=\"start\" x=\"5457.5\" y=\"-164.3\" font-family=\"Helvetica,sans-Serif\" font-size=\"14.00\">gini = 0.0</text>\n<text text-anchor=\"start\" x=\"5448\" y=\"-149.3\" font-family=\"Helvetica,sans-Serif\" font-size=\"14.00\">samples = 5</text>\n<text text-anchor=\"start\" x=\"5446\" y=\"-134.3\" font-family=\"Helvetica,sans-Serif\" font-size=\"14.00\">value = [5, 0]</text>\n<text text-anchor=\"start\" x=\"5458\" y=\"-119.3\" font-family=\"Helvetica,sans-Serif\" font-size=\"14.00\">class = 0</text>\n</g>\n<!-- 96&#45;&gt;98 -->\n<g id=\"edge98\" class=\"edge\">\n<title>96&#45;&gt;98</title>\n<path fill=\"none\" stroke=\"black\" d=\"M5428.03,-222.91C5436.58,-211.54 5445.88,-199.18 5454.46,-187.77\"/>\n<polygon fill=\"black\" stroke=\"black\" points=\"5457.34,-189.76 5460.55,-179.67 5451.75,-185.55 5457.34,-189.76\"/>\n</g>\n<!-- 100 -->\n<g id=\"node101\" class=\"node\">\n<title>100</title>\n<path fill=\"#eda673\" stroke=\"black\" d=\"M5727.5,-306C5727.5,-306 5599.5,-306 5599.5,-306 5593.5,-306 5587.5,-300 5587.5,-294 5587.5,-294 5587.5,-235 5587.5,-235 5587.5,-229 5593.5,-223 5599.5,-223 5599.5,-223 5727.5,-223 5727.5,-223 5733.5,-223 5739.5,-229 5739.5,-235 5739.5,-235 5739.5,-294 5739.5,-294 5739.5,-300 5733.5,-306 5727.5,-306\"/>\n<text text-anchor=\"start\" x=\"5595.5\" y=\"-290.8\" font-family=\"Helvetica,sans-Serif\" font-size=\"14.00\">TotalCharges ≤ 4623.5</text>\n<text text-anchor=\"start\" x=\"5631.5\" y=\"-275.8\" font-family=\"Helvetica,sans-Serif\" font-size=\"14.00\">gini = 0.35</text>\n<text text-anchor=\"start\" x=\"5622.5\" y=\"-260.8\" font-family=\"Helvetica,sans-Serif\" font-size=\"14.00\">samples = 93</text>\n<text text-anchor=\"start\" x=\"5616.5\" y=\"-245.8\" font-family=\"Helvetica,sans-Serif\" font-size=\"14.00\">value = [72, 21]</text>\n<text text-anchor=\"start\" x=\"5636\" y=\"-230.8\" font-family=\"Helvetica,sans-Serif\" font-size=\"14.00\">class = 0</text>\n</g>\n<!-- 99&#45;&gt;100 -->\n<g id=\"edge100\" class=\"edge\">\n<title>99&#45;&gt;100</title>\n<path fill=\"none\" stroke=\"black\" d=\"M5663.5,-341.91C5663.5,-333.65 5663.5,-324.86 5663.5,-316.3\"/>\n<polygon fill=\"black\" stroke=\"black\" points=\"5667,-316.02 5663.5,-306.02 5660,-316.02 5667,-316.02\"/>\n</g>\n<!-- 107 -->\n<g id=\"node108\" class=\"node\">\n<title>107</title>\n<path fill=\"#6ab6ec\" stroke=\"black\" d=\"M5979,-306C5979,-306 5824,-306 5824,-306 5818,-306 5812,-300 5812,-294 5812,-294 5812,-235 5812,-235 5812,-229 5818,-223 5824,-223 5824,-223 5979,-223 5979,-223 5985,-223 5991,-229 5991,-235 5991,-235 5991,-294 5991,-294 5991,-300 5985,-306 5979,-306\"/>\n<text text-anchor=\"start\" x=\"5820\" y=\"-290.8\" font-family=\"Helvetica,sans-Serif\" font-size=\"14.00\">MonthlyCharges ≤ 115.075</text>\n<text text-anchor=\"start\" x=\"5869.5\" y=\"-275.8\" font-family=\"Helvetica,sans-Serif\" font-size=\"14.00\">gini = 0.32</text>\n<text text-anchor=\"start\" x=\"5864\" y=\"-260.8\" font-family=\"Helvetica,sans-Serif\" font-size=\"14.00\">samples = 5</text>\n<text text-anchor=\"start\" x=\"5862\" y=\"-245.8\" font-family=\"Helvetica,sans-Serif\" font-size=\"14.00\">value = [1, 4]</text>\n<text text-anchor=\"start\" x=\"5874\" y=\"-230.8\" font-family=\"Helvetica,sans-Serif\" font-size=\"14.00\">class = 1</text>\n</g>\n<!-- 99&#45;&gt;107 -->\n<g id=\"edge107\" class=\"edge\">\n<title>99&#45;&gt;107</title>\n<path fill=\"none\" stroke=\"black\" d=\"M5746.07,-341.91C5766.66,-331.79 5788.85,-320.88 5809.84,-310.56\"/>\n<polygon fill=\"black\" stroke=\"black\" points=\"5811.64,-313.57 5819.07,-306.02 5808.55,-307.29 5811.64,-313.57\"/>\n</g>\n<!-- 101 -->\n<g id=\"node102\" class=\"node\">\n<title>101</title>\n<path fill=\"#f0b78e\" stroke=\"black\" d=\"M5649.5,-187C5649.5,-187 5563.5,-187 5563.5,-187 5557.5,-187 5551.5,-181 5551.5,-175 5551.5,-175 5551.5,-116 5551.5,-116 5551.5,-110 5557.5,-104 5563.5,-104 5563.5,-104 5649.5,-104 5649.5,-104 5655.5,-104 5661.5,-110 5661.5,-116 5661.5,-116 5661.5,-175 5661.5,-175 5661.5,-181 5655.5,-187 5649.5,-187\"/>\n<text text-anchor=\"start\" x=\"5566.5\" y=\"-171.8\" font-family=\"Helvetica,sans-Serif\" font-size=\"14.00\">tenure ≤ 50.5</text>\n<text text-anchor=\"start\" x=\"5574.5\" y=\"-156.8\" font-family=\"Helvetica,sans-Serif\" font-size=\"14.00\">gini = 0.42</text>\n<text text-anchor=\"start\" x=\"5565.5\" y=\"-141.8\" font-family=\"Helvetica,sans-Serif\" font-size=\"14.00\">samples = 60</text>\n<text text-anchor=\"start\" x=\"5559.5\" y=\"-126.8\" font-family=\"Helvetica,sans-Serif\" font-size=\"14.00\">value = [42, 18]</text>\n<text text-anchor=\"start\" x=\"5579\" y=\"-111.8\" font-family=\"Helvetica,sans-Serif\" font-size=\"14.00\">class = 0</text>\n</g>\n<!-- 100&#45;&gt;101 -->\n<g id=\"edge101\" class=\"edge\">\n<title>100&#45;&gt;101</title>\n<path fill=\"none\" stroke=\"black\" d=\"M5643.72,-222.91C5639.52,-214.29 5635.04,-205.09 5630.7,-196.17\"/>\n<polygon fill=\"black\" stroke=\"black\" points=\"5633.77,-194.48 5626.24,-187.02 5627.47,-197.54 5633.77,-194.48\"/>\n</g>\n<!-- 104 -->\n<g id=\"node105\" class=\"node\">\n<title>104</title>\n<path fill=\"#e88e4d\" stroke=\"black\" d=\"M5823.5,-187C5823.5,-187 5691.5,-187 5691.5,-187 5685.5,-187 5679.5,-181 5679.5,-175 5679.5,-175 5679.5,-116 5679.5,-116 5679.5,-110 5685.5,-104 5691.5,-104 5691.5,-104 5823.5,-104 5823.5,-104 5829.5,-104 5835.5,-110 5835.5,-116 5835.5,-116 5835.5,-175 5835.5,-175 5835.5,-181 5829.5,-187 5823.5,-187\"/>\n<text text-anchor=\"start\" x=\"5687.5\" y=\"-171.8\" font-family=\"Helvetica,sans-Serif\" font-size=\"14.00\">StreamingMovies ≤ 1.0</text>\n<text text-anchor=\"start\" x=\"5722\" y=\"-156.8\" font-family=\"Helvetica,sans-Serif\" font-size=\"14.00\">gini = 0.165</text>\n<text text-anchor=\"start\" x=\"5716.5\" y=\"-141.8\" font-family=\"Helvetica,sans-Serif\" font-size=\"14.00\">samples = 33</text>\n<text text-anchor=\"start\" x=\"5714.5\" y=\"-126.8\" font-family=\"Helvetica,sans-Serif\" font-size=\"14.00\">value = [30, 3]</text>\n<text text-anchor=\"start\" x=\"5730\" y=\"-111.8\" font-family=\"Helvetica,sans-Serif\" font-size=\"14.00\">class = 0</text>\n</g>\n<!-- 100&#45;&gt;104 -->\n<g id=\"edge104\" class=\"edge\">\n<title>100&#45;&gt;104</title>\n<path fill=\"none\" stroke=\"black\" d=\"M5696.11,-222.91C5703.33,-213.92 5711.05,-204.32 5718.49,-195.05\"/>\n<polygon fill=\"black\" stroke=\"black\" points=\"5721.41,-197.01 5724.94,-187.02 5715.95,-192.62 5721.41,-197.01\"/>\n</g>\n<!-- 102 -->\n<g id=\"node103\" class=\"node\">\n<title>102</title>\n<path fill=\"#eeab7b\" stroke=\"black\" d=\"M5559.5,-68C5559.5,-68 5473.5,-68 5473.5,-68 5467.5,-68 5461.5,-62 5461.5,-56 5461.5,-56 5461.5,-12 5461.5,-12 5461.5,-6 5467.5,0 5473.5,0 5473.5,0 5559.5,0 5559.5,0 5565.5,0 5571.5,-6 5571.5,-12 5571.5,-12 5571.5,-56 5571.5,-56 5571.5,-62 5565.5,-68 5559.5,-68\"/>\n<text text-anchor=\"start\" x=\"5481\" y=\"-52.8\" font-family=\"Helvetica,sans-Serif\" font-size=\"14.00\">gini = 0.375</text>\n<text text-anchor=\"start\" x=\"5475.5\" y=\"-37.8\" font-family=\"Helvetica,sans-Serif\" font-size=\"14.00\">samples = 52</text>\n<text text-anchor=\"start\" x=\"5469.5\" y=\"-22.8\" font-family=\"Helvetica,sans-Serif\" font-size=\"14.00\">value = [39, 13]</text>\n<text text-anchor=\"start\" x=\"5489\" y=\"-7.8\" font-family=\"Helvetica,sans-Serif\" font-size=\"14.00\">class = 0</text>\n</g>\n<!-- 101&#45;&gt;102 -->\n<g id=\"edge102\" class=\"edge\">\n<title>101&#45;&gt;102</title>\n<path fill=\"none\" stroke=\"black\" d=\"M5572.99,-103.73C5565.57,-94.7 5557.7,-85.12 5550.27,-76.08\"/>\n<polygon fill=\"black\" stroke=\"black\" points=\"5552.92,-73.8 5543.87,-68.3 5547.52,-78.25 5552.92,-73.8\"/>\n</g>\n<!-- 103 -->\n<g id=\"node104\" class=\"node\">\n<title>103</title>\n<path fill=\"#b0d8f5\" stroke=\"black\" d=\"M5673,-68C5673,-68 5602,-68 5602,-68 5596,-68 5590,-62 5590,-56 5590,-56 5590,-12 5590,-12 5590,-6 5596,0 5602,0 5602,0 5673,0 5673,0 5679,0 5685,-6 5685,-12 5685,-12 5685,-56 5685,-56 5685,-62 5679,-68 5673,-68\"/>\n<text text-anchor=\"start\" x=\"5602\" y=\"-52.8\" font-family=\"Helvetica,sans-Serif\" font-size=\"14.00\">gini = 0.469</text>\n<text text-anchor=\"start\" x=\"5600\" y=\"-37.8\" font-family=\"Helvetica,sans-Serif\" font-size=\"14.00\">samples = 8</text>\n<text text-anchor=\"start\" x=\"5598\" y=\"-22.8\" font-family=\"Helvetica,sans-Serif\" font-size=\"14.00\">value = [3, 5]</text>\n<text text-anchor=\"start\" x=\"5610\" y=\"-7.8\" font-family=\"Helvetica,sans-Serif\" font-size=\"14.00\">class = 1</text>\n</g>\n<!-- 101&#45;&gt;103 -->\n<g id=\"edge103\" class=\"edge\">\n<title>101&#45;&gt;103</title>\n<path fill=\"none\" stroke=\"black\" d=\"M5618.04,-103.73C5620.42,-95.34 5622.93,-86.47 5625.32,-78.01\"/>\n<polygon fill=\"black\" stroke=\"black\" points=\"5628.72,-78.87 5628.07,-68.3 5621.98,-76.97 5628.72,-78.87\"/>\n</g>\n<!-- 105 -->\n<g id=\"node106\" class=\"node\">\n<title>105</title>\n<path fill=\"#eeab7b\" stroke=\"black\" d=\"M5787,-68C5787,-68 5716,-68 5716,-68 5710,-68 5704,-62 5704,-56 5704,-56 5704,-12 5704,-12 5704,-6 5710,0 5716,0 5716,0 5787,0 5787,0 5793,0 5799,-6 5799,-12 5799,-12 5799,-56 5799,-56 5799,-62 5793,-68 5787,-68\"/>\n<text text-anchor=\"start\" x=\"5716\" y=\"-52.8\" font-family=\"Helvetica,sans-Serif\" font-size=\"14.00\">gini = 0.375</text>\n<text text-anchor=\"start\" x=\"5714\" y=\"-37.8\" font-family=\"Helvetica,sans-Serif\" font-size=\"14.00\">samples = 8</text>\n<text text-anchor=\"start\" x=\"5712\" y=\"-22.8\" font-family=\"Helvetica,sans-Serif\" font-size=\"14.00\">value = [6, 2]</text>\n<text text-anchor=\"start\" x=\"5724\" y=\"-7.8\" font-family=\"Helvetica,sans-Serif\" font-size=\"14.00\">class = 0</text>\n</g>\n<!-- 104&#45;&gt;105 -->\n<g id=\"edge105\" class=\"edge\">\n<title>104&#45;&gt;105</title>\n<path fill=\"none\" stroke=\"black\" d=\"M5755.27,-103.73C5754.82,-95.52 5754.34,-86.86 5753.89,-78.56\"/>\n<polygon fill=\"black\" stroke=\"black\" points=\"5757.37,-78.09 5753.32,-68.3 5750.38,-78.48 5757.37,-78.09\"/>\n</g>\n<!-- 106 -->\n<g id=\"node107\" class=\"node\">\n<title>106</title>\n<path fill=\"#e68641\" stroke=\"black\" d=\"M5907.5,-68C5907.5,-68 5829.5,-68 5829.5,-68 5823.5,-68 5817.5,-62 5817.5,-56 5817.5,-56 5817.5,-12 5817.5,-12 5817.5,-6 5823.5,0 5829.5,0 5829.5,0 5907.5,0 5907.5,0 5913.5,0 5919.5,-6 5919.5,-12 5919.5,-12 5919.5,-56 5919.5,-56 5919.5,-62 5913.5,-68 5907.5,-68\"/>\n<text text-anchor=\"start\" x=\"5833\" y=\"-52.8\" font-family=\"Helvetica,sans-Serif\" font-size=\"14.00\">gini = 0.077</text>\n<text text-anchor=\"start\" x=\"5827.5\" y=\"-37.8\" font-family=\"Helvetica,sans-Serif\" font-size=\"14.00\">samples = 25</text>\n<text text-anchor=\"start\" x=\"5825.5\" y=\"-22.8\" font-family=\"Helvetica,sans-Serif\" font-size=\"14.00\">value = [24, 1]</text>\n<text text-anchor=\"start\" x=\"5841\" y=\"-7.8\" font-family=\"Helvetica,sans-Serif\" font-size=\"14.00\">class = 0</text>\n</g>\n<!-- 104&#45;&gt;106 -->\n<g id=\"edge106\" class=\"edge\">\n<title>104&#45;&gt;106</title>\n<path fill=\"none\" stroke=\"black\" d=\"M5798.83,-103.73C5808.17,-94.51 5818.08,-84.74 5827.41,-75.53\"/>\n<polygon fill=\"black\" stroke=\"black\" points=\"5830.08,-77.81 5834.74,-68.3 5825.17,-72.83 5830.08,-77.81\"/>\n</g>\n<!-- 108 -->\n<g id=\"node109\" class=\"node\">\n<title>108</title>\n<path fill=\"#399de5\" stroke=\"black\" d=\"M5937,-179.5C5937,-179.5 5866,-179.5 5866,-179.5 5860,-179.5 5854,-173.5 5854,-167.5 5854,-167.5 5854,-123.5 5854,-123.5 5854,-117.5 5860,-111.5 5866,-111.5 5866,-111.5 5937,-111.5 5937,-111.5 5943,-111.5 5949,-117.5 5949,-123.5 5949,-123.5 5949,-167.5 5949,-167.5 5949,-173.5 5943,-179.5 5937,-179.5\"/>\n<text text-anchor=\"start\" x=\"5873.5\" y=\"-164.3\" font-family=\"Helvetica,sans-Serif\" font-size=\"14.00\">gini = 0.0</text>\n<text text-anchor=\"start\" x=\"5864\" y=\"-149.3\" font-family=\"Helvetica,sans-Serif\" font-size=\"14.00\">samples = 3</text>\n<text text-anchor=\"start\" x=\"5862\" y=\"-134.3\" font-family=\"Helvetica,sans-Serif\" font-size=\"14.00\">value = [0, 3]</text>\n<text text-anchor=\"start\" x=\"5874\" y=\"-119.3\" font-family=\"Helvetica,sans-Serif\" font-size=\"14.00\">class = 1</text>\n</g>\n<!-- 107&#45;&gt;108 -->\n<g id=\"edge108\" class=\"edge\">\n<title>107&#45;&gt;108</title>\n<path fill=\"none\" stroke=\"black\" d=\"M5901.5,-222.91C5901.5,-212.2 5901.5,-200.62 5901.5,-189.78\"/>\n<polygon fill=\"black\" stroke=\"black\" points=\"5905,-189.67 5901.5,-179.67 5898,-189.67 5905,-189.67\"/>\n</g>\n<!-- 109 -->\n<g id=\"node110\" class=\"node\">\n<title>109</title>\n<path fill=\"#ffffff\" stroke=\"black\" d=\"M6050,-179.5C6050,-179.5 5979,-179.5 5979,-179.5 5973,-179.5 5967,-173.5 5967,-167.5 5967,-167.5 5967,-123.5 5967,-123.5 5967,-117.5 5973,-111.5 5979,-111.5 5979,-111.5 6050,-111.5 6050,-111.5 6056,-111.5 6062,-117.5 6062,-123.5 6062,-123.5 6062,-167.5 6062,-167.5 6062,-173.5 6056,-179.5 6050,-179.5\"/>\n<text text-anchor=\"start\" x=\"5986.5\" y=\"-164.3\" font-family=\"Helvetica,sans-Serif\" font-size=\"14.00\">gini = 0.5</text>\n<text text-anchor=\"start\" x=\"5977\" y=\"-149.3\" font-family=\"Helvetica,sans-Serif\" font-size=\"14.00\">samples = 2</text>\n<text text-anchor=\"start\" x=\"5975\" y=\"-134.3\" font-family=\"Helvetica,sans-Serif\" font-size=\"14.00\">value = [1, 1]</text>\n<text text-anchor=\"start\" x=\"5987\" y=\"-119.3\" font-family=\"Helvetica,sans-Serif\" font-size=\"14.00\">class = 0</text>\n</g>\n<!-- 107&#45;&gt;109 -->\n<g id=\"edge109\" class=\"edge\">\n<title>107&#45;&gt;109</title>\n<path fill=\"none\" stroke=\"black\" d=\"M5940.7,-222.91C5951.89,-211.32 5964.09,-198.7 5975.28,-187.11\"/>\n<polygon fill=\"black\" stroke=\"black\" points=\"5978.04,-189.29 5982.47,-179.67 5973,-184.43 5978.04,-189.29\"/>\n</g>\n<!-- 111 -->\n<g id=\"node112\" class=\"node\">\n<title>111</title>\n<path fill=\"#e68641\" stroke=\"black\" d=\"M7492,-663C7492,-663 7391,-663 7391,-663 7385,-663 7379,-657 7379,-651 7379,-651 7379,-592 7379,-592 7379,-586 7385,-580 7391,-580 7391,-580 7492,-580 7492,-580 7498,-580 7504,-586 7504,-592 7504,-592 7504,-651 7504,-651 7504,-657 7498,-663 7492,-663\"/>\n<text text-anchor=\"start\" x=\"7399\" y=\"-647.8\" font-family=\"Helvetica,sans-Serif\" font-size=\"14.00\">Contract ≤ 1.5</text>\n<text text-anchor=\"start\" x=\"7406\" y=\"-632.8\" font-family=\"Helvetica,sans-Serif\" font-size=\"14.00\">gini = 0.077</text>\n<text text-anchor=\"start\" x=\"7393\" y=\"-617.8\" font-family=\"Helvetica,sans-Serif\" font-size=\"14.00\">samples = 1927</text>\n<text text-anchor=\"start\" x=\"7387\" y=\"-602.8\" font-family=\"Helvetica,sans-Serif\" font-size=\"14.00\">value = [1850, 77]</text>\n<text text-anchor=\"start\" x=\"7414\" y=\"-587.8\" font-family=\"Helvetica,sans-Serif\" font-size=\"14.00\">class = 0</text>\n</g>\n<!-- 110&#45;&gt;111 -->\n<g id=\"edge111\" class=\"edge\">\n<title>110&#45;&gt;111</title>\n<path fill=\"none\" stroke=\"black\" d=\"M7441.5,-698.91C7441.5,-690.65 7441.5,-681.86 7441.5,-673.3\"/>\n<polygon fill=\"black\" stroke=\"black\" points=\"7445,-673.02 7441.5,-663.02 7438,-673.02 7445,-673.02\"/>\n</g>\n<!-- 150 -->\n<g id=\"node151\" class=\"node\">\n<title>150</title>\n<path fill=\"#ea9a61\" stroke=\"black\" d=\"M8255,-663C8255,-663 8154,-663 8154,-663 8148,-663 8142,-657 8142,-651 8142,-651 8142,-592 8142,-592 8142,-586 8148,-580 8154,-580 8154,-580 8255,-580 8255,-580 8261,-580 8267,-586 8267,-592 8267,-592 8267,-651 8267,-651 8267,-657 8261,-663 8255,-663\"/>\n<text text-anchor=\"start\" x=\"8162\" y=\"-647.8\" font-family=\"Helvetica,sans-Serif\" font-size=\"14.00\">Contract ≤ 1.5</text>\n<text text-anchor=\"start\" x=\"8169\" y=\"-632.8\" font-family=\"Helvetica,sans-Serif\" font-size=\"14.00\">gini = 0.278</text>\n<text text-anchor=\"start\" x=\"8159.5\" y=\"-617.8\" font-family=\"Helvetica,sans-Serif\" font-size=\"14.00\">samples = 624</text>\n<text text-anchor=\"start\" x=\"8150\" y=\"-602.8\" font-family=\"Helvetica,sans-Serif\" font-size=\"14.00\">value = [520, 104]</text>\n<text text-anchor=\"start\" x=\"8177\" y=\"-587.8\" font-family=\"Helvetica,sans-Serif\" font-size=\"14.00\">class = 0</text>\n</g>\n<!-- 110&#45;&gt;150 -->\n<g id=\"edge150\" class=\"edge\">\n<title>110&#45;&gt;150</title>\n<path fill=\"none\" stroke=\"black\" d=\"M7527.54,-726.31C7678.87,-703.1 7990.01,-655.39 8131.53,-633.69\"/>\n<polygon fill=\"black\" stroke=\"black\" points=\"8132.48,-637.08 8141.83,-632.11 8131.42,-630.17 8132.48,-637.08\"/>\n</g>\n<!-- 112 -->\n<g id=\"node113\" class=\"node\">\n<title>112</title>\n<path fill=\"#e78b49\" stroke=\"black\" d=\"M7300.5,-544C7300.5,-544 7168.5,-544 7168.5,-544 7162.5,-544 7156.5,-538 7156.5,-532 7156.5,-532 7156.5,-473 7156.5,-473 7156.5,-467 7162.5,-461 7168.5,-461 7168.5,-461 7300.5,-461 7300.5,-461 7306.5,-461 7312.5,-467 7312.5,-473 7312.5,-473 7312.5,-532 7312.5,-532 7312.5,-538 7306.5,-544 7300.5,-544\"/>\n<text text-anchor=\"start\" x=\"7164.5\" y=\"-528.8\" font-family=\"Helvetica,sans-Serif\" font-size=\"14.00\">StreamingMovies ≤ 1.5</text>\n<text text-anchor=\"start\" x=\"7199\" y=\"-513.8\" font-family=\"Helvetica,sans-Serif\" font-size=\"14.00\">gini = 0.136</text>\n<text text-anchor=\"start\" x=\"7189.5\" y=\"-498.8\" font-family=\"Helvetica,sans-Serif\" font-size=\"14.00\">samples = 887</text>\n<text text-anchor=\"start\" x=\"7184\" y=\"-483.8\" font-family=\"Helvetica,sans-Serif\" font-size=\"14.00\">value = [822, 65]</text>\n<text text-anchor=\"start\" x=\"7207\" y=\"-468.8\" font-family=\"Helvetica,sans-Serif\" font-size=\"14.00\">class = 0</text>\n</g>\n<!-- 111&#45;&gt;112 -->\n<g id=\"edge112\" class=\"edge\">\n<title>111&#45;&gt;112</title>\n<path fill=\"none\" stroke=\"black\" d=\"M7378.83,-585.08C7358.84,-573.78 7336.43,-561.11 7315.34,-549.19\"/>\n<polygon fill=\"black\" stroke=\"black\" points=\"7316.82,-546.01 7306.39,-544.13 7313.37,-552.1 7316.82,-546.01\"/>\n</g>\n<!-- 139 -->\n<g id=\"node140\" class=\"node\">\n<title>139</title>\n<path fill=\"#e5823b\" stroke=\"black\" d=\"M7630.5,-544C7630.5,-544 7482.5,-544 7482.5,-544 7476.5,-544 7470.5,-538 7470.5,-532 7470.5,-532 7470.5,-473 7470.5,-473 7470.5,-467 7476.5,-461 7482.5,-461 7482.5,-461 7630.5,-461 7630.5,-461 7636.5,-461 7642.5,-467 7642.5,-473 7642.5,-473 7642.5,-532 7642.5,-532 7642.5,-538 7636.5,-544 7630.5,-544\"/>\n<text text-anchor=\"start\" x=\"7478.5\" y=\"-528.8\" font-family=\"Helvetica,sans-Serif\" font-size=\"14.00\">MonthlyCharges ≤ 79.725</text>\n<text text-anchor=\"start\" x=\"7521\" y=\"-513.8\" font-family=\"Helvetica,sans-Serif\" font-size=\"14.00\">gini = 0.023</text>\n<text text-anchor=\"start\" x=\"7508\" y=\"-498.8\" font-family=\"Helvetica,sans-Serif\" font-size=\"14.00\">samples = 1040</text>\n<text text-anchor=\"start\" x=\"7502\" y=\"-483.8\" font-family=\"Helvetica,sans-Serif\" font-size=\"14.00\">value = [1028, 12]</text>\n<text text-anchor=\"start\" x=\"7529\" y=\"-468.8\" font-family=\"Helvetica,sans-Serif\" font-size=\"14.00\">class = 0</text>\n</g>\n<!-- 111&#45;&gt;139 -->\n<g id=\"edge139\" class=\"edge\">\n<title>111&#45;&gt;139</title>\n<path fill=\"none\" stroke=\"black\" d=\"M7481.4,-579.91C7490.5,-570.65 7500.25,-560.73 7509.61,-551.21\"/>\n<polygon fill=\"black\" stroke=\"black\" points=\"7512.16,-553.61 7516.67,-544.02 7507.17,-548.7 7512.16,-553.61\"/>\n</g>\n<!-- 113 -->\n<g id=\"node114\" class=\"node\">\n<title>113</title>\n<path fill=\"#e68742\" stroke=\"black\" d=\"M6701,-425C6701,-425 6568,-425 6568,-425 6562,-425 6556,-419 6556,-413 6556,-413 6556,-354 6556,-354 6556,-348 6562,-342 6568,-342 6568,-342 6701,-342 6701,-342 6707,-342 6713,-348 6713,-354 6713,-354 6713,-413 6713,-413 6713,-419 6707,-425 6701,-425\"/>\n<text text-anchor=\"start\" x=\"6564\" y=\"-409.8\" font-family=\"Helvetica,sans-Serif\" font-size=\"14.00\">MonthlyCharges ≤ 59.7</text>\n<text text-anchor=\"start\" x=\"6599\" y=\"-394.8\" font-family=\"Helvetica,sans-Serif\" font-size=\"14.00\">gini = 0.087</text>\n<text text-anchor=\"start\" x=\"6589.5\" y=\"-379.8\" font-family=\"Helvetica,sans-Serif\" font-size=\"14.00\">samples = 636</text>\n<text text-anchor=\"start\" x=\"6572.5\" y=\"-364.8\" font-family=\"Helvetica,sans-Serif\" font-size=\"14.00\">value = [607.0, 29.0]</text>\n<text text-anchor=\"start\" x=\"6607\" y=\"-349.8\" font-family=\"Helvetica,sans-Serif\" font-size=\"14.00\">class = 0</text>\n</g>\n<!-- 112&#45;&gt;113 -->\n<g id=\"edge113\" class=\"edge\">\n<title>112&#45;&gt;113</title>\n<path fill=\"none\" stroke=\"black\" d=\"M7156.37,-486.26C7044.74,-464.5 6840.18,-424.61 6723.06,-401.77\"/>\n<polygon fill=\"black\" stroke=\"black\" points=\"6723.53,-398.3 6713.05,-399.82 6722.19,-405.17 6723.53,-398.3\"/>\n</g>\n<!-- 128 -->\n<g id=\"node129\" class=\"node\">\n<title>128</title>\n<path fill=\"#e9965a\" stroke=\"black\" d=\"M7298.5,-425C7298.5,-425 7170.5,-425 7170.5,-425 7164.5,-425 7158.5,-419 7158.5,-413 7158.5,-413 7158.5,-354 7158.5,-354 7158.5,-348 7164.5,-342 7170.5,-342 7170.5,-342 7298.5,-342 7298.5,-342 7304.5,-342 7310.5,-348 7310.5,-354 7310.5,-354 7310.5,-413 7310.5,-413 7310.5,-419 7304.5,-425 7298.5,-425\"/>\n<text text-anchor=\"start\" x=\"7166.5\" y=\"-409.8\" font-family=\"Helvetica,sans-Serif\" font-size=\"14.00\">TotalCharges ≤ 6296.0</text>\n<text text-anchor=\"start\" x=\"7199\" y=\"-394.8\" font-family=\"Helvetica,sans-Serif\" font-size=\"14.00\">gini = 0.246</text>\n<text text-anchor=\"start\" x=\"7189.5\" y=\"-379.8\" font-family=\"Helvetica,sans-Serif\" font-size=\"14.00\">samples = 251</text>\n<text text-anchor=\"start\" x=\"7184\" y=\"-364.8\" font-family=\"Helvetica,sans-Serif\" font-size=\"14.00\">value = [215, 36]</text>\n<text text-anchor=\"start\" x=\"7207\" y=\"-349.8\" font-family=\"Helvetica,sans-Serif\" font-size=\"14.00\">class = 0</text>\n</g>\n<!-- 112&#45;&gt;128 -->\n<g id=\"edge128\" class=\"edge\">\n<title>112&#45;&gt;128</title>\n<path fill=\"none\" stroke=\"black\" d=\"M7234.5,-460.91C7234.5,-452.65 7234.5,-443.86 7234.5,-435.3\"/>\n<polygon fill=\"black\" stroke=\"black\" points=\"7238,-435.02 7234.5,-425.02 7231,-435.02 7238,-435.02\"/>\n</g>\n<!-- 114 -->\n<g id=\"node115\" class=\"node\">\n<title>114</title>\n<path fill=\"#e6853f\" stroke=\"black\" d=\"M6376,-306C6376,-306 6283,-306 6283,-306 6277,-306 6271,-300 6271,-294 6271,-294 6271,-235 6271,-235 6271,-229 6277,-223 6283,-223 6283,-223 6376,-223 6376,-223 6382,-223 6388,-229 6388,-235 6388,-235 6388,-294 6388,-294 6388,-300 6382,-306 6376,-306\"/>\n<text text-anchor=\"start\" x=\"6293\" y=\"-290.8\" font-family=\"Helvetica,sans-Serif\" font-size=\"14.00\">tenure ≤ 2.5</text>\n<text text-anchor=\"start\" x=\"6297.5\" y=\"-275.8\" font-family=\"Helvetica,sans-Serif\" font-size=\"14.00\">gini = 0.06</text>\n<text text-anchor=\"start\" x=\"6284.5\" y=\"-260.8\" font-family=\"Helvetica,sans-Serif\" font-size=\"14.00\">samples = 451</text>\n<text text-anchor=\"start\" x=\"6279\" y=\"-245.8\" font-family=\"Helvetica,sans-Serif\" font-size=\"14.00\">value = [437, 14]</text>\n<text text-anchor=\"start\" x=\"6302\" y=\"-230.8\" font-family=\"Helvetica,sans-Serif\" font-size=\"14.00\">class = 0</text>\n</g>\n<!-- 113&#45;&gt;114 -->\n<g id=\"edge114\" class=\"edge\">\n<title>113&#45;&gt;114</title>\n<path fill=\"none\" stroke=\"black\" d=\"M6555.95,-352.37C6506.91,-333.56 6444.41,-309.58 6397.49,-291.58\"/>\n<polygon fill=\"black\" stroke=\"black\" points=\"6398.62,-288.27 6388.03,-287.95 6396.11,-294.8 6398.62,-288.27\"/>\n</g>\n<!-- 121 -->\n<g id=\"node122\" class=\"node\">\n<title>121</title>\n<path fill=\"#e78c4a\" stroke=\"black\" d=\"M6708.5,-306C6708.5,-306 6560.5,-306 6560.5,-306 6554.5,-306 6548.5,-300 6548.5,-294 6548.5,-294 6548.5,-235 6548.5,-235 6548.5,-229 6554.5,-223 6560.5,-223 6560.5,-223 6708.5,-223 6708.5,-223 6714.5,-223 6720.5,-229 6720.5,-235 6720.5,-235 6720.5,-294 6720.5,-294 6720.5,-300 6714.5,-306 6708.5,-306\"/>\n<text text-anchor=\"start\" x=\"6556.5\" y=\"-290.8\" font-family=\"Helvetica,sans-Serif\" font-size=\"14.00\">MonthlyCharges ≤ 60.425</text>\n<text text-anchor=\"start\" x=\"6599\" y=\"-275.8\" font-family=\"Helvetica,sans-Serif\" font-size=\"14.00\">gini = 0.149</text>\n<text text-anchor=\"start\" x=\"6589.5\" y=\"-260.8\" font-family=\"Helvetica,sans-Serif\" font-size=\"14.00\">samples = 185</text>\n<text text-anchor=\"start\" x=\"6584\" y=\"-245.8\" font-family=\"Helvetica,sans-Serif\" font-size=\"14.00\">value = [170, 15]</text>\n<text text-anchor=\"start\" x=\"6607\" y=\"-230.8\" font-family=\"Helvetica,sans-Serif\" font-size=\"14.00\">class = 0</text>\n</g>\n<!-- 113&#45;&gt;121 -->\n<g id=\"edge121\" class=\"edge\">\n<title>113&#45;&gt;121</title>\n<path fill=\"none\" stroke=\"black\" d=\"M6634.5,-341.91C6634.5,-333.65 6634.5,-324.86 6634.5,-316.3\"/>\n<polygon fill=\"black\" stroke=\"black\" points=\"6638,-316.02 6634.5,-306.02 6631,-316.02 6638,-316.02\"/>\n</g>\n<!-- 115 -->\n<g id=\"node116\" class=\"node\">\n<title>115</title>\n<path fill=\"#ea985d\" stroke=\"black\" d=\"M6225,-187C6225,-187 6092,-187 6092,-187 6086,-187 6080,-181 6080,-175 6080,-175 6080,-116 6080,-116 6080,-110 6086,-104 6092,-104 6092,-104 6225,-104 6225,-104 6231,-104 6237,-110 6237,-116 6237,-116 6237,-175 6237,-175 6237,-181 6231,-187 6225,-187\"/>\n<text text-anchor=\"start\" x=\"6088\" y=\"-171.8\" font-family=\"Helvetica,sans-Serif\" font-size=\"14.00\">MonthlyCharges ≤ 19.9</text>\n<text text-anchor=\"start\" x=\"6126.5\" y=\"-156.8\" font-family=\"Helvetica,sans-Serif\" font-size=\"14.00\">gini = 0.26</text>\n<text text-anchor=\"start\" x=\"6117.5\" y=\"-141.8\" font-family=\"Helvetica,sans-Serif\" font-size=\"14.00\">samples = 13</text>\n<text text-anchor=\"start\" x=\"6115.5\" y=\"-126.8\" font-family=\"Helvetica,sans-Serif\" font-size=\"14.00\">value = [11, 2]</text>\n<text text-anchor=\"start\" x=\"6131\" y=\"-111.8\" font-family=\"Helvetica,sans-Serif\" font-size=\"14.00\">class = 0</text>\n</g>\n<!-- 114&#45;&gt;115 -->\n<g id=\"edge115\" class=\"edge\">\n<title>114&#45;&gt;115</title>\n<path fill=\"none\" stroke=\"black\" d=\"M6270.65,-223.24C6256.36,-213.45 6240.96,-202.92 6226.29,-192.88\"/>\n<polygon fill=\"black\" stroke=\"black\" points=\"6227.98,-189.8 6217.75,-187.04 6224.02,-195.57 6227.98,-189.8\"/>\n</g>\n<!-- 118 -->\n<g id=\"node119\" class=\"node\">\n<title>118</title>\n<path fill=\"#e6853f\" stroke=\"black\" d=\"M6387,-187C6387,-187 6272,-187 6272,-187 6266,-187 6260,-181 6260,-175 6260,-175 6260,-116 6260,-116 6260,-110 6266,-104 6272,-104 6272,-104 6387,-104 6387,-104 6393,-104 6399,-110 6399,-116 6399,-116 6399,-175 6399,-175 6399,-181 6393,-187 6387,-187\"/>\n<text text-anchor=\"start\" x=\"6268\" y=\"-171.8\" font-family=\"Helvetica,sans-Serif\" font-size=\"14.00\">OnlineSecurity ≤ 0.5</text>\n<text text-anchor=\"start\" x=\"6294\" y=\"-156.8\" font-family=\"Helvetica,sans-Serif\" font-size=\"14.00\">gini = 0.053</text>\n<text text-anchor=\"start\" x=\"6284.5\" y=\"-141.8\" font-family=\"Helvetica,sans-Serif\" font-size=\"14.00\">samples = 438</text>\n<text text-anchor=\"start\" x=\"6279\" y=\"-126.8\" font-family=\"Helvetica,sans-Serif\" font-size=\"14.00\">value = [426, 12]</text>\n<text text-anchor=\"start\" x=\"6302\" y=\"-111.8\" font-family=\"Helvetica,sans-Serif\" font-size=\"14.00\">class = 0</text>\n</g>\n<!-- 114&#45;&gt;118 -->\n<g id=\"edge118\" class=\"edge\">\n<title>114&#45;&gt;118</title>\n<path fill=\"none\" stroke=\"black\" d=\"M6329.5,-222.91C6329.5,-214.65 6329.5,-205.86 6329.5,-197.3\"/>\n<polygon fill=\"black\" stroke=\"black\" points=\"6333,-197.02 6329.5,-187.02 6326,-197.02 6333,-197.02\"/>\n</g>\n<!-- 116 -->\n<g id=\"node117\" class=\"node\">\n<title>116</title>\n<path fill=\"#f6d5bd\" stroke=\"black\" d=\"M6021,-68C6021,-68 5950,-68 5950,-68 5944,-68 5938,-62 5938,-56 5938,-56 5938,-12 5938,-12 5938,-6 5944,0 5950,0 5950,0 6021,0 6021,0 6027,0 6033,-6 6033,-12 6033,-12 6033,-56 6033,-56 6033,-62 6027,-68 6021,-68\"/>\n<text text-anchor=\"start\" x=\"5953.5\" y=\"-52.8\" font-family=\"Helvetica,sans-Serif\" font-size=\"14.00\">gini = 0.48</text>\n<text text-anchor=\"start\" x=\"5948\" y=\"-37.8\" font-family=\"Helvetica,sans-Serif\" font-size=\"14.00\">samples = 5</text>\n<text text-anchor=\"start\" x=\"5946\" y=\"-22.8\" font-family=\"Helvetica,sans-Serif\" font-size=\"14.00\">value = [3, 2]</text>\n<text text-anchor=\"start\" x=\"5958\" y=\"-7.8\" font-family=\"Helvetica,sans-Serif\" font-size=\"14.00\">class = 0</text>\n</g>\n<!-- 115&#45;&gt;116 -->\n<g id=\"edge116\" class=\"edge\">\n<title>115&#45;&gt;116</title>\n<path fill=\"none\" stroke=\"black\" d=\"M6094.08,-103.73C6076.9,-92.85 6058.48,-81.19 6041.77,-70.62\"/>\n<polygon fill=\"black\" stroke=\"black\" points=\"6043.53,-67.59 6033.21,-65.2 6039.79,-73.5 6043.53,-67.59\"/>\n</g>\n<!-- 117 -->\n<g id=\"node118\" class=\"node\">\n<title>117</title>\n<path fill=\"#e58139\" stroke=\"black\" d=\"M6134,-68C6134,-68 6063,-68 6063,-68 6057,-68 6051,-62 6051,-56 6051,-56 6051,-12 6051,-12 6051,-6 6057,0 6063,0 6063,0 6134,0 6134,0 6140,0 6146,-6 6146,-12 6146,-12 6146,-56 6146,-56 6146,-62 6140,-68 6134,-68\"/>\n<text text-anchor=\"start\" x=\"6070.5\" y=\"-52.8\" font-family=\"Helvetica,sans-Serif\" font-size=\"14.00\">gini = 0.0</text>\n<text text-anchor=\"start\" x=\"6061\" y=\"-37.8\" font-family=\"Helvetica,sans-Serif\" font-size=\"14.00\">samples = 8</text>\n<text text-anchor=\"start\" x=\"6059\" y=\"-22.8\" font-family=\"Helvetica,sans-Serif\" font-size=\"14.00\">value = [8, 0]</text>\n<text text-anchor=\"start\" x=\"6071\" y=\"-7.8\" font-family=\"Helvetica,sans-Serif\" font-size=\"14.00\">class = 0</text>\n</g>\n<!-- 115&#45;&gt;117 -->\n<g id=\"edge117\" class=\"edge\">\n<title>115&#45;&gt;117</title>\n<path fill=\"none\" stroke=\"black\" d=\"M6136.16,-103.73C6131.41,-95.06 6126.39,-85.9 6121.61,-77.18\"/>\n<polygon fill=\"black\" stroke=\"black\" points=\"6124.62,-75.39 6116.75,-68.3 6118.48,-78.75 6124.62,-75.39\"/>\n</g>\n<!-- 119 -->\n<g id=\"node120\" class=\"node\">\n<title>119</title>\n<path fill=\"#e78b49\" stroke=\"black\" d=\"M6254.5,-68C6254.5,-68 6176.5,-68 6176.5,-68 6170.5,-68 6164.5,-62 6164.5,-56 6164.5,-56 6164.5,-12 6164.5,-12 6164.5,-6 6170.5,0 6176.5,0 6176.5,0 6254.5,0 6254.5,0 6260.5,0 6266.5,-6 6266.5,-12 6266.5,-12 6266.5,-56 6266.5,-56 6266.5,-62 6260.5,-68 6254.5,-68\"/>\n<text text-anchor=\"start\" x=\"6183.5\" y=\"-52.8\" font-family=\"Helvetica,sans-Serif\" font-size=\"14.00\">gini = 0.14</text>\n<text text-anchor=\"start\" x=\"6174.5\" y=\"-37.8\" font-family=\"Helvetica,sans-Serif\" font-size=\"14.00\">samples = 66</text>\n<text text-anchor=\"start\" x=\"6172.5\" y=\"-22.8\" font-family=\"Helvetica,sans-Serif\" font-size=\"14.00\">value = [61, 5]</text>\n<text text-anchor=\"start\" x=\"6188\" y=\"-7.8\" font-family=\"Helvetica,sans-Serif\" font-size=\"14.00\">class = 0</text>\n</g>\n<!-- 118&#45;&gt;119 -->\n<g id=\"edge119\" class=\"edge\">\n<title>118&#45;&gt;119</title>\n<path fill=\"none\" stroke=\"black\" d=\"M6287.05,-103.73C6277.37,-94.42 6267.08,-84.54 6257.42,-75.26\"/>\n<polygon fill=\"black\" stroke=\"black\" points=\"6259.8,-72.7 6250.17,-68.3 6254.96,-77.75 6259.8,-72.7\"/>\n</g>\n<!-- 120 -->\n<g id=\"node121\" class=\"node\">\n<title>120</title>\n<path fill=\"#e5833d\" stroke=\"black\" d=\"M6382.5,-68C6382.5,-68 6296.5,-68 6296.5,-68 6290.5,-68 6284.5,-62 6284.5,-56 6284.5,-56 6284.5,-12 6284.5,-12 6284.5,-6 6290.5,0 6296.5,0 6296.5,0 6382.5,0 6382.5,0 6388.5,0 6394.5,-6 6394.5,-12 6394.5,-12 6394.5,-56 6394.5,-56 6394.5,-62 6388.5,-68 6382.5,-68\"/>\n<text text-anchor=\"start\" x=\"6304\" y=\"-52.8\" font-family=\"Helvetica,sans-Serif\" font-size=\"14.00\">gini = 0.037</text>\n<text text-anchor=\"start\" x=\"6294.5\" y=\"-37.8\" font-family=\"Helvetica,sans-Serif\" font-size=\"14.00\">samples = 372</text>\n<text text-anchor=\"start\" x=\"6292.5\" y=\"-22.8\" font-family=\"Helvetica,sans-Serif\" font-size=\"14.00\">value = [365, 7]</text>\n<text text-anchor=\"start\" x=\"6312\" y=\"-7.8\" font-family=\"Helvetica,sans-Serif\" font-size=\"14.00\">class = 0</text>\n</g>\n<!-- 118&#45;&gt;120 -->\n<g id=\"edge120\" class=\"edge\">\n<title>118&#45;&gt;120</title>\n<path fill=\"none\" stroke=\"black\" d=\"M6333.22,-103.73C6333.98,-95.43 6334.78,-86.67 6335.55,-78.28\"/>\n<polygon fill=\"black\" stroke=\"black\" points=\"6339.03,-78.58 6336.46,-68.3 6332.06,-77.94 6339.03,-78.58\"/>\n</g>\n<!-- 122 -->\n<g id=\"node123\" class=\"node\">\n<title>122</title>\n<path fill=\"#f1b991\" stroke=\"black\" d=\"M6618.5,-187C6618.5,-187 6470.5,-187 6470.5,-187 6464.5,-187 6458.5,-181 6458.5,-175 6458.5,-175 6458.5,-116 6458.5,-116 6458.5,-110 6464.5,-104 6470.5,-104 6470.5,-104 6618.5,-104 6618.5,-104 6624.5,-104 6630.5,-110 6630.5,-116 6630.5,-116 6630.5,-175 6630.5,-175 6630.5,-181 6624.5,-187 6618.5,-187\"/>\n<text text-anchor=\"start\" x=\"6466.5\" y=\"-171.8\" font-family=\"Helvetica,sans-Serif\" font-size=\"14.00\">MonthlyCharges ≤ 60.275</text>\n<text text-anchor=\"start\" x=\"6509\" y=\"-156.8\" font-family=\"Helvetica,sans-Serif\" font-size=\"14.00\">gini = 0.426</text>\n<text text-anchor=\"start\" x=\"6503.5\" y=\"-141.8\" font-family=\"Helvetica,sans-Serif\" font-size=\"14.00\">samples = 13</text>\n<text text-anchor=\"start\" x=\"6505\" y=\"-126.8\" font-family=\"Helvetica,sans-Serif\" font-size=\"14.00\">value = [9, 4]</text>\n<text text-anchor=\"start\" x=\"6517\" y=\"-111.8\" font-family=\"Helvetica,sans-Serif\" font-size=\"14.00\">class = 0</text>\n</g>\n<!-- 121&#45;&gt;122 -->\n<g id=\"edge122\" class=\"edge\">\n<title>121&#45;&gt;122</title>\n<path fill=\"none\" stroke=\"black\" d=\"M6603.27,-222.91C6596.36,-213.92 6588.97,-204.32 6581.85,-195.05\"/>\n<polygon fill=\"black\" stroke=\"black\" points=\"6584.54,-192.81 6575.67,-187.02 6578.99,-197.08 6584.54,-192.81\"/>\n</g>\n<!-- 125 -->\n<g id=\"node126\" class=\"node\">\n<title>125</title>\n<path fill=\"#e78a47\" stroke=\"black\" d=\"M6788.5,-187C6788.5,-187 6660.5,-187 6660.5,-187 6654.5,-187 6648.5,-181 6648.5,-175 6648.5,-175 6648.5,-116 6648.5,-116 6648.5,-110 6654.5,-104 6660.5,-104 6660.5,-104 6788.5,-104 6788.5,-104 6794.5,-104 6800.5,-110 6800.5,-116 6800.5,-116 6800.5,-175 6800.5,-175 6800.5,-181 6794.5,-187 6788.5,-187\"/>\n<text text-anchor=\"start\" x=\"6656.5\" y=\"-171.8\" font-family=\"Helvetica,sans-Serif\" font-size=\"14.00\">TotalCharges ≤ 2421.0</text>\n<text text-anchor=\"start\" x=\"6692.5\" y=\"-156.8\" font-family=\"Helvetica,sans-Serif\" font-size=\"14.00\">gini = 0.12</text>\n<text text-anchor=\"start\" x=\"6679.5\" y=\"-141.8\" font-family=\"Helvetica,sans-Serif\" font-size=\"14.00\">samples = 172</text>\n<text text-anchor=\"start\" x=\"6674\" y=\"-126.8\" font-family=\"Helvetica,sans-Serif\" font-size=\"14.00\">value = [161, 11]</text>\n<text text-anchor=\"start\" x=\"6697\" y=\"-111.8\" font-family=\"Helvetica,sans-Serif\" font-size=\"14.00\">class = 0</text>\n</g>\n<!-- 121&#45;&gt;125 -->\n<g id=\"edge125\" class=\"edge\">\n<title>121&#45;&gt;125</title>\n<path fill=\"none\" stroke=\"black\" d=\"M6665.73,-222.91C6672.64,-213.92 6680.03,-204.32 6687.15,-195.05\"/>\n<polygon fill=\"black\" stroke=\"black\" points=\"6690.01,-197.08 6693.33,-187.02 6684.46,-192.81 6690.01,-197.08\"/>\n</g>\n<!-- 123 -->\n<g id=\"node124\" class=\"node\">\n<title>123</title>\n<path fill=\"#eb9d65\" stroke=\"black\" d=\"M6498.5,-68C6498.5,-68 6424.5,-68 6424.5,-68 6418.5,-68 6412.5,-62 6412.5,-56 6412.5,-56 6412.5,-12 6412.5,-12 6412.5,-6 6418.5,0 6424.5,0 6424.5,0 6498.5,0 6498.5,0 6504.5,0 6510.5,-6 6510.5,-12 6510.5,-12 6510.5,-56 6510.5,-56 6510.5,-62 6504.5,-68 6498.5,-68\"/>\n<text text-anchor=\"start\" x=\"6426\" y=\"-52.8\" font-family=\"Helvetica,sans-Serif\" font-size=\"14.00\">gini = 0.298</text>\n<text text-anchor=\"start\" x=\"6420.5\" y=\"-37.8\" font-family=\"Helvetica,sans-Serif\" font-size=\"14.00\">samples = 11</text>\n<text text-anchor=\"start\" x=\"6422\" y=\"-22.8\" font-family=\"Helvetica,sans-Serif\" font-size=\"14.00\">value = [9, 2]</text>\n<text text-anchor=\"start\" x=\"6434\" y=\"-7.8\" font-family=\"Helvetica,sans-Serif\" font-size=\"14.00\">class = 0</text>\n</g>\n<!-- 122&#45;&gt;123 -->\n<g id=\"edge123\" class=\"edge\">\n<title>122&#45;&gt;123</title>\n<path fill=\"none\" stroke=\"black\" d=\"M6513.59,-103.73C6506.82,-94.79 6499.64,-85.32 6492.85,-76.36\"/>\n<polygon fill=\"black\" stroke=\"black\" points=\"6495.57,-74.15 6486.74,-68.3 6489.99,-78.38 6495.57,-74.15\"/>\n</g>\n<!-- 124 -->\n<g id=\"node125\" class=\"node\">\n<title>124</title>\n<path fill=\"#399de5\" stroke=\"black\" d=\"M6612,-68C6612,-68 6541,-68 6541,-68 6535,-68 6529,-62 6529,-56 6529,-56 6529,-12 6529,-12 6529,-6 6535,0 6541,0 6541,0 6612,0 6612,0 6618,0 6624,-6 6624,-12 6624,-12 6624,-56 6624,-56 6624,-62 6618,-68 6612,-68\"/>\n<text text-anchor=\"start\" x=\"6548.5\" y=\"-52.8\" font-family=\"Helvetica,sans-Serif\" font-size=\"14.00\">gini = 0.0</text>\n<text text-anchor=\"start\" x=\"6539\" y=\"-37.8\" font-family=\"Helvetica,sans-Serif\" font-size=\"14.00\">samples = 2</text>\n<text text-anchor=\"start\" x=\"6537\" y=\"-22.8\" font-family=\"Helvetica,sans-Serif\" font-size=\"14.00\">value = [0, 2]</text>\n<text text-anchor=\"start\" x=\"6549\" y=\"-7.8\" font-family=\"Helvetica,sans-Serif\" font-size=\"14.00\">class = 1</text>\n</g>\n<!-- 122&#45;&gt;124 -->\n<g id=\"edge124\" class=\"edge\">\n<title>122&#45;&gt;124</title>\n<path fill=\"none\" stroke=\"black\" d=\"M6556.42,-103.73C6558.87,-95.34 6561.46,-86.47 6563.93,-78.01\"/>\n<polygon fill=\"black\" stroke=\"black\" points=\"6567.32,-78.88 6566.77,-68.3 6560.6,-76.92 6567.32,-78.88\"/>\n</g>\n<!-- 126 -->\n<g id=\"node127\" class=\"node\">\n<title>126</title>\n<path fill=\"#e99456\" stroke=\"black\" d=\"M6732.5,-68C6732.5,-68 6654.5,-68 6654.5,-68 6648.5,-68 6642.5,-62 6642.5,-56 6642.5,-56 6642.5,-12 6642.5,-12 6642.5,-6 6648.5,0 6654.5,0 6654.5,0 6732.5,0 6732.5,0 6738.5,0 6744.5,-6 6744.5,-12 6744.5,-12 6744.5,-56 6744.5,-56 6744.5,-62 6738.5,-68 6732.5,-68\"/>\n<text text-anchor=\"start\" x=\"6658\" y=\"-52.8\" font-family=\"Helvetica,sans-Serif\" font-size=\"14.00\">gini = 0.226</text>\n<text text-anchor=\"start\" x=\"6652.5\" y=\"-37.8\" font-family=\"Helvetica,sans-Serif\" font-size=\"14.00\">samples = 54</text>\n<text text-anchor=\"start\" x=\"6650.5\" y=\"-22.8\" font-family=\"Helvetica,sans-Serif\" font-size=\"14.00\">value = [47, 7]</text>\n<text text-anchor=\"start\" x=\"6666\" y=\"-7.8\" font-family=\"Helvetica,sans-Serif\" font-size=\"14.00\">class = 0</text>\n</g>\n<!-- 125&#45;&gt;126 -->\n<g id=\"edge126\" class=\"edge\">\n<title>125&#45;&gt;126</title>\n<path fill=\"none\" stroke=\"black\" d=\"M6712.96,-103.73C6710.58,-95.34 6708.07,-86.47 6705.68,-78.01\"/>\n<polygon fill=\"black\" stroke=\"black\" points=\"6709.02,-76.97 6702.93,-68.3 6702.28,-78.87 6709.02,-76.97\"/>\n</g>\n<!-- 127 -->\n<g id=\"node128\" class=\"node\">\n<title>127</title>\n<path fill=\"#e68540\" stroke=\"black\" d=\"M6860.5,-68C6860.5,-68 6774.5,-68 6774.5,-68 6768.5,-68 6762.5,-62 6762.5,-56 6762.5,-56 6762.5,-12 6762.5,-12 6762.5,-6 6768.5,0 6774.5,0 6774.5,0 6860.5,0 6860.5,0 6866.5,0 6872.5,-6 6872.5,-12 6872.5,-12 6872.5,-56 6872.5,-56 6872.5,-62 6866.5,-68 6860.5,-68\"/>\n<text text-anchor=\"start\" x=\"6782\" y=\"-52.8\" font-family=\"Helvetica,sans-Serif\" font-size=\"14.00\">gini = 0.065</text>\n<text text-anchor=\"start\" x=\"6772.5\" y=\"-37.8\" font-family=\"Helvetica,sans-Serif\" font-size=\"14.00\">samples = 118</text>\n<text text-anchor=\"start\" x=\"6770.5\" y=\"-22.8\" font-family=\"Helvetica,sans-Serif\" font-size=\"14.00\">value = [114, 4]</text>\n<text text-anchor=\"start\" x=\"6790\" y=\"-7.8\" font-family=\"Helvetica,sans-Serif\" font-size=\"14.00\">class = 0</text>\n</g>\n<!-- 125&#45;&gt;127 -->\n<g id=\"edge127\" class=\"edge\">\n<title>125&#45;&gt;127</title>\n<path fill=\"none\" stroke=\"black\" d=\"M6759.13,-103.73C6766.8,-94.7 6774.93,-85.12 6782.61,-76.08\"/>\n<polygon fill=\"black\" stroke=\"black\" points=\"6785.41,-78.19 6789.22,-68.3 6780.08,-73.66 6785.41,-78.19\"/>\n</g>\n<!-- 129 -->\n<g id=\"node130\" class=\"node\">\n<title>129</title>\n<path fill=\"#e99558\" stroke=\"black\" d=\"M7216.5,-306C7216.5,-306 7088.5,-306 7088.5,-306 7082.5,-306 7076.5,-300 7076.5,-294 7076.5,-294 7076.5,-235 7076.5,-235 7076.5,-229 7082.5,-223 7088.5,-223 7088.5,-223 7216.5,-223 7216.5,-223 7222.5,-223 7228.5,-229 7228.5,-235 7228.5,-235 7228.5,-294 7228.5,-294 7228.5,-300 7222.5,-306 7216.5,-306\"/>\n<text text-anchor=\"start\" x=\"7084.5\" y=\"-290.8\" font-family=\"Helvetica,sans-Serif\" font-size=\"14.00\">TotalCharges ≤ 1989.5</text>\n<text text-anchor=\"start\" x=\"7117\" y=\"-275.8\" font-family=\"Helvetica,sans-Serif\" font-size=\"14.00\">gini = 0.232</text>\n<text text-anchor=\"start\" x=\"7107.5\" y=\"-260.8\" font-family=\"Helvetica,sans-Serif\" font-size=\"14.00\">samples = 246</text>\n<text text-anchor=\"start\" x=\"7102\" y=\"-245.8\" font-family=\"Helvetica,sans-Serif\" font-size=\"14.00\">value = [213, 33]</text>\n<text text-anchor=\"start\" x=\"7125\" y=\"-230.8\" font-family=\"Helvetica,sans-Serif\" font-size=\"14.00\">class = 0</text>\n</g>\n<!-- 128&#45;&gt;129 -->\n<g id=\"edge129\" class=\"edge\">\n<title>128&#45;&gt;129</title>\n<path fill=\"none\" stroke=\"black\" d=\"M7206.05,-341.91C7199.82,-333.01 7193.16,-323.51 7186.72,-314.33\"/>\n<polygon fill=\"black\" stroke=\"black\" points=\"7189.5,-312.2 7180.9,-306.02 7183.77,-316.22 7189.5,-312.2\"/>\n</g>\n<!-- 136 -->\n<g id=\"node137\" class=\"node\">\n<title>136</title>\n<path fill=\"#bddef6\" stroke=\"black\" d=\"M7374,-306C7374,-306 7259,-306 7259,-306 7253,-306 7247,-300 7247,-294 7247,-294 7247,-235 7247,-235 7247,-229 7253,-223 7259,-223 7259,-223 7374,-223 7374,-223 7380,-223 7386,-229 7386,-235 7386,-235 7386,-294 7386,-294 7386,-300 7380,-306 7374,-306\"/>\n<text text-anchor=\"start\" x=\"7255\" y=\"-290.8\" font-family=\"Helvetica,sans-Serif\" font-size=\"14.00\">OnlineSecurity ≤ 1.0</text>\n<text text-anchor=\"start\" x=\"7284.5\" y=\"-275.8\" font-family=\"Helvetica,sans-Serif\" font-size=\"14.00\">gini = 0.48</text>\n<text text-anchor=\"start\" x=\"7279\" y=\"-260.8\" font-family=\"Helvetica,sans-Serif\" font-size=\"14.00\">samples = 5</text>\n<text text-anchor=\"start\" x=\"7277\" y=\"-245.8\" font-family=\"Helvetica,sans-Serif\" font-size=\"14.00\">value = [2, 3]</text>\n<text text-anchor=\"start\" x=\"7289\" y=\"-230.8\" font-family=\"Helvetica,sans-Serif\" font-size=\"14.00\">class = 1</text>\n</g>\n<!-- 128&#45;&gt;136 -->\n<g id=\"edge136\" class=\"edge\">\n<title>128&#45;&gt;136</title>\n<path fill=\"none\" stroke=\"black\" d=\"M7262.95,-341.91C7269.18,-333.01 7275.84,-323.51 7282.28,-314.33\"/>\n<polygon fill=\"black\" stroke=\"black\" points=\"7285.23,-316.22 7288.1,-306.02 7279.5,-312.2 7285.23,-316.22\"/>\n</g>\n<!-- 130 -->\n<g id=\"node131\" class=\"node\">\n<title>130</title>\n<path fill=\"#e68743\" stroke=\"black\" d=\"M7057,-187C7057,-187 6936,-187 6936,-187 6930,-187 6924,-181 6924,-175 6924,-175 6924,-116 6924,-116 6924,-110 6930,-104 6936,-104 6936,-104 7057,-104 7057,-104 7063,-104 7069,-110 7069,-116 7069,-116 7069,-175 7069,-175 7069,-181 7063,-187 7057,-187\"/>\n<text text-anchor=\"start\" x=\"6932\" y=\"-171.8\" font-family=\"Helvetica,sans-Serif\" font-size=\"14.00\">TotalCharges ≤ 311.5</text>\n<text text-anchor=\"start\" x=\"6961\" y=\"-156.8\" font-family=\"Helvetica,sans-Serif\" font-size=\"14.00\">gini = 0.088</text>\n<text text-anchor=\"start\" x=\"6955.5\" y=\"-141.8\" font-family=\"Helvetica,sans-Serif\" font-size=\"14.00\">samples = 65</text>\n<text text-anchor=\"start\" x=\"6953.5\" y=\"-126.8\" font-family=\"Helvetica,sans-Serif\" font-size=\"14.00\">value = [62, 3]</text>\n<text text-anchor=\"start\" x=\"6969\" y=\"-111.8\" font-family=\"Helvetica,sans-Serif\" font-size=\"14.00\">class = 0</text>\n</g>\n<!-- 129&#45;&gt;130 -->\n<g id=\"edge130\" class=\"edge\">\n<title>129&#45;&gt;130</title>\n<path fill=\"none\" stroke=\"black\" d=\"M7098.38,-222.91C7085.55,-213.29 7071.77,-202.95 7058.62,-193.09\"/>\n<polygon fill=\"black\" stroke=\"black\" points=\"7060.63,-190.22 7050.53,-187.02 7056.43,-195.82 7060.63,-190.22\"/>\n</g>\n<!-- 133 -->\n<g id=\"node134\" class=\"node\">\n<title>133</title>\n<path fill=\"#ea9a60\" stroke=\"black\" d=\"M7227.5,-187C7227.5,-187 7099.5,-187 7099.5,-187 7093.5,-187 7087.5,-181 7087.5,-175 7087.5,-175 7087.5,-116 7087.5,-116 7087.5,-110 7093.5,-104 7099.5,-104 7099.5,-104 7227.5,-104 7227.5,-104 7233.5,-104 7239.5,-110 7239.5,-116 7239.5,-116 7239.5,-175 7239.5,-175 7239.5,-181 7233.5,-187 7227.5,-187\"/>\n<text text-anchor=\"start\" x=\"7095.5\" y=\"-171.8\" font-family=\"Helvetica,sans-Serif\" font-size=\"14.00\">TotalCharges ≤ 2061.5</text>\n<text text-anchor=\"start\" x=\"7128\" y=\"-156.8\" font-family=\"Helvetica,sans-Serif\" font-size=\"14.00\">gini = 0.277</text>\n<text text-anchor=\"start\" x=\"7118.5\" y=\"-141.8\" font-family=\"Helvetica,sans-Serif\" font-size=\"14.00\">samples = 181</text>\n<text text-anchor=\"start\" x=\"7113\" y=\"-126.8\" font-family=\"Helvetica,sans-Serif\" font-size=\"14.00\">value = [151, 30]</text>\n<text text-anchor=\"start\" x=\"7136\" y=\"-111.8\" font-family=\"Helvetica,sans-Serif\" font-size=\"14.00\">class = 0</text>\n</g>\n<!-- 129&#45;&gt;133 -->\n<g id=\"edge133\" class=\"edge\">\n<title>129&#45;&gt;133</title>\n<path fill=\"none\" stroke=\"black\" d=\"M7156.32,-222.91C7157.1,-214.56 7157.94,-205.67 7158.75,-197.02\"/>\n<polygon fill=\"black\" stroke=\"black\" points=\"7162.24,-197.3 7159.69,-187.02 7155.27,-196.65 7162.24,-197.3\"/>\n</g>\n<!-- 131 -->\n<g id=\"node132\" class=\"node\">\n<title>131</title>\n<path fill=\"#ffffff\" stroke=\"black\" d=\"M6974,-68C6974,-68 6903,-68 6903,-68 6897,-68 6891,-62 6891,-56 6891,-56 6891,-12 6891,-12 6891,-6 6897,0 6903,0 6903,0 6974,0 6974,0 6980,0 6986,-6 6986,-12 6986,-12 6986,-56 6986,-56 6986,-62 6980,-68 6974,-68\"/>\n<text text-anchor=\"start\" x=\"6910.5\" y=\"-52.8\" font-family=\"Helvetica,sans-Serif\" font-size=\"14.00\">gini = 0.5</text>\n<text text-anchor=\"start\" x=\"6901\" y=\"-37.8\" font-family=\"Helvetica,sans-Serif\" font-size=\"14.00\">samples = 2</text>\n<text text-anchor=\"start\" x=\"6899\" y=\"-22.8\" font-family=\"Helvetica,sans-Serif\" font-size=\"14.00\">value = [1, 1]</text>\n<text text-anchor=\"start\" x=\"6911\" y=\"-7.8\" font-family=\"Helvetica,sans-Serif\" font-size=\"14.00\">class = 0</text>\n</g>\n<!-- 130&#45;&gt;131 -->\n<g id=\"edge131\" class=\"edge\">\n<title>130&#45;&gt;131</title>\n<path fill=\"none\" stroke=\"black\" d=\"M6974.9,-103.73C6970.31,-95.06 6965.46,-85.9 6960.84,-77.18\"/>\n<polygon fill=\"black\" stroke=\"black\" points=\"6963.91,-75.5 6956.14,-68.3 6957.73,-78.77 6963.91,-75.5\"/>\n</g>\n<!-- 132 -->\n<g id=\"node133\" class=\"node\">\n<title>132</title>\n<path fill=\"#e6853f\" stroke=\"black\" d=\"M7094.5,-68C7094.5,-68 7016.5,-68 7016.5,-68 7010.5,-68 7004.5,-62 7004.5,-56 7004.5,-56 7004.5,-12 7004.5,-12 7004.5,-6 7010.5,0 7016.5,0 7016.5,0 7094.5,0 7094.5,0 7100.5,0 7106.5,-6 7106.5,-12 7106.5,-12 7106.5,-56 7106.5,-56 7106.5,-62 7100.5,-68 7094.5,-68\"/>\n<text text-anchor=\"start\" x=\"7020\" y=\"-52.8\" font-family=\"Helvetica,sans-Serif\" font-size=\"14.00\">gini = 0.061</text>\n<text text-anchor=\"start\" x=\"7014.5\" y=\"-37.8\" font-family=\"Helvetica,sans-Serif\" font-size=\"14.00\">samples = 63</text>\n<text text-anchor=\"start\" x=\"7012.5\" y=\"-22.8\" font-family=\"Helvetica,sans-Serif\" font-size=\"14.00\">value = [61, 2]</text>\n<text text-anchor=\"start\" x=\"7028\" y=\"-7.8\" font-family=\"Helvetica,sans-Serif\" font-size=\"14.00\">class = 0</text>\n</g>\n<!-- 130&#45;&gt;132 -->\n<g id=\"edge132\" class=\"edge\">\n<title>130&#45;&gt;132</title>\n<path fill=\"none\" stroke=\"black\" d=\"M7018.47,-103.73C7023.14,-95.06 7028.08,-85.9 7032.77,-77.18\"/>\n<polygon fill=\"black\" stroke=\"black\" points=\"7035.9,-78.76 7037.56,-68.3 7029.73,-75.44 7035.9,-78.76\"/>\n</g>\n<!-- 134 -->\n<g id=\"node135\" class=\"node\">\n<title>134</title>\n<path fill=\"#7bbeee\" stroke=\"black\" d=\"M7208,-68C7208,-68 7137,-68 7137,-68 7131,-68 7125,-62 7125,-56 7125,-56 7125,-12 7125,-12 7125,-6 7131,0 7137,0 7137,0 7208,0 7208,0 7214,0 7220,-6 7220,-12 7220,-12 7220,-56 7220,-56 7220,-62 7214,-68 7208,-68\"/>\n<text text-anchor=\"start\" x=\"7137\" y=\"-52.8\" font-family=\"Helvetica,sans-Serif\" font-size=\"14.00\">gini = 0.375</text>\n<text text-anchor=\"start\" x=\"7135\" y=\"-37.8\" font-family=\"Helvetica,sans-Serif\" font-size=\"14.00\">samples = 4</text>\n<text text-anchor=\"start\" x=\"7133\" y=\"-22.8\" font-family=\"Helvetica,sans-Serif\" font-size=\"14.00\">value = [1, 3]</text>\n<text text-anchor=\"start\" x=\"7145\" y=\"-7.8\" font-family=\"Helvetica,sans-Serif\" font-size=\"14.00\">class = 1</text>\n</g>\n<!-- 133&#45;&gt;134 -->\n<g id=\"edge134\" class=\"edge\">\n<title>133&#45;&gt;134</title>\n<path fill=\"none\" stroke=\"black\" d=\"M7166.85,-103.73C7167.53,-95.43 7168.25,-86.67 7168.94,-78.28\"/>\n<polygon fill=\"black\" stroke=\"black\" points=\"7172.43,-78.55 7169.76,-68.3 7165.46,-77.98 7172.43,-78.55\"/>\n</g>\n<!-- 135 -->\n<g id=\"node136\" class=\"node\">\n<title>135</title>\n<path fill=\"#ea985d\" stroke=\"black\" d=\"M7343,-68C7343,-68 7250,-68 7250,-68 7244,-68 7238,-62 7238,-56 7238,-56 7238,-12 7238,-12 7238,-6 7244,0 7250,0 7250,0 7343,0 7343,0 7349,0 7355,-6 7355,-12 7355,-12 7355,-56 7355,-56 7355,-62 7349,-68 7343,-68\"/>\n<text text-anchor=\"start\" x=\"7261\" y=\"-52.8\" font-family=\"Helvetica,sans-Serif\" font-size=\"14.00\">gini = 0.259</text>\n<text text-anchor=\"start\" x=\"7251.5\" y=\"-37.8\" font-family=\"Helvetica,sans-Serif\" font-size=\"14.00\">samples = 177</text>\n<text text-anchor=\"start\" x=\"7246\" y=\"-22.8\" font-family=\"Helvetica,sans-Serif\" font-size=\"14.00\">value = [150, 27]</text>\n<text text-anchor=\"start\" x=\"7269\" y=\"-7.8\" font-family=\"Helvetica,sans-Serif\" font-size=\"14.00\">class = 0</text>\n</g>\n<!-- 133&#45;&gt;135 -->\n<g id=\"edge135\" class=\"edge\">\n<title>133&#45;&gt;135</title>\n<path fill=\"none\" stroke=\"black\" d=\"M7213.02,-103.73C7224.55,-94.24 7236.8,-84.16 7248.26,-74.72\"/>\n<polygon fill=\"black\" stroke=\"black\" points=\"7250.56,-77.36 7256.05,-68.3 7246.11,-71.95 7250.56,-77.36\"/>\n</g>\n<!-- 137 -->\n<g id=\"node138\" class=\"node\">\n<title>137</title>\n<path fill=\"#399de5\" stroke=\"black\" d=\"M7341,-179.5C7341,-179.5 7270,-179.5 7270,-179.5 7264,-179.5 7258,-173.5 7258,-167.5 7258,-167.5 7258,-123.5 7258,-123.5 7258,-117.5 7264,-111.5 7270,-111.5 7270,-111.5 7341,-111.5 7341,-111.5 7347,-111.5 7353,-117.5 7353,-123.5 7353,-123.5 7353,-167.5 7353,-167.5 7353,-173.5 7347,-179.5 7341,-179.5\"/>\n<text text-anchor=\"start\" x=\"7277.5\" y=\"-164.3\" font-family=\"Helvetica,sans-Serif\" font-size=\"14.00\">gini = 0.0</text>\n<text text-anchor=\"start\" x=\"7268\" y=\"-149.3\" font-family=\"Helvetica,sans-Serif\" font-size=\"14.00\">samples = 3</text>\n<text text-anchor=\"start\" x=\"7266\" y=\"-134.3\" font-family=\"Helvetica,sans-Serif\" font-size=\"14.00\">value = [0, 3]</text>\n<text text-anchor=\"start\" x=\"7278\" y=\"-119.3\" font-family=\"Helvetica,sans-Serif\" font-size=\"14.00\">class = 1</text>\n</g>\n<!-- 136&#45;&gt;137 -->\n<g id=\"edge137\" class=\"edge\">\n<title>136&#45;&gt;137</title>\n<path fill=\"none\" stroke=\"black\" d=\"M7312.68,-222.91C7311.68,-212.2 7310.59,-200.62 7309.57,-189.78\"/>\n<polygon fill=\"black\" stroke=\"black\" points=\"7313.04,-189.3 7308.62,-179.67 7306.07,-189.95 7313.04,-189.3\"/>\n</g>\n<!-- 138 -->\n<g id=\"node139\" class=\"node\">\n<title>138</title>\n<path fill=\"#e58139\" stroke=\"black\" d=\"M7454,-179.5C7454,-179.5 7383,-179.5 7383,-179.5 7377,-179.5 7371,-173.5 7371,-167.5 7371,-167.5 7371,-123.5 7371,-123.5 7371,-117.5 7377,-111.5 7383,-111.5 7383,-111.5 7454,-111.5 7454,-111.5 7460,-111.5 7466,-117.5 7466,-123.5 7466,-123.5 7466,-167.5 7466,-167.5 7466,-173.5 7460,-179.5 7454,-179.5\"/>\n<text text-anchor=\"start\" x=\"7390.5\" y=\"-164.3\" font-family=\"Helvetica,sans-Serif\" font-size=\"14.00\">gini = 0.0</text>\n<text text-anchor=\"start\" x=\"7381\" y=\"-149.3\" font-family=\"Helvetica,sans-Serif\" font-size=\"14.00\">samples = 2</text>\n<text text-anchor=\"start\" x=\"7379\" y=\"-134.3\" font-family=\"Helvetica,sans-Serif\" font-size=\"14.00\">value = [2, 0]</text>\n<text text-anchor=\"start\" x=\"7391\" y=\"-119.3\" font-family=\"Helvetica,sans-Serif\" font-size=\"14.00\">class = 0</text>\n</g>\n<!-- 136&#45;&gt;138 -->\n<g id=\"edge138\" class=\"edge\">\n<title>136&#45;&gt;138</title>\n<path fill=\"none\" stroke=\"black\" d=\"M7351.89,-222.91C7361.89,-211.43 7372.78,-198.94 7382.81,-187.44\"/>\n<polygon fill=\"black\" stroke=\"black\" points=\"7385.65,-189.5 7389.59,-179.67 7380.38,-184.9 7385.65,-189.5\"/>\n</g>\n<!-- 140 -->\n<g id=\"node141\" class=\"node\">\n<title>140</title>\n<path fill=\"#e5833c\" stroke=\"black\" d=\"M7630.5,-425C7630.5,-425 7482.5,-425 7482.5,-425 7476.5,-425 7470.5,-419 7470.5,-413 7470.5,-413 7470.5,-354 7470.5,-354 7470.5,-348 7476.5,-342 7482.5,-342 7482.5,-342 7630.5,-342 7630.5,-342 7636.5,-342 7642.5,-348 7642.5,-354 7642.5,-354 7642.5,-413 7642.5,-413 7642.5,-419 7636.5,-425 7630.5,-425\"/>\n<text text-anchor=\"start\" x=\"7478.5\" y=\"-409.8\" font-family=\"Helvetica,sans-Serif\" font-size=\"14.00\">MonthlyCharges ≤ 79.675</text>\n<text text-anchor=\"start\" x=\"7521\" y=\"-394.8\" font-family=\"Helvetica,sans-Serif\" font-size=\"14.00\">gini = 0.029</text>\n<text text-anchor=\"start\" x=\"7511.5\" y=\"-379.8\" font-family=\"Helvetica,sans-Serif\" font-size=\"14.00\">samples = 819</text>\n<text text-anchor=\"start\" x=\"7506\" y=\"-364.8\" font-family=\"Helvetica,sans-Serif\" font-size=\"14.00\">value = [807, 12]</text>\n<text text-anchor=\"start\" x=\"7529\" y=\"-349.8\" font-family=\"Helvetica,sans-Serif\" font-size=\"14.00\">class = 0</text>\n</g>\n<!-- 139&#45;&gt;140 -->\n<g id=\"edge140\" class=\"edge\">\n<title>139&#45;&gt;140</title>\n<path fill=\"none\" stroke=\"black\" d=\"M7556.5,-460.91C7556.5,-452.65 7556.5,-443.86 7556.5,-435.3\"/>\n<polygon fill=\"black\" stroke=\"black\" points=\"7560,-435.02 7556.5,-425.02 7553,-435.02 7560,-435.02\"/>\n</g>\n<!-- 149 -->\n<g id=\"node150\" class=\"node\">\n<title>149</title>\n<path fill=\"#e58139\" stroke=\"black\" d=\"M7758.5,-417.5C7758.5,-417.5 7672.5,-417.5 7672.5,-417.5 7666.5,-417.5 7660.5,-411.5 7660.5,-405.5 7660.5,-405.5 7660.5,-361.5 7660.5,-361.5 7660.5,-355.5 7666.5,-349.5 7672.5,-349.5 7672.5,-349.5 7758.5,-349.5 7758.5,-349.5 7764.5,-349.5 7770.5,-355.5 7770.5,-361.5 7770.5,-361.5 7770.5,-405.5 7770.5,-405.5 7770.5,-411.5 7764.5,-417.5 7758.5,-417.5\"/>\n<text text-anchor=\"start\" x=\"7687.5\" y=\"-402.3\" font-family=\"Helvetica,sans-Serif\" font-size=\"14.00\">gini = 0.0</text>\n<text text-anchor=\"start\" x=\"7670.5\" y=\"-387.3\" font-family=\"Helvetica,sans-Serif\" font-size=\"14.00\">samples = 221</text>\n<text text-anchor=\"start\" x=\"7668.5\" y=\"-372.3\" font-family=\"Helvetica,sans-Serif\" font-size=\"14.00\">value = [221, 0]</text>\n<text text-anchor=\"start\" x=\"7688\" y=\"-357.3\" font-family=\"Helvetica,sans-Serif\" font-size=\"14.00\">class = 0</text>\n</g>\n<!-- 139&#45;&gt;149 -->\n<g id=\"edge149\" class=\"edge\">\n<title>139&#45;&gt;149</title>\n<path fill=\"none\" stroke=\"black\" d=\"M7611.66,-460.91C7628.01,-448.88 7645.87,-435.73 7662.1,-423.79\"/>\n<polygon fill=\"black\" stroke=\"black\" points=\"7664.45,-426.41 7670.43,-417.67 7660.3,-420.77 7664.45,-426.41\"/>\n</g>\n<!-- 141 -->\n<g id=\"node142\" class=\"node\">\n<title>141</title>\n<path fill=\"#e5833c\" stroke=\"black\" d=\"M7630.5,-306C7630.5,-306 7482.5,-306 7482.5,-306 7476.5,-306 7470.5,-300 7470.5,-294 7470.5,-294 7470.5,-235 7470.5,-235 7470.5,-229 7476.5,-223 7482.5,-223 7482.5,-223 7630.5,-223 7630.5,-223 7636.5,-223 7642.5,-229 7642.5,-235 7642.5,-235 7642.5,-294 7642.5,-294 7642.5,-300 7636.5,-306 7630.5,-306\"/>\n<text text-anchor=\"start\" x=\"7478.5\" y=\"-290.8\" font-family=\"Helvetica,sans-Serif\" font-size=\"14.00\">MonthlyCharges ≤ 54.175</text>\n<text text-anchor=\"start\" x=\"7521\" y=\"-275.8\" font-family=\"Helvetica,sans-Serif\" font-size=\"14.00\">gini = 0.027</text>\n<text text-anchor=\"start\" x=\"7511.5\" y=\"-260.8\" font-family=\"Helvetica,sans-Serif\" font-size=\"14.00\">samples = 817</text>\n<text text-anchor=\"start\" x=\"7506\" y=\"-245.8\" font-family=\"Helvetica,sans-Serif\" font-size=\"14.00\">value = [806, 11]</text>\n<text text-anchor=\"start\" x=\"7529\" y=\"-230.8\" font-family=\"Helvetica,sans-Serif\" font-size=\"14.00\">class = 0</text>\n</g>\n<!-- 140&#45;&gt;141 -->\n<g id=\"edge141\" class=\"edge\">\n<title>140&#45;&gt;141</title>\n<path fill=\"none\" stroke=\"black\" d=\"M7556.5,-341.91C7556.5,-333.65 7556.5,-324.86 7556.5,-316.3\"/>\n<polygon fill=\"black\" stroke=\"black\" points=\"7560,-316.02 7556.5,-306.02 7553,-316.02 7560,-316.02\"/>\n</g>\n<!-- 148 -->\n<g id=\"node149\" class=\"node\">\n<title>148</title>\n<path fill=\"#ffffff\" stroke=\"black\" d=\"M7744,-298.5C7744,-298.5 7673,-298.5 7673,-298.5 7667,-298.5 7661,-292.5 7661,-286.5 7661,-286.5 7661,-242.5 7661,-242.5 7661,-236.5 7667,-230.5 7673,-230.5 7673,-230.5 7744,-230.5 7744,-230.5 7750,-230.5 7756,-236.5 7756,-242.5 7756,-242.5 7756,-286.5 7756,-286.5 7756,-292.5 7750,-298.5 7744,-298.5\"/>\n<text text-anchor=\"start\" x=\"7680.5\" y=\"-283.3\" font-family=\"Helvetica,sans-Serif\" font-size=\"14.00\">gini = 0.5</text>\n<text text-anchor=\"start\" x=\"7671\" y=\"-268.3\" font-family=\"Helvetica,sans-Serif\" font-size=\"14.00\">samples = 2</text>\n<text text-anchor=\"start\" x=\"7669\" y=\"-253.3\" font-family=\"Helvetica,sans-Serif\" font-size=\"14.00\">value = [1, 1]</text>\n<text text-anchor=\"start\" x=\"7681\" y=\"-238.3\" font-family=\"Helvetica,sans-Serif\" font-size=\"14.00\">class = 0</text>\n</g>\n<!-- 140&#45;&gt;148 -->\n<g id=\"edge148\" class=\"edge\">\n<title>140&#45;&gt;148</title>\n<path fill=\"none\" stroke=\"black\" d=\"M7609.24,-341.91C7624.86,-329.88 7641.94,-316.73 7657.46,-304.79\"/>\n<polygon fill=\"black\" stroke=\"black\" points=\"7659.62,-307.54 7665.41,-298.67 7655.35,-301.99 7659.62,-307.54\"/>\n</g>\n<!-- 142 -->\n<g id=\"node143\" class=\"node\">\n<title>142</title>\n<path fill=\"#e5823b\" stroke=\"black\" d=\"M7617,-187C7617,-187 7496,-187 7496,-187 7490,-187 7484,-181 7484,-175 7484,-175 7484,-116 7484,-116 7484,-110 7490,-104 7496,-104 7496,-104 7617,-104 7617,-104 7623,-104 7629,-110 7629,-116 7629,-116 7629,-175 7629,-175 7629,-181 7623,-187 7617,-187\"/>\n<text text-anchor=\"start\" x=\"7492\" y=\"-171.8\" font-family=\"Helvetica,sans-Serif\" font-size=\"14.00\">TotalCharges ≤ 198.0</text>\n<text text-anchor=\"start\" x=\"7521\" y=\"-156.8\" font-family=\"Helvetica,sans-Serif\" font-size=\"14.00\">gini = 0.017</text>\n<text text-anchor=\"start\" x=\"7511.5\" y=\"-141.8\" font-family=\"Helvetica,sans-Serif\" font-size=\"14.00\">samples = 577</text>\n<text text-anchor=\"start\" x=\"7509.5\" y=\"-126.8\" font-family=\"Helvetica,sans-Serif\" font-size=\"14.00\">value = [572, 5]</text>\n<text text-anchor=\"start\" x=\"7529\" y=\"-111.8\" font-family=\"Helvetica,sans-Serif\" font-size=\"14.00\">class = 0</text>\n</g>\n<!-- 141&#45;&gt;142 -->\n<g id=\"edge142\" class=\"edge\">\n<title>141&#45;&gt;142</title>\n<path fill=\"none\" stroke=\"black\" d=\"M7556.5,-222.91C7556.5,-214.65 7556.5,-205.86 7556.5,-197.3\"/>\n<polygon fill=\"black\" stroke=\"black\" points=\"7560,-197.02 7556.5,-187.02 7553,-197.02 7560,-197.02\"/>\n</g>\n<!-- 145 -->\n<g id=\"node146\" class=\"node\">\n<title>145</title>\n<path fill=\"#e6843e\" stroke=\"black\" d=\"M7807.5,-187C7807.5,-187 7659.5,-187 7659.5,-187 7653.5,-187 7647.5,-181 7647.5,-175 7647.5,-175 7647.5,-116 7647.5,-116 7647.5,-110 7653.5,-104 7659.5,-104 7659.5,-104 7807.5,-104 7807.5,-104 7813.5,-104 7819.5,-110 7819.5,-116 7819.5,-116 7819.5,-175 7819.5,-175 7819.5,-181 7813.5,-187 7807.5,-187\"/>\n<text text-anchor=\"start\" x=\"7655.5\" y=\"-171.8\" font-family=\"Helvetica,sans-Serif\" font-size=\"14.00\">MonthlyCharges ≤ 54.425</text>\n<text text-anchor=\"start\" x=\"7698\" y=\"-156.8\" font-family=\"Helvetica,sans-Serif\" font-size=\"14.00\">gini = 0.049</text>\n<text text-anchor=\"start\" x=\"7688.5\" y=\"-141.8\" font-family=\"Helvetica,sans-Serif\" font-size=\"14.00\">samples = 240</text>\n<text text-anchor=\"start\" x=\"7686.5\" y=\"-126.8\" font-family=\"Helvetica,sans-Serif\" font-size=\"14.00\">value = [234, 6]</text>\n<text text-anchor=\"start\" x=\"7706\" y=\"-111.8\" font-family=\"Helvetica,sans-Serif\" font-size=\"14.00\">class = 0</text>\n</g>\n<!-- 141&#45;&gt;145 -->\n<g id=\"edge145\" class=\"edge\">\n<title>141&#45;&gt;145</title>\n<path fill=\"none\" stroke=\"black\" d=\"M7617.91,-222.91C7632.6,-213.2 7648.39,-202.76 7663.44,-192.81\"/>\n<polygon fill=\"black\" stroke=\"black\" points=\"7665.79,-195.45 7672.2,-187.02 7661.93,-189.62 7665.79,-195.45\"/>\n</g>\n<!-- 143 -->\n<g id=\"node144\" class=\"node\">\n<title>143</title>\n<path fill=\"#e68641\" stroke=\"black\" d=\"M7471.5,-68C7471.5,-68 7393.5,-68 7393.5,-68 7387.5,-68 7381.5,-62 7381.5,-56 7381.5,-56 7381.5,-12 7381.5,-12 7381.5,-6 7387.5,0 7393.5,0 7393.5,0 7471.5,0 7471.5,0 7477.5,0 7483.5,-6 7483.5,-12 7483.5,-12 7483.5,-56 7483.5,-56 7483.5,-62 7477.5,-68 7471.5,-68\"/>\n<text text-anchor=\"start\" x=\"7397\" y=\"-52.8\" font-family=\"Helvetica,sans-Serif\" font-size=\"14.00\">gini = 0.074</text>\n<text text-anchor=\"start\" x=\"7391.5\" y=\"-37.8\" font-family=\"Helvetica,sans-Serif\" font-size=\"14.00\">samples = 52</text>\n<text text-anchor=\"start\" x=\"7389.5\" y=\"-22.8\" font-family=\"Helvetica,sans-Serif\" font-size=\"14.00\">value = [50, 2]</text>\n<text text-anchor=\"start\" x=\"7405\" y=\"-7.8\" font-family=\"Helvetica,sans-Serif\" font-size=\"14.00\">class = 0</text>\n</g>\n<!-- 142&#45;&gt;143 -->\n<g id=\"edge143\" class=\"edge\">\n<title>142&#45;&gt;143</title>\n<path fill=\"none\" stroke=\"black\" d=\"M7510.33,-103.73C7499.69,-94.33 7488.38,-84.35 7477.78,-74.99\"/>\n<polygon fill=\"black\" stroke=\"black\" points=\"7480.02,-72.3 7470.21,-68.3 7475.39,-77.54 7480.02,-72.3\"/>\n</g>\n<!-- 144 -->\n<g id=\"node145\" class=\"node\">\n<title>144</title>\n<path fill=\"#e5823a\" stroke=\"black\" d=\"M7599.5,-68C7599.5,-68 7513.5,-68 7513.5,-68 7507.5,-68 7501.5,-62 7501.5,-56 7501.5,-56 7501.5,-12 7501.5,-12 7501.5,-6 7507.5,0 7513.5,0 7513.5,0 7599.5,0 7599.5,0 7605.5,0 7611.5,-6 7611.5,-12 7611.5,-12 7611.5,-56 7611.5,-56 7611.5,-62 7605.5,-68 7599.5,-68\"/>\n<text text-anchor=\"start\" x=\"7521\" y=\"-52.8\" font-family=\"Helvetica,sans-Serif\" font-size=\"14.00\">gini = 0.011</text>\n<text text-anchor=\"start\" x=\"7511.5\" y=\"-37.8\" font-family=\"Helvetica,sans-Serif\" font-size=\"14.00\">samples = 525</text>\n<text text-anchor=\"start\" x=\"7509.5\" y=\"-22.8\" font-family=\"Helvetica,sans-Serif\" font-size=\"14.00\">value = [522, 3]</text>\n<text text-anchor=\"start\" x=\"7529\" y=\"-7.8\" font-family=\"Helvetica,sans-Serif\" font-size=\"14.00\">class = 0</text>\n</g>\n<!-- 142&#45;&gt;144 -->\n<g id=\"edge144\" class=\"edge\">\n<title>142&#45;&gt;144</title>\n<path fill=\"none\" stroke=\"black\" d=\"M7556.5,-103.73C7556.5,-95.52 7556.5,-86.86 7556.5,-78.56\"/>\n<polygon fill=\"black\" stroke=\"black\" points=\"7560,-78.3 7556.5,-68.3 7553,-78.3 7560,-78.3\"/>\n</g>\n<!-- 146 -->\n<g id=\"node147\" class=\"node\">\n<title>146</title>\n<path fill=\"#f6d5bd\" stroke=\"black\" d=\"M7713,-68C7713,-68 7642,-68 7642,-68 7636,-68 7630,-62 7630,-56 7630,-56 7630,-12 7630,-12 7630,-6 7636,0 7642,0 7642,0 7713,0 7713,0 7719,0 7725,-6 7725,-12 7725,-12 7725,-56 7725,-56 7725,-62 7719,-68 7713,-68\"/>\n<text text-anchor=\"start\" x=\"7645.5\" y=\"-52.8\" font-family=\"Helvetica,sans-Serif\" font-size=\"14.00\">gini = 0.48</text>\n<text text-anchor=\"start\" x=\"7640\" y=\"-37.8\" font-family=\"Helvetica,sans-Serif\" font-size=\"14.00\">samples = 5</text>\n<text text-anchor=\"start\" x=\"7638\" y=\"-22.8\" font-family=\"Helvetica,sans-Serif\" font-size=\"14.00\">value = [3, 2]</text>\n<text text-anchor=\"start\" x=\"7650\" y=\"-7.8\" font-family=\"Helvetica,sans-Serif\" font-size=\"14.00\">class = 0</text>\n</g>\n<!-- 145&#45;&gt;146 -->\n<g id=\"edge146\" class=\"edge\">\n<title>145&#45;&gt;146</title>\n<path fill=\"none\" stroke=\"black\" d=\"M7712.65,-103.73C7708.26,-95.15 7703.63,-86.09 7699.21,-77.46\"/>\n<polygon fill=\"black\" stroke=\"black\" points=\"7702.2,-75.61 7694.53,-68.3 7695.97,-78.8 7702.2,-75.61\"/>\n</g>\n<!-- 147 -->\n<g id=\"node148\" class=\"node\">\n<title>147</title>\n<path fill=\"#e5833c\" stroke=\"black\" d=\"M7841.5,-68C7841.5,-68 7755.5,-68 7755.5,-68 7749.5,-68 7743.5,-62 7743.5,-56 7743.5,-56 7743.5,-12 7743.5,-12 7743.5,-6 7749.5,0 7755.5,0 7755.5,0 7841.5,0 7841.5,0 7847.5,0 7853.5,-6 7853.5,-12 7853.5,-12 7853.5,-56 7853.5,-56 7853.5,-62 7847.5,-68 7841.5,-68\"/>\n<text text-anchor=\"start\" x=\"7763\" y=\"-52.8\" font-family=\"Helvetica,sans-Serif\" font-size=\"14.00\">gini = 0.033</text>\n<text text-anchor=\"start\" x=\"7753.5\" y=\"-37.8\" font-family=\"Helvetica,sans-Serif\" font-size=\"14.00\">samples = 235</text>\n<text text-anchor=\"start\" x=\"7751.5\" y=\"-22.8\" font-family=\"Helvetica,sans-Serif\" font-size=\"14.00\">value = [231, 4]</text>\n<text text-anchor=\"start\" x=\"7771\" y=\"-7.8\" font-family=\"Helvetica,sans-Serif\" font-size=\"14.00\">class = 0</text>\n</g>\n<!-- 145&#45;&gt;147 -->\n<g id=\"edge147\" class=\"edge\">\n<title>145&#45;&gt;147</title>\n<path fill=\"none\" stroke=\"black\" d=\"M7757.7,-103.73C7762.9,-94.97 7768.4,-85.7 7773.62,-76.91\"/>\n<polygon fill=\"black\" stroke=\"black\" points=\"7776.64,-78.69 7778.73,-68.3 7770.62,-75.11 7776.64,-78.69\"/>\n</g>\n<!-- 151 -->\n<g id=\"node152\" class=\"node\">\n<title>151</title>\n<path fill=\"#eda978\" stroke=\"black\" d=\"M8268.5,-544C8268.5,-544 8140.5,-544 8140.5,-544 8134.5,-544 8128.5,-538 8128.5,-532 8128.5,-532 8128.5,-473 8128.5,-473 8128.5,-467 8134.5,-461 8140.5,-461 8140.5,-461 8268.5,-461 8268.5,-461 8274.5,-461 8280.5,-467 8280.5,-473 8280.5,-473 8280.5,-532 8280.5,-532 8280.5,-538 8274.5,-544 8268.5,-544\"/>\n<text text-anchor=\"start\" x=\"8136.5\" y=\"-528.8\" font-family=\"Helvetica,sans-Serif\" font-size=\"14.00\">TotalCharges ≤ 5996.0</text>\n<text text-anchor=\"start\" x=\"8169\" y=\"-513.8\" font-family=\"Helvetica,sans-Serif\" font-size=\"14.00\">gini = 0.365</text>\n<text text-anchor=\"start\" x=\"8159.5\" y=\"-498.8\" font-family=\"Helvetica,sans-Serif\" font-size=\"14.00\">samples = 325</text>\n<text text-anchor=\"start\" x=\"8154\" y=\"-483.8\" font-family=\"Helvetica,sans-Serif\" font-size=\"14.00\">value = [247, 78]</text>\n<text text-anchor=\"start\" x=\"8177\" y=\"-468.8\" font-family=\"Helvetica,sans-Serif\" font-size=\"14.00\">class = 0</text>\n</g>\n<!-- 150&#45;&gt;151 -->\n<g id=\"edge151\" class=\"edge\">\n<title>150&#45;&gt;151</title>\n<path fill=\"none\" stroke=\"black\" d=\"M8204.5,-579.91C8204.5,-571.65 8204.5,-562.86 8204.5,-554.3\"/>\n<polygon fill=\"black\" stroke=\"black\" points=\"8208,-554.02 8204.5,-544.02 8201,-554.02 8208,-554.02\"/>\n</g>\n<!-- 164 -->\n<g id=\"node165\" class=\"node\">\n<title>164</title>\n<path fill=\"#e78d4c\" stroke=\"black\" d=\"M8619.5,-544C8619.5,-544 8471.5,-544 8471.5,-544 8465.5,-544 8459.5,-538 8459.5,-532 8459.5,-532 8459.5,-473 8459.5,-473 8459.5,-467 8465.5,-461 8471.5,-461 8471.5,-461 8619.5,-461 8619.5,-461 8625.5,-461 8631.5,-467 8631.5,-473 8631.5,-473 8631.5,-532 8631.5,-532 8631.5,-538 8625.5,-544 8619.5,-544\"/>\n<text text-anchor=\"start\" x=\"8467.5\" y=\"-528.8\" font-family=\"Helvetica,sans-Serif\" font-size=\"14.00\">MonthlyCharges ≤ 94.175</text>\n<text text-anchor=\"start\" x=\"8510\" y=\"-513.8\" font-family=\"Helvetica,sans-Serif\" font-size=\"14.00\">gini = 0.159</text>\n<text text-anchor=\"start\" x=\"8500.5\" y=\"-498.8\" font-family=\"Helvetica,sans-Serif\" font-size=\"14.00\">samples = 299</text>\n<text text-anchor=\"start\" x=\"8495\" y=\"-483.8\" font-family=\"Helvetica,sans-Serif\" font-size=\"14.00\">value = [273, 26]</text>\n<text text-anchor=\"start\" x=\"8518\" y=\"-468.8\" font-family=\"Helvetica,sans-Serif\" font-size=\"14.00\">class = 0</text>\n</g>\n<!-- 150&#45;&gt;164 -->\n<g id=\"edge164\" class=\"edge\">\n<title>150&#45;&gt;164</title>\n<path fill=\"none\" stroke=\"black\" d=\"M8267.04,-599.04C8318.13,-581.51 8391.19,-556.45 8449.65,-536.39\"/>\n<polygon fill=\"black\" stroke=\"black\" points=\"8450.95,-539.64 8459.28,-533.08 8448.68,-533.02 8450.95,-539.64\"/>\n</g>\n<!-- 152 -->\n<g id=\"node153\" class=\"node\">\n<title>152</title>\n<path fill=\"#eda775\" stroke=\"black\" d=\"M8175,-425C8175,-425 8082,-425 8082,-425 8076,-425 8070,-419 8070,-413 8070,-413 8070,-354 8070,-354 8070,-348 8076,-342 8082,-342 8082,-342 8175,-342 8175,-342 8181,-342 8187,-348 8187,-354 8187,-354 8187,-413 8187,-413 8187,-419 8181,-425 8175,-425\"/>\n<text text-anchor=\"start\" x=\"8088.5\" y=\"-409.8\" font-family=\"Helvetica,sans-Serif\" font-size=\"14.00\">tenure ≤ 70.5</text>\n<text text-anchor=\"start\" x=\"8093\" y=\"-394.8\" font-family=\"Helvetica,sans-Serif\" font-size=\"14.00\">gini = 0.356</text>\n<text text-anchor=\"start\" x=\"8083.5\" y=\"-379.8\" font-family=\"Helvetica,sans-Serif\" font-size=\"14.00\">samples = 319</text>\n<text text-anchor=\"start\" x=\"8078\" y=\"-364.8\" font-family=\"Helvetica,sans-Serif\" font-size=\"14.00\">value = [245, 74]</text>\n<text text-anchor=\"start\" x=\"8101\" y=\"-349.8\" font-family=\"Helvetica,sans-Serif\" font-size=\"14.00\">class = 0</text>\n</g>\n<!-- 151&#45;&gt;152 -->\n<g id=\"edge152\" class=\"edge\">\n<title>151&#45;&gt;152</title>\n<path fill=\"none\" stroke=\"black\" d=\"M8178.13,-460.91C8172.41,-452.1 8166.31,-442.7 8160.4,-433.61\"/>\n<polygon fill=\"black\" stroke=\"black\" points=\"8163.2,-431.5 8154.82,-425.02 8157.33,-435.31 8163.2,-431.5\"/>\n</g>\n<!-- 161 -->\n<g id=\"node162\" class=\"node\">\n<title>161</title>\n<path fill=\"#9ccef2\" stroke=\"black\" d=\"M8343.5,-425C8343.5,-425 8217.5,-425 8217.5,-425 8211.5,-425 8205.5,-419 8205.5,-413 8205.5,-413 8205.5,-354 8205.5,-354 8205.5,-348 8211.5,-342 8217.5,-342 8217.5,-342 8343.5,-342 8343.5,-342 8349.5,-342 8355.5,-348 8355.5,-354 8355.5,-354 8355.5,-413 8355.5,-413 8355.5,-419 8349.5,-425 8343.5,-425\"/>\n<text text-anchor=\"start\" x=\"8213.5\" y=\"-409.8\" font-family=\"Helvetica,sans-Serif\" font-size=\"14.00\">PaymentMethod ≤ 0.5</text>\n<text text-anchor=\"start\" x=\"8245\" y=\"-394.8\" font-family=\"Helvetica,sans-Serif\" font-size=\"14.00\">gini = 0.444</text>\n<text text-anchor=\"start\" x=\"8243\" y=\"-379.8\" font-family=\"Helvetica,sans-Serif\" font-size=\"14.00\">samples = 6</text>\n<text text-anchor=\"start\" x=\"8241\" y=\"-364.8\" font-family=\"Helvetica,sans-Serif\" font-size=\"14.00\">value = [2, 4]</text>\n<text text-anchor=\"start\" x=\"8253\" y=\"-349.8\" font-family=\"Helvetica,sans-Serif\" font-size=\"14.00\">class = 1</text>\n</g>\n<!-- 151&#45;&gt;161 -->\n<g id=\"edge161\" class=\"edge\">\n<title>151&#45;&gt;161</title>\n<path fill=\"none\" stroke=\"black\" d=\"M8230.87,-460.91C8236.59,-452.1 8242.69,-442.7 8248.6,-433.61\"/>\n<polygon fill=\"black\" stroke=\"black\" points=\"8251.67,-435.31 8254.18,-425.02 8245.8,-431.5 8251.67,-435.31\"/>\n</g>\n<!-- 153 -->\n<g id=\"node154\" class=\"node\">\n<title>153</title>\n<path fill=\"#eeab7a\" stroke=\"black\" d=\"M8064.5,-306C8064.5,-306 7916.5,-306 7916.5,-306 7910.5,-306 7904.5,-300 7904.5,-294 7904.5,-294 7904.5,-235 7904.5,-235 7904.5,-229 7910.5,-223 7916.5,-223 7916.5,-223 8064.5,-223 8064.5,-223 8070.5,-223 8076.5,-229 8076.5,-235 8076.5,-235 8076.5,-294 8076.5,-294 8076.5,-300 8070.5,-306 8064.5,-306\"/>\n<text text-anchor=\"start\" x=\"7912.5\" y=\"-290.8\" font-family=\"Helvetica,sans-Serif\" font-size=\"14.00\">MonthlyCharges ≤ 99.975</text>\n<text text-anchor=\"start\" x=\"7955\" y=\"-275.8\" font-family=\"Helvetica,sans-Serif\" font-size=\"14.00\">gini = 0.373</text>\n<text text-anchor=\"start\" x=\"7945.5\" y=\"-260.8\" font-family=\"Helvetica,sans-Serif\" font-size=\"14.00\">samples = 298</text>\n<text text-anchor=\"start\" x=\"7940\" y=\"-245.8\" font-family=\"Helvetica,sans-Serif\" font-size=\"14.00\">value = [224, 74]</text>\n<text text-anchor=\"start\" x=\"7963\" y=\"-230.8\" font-family=\"Helvetica,sans-Serif\" font-size=\"14.00\">class = 0</text>\n</g>\n<!-- 152&#45;&gt;153 -->\n<g id=\"edge153\" class=\"edge\">\n<title>152&#45;&gt;153</title>\n<path fill=\"none\" stroke=\"black\" d=\"M8080.62,-341.91C8069.49,-332.47 8057.55,-322.34 8046.11,-312.65\"/>\n<polygon fill=\"black\" stroke=\"black\" points=\"8048.18,-309.82 8038.29,-306.02 8043.66,-315.16 8048.18,-309.82\"/>\n</g>\n<!-- 160 -->\n<g id=\"node161\" class=\"node\">\n<title>160</title>\n<path fill=\"#e58139\" stroke=\"black\" d=\"M8184.5,-298.5C8184.5,-298.5 8106.5,-298.5 8106.5,-298.5 8100.5,-298.5 8094.5,-292.5 8094.5,-286.5 8094.5,-286.5 8094.5,-242.5 8094.5,-242.5 8094.5,-236.5 8100.5,-230.5 8106.5,-230.5 8106.5,-230.5 8184.5,-230.5 8184.5,-230.5 8190.5,-230.5 8196.5,-236.5 8196.5,-242.5 8196.5,-242.5 8196.5,-286.5 8196.5,-286.5 8196.5,-292.5 8190.5,-298.5 8184.5,-298.5\"/>\n<text text-anchor=\"start\" x=\"8117.5\" y=\"-283.3\" font-family=\"Helvetica,sans-Serif\" font-size=\"14.00\">gini = 0.0</text>\n<text text-anchor=\"start\" x=\"8104.5\" y=\"-268.3\" font-family=\"Helvetica,sans-Serif\" font-size=\"14.00\">samples = 21</text>\n<text text-anchor=\"start\" x=\"8102.5\" y=\"-253.3\" font-family=\"Helvetica,sans-Serif\" font-size=\"14.00\">value = [21, 0]</text>\n<text text-anchor=\"start\" x=\"8118\" y=\"-238.3\" font-family=\"Helvetica,sans-Serif\" font-size=\"14.00\">class = 0</text>\n</g>\n<!-- 152&#45;&gt;160 -->\n<g id=\"edge160\" class=\"edge\">\n<title>152&#45;&gt;160</title>\n<path fill=\"none\" stroke=\"black\" d=\"M8134.4,-341.91C8135.95,-331.2 8137.64,-319.62 8139.21,-308.78\"/>\n<polygon fill=\"black\" stroke=\"black\" points=\"8142.71,-309.07 8140.68,-298.67 8135.78,-308.06 8142.71,-309.07\"/>\n</g>\n<!-- 154 -->\n<g id=\"node155\" class=\"node\">\n<title>154</title>\n<path fill=\"#ea9a60\" stroke=\"black\" d=\"M8054.5,-187C8054.5,-187 7926.5,-187 7926.5,-187 7920.5,-187 7914.5,-181 7914.5,-175 7914.5,-175 7914.5,-116 7914.5,-116 7914.5,-110 7920.5,-104 7926.5,-104 7926.5,-104 8054.5,-104 8054.5,-104 8060.5,-104 8066.5,-110 8066.5,-116 8066.5,-116 8066.5,-175 8066.5,-175 8066.5,-181 8060.5,-187 8054.5,-187\"/>\n<text text-anchor=\"start\" x=\"7922.5\" y=\"-171.8\" font-family=\"Helvetica,sans-Serif\" font-size=\"14.00\">TotalCharges ≤ 3271.5</text>\n<text text-anchor=\"start\" x=\"7955\" y=\"-156.8\" font-family=\"Helvetica,sans-Serif\" font-size=\"14.00\">gini = 0.275</text>\n<text text-anchor=\"start\" x=\"7949.5\" y=\"-141.8\" font-family=\"Helvetica,sans-Serif\" font-size=\"14.00\">samples = 91</text>\n<text text-anchor=\"start\" x=\"7943.5\" y=\"-126.8\" font-family=\"Helvetica,sans-Serif\" font-size=\"14.00\">value = [76, 15]</text>\n<text text-anchor=\"start\" x=\"7963\" y=\"-111.8\" font-family=\"Helvetica,sans-Serif\" font-size=\"14.00\">class = 0</text>\n</g>\n<!-- 153&#45;&gt;154 -->\n<g id=\"edge154\" class=\"edge\">\n<title>153&#45;&gt;154</title>\n<path fill=\"none\" stroke=\"black\" d=\"M7990.5,-222.91C7990.5,-214.65 7990.5,-205.86 7990.5,-197.3\"/>\n<polygon fill=\"black\" stroke=\"black\" points=\"7994,-197.02 7990.5,-187.02 7987,-197.02 7994,-197.02\"/>\n</g>\n<!-- 157 -->\n<g id=\"node158\" class=\"node\">\n<title>157</title>\n<path fill=\"#efb388\" stroke=\"black\" d=\"M8238.5,-187C8238.5,-187 8110.5,-187 8110.5,-187 8104.5,-187 8098.5,-181 8098.5,-175 8098.5,-175 8098.5,-116 8098.5,-116 8098.5,-110 8104.5,-104 8110.5,-104 8110.5,-104 8238.5,-104 8238.5,-104 8244.5,-104 8250.5,-110 8250.5,-116 8250.5,-116 8250.5,-175 8250.5,-175 8250.5,-181 8244.5,-187 8238.5,-187\"/>\n<text text-anchor=\"start\" x=\"8106.5\" y=\"-171.8\" font-family=\"Helvetica,sans-Serif\" font-size=\"14.00\">TotalCharges ≤ 5242.0</text>\n<text text-anchor=\"start\" x=\"8139\" y=\"-156.8\" font-family=\"Helvetica,sans-Serif\" font-size=\"14.00\">gini = 0.408</text>\n<text text-anchor=\"start\" x=\"8129.5\" y=\"-141.8\" font-family=\"Helvetica,sans-Serif\" font-size=\"14.00\">samples = 207</text>\n<text text-anchor=\"start\" x=\"8124\" y=\"-126.8\" font-family=\"Helvetica,sans-Serif\" font-size=\"14.00\">value = [148, 59]</text>\n<text text-anchor=\"start\" x=\"8147\" y=\"-111.8\" font-family=\"Helvetica,sans-Serif\" font-size=\"14.00\">class = 0</text>\n</g>\n<!-- 153&#45;&gt;157 -->\n<g id=\"edge157\" class=\"edge\">\n<title>153&#45;&gt;157</title>\n<path fill=\"none\" stroke=\"black\" d=\"M8054.34,-222.91C8069.75,-213.11 8086.33,-202.56 8102.11,-192.53\"/>\n<polygon fill=\"black\" stroke=\"black\" points=\"8104.21,-195.34 8110.77,-187.02 8100.46,-189.43 8104.21,-195.34\"/>\n</g>\n<!-- 155 -->\n<g id=\"node156\" class=\"node\">\n<title>155</title>\n<path fill=\"#f1ba93\" stroke=\"black\" d=\"M7961.5,-68C7961.5,-68 7883.5,-68 7883.5,-68 7877.5,-68 7871.5,-62 7871.5,-56 7871.5,-56 7871.5,-12 7871.5,-12 7871.5,-6 7877.5,0 7883.5,0 7883.5,0 7961.5,0 7961.5,0 7967.5,0 7973.5,-6 7973.5,-12 7973.5,-12 7973.5,-56 7973.5,-56 7973.5,-62 7967.5,-68 7961.5,-68\"/>\n<text text-anchor=\"start\" x=\"7890.5\" y=\"-52.8\" font-family=\"Helvetica,sans-Serif\" font-size=\"14.00\">gini = 0.43</text>\n<text text-anchor=\"start\" x=\"7881.5\" y=\"-37.8\" font-family=\"Helvetica,sans-Serif\" font-size=\"14.00\">samples = 16</text>\n<text text-anchor=\"start\" x=\"7879.5\" y=\"-22.8\" font-family=\"Helvetica,sans-Serif\" font-size=\"14.00\">value = [11, 5]</text>\n<text text-anchor=\"start\" x=\"7895\" y=\"-7.8\" font-family=\"Helvetica,sans-Serif\" font-size=\"14.00\">class = 0</text>\n</g>\n<!-- 154&#45;&gt;155 -->\n<g id=\"edge155\" class=\"edge\">\n<title>154&#45;&gt;155</title>\n<path fill=\"none\" stroke=\"black\" d=\"M7965.18,-103.73C7959.74,-94.97 7953.99,-85.7 7948.52,-76.91\"/>\n<polygon fill=\"black\" stroke=\"black\" points=\"7951.43,-74.95 7943.18,-68.3 7945.48,-78.64 7951.43,-74.95\"/>\n</g>\n<!-- 156 -->\n<g id=\"node157\" class=\"node\">\n<title>156</title>\n<path fill=\"#e99457\" stroke=\"black\" d=\"M8089.5,-68C8089.5,-68 8003.5,-68 8003.5,-68 7997.5,-68 7991.5,-62 7991.5,-56 7991.5,-56 7991.5,-12 7991.5,-12 7991.5,-6 7997.5,0 8003.5,0 8003.5,0 8089.5,0 8089.5,0 8095.5,0 8101.5,-6 8101.5,-12 8101.5,-12 8101.5,-56 8101.5,-56 8101.5,-62 8095.5,-68 8089.5,-68\"/>\n<text text-anchor=\"start\" x=\"8011\" y=\"-52.8\" font-family=\"Helvetica,sans-Serif\" font-size=\"14.00\">gini = 0.231</text>\n<text text-anchor=\"start\" x=\"8005.5\" y=\"-37.8\" font-family=\"Helvetica,sans-Serif\" font-size=\"14.00\">samples = 75</text>\n<text text-anchor=\"start\" x=\"7999.5\" y=\"-22.8\" font-family=\"Helvetica,sans-Serif\" font-size=\"14.00\">value = [65, 10]</text>\n<text text-anchor=\"start\" x=\"8019\" y=\"-7.8\" font-family=\"Helvetica,sans-Serif\" font-size=\"14.00\">class = 0</text>\n</g>\n<!-- 154&#45;&gt;156 -->\n<g id=\"edge156\" class=\"edge\">\n<title>154&#45;&gt;156</title>\n<path fill=\"none\" stroke=\"black\" d=\"M8011.35,-103.73C8015.74,-95.15 8020.37,-86.09 8024.79,-77.46\"/>\n<polygon fill=\"black\" stroke=\"black\" points=\"8028.03,-78.8 8029.47,-68.3 8021.8,-75.61 8028.03,-78.8\"/>\n</g>\n<!-- 158 -->\n<g id=\"node159\" class=\"node\">\n<title>158</title>\n<path fill=\"#f2c29f\" stroke=\"black\" d=\"M8217.5,-68C8217.5,-68 8131.5,-68 8131.5,-68 8125.5,-68 8119.5,-62 8119.5,-56 8119.5,-56 8119.5,-12 8119.5,-12 8119.5,-6 8125.5,0 8131.5,0 8131.5,0 8217.5,0 8217.5,0 8223.5,0 8229.5,-6 8229.5,-12 8229.5,-12 8229.5,-56 8229.5,-56 8229.5,-62 8223.5,-68 8217.5,-68\"/>\n<text text-anchor=\"start\" x=\"8139\" y=\"-52.8\" font-family=\"Helvetica,sans-Serif\" font-size=\"14.00\">gini = 0.449</text>\n<text text-anchor=\"start\" x=\"8129.5\" y=\"-37.8\" font-family=\"Helvetica,sans-Serif\" font-size=\"14.00\">samples = 132</text>\n<text text-anchor=\"start\" x=\"8127.5\" y=\"-22.8\" font-family=\"Helvetica,sans-Serif\" font-size=\"14.00\">value = [87, 45]</text>\n<text text-anchor=\"start\" x=\"8147\" y=\"-7.8\" font-family=\"Helvetica,sans-Serif\" font-size=\"14.00\">class = 0</text>\n</g>\n<!-- 157&#45;&gt;158 -->\n<g id=\"edge158\" class=\"edge\">\n<title>157&#45;&gt;158</title>\n<path fill=\"none\" stroke=\"black\" d=\"M8174.5,-103.73C8174.5,-95.52 8174.5,-86.86 8174.5,-78.56\"/>\n<polygon fill=\"black\" stroke=\"black\" points=\"8178,-78.3 8174.5,-68.3 8171,-78.3 8178,-78.3\"/>\n</g>\n<!-- 159 -->\n<g id=\"node160\" class=\"node\">\n<title>159</title>\n<path fill=\"#eb9e66\" stroke=\"black\" d=\"M8345.5,-68C8345.5,-68 8259.5,-68 8259.5,-68 8253.5,-68 8247.5,-62 8247.5,-56 8247.5,-56 8247.5,-12 8247.5,-12 8247.5,-6 8253.5,0 8259.5,0 8259.5,0 8345.5,0 8345.5,0 8351.5,0 8357.5,-6 8357.5,-12 8357.5,-12 8357.5,-56 8357.5,-56 8357.5,-62 8351.5,-68 8345.5,-68\"/>\n<text text-anchor=\"start\" x=\"8267\" y=\"-52.8\" font-family=\"Helvetica,sans-Serif\" font-size=\"14.00\">gini = 0.304</text>\n<text text-anchor=\"start\" x=\"8261.5\" y=\"-37.8\" font-family=\"Helvetica,sans-Serif\" font-size=\"14.00\">samples = 75</text>\n<text text-anchor=\"start\" x=\"8255.5\" y=\"-22.8\" font-family=\"Helvetica,sans-Serif\" font-size=\"14.00\">value = [61, 14]</text>\n<text text-anchor=\"start\" x=\"8275\" y=\"-7.8\" font-family=\"Helvetica,sans-Serif\" font-size=\"14.00\">class = 0</text>\n</g>\n<!-- 157&#45;&gt;159 -->\n<g id=\"edge159\" class=\"edge\">\n<title>157&#45;&gt;159</title>\n<path fill=\"none\" stroke=\"black\" d=\"M8222.16,-103.73C8233.14,-94.33 8244.81,-84.35 8255.76,-74.99\"/>\n<polygon fill=\"black\" stroke=\"black\" points=\"8258.25,-77.46 8263.57,-68.3 8253.7,-72.14 8258.25,-77.46\"/>\n</g>\n<!-- 162 -->\n<g id=\"node163\" class=\"node\">\n<title>162</title>\n<path fill=\"#f2c09c\" stroke=\"black\" d=\"M8298,-298.5C8298,-298.5 8227,-298.5 8227,-298.5 8221,-298.5 8215,-292.5 8215,-286.5 8215,-286.5 8215,-242.5 8215,-242.5 8215,-236.5 8221,-230.5 8227,-230.5 8227,-230.5 8298,-230.5 8298,-230.5 8304,-230.5 8310,-236.5 8310,-242.5 8310,-242.5 8310,-286.5 8310,-286.5 8310,-292.5 8304,-298.5 8298,-298.5\"/>\n<text text-anchor=\"start\" x=\"8227\" y=\"-283.3\" font-family=\"Helvetica,sans-Serif\" font-size=\"14.00\">gini = 0.444</text>\n<text text-anchor=\"start\" x=\"8225\" y=\"-268.3\" font-family=\"Helvetica,sans-Serif\" font-size=\"14.00\">samples = 3</text>\n<text text-anchor=\"start\" x=\"8223\" y=\"-253.3\" font-family=\"Helvetica,sans-Serif\" font-size=\"14.00\">value = [2, 1]</text>\n<text text-anchor=\"start\" x=\"8235\" y=\"-238.3\" font-family=\"Helvetica,sans-Serif\" font-size=\"14.00\">class = 0</text>\n</g>\n<!-- 161&#45;&gt;162 -->\n<g id=\"edge162\" class=\"edge\">\n<title>161&#45;&gt;162</title>\n<path fill=\"none\" stroke=\"black\" d=\"M8274.25,-341.91C8272.61,-331.2 8270.83,-319.62 8269.16,-308.78\"/>\n<polygon fill=\"black\" stroke=\"black\" points=\"8272.58,-308.02 8267.6,-298.67 8265.66,-309.08 8272.58,-308.02\"/>\n</g>\n<!-- 163 -->\n<g id=\"node164\" class=\"node\">\n<title>163</title>\n<path fill=\"#399de5\" stroke=\"black\" d=\"M8411,-298.5C8411,-298.5 8340,-298.5 8340,-298.5 8334,-298.5 8328,-292.5 8328,-286.5 8328,-286.5 8328,-242.5 8328,-242.5 8328,-236.5 8334,-230.5 8340,-230.5 8340,-230.5 8411,-230.5 8411,-230.5 8417,-230.5 8423,-236.5 8423,-242.5 8423,-242.5 8423,-286.5 8423,-286.5 8423,-292.5 8417,-298.5 8411,-298.5\"/>\n<text text-anchor=\"start\" x=\"8347.5\" y=\"-283.3\" font-family=\"Helvetica,sans-Serif\" font-size=\"14.00\">gini = 0.0</text>\n<text text-anchor=\"start\" x=\"8338\" y=\"-268.3\" font-family=\"Helvetica,sans-Serif\" font-size=\"14.00\">samples = 3</text>\n<text text-anchor=\"start\" x=\"8336\" y=\"-253.3\" font-family=\"Helvetica,sans-Serif\" font-size=\"14.00\">value = [0, 3]</text>\n<text text-anchor=\"start\" x=\"8348\" y=\"-238.3\" font-family=\"Helvetica,sans-Serif\" font-size=\"14.00\">class = 1</text>\n</g>\n<!-- 161&#45;&gt;163 -->\n<g id=\"edge163\" class=\"edge\">\n<title>161&#45;&gt;163</title>\n<path fill=\"none\" stroke=\"black\" d=\"M8313.46,-341.91C8322.78,-330.43 8332.92,-317.94 8342.26,-306.44\"/>\n<polygon fill=\"black\" stroke=\"black\" points=\"8344.98,-308.64 8348.57,-298.67 8339.55,-304.22 8344.98,-308.64\"/>\n</g>\n<!-- 165 -->\n<g id=\"node166\" class=\"node\">\n<title>165</title>\n<path fill=\"#bddef6\" stroke=\"black\" d=\"M8609.5,-425C8609.5,-425 8481.5,-425 8481.5,-425 8475.5,-425 8469.5,-419 8469.5,-413 8469.5,-413 8469.5,-354 8469.5,-354 8469.5,-348 8475.5,-342 8481.5,-342 8481.5,-342 8609.5,-342 8609.5,-342 8615.5,-342 8621.5,-348 8621.5,-354 8621.5,-354 8621.5,-413 8621.5,-413 8621.5,-419 8615.5,-425 8609.5,-425\"/>\n<text text-anchor=\"start\" x=\"8477.5\" y=\"-409.8\" font-family=\"Helvetica,sans-Serif\" font-size=\"14.00\">TotalCharges ≤ 5173.0</text>\n<text text-anchor=\"start\" x=\"8513.5\" y=\"-394.8\" font-family=\"Helvetica,sans-Serif\" font-size=\"14.00\">gini = 0.48</text>\n<text text-anchor=\"start\" x=\"8508\" y=\"-379.8\" font-family=\"Helvetica,sans-Serif\" font-size=\"14.00\">samples = 5</text>\n<text text-anchor=\"start\" x=\"8506\" y=\"-364.8\" font-family=\"Helvetica,sans-Serif\" font-size=\"14.00\">value = [2, 3]</text>\n<text text-anchor=\"start\" x=\"8518\" y=\"-349.8\" font-family=\"Helvetica,sans-Serif\" font-size=\"14.00\">class = 1</text>\n</g>\n<!-- 164&#45;&gt;165 -->\n<g id=\"edge165\" class=\"edge\">\n<title>164&#45;&gt;165</title>\n<path fill=\"none\" stroke=\"black\" d=\"M8545.5,-460.91C8545.5,-452.65 8545.5,-443.86 8545.5,-435.3\"/>\n<polygon fill=\"black\" stroke=\"black\" points=\"8549,-435.02 8545.5,-425.02 8542,-435.02 8549,-435.02\"/>\n</g>\n<!-- 168 -->\n<g id=\"node169\" class=\"node\">\n<title>168</title>\n<path fill=\"#e78c4a\" stroke=\"black\" d=\"M8803,-425C8803,-425 8710,-425 8710,-425 8704,-425 8698,-419 8698,-413 8698,-413 8698,-354 8698,-354 8698,-348 8704,-342 8710,-342 8710,-342 8803,-342 8803,-342 8809,-342 8815,-348 8815,-354 8815,-354 8815,-413 8815,-413 8815,-419 8809,-425 8803,-425\"/>\n<text text-anchor=\"start\" x=\"8716.5\" y=\"-409.8\" font-family=\"Helvetica,sans-Serif\" font-size=\"14.00\">tenure ≤ 71.5</text>\n<text text-anchor=\"start\" x=\"8721\" y=\"-394.8\" font-family=\"Helvetica,sans-Serif\" font-size=\"14.00\">gini = 0.144</text>\n<text text-anchor=\"start\" x=\"8711.5\" y=\"-379.8\" font-family=\"Helvetica,sans-Serif\" font-size=\"14.00\">samples = 294</text>\n<text text-anchor=\"start\" x=\"8706\" y=\"-364.8\" font-family=\"Helvetica,sans-Serif\" font-size=\"14.00\">value = [271, 23]</text>\n<text text-anchor=\"start\" x=\"8729\" y=\"-349.8\" font-family=\"Helvetica,sans-Serif\" font-size=\"14.00\">class = 0</text>\n</g>\n<!-- 164&#45;&gt;168 -->\n<g id=\"edge168\" class=\"edge\">\n<title>164&#45;&gt;168</title>\n<path fill=\"none\" stroke=\"black\" d=\"M8618.71,-460.91C8641.51,-448.26 8666.54,-434.38 8688.93,-421.97\"/>\n<polygon fill=\"black\" stroke=\"black\" points=\"8690.66,-425.01 8697.7,-417.1 8687.26,-418.89 8690.66,-425.01\"/>\n</g>\n<!-- 166 -->\n<g id=\"node167\" class=\"node\">\n<title>166</title>\n<path fill=\"#f2c09c\" stroke=\"black\" d=\"M8524,-298.5C8524,-298.5 8453,-298.5 8453,-298.5 8447,-298.5 8441,-292.5 8441,-286.5 8441,-286.5 8441,-242.5 8441,-242.5 8441,-236.5 8447,-230.5 8453,-230.5 8453,-230.5 8524,-230.5 8524,-230.5 8530,-230.5 8536,-236.5 8536,-242.5 8536,-242.5 8536,-286.5 8536,-286.5 8536,-292.5 8530,-298.5 8524,-298.5\"/>\n<text text-anchor=\"start\" x=\"8453\" y=\"-283.3\" font-family=\"Helvetica,sans-Serif\" font-size=\"14.00\">gini = 0.444</text>\n<text text-anchor=\"start\" x=\"8451\" y=\"-268.3\" font-family=\"Helvetica,sans-Serif\" font-size=\"14.00\">samples = 3</text>\n<text text-anchor=\"start\" x=\"8449\" y=\"-253.3\" font-family=\"Helvetica,sans-Serif\" font-size=\"14.00\">value = [2, 1]</text>\n<text text-anchor=\"start\" x=\"8461\" y=\"-238.3\" font-family=\"Helvetica,sans-Serif\" font-size=\"14.00\">class = 0</text>\n</g>\n<!-- 165&#45;&gt;166 -->\n<g id=\"edge166\" class=\"edge\">\n<title>165&#45;&gt;166</title>\n<path fill=\"none\" stroke=\"black\" d=\"M8525.72,-341.91C8520.35,-330.87 8514.51,-318.9 8509.09,-307.77\"/>\n<polygon fill=\"black\" stroke=\"black\" points=\"8512.18,-306.12 8504.66,-298.67 8505.89,-309.19 8512.18,-306.12\"/>\n</g>\n<!-- 167 -->\n<g id=\"node168\" class=\"node\">\n<title>167</title>\n<path fill=\"#399de5\" stroke=\"black\" d=\"M8637,-298.5C8637,-298.5 8566,-298.5 8566,-298.5 8560,-298.5 8554,-292.5 8554,-286.5 8554,-286.5 8554,-242.5 8554,-242.5 8554,-236.5 8560,-230.5 8566,-230.5 8566,-230.5 8637,-230.5 8637,-230.5 8643,-230.5 8649,-236.5 8649,-242.5 8649,-242.5 8649,-286.5 8649,-286.5 8649,-292.5 8643,-298.5 8637,-298.5\"/>\n<text text-anchor=\"start\" x=\"8573.5\" y=\"-283.3\" font-family=\"Helvetica,sans-Serif\" font-size=\"14.00\">gini = 0.0</text>\n<text text-anchor=\"start\" x=\"8564\" y=\"-268.3\" font-family=\"Helvetica,sans-Serif\" font-size=\"14.00\">samples = 2</text>\n<text text-anchor=\"start\" x=\"8562\" y=\"-253.3\" font-family=\"Helvetica,sans-Serif\" font-size=\"14.00\">value = [0, 2]</text>\n<text text-anchor=\"start\" x=\"8574\" y=\"-238.3\" font-family=\"Helvetica,sans-Serif\" font-size=\"14.00\">class = 1</text>\n</g>\n<!-- 165&#45;&gt;167 -->\n<g id=\"edge167\" class=\"edge\">\n<title>165&#45;&gt;167</title>\n<path fill=\"none\" stroke=\"black\" d=\"M8564.93,-341.91C8570.21,-330.87 8575.94,-318.9 8581.27,-307.77\"/>\n<polygon fill=\"black\" stroke=\"black\" points=\"8584.46,-309.2 8585.63,-298.67 8578.15,-306.18 8584.46,-309.2\"/>\n</g>\n<!-- 169 -->\n<g id=\"node170\" class=\"node\">\n<title>169</title>\n<path fill=\"#e99254\" stroke=\"black\" d=\"M8834,-306C8834,-306 8679,-306 8679,-306 8673,-306 8667,-300 8667,-294 8667,-294 8667,-235 8667,-235 8667,-229 8673,-223 8679,-223 8679,-223 8834,-223 8834,-223 8840,-223 8846,-229 8846,-235 8846,-235 8846,-294 8846,-294 8846,-300 8840,-306 8834,-306\"/>\n<text text-anchor=\"start\" x=\"8675\" y=\"-290.8\" font-family=\"Helvetica,sans-Serif\" font-size=\"14.00\">MonthlyCharges ≤ 105.925</text>\n<text text-anchor=\"start\" x=\"8724.5\" y=\"-275.8\" font-family=\"Helvetica,sans-Serif\" font-size=\"14.00\">gini = 0.21</text>\n<text text-anchor=\"start\" x=\"8711.5\" y=\"-260.8\" font-family=\"Helvetica,sans-Serif\" font-size=\"14.00\">samples = 185</text>\n<text text-anchor=\"start\" x=\"8706\" y=\"-245.8\" font-family=\"Helvetica,sans-Serif\" font-size=\"14.00\">value = [163, 22]</text>\n<text text-anchor=\"start\" x=\"8729\" y=\"-230.8\" font-family=\"Helvetica,sans-Serif\" font-size=\"14.00\">class = 0</text>\n</g>\n<!-- 168&#45;&gt;169 -->\n<g id=\"edge169\" class=\"edge\">\n<title>168&#45;&gt;169</title>\n<path fill=\"none\" stroke=\"black\" d=\"M8756.5,-341.91C8756.5,-333.65 8756.5,-324.86 8756.5,-316.3\"/>\n<polygon fill=\"black\" stroke=\"black\" points=\"8760,-316.02 8756.5,-306.02 8753,-316.02 8760,-316.02\"/>\n</g>\n<!-- 176 -->\n<g id=\"node177\" class=\"node\">\n<title>176</title>\n<path fill=\"#e5823b\" stroke=\"black\" d=\"M9014.5,-306C9014.5,-306 8886.5,-306 8886.5,-306 8880.5,-306 8874.5,-300 8874.5,-294 8874.5,-294 8874.5,-235 8874.5,-235 8874.5,-229 8880.5,-223 8886.5,-223 8886.5,-223 9014.5,-223 9014.5,-223 9020.5,-223 9026.5,-229 9026.5,-235 9026.5,-235 9026.5,-294 9026.5,-294 9026.5,-300 9020.5,-306 9014.5,-306\"/>\n<text text-anchor=\"start\" x=\"8882.5\" y=\"-290.8\" font-family=\"Helvetica,sans-Serif\" font-size=\"14.00\">TotalCharges ≤ 5720.0</text>\n<text text-anchor=\"start\" x=\"8915\" y=\"-275.8\" font-family=\"Helvetica,sans-Serif\" font-size=\"14.00\">gini = 0.018</text>\n<text text-anchor=\"start\" x=\"8905.5\" y=\"-260.8\" font-family=\"Helvetica,sans-Serif\" font-size=\"14.00\">samples = 109</text>\n<text text-anchor=\"start\" x=\"8903.5\" y=\"-245.8\" font-family=\"Helvetica,sans-Serif\" font-size=\"14.00\">value = [108, 1]</text>\n<text text-anchor=\"start\" x=\"8923\" y=\"-230.8\" font-family=\"Helvetica,sans-Serif\" font-size=\"14.00\">class = 0</text>\n</g>\n<!-- 168&#45;&gt;176 -->\n<g id=\"edge176\" class=\"edge\">\n<title>168&#45;&gt;176</title>\n<path fill=\"none\" stroke=\"black\" d=\"M8815.23,-347.08C8833.88,-335.83 8854.79,-323.22 8874.47,-311.35\"/>\n<polygon fill=\"black\" stroke=\"black\" points=\"8876.37,-314.3 8883.12,-306.13 8872.75,-308.3 8876.37,-314.3\"/>\n</g>\n<!-- 170 -->\n<g id=\"node171\" class=\"node\">\n<title>170</title>\n<path fill=\"#e68844\" stroke=\"black\" d=\"M8636.5,-187C8636.5,-187 8508.5,-187 8508.5,-187 8502.5,-187 8496.5,-181 8496.5,-175 8496.5,-175 8496.5,-116 8496.5,-116 8496.5,-110 8502.5,-104 8508.5,-104 8508.5,-104 8636.5,-104 8636.5,-104 8642.5,-104 8648.5,-110 8648.5,-116 8648.5,-116 8648.5,-175 8648.5,-175 8648.5,-181 8642.5,-187 8636.5,-187\"/>\n<text text-anchor=\"start\" x=\"8504.5\" y=\"-171.8\" font-family=\"Helvetica,sans-Serif\" font-size=\"14.00\">TotalCharges ≤ 4575.0</text>\n<text text-anchor=\"start\" x=\"8537\" y=\"-156.8\" font-family=\"Helvetica,sans-Serif\" font-size=\"14.00\">gini = 0.099</text>\n<text text-anchor=\"start\" x=\"8531.5\" y=\"-141.8\" font-family=\"Helvetica,sans-Serif\" font-size=\"14.00\">samples = 96</text>\n<text text-anchor=\"start\" x=\"8529.5\" y=\"-126.8\" font-family=\"Helvetica,sans-Serif\" font-size=\"14.00\">value = [91, 5]</text>\n<text text-anchor=\"start\" x=\"8545\" y=\"-111.8\" font-family=\"Helvetica,sans-Serif\" font-size=\"14.00\">class = 0</text>\n</g>\n<!-- 169&#45;&gt;170 -->\n<g id=\"edge170\" class=\"edge\">\n<title>169&#45;&gt;170</title>\n<path fill=\"none\" stroke=\"black\" d=\"M8692.66,-222.91C8677.25,-213.11 8660.67,-202.56 8644.89,-192.53\"/>\n<polygon fill=\"black\" stroke=\"black\" points=\"8646.54,-189.43 8636.23,-187.02 8642.79,-195.34 8646.54,-189.43\"/>\n</g>\n<!-- 173 -->\n<g id=\"node174\" class=\"node\">\n<title>173</title>\n<path fill=\"#eb9f68\" stroke=\"black\" d=\"M8834,-187C8834,-187 8679,-187 8679,-187 8673,-187 8667,-181 8667,-175 8667,-175 8667,-116 8667,-116 8667,-110 8673,-104 8679,-104 8679,-104 8834,-104 8834,-104 8840,-104 8846,-110 8846,-116 8846,-116 8846,-175 8846,-175 8846,-181 8840,-187 8834,-187\"/>\n<text text-anchor=\"start\" x=\"8675\" y=\"-171.8\" font-family=\"Helvetica,sans-Serif\" font-size=\"14.00\">MonthlyCharges ≤ 106.625</text>\n<text text-anchor=\"start\" x=\"8721\" y=\"-156.8\" font-family=\"Helvetica,sans-Serif\" font-size=\"14.00\">gini = 0.309</text>\n<text text-anchor=\"start\" x=\"8715.5\" y=\"-141.8\" font-family=\"Helvetica,sans-Serif\" font-size=\"14.00\">samples = 89</text>\n<text text-anchor=\"start\" x=\"8709.5\" y=\"-126.8\" font-family=\"Helvetica,sans-Serif\" font-size=\"14.00\">value = [72, 17]</text>\n<text text-anchor=\"start\" x=\"8729\" y=\"-111.8\" font-family=\"Helvetica,sans-Serif\" font-size=\"14.00\">class = 0</text>\n</g>\n<!-- 169&#45;&gt;173 -->\n<g id=\"edge173\" class=\"edge\">\n<title>169&#45;&gt;173</title>\n<path fill=\"none\" stroke=\"black\" d=\"M8756.5,-222.91C8756.5,-214.65 8756.5,-205.86 8756.5,-197.3\"/>\n<polygon fill=\"black\" stroke=\"black\" points=\"8760,-197.02 8756.5,-187.02 8753,-197.02 8760,-197.02\"/>\n</g>\n<!-- 171 -->\n<g id=\"node172\" class=\"node\">\n<title>171</title>\n<path fill=\"#ea9a61\" stroke=\"black\" d=\"M8493.5,-68C8493.5,-68 8415.5,-68 8415.5,-68 8409.5,-68 8403.5,-62 8403.5,-56 8403.5,-56 8403.5,-12 8403.5,-12 8403.5,-6 8409.5,0 8415.5,0 8415.5,0 8493.5,0 8493.5,0 8499.5,0 8505.5,-6 8505.5,-12 8505.5,-12 8505.5,-56 8505.5,-56 8505.5,-62 8499.5,-68 8493.5,-68\"/>\n<text text-anchor=\"start\" x=\"8419\" y=\"-52.8\" font-family=\"Helvetica,sans-Serif\" font-size=\"14.00\">gini = 0.278</text>\n<text text-anchor=\"start\" x=\"8413.5\" y=\"-37.8\" font-family=\"Helvetica,sans-Serif\" font-size=\"14.00\">samples = 24</text>\n<text text-anchor=\"start\" x=\"8411.5\" y=\"-22.8\" font-family=\"Helvetica,sans-Serif\" font-size=\"14.00\">value = [20, 4]</text>\n<text text-anchor=\"start\" x=\"8427\" y=\"-7.8\" font-family=\"Helvetica,sans-Serif\" font-size=\"14.00\">class = 0</text>\n</g>\n<!-- 170&#45;&gt;171 -->\n<g id=\"edge171\" class=\"edge\">\n<title>170&#45;&gt;171</title>\n<path fill=\"none\" stroke=\"black\" d=\"M8528.56,-103.73C8518.54,-94.42 8507.89,-84.54 8497.89,-75.26\"/>\n<polygon fill=\"black\" stroke=\"black\" points=\"8500.1,-72.54 8490.38,-68.3 8495.33,-77.67 8500.1,-72.54\"/>\n</g>\n<!-- 172 -->\n<g id=\"node173\" class=\"node\">\n<title>172</title>\n<path fill=\"#e5833c\" stroke=\"black\" d=\"M8613.5,-68C8613.5,-68 8535.5,-68 8535.5,-68 8529.5,-68 8523.5,-62 8523.5,-56 8523.5,-56 8523.5,-12 8523.5,-12 8523.5,-6 8529.5,0 8535.5,0 8535.5,0 8613.5,0 8613.5,0 8619.5,0 8625.5,-6 8625.5,-12 8625.5,-12 8625.5,-56 8625.5,-56 8625.5,-62 8619.5,-68 8613.5,-68\"/>\n<text text-anchor=\"start\" x=\"8539\" y=\"-52.8\" font-family=\"Helvetica,sans-Serif\" font-size=\"14.00\">gini = 0.027</text>\n<text text-anchor=\"start\" x=\"8533.5\" y=\"-37.8\" font-family=\"Helvetica,sans-Serif\" font-size=\"14.00\">samples = 72</text>\n<text text-anchor=\"start\" x=\"8531.5\" y=\"-22.8\" font-family=\"Helvetica,sans-Serif\" font-size=\"14.00\">value = [71, 1]</text>\n<text text-anchor=\"start\" x=\"8547\" y=\"-7.8\" font-family=\"Helvetica,sans-Serif\" font-size=\"14.00\">class = 0</text>\n</g>\n<!-- 170&#45;&gt;172 -->\n<g id=\"edge172\" class=\"edge\">\n<title>170&#45;&gt;172</title>\n<path fill=\"none\" stroke=\"black\" d=\"M8573.24,-103.73C8573.39,-95.52 8573.55,-86.86 8573.7,-78.56\"/>\n<polygon fill=\"black\" stroke=\"black\" points=\"8577.21,-78.36 8573.89,-68.3 8570.21,-78.23 8577.21,-78.36\"/>\n</g>\n<!-- 174 -->\n<g id=\"node175\" class=\"node\">\n<title>174</title>\n<path fill=\"#6ab6ec\" stroke=\"black\" d=\"M8735,-68C8735,-68 8664,-68 8664,-68 8658,-68 8652,-62 8652,-56 8652,-56 8652,-12 8652,-12 8652,-6 8658,0 8664,0 8664,0 8735,0 8735,0 8741,0 8747,-6 8747,-12 8747,-12 8747,-56 8747,-56 8747,-62 8741,-68 8735,-68\"/>\n<text text-anchor=\"start\" x=\"8667.5\" y=\"-52.8\" font-family=\"Helvetica,sans-Serif\" font-size=\"14.00\">gini = 0.32</text>\n<text text-anchor=\"start\" x=\"8662\" y=\"-37.8\" font-family=\"Helvetica,sans-Serif\" font-size=\"14.00\">samples = 5</text>\n<text text-anchor=\"start\" x=\"8660\" y=\"-22.8\" font-family=\"Helvetica,sans-Serif\" font-size=\"14.00\">value = [1, 4]</text>\n<text text-anchor=\"start\" x=\"8672\" y=\"-7.8\" font-family=\"Helvetica,sans-Serif\" font-size=\"14.00\">class = 1</text>\n</g>\n<!-- 173&#45;&gt;174 -->\n<g id=\"edge174\" class=\"edge\">\n<title>173&#45;&gt;174</title>\n<path fill=\"none\" stroke=\"black\" d=\"M8735.28,-103.73C8730.76,-95.06 8725.99,-85.9 8721.46,-77.18\"/>\n<polygon fill=\"black\" stroke=\"black\" points=\"8724.56,-75.55 8716.83,-68.3 8718.35,-78.79 8724.56,-75.55\"/>\n</g>\n<!-- 175 -->\n<g id=\"node176\" class=\"node\">\n<title>175</title>\n<path fill=\"#ea985d\" stroke=\"black\" d=\"M8863.5,-68C8863.5,-68 8777.5,-68 8777.5,-68 8771.5,-68 8765.5,-62 8765.5,-56 8765.5,-56 8765.5,-12 8765.5,-12 8765.5,-6 8771.5,0 8777.5,0 8777.5,0 8863.5,0 8863.5,0 8869.5,0 8875.5,-6 8875.5,-12 8875.5,-12 8875.5,-56 8875.5,-56 8875.5,-62 8869.5,-68 8863.5,-68\"/>\n<text text-anchor=\"start\" x=\"8785\" y=\"-52.8\" font-family=\"Helvetica,sans-Serif\" font-size=\"14.00\">gini = 0.262</text>\n<text text-anchor=\"start\" x=\"8779.5\" y=\"-37.8\" font-family=\"Helvetica,sans-Serif\" font-size=\"14.00\">samples = 84</text>\n<text text-anchor=\"start\" x=\"8773.5\" y=\"-22.8\" font-family=\"Helvetica,sans-Serif\" font-size=\"14.00\">value = [71, 13]</text>\n<text text-anchor=\"start\" x=\"8793\" y=\"-7.8\" font-family=\"Helvetica,sans-Serif\" font-size=\"14.00\">class = 0</text>\n</g>\n<!-- 173&#45;&gt;175 -->\n<g id=\"edge175\" class=\"edge\">\n<title>173&#45;&gt;175</title>\n<path fill=\"none\" stroke=\"black\" d=\"M8780.33,-103.73C8785.4,-95.06 8790.75,-85.9 8795.85,-77.18\"/>\n<polygon fill=\"black\" stroke=\"black\" points=\"8799.01,-78.7 8801.04,-68.3 8792.97,-75.17 8799.01,-78.7\"/>\n</g>\n<!-- 177 -->\n<g id=\"node178\" class=\"node\">\n<title>177</title>\n<path fill=\"#e68844\" stroke=\"black\" d=\"M9024.5,-187C9024.5,-187 8876.5,-187 8876.5,-187 8870.5,-187 8864.5,-181 8864.5,-175 8864.5,-175 8864.5,-116 8864.5,-116 8864.5,-110 8870.5,-104 8876.5,-104 8876.5,-104 9024.5,-104 9024.5,-104 9030.5,-104 9036.5,-110 9036.5,-116 9036.5,-116 9036.5,-175 9036.5,-175 9036.5,-181 9030.5,-187 9024.5,-187\"/>\n<text text-anchor=\"start\" x=\"8872.5\" y=\"-171.8\" font-family=\"Helvetica,sans-Serif\" font-size=\"14.00\">MonthlyCharges ≤ 102.35</text>\n<text text-anchor=\"start\" x=\"8922.5\" y=\"-156.8\" font-family=\"Helvetica,sans-Serif\" font-size=\"14.00\">gini = 0.1</text>\n<text text-anchor=\"start\" x=\"8909.5\" y=\"-141.8\" font-family=\"Helvetica,sans-Serif\" font-size=\"14.00\">samples = 19</text>\n<text text-anchor=\"start\" x=\"8907.5\" y=\"-126.8\" font-family=\"Helvetica,sans-Serif\" font-size=\"14.00\">value = [18, 1]</text>\n<text text-anchor=\"start\" x=\"8923\" y=\"-111.8\" font-family=\"Helvetica,sans-Serif\" font-size=\"14.00\">class = 0</text>\n</g>\n<!-- 176&#45;&gt;177 -->\n<g id=\"edge177\" class=\"edge\">\n<title>176&#45;&gt;177</title>\n<path fill=\"none\" stroke=\"black\" d=\"M8950.5,-222.91C8950.5,-214.65 8950.5,-205.86 8950.5,-197.3\"/>\n<polygon fill=\"black\" stroke=\"black\" points=\"8954,-197.02 8950.5,-187.02 8947,-197.02 8954,-197.02\"/>\n</g>\n<!-- 180 -->\n<g id=\"node181\" class=\"node\">\n<title>180</title>\n<path fill=\"#e58139\" stroke=\"black\" d=\"M9144.5,-179.5C9144.5,-179.5 9066.5,-179.5 9066.5,-179.5 9060.5,-179.5 9054.5,-173.5 9054.5,-167.5 9054.5,-167.5 9054.5,-123.5 9054.5,-123.5 9054.5,-117.5 9060.5,-111.5 9066.5,-111.5 9066.5,-111.5 9144.5,-111.5 9144.5,-111.5 9150.5,-111.5 9156.5,-117.5 9156.5,-123.5 9156.5,-123.5 9156.5,-167.5 9156.5,-167.5 9156.5,-173.5 9150.5,-179.5 9144.5,-179.5\"/>\n<text text-anchor=\"start\" x=\"9077.5\" y=\"-164.3\" font-family=\"Helvetica,sans-Serif\" font-size=\"14.00\">gini = 0.0</text>\n<text text-anchor=\"start\" x=\"9064.5\" y=\"-149.3\" font-family=\"Helvetica,sans-Serif\" font-size=\"14.00\">samples = 90</text>\n<text text-anchor=\"start\" x=\"9062.5\" y=\"-134.3\" font-family=\"Helvetica,sans-Serif\" font-size=\"14.00\">value = [90, 0]</text>\n<text text-anchor=\"start\" x=\"9078\" y=\"-119.3\" font-family=\"Helvetica,sans-Serif\" font-size=\"14.00\">class = 0</text>\n</g>\n<!-- 176&#45;&gt;180 -->\n<g id=\"edge180\" class=\"edge\">\n<title>176&#45;&gt;180</title>\n<path fill=\"none\" stroke=\"black\" d=\"M9004.28,-222.91C9020.21,-210.88 9037.63,-197.73 9053.45,-185.79\"/>\n<polygon fill=\"black\" stroke=\"black\" points=\"9055.69,-188.49 9061.56,-179.67 9051.47,-182.9 9055.69,-188.49\"/>\n</g>\n<!-- 178 -->\n<g id=\"node179\" class=\"node\">\n<title>178</title>\n<path fill=\"#e58139\" stroke=\"black\" d=\"M8987.5,-68C8987.5,-68 8909.5,-68 8909.5,-68 8903.5,-68 8897.5,-62 8897.5,-56 8897.5,-56 8897.5,-12 8897.5,-12 8897.5,-6 8903.5,0 8909.5,0 8909.5,0 8987.5,0 8987.5,0 8993.5,0 8999.5,-6 8999.5,-12 8999.5,-12 8999.5,-56 8999.5,-56 8999.5,-62 8993.5,-68 8987.5,-68\"/>\n<text text-anchor=\"start\" x=\"8920.5\" y=\"-52.8\" font-family=\"Helvetica,sans-Serif\" font-size=\"14.00\">gini = 0.0</text>\n<text text-anchor=\"start\" x=\"8907.5\" y=\"-37.8\" font-family=\"Helvetica,sans-Serif\" font-size=\"14.00\">samples = 17</text>\n<text text-anchor=\"start\" x=\"8905.5\" y=\"-22.8\" font-family=\"Helvetica,sans-Serif\" font-size=\"14.00\">value = [17, 0]</text>\n<text text-anchor=\"start\" x=\"8921\" y=\"-7.8\" font-family=\"Helvetica,sans-Serif\" font-size=\"14.00\">class = 0</text>\n</g>\n<!-- 177&#45;&gt;178 -->\n<g id=\"edge178\" class=\"edge\">\n<title>177&#45;&gt;178</title>\n<path fill=\"none\" stroke=\"black\" d=\"M8949.76,-103.73C8949.61,-95.52 8949.45,-86.86 8949.3,-78.56\"/>\n<polygon fill=\"black\" stroke=\"black\" points=\"8952.79,-78.23 8949.11,-68.3 8945.79,-78.36 8952.79,-78.23\"/>\n</g>\n<!-- 179 -->\n<g id=\"node180\" class=\"node\">\n<title>179</title>\n<path fill=\"#ffffff\" stroke=\"black\" d=\"M9101,-68C9101,-68 9030,-68 9030,-68 9024,-68 9018,-62 9018,-56 9018,-56 9018,-12 9018,-12 9018,-6 9024,0 9030,0 9030,0 9101,0 9101,0 9107,0 9113,-6 9113,-12 9113,-12 9113,-56 9113,-56 9113,-62 9107,-68 9101,-68\"/>\n<text text-anchor=\"start\" x=\"9037.5\" y=\"-52.8\" font-family=\"Helvetica,sans-Serif\" font-size=\"14.00\">gini = 0.5</text>\n<text text-anchor=\"start\" x=\"9028\" y=\"-37.8\" font-family=\"Helvetica,sans-Serif\" font-size=\"14.00\">samples = 2</text>\n<text text-anchor=\"start\" x=\"9026\" y=\"-22.8\" font-family=\"Helvetica,sans-Serif\" font-size=\"14.00\">value = [1, 1]</text>\n<text text-anchor=\"start\" x=\"9038\" y=\"-7.8\" font-family=\"Helvetica,sans-Serif\" font-size=\"14.00\">class = 0</text>\n</g>\n<!-- 177&#45;&gt;179 -->\n<g id=\"edge179\" class=\"edge\">\n<title>177&#45;&gt;179</title>\n<path fill=\"none\" stroke=\"black\" d=\"M8993.32,-103.73C9003.09,-94.42 9013.47,-84.54 9023.22,-75.26\"/>\n<polygon fill=\"black\" stroke=\"black\" points=\"9025.7,-77.73 9030.53,-68.3 9020.87,-72.66 9025.7,-77.73\"/>\n</g>\n</g>\n</svg>\n",
            "text/plain": [
              "<graphviz.sources.Source at 0x7a63ee31a990>"
            ]
          },
          "metadata": {},
          "execution_count": 34
        }
      ]
    }
  ]
}